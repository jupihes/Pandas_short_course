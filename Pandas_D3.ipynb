{
 "cells": [
  {
   "cell_type": "markdown",
   "metadata": {},
   "source": [
    "# Advanced Pandas course - Day 3\n",
    "------\n",
    "## Data investigation, preprocessing and cleaning\n",
    "\n",
    "- Why we should do this? \n",
    "  - What do you think?\n",
    "\n",
    "Let's see!"
   ]
  },
  {
   "cell_type": "markdown",
   "metadata": {},
   "source": [
    "panads string method \n",
    "https://pandas.pydata.org/docs/reference/series.html"
   ]
  },
  {
   "cell_type": "code",
   "execution_count": 3,
   "metadata": {},
   "outputs": [],
   "source": [
    "from os import chdir, getcwd, listdir"
   ]
  },
  {
   "cell_type": "code",
   "execution_count": 4,
   "metadata": {},
   "outputs": [],
   "source": [
    "import numpy as np\n",
    "import matplotlib.pyplot as plt\n",
    "import pandas as pd\n",
    "# %matplotlib inline"
   ]
  },
  {
   "cell_type": "code",
   "execution_count": 6,
   "metadata": {},
   "outputs": [
    {
     "data": {
      "text/plain": [
       "'D:\\\\Hesam\\\\Python related activities'"
      ]
     },
     "execution_count": 6,
     "metadata": {},
     "output_type": "execute_result"
    }
   ],
   "source": [
    "%pwd"
   ]
  },
  {
   "cell_type": "code",
   "execution_count": 7,
   "metadata": {},
   "outputs": [],
   "source": [
    "chdir(r'D:\\Hesam\\Data Science\\Pandas course notebook')"
   ]
  },
  {
   "cell_type": "code",
   "execution_count": 248,
   "metadata": {},
   "outputs": [],
   "source": [
    "cols = ['ID', 'ParentID', 'BirthDate', 'GenderId']\n",
    "df = pd.read_csv('./data/Sample2Percent_Refah_4000412.xlsx.csv', \n",
    "                 nrows = 2_000_000,\n",
    "                 usecols= cols,\n",
    "                 encoding = \"ISO-8859-1\") "
   ]
  },
  {
   "cell_type": "code",
   "execution_count": 10,
   "metadata": {},
   "outputs": [],
   "source": [
    "df['ID_length'] = df.ID.astype('str').str.len()"
   ]
  },
  {
   "cell_type": "code",
   "execution_count": 11,
   "metadata": {},
   "outputs": [
    {
     "data": {
      "text/html": [
       "<div>\n",
       "<style scoped>\n",
       "    .dataframe tbody tr th:only-of-type {\n",
       "        vertical-align: middle;\n",
       "    }\n",
       "\n",
       "    .dataframe tbody tr th {\n",
       "        vertical-align: top;\n",
       "    }\n",
       "\n",
       "    .dataframe thead th {\n",
       "        text-align: right;\n",
       "    }\n",
       "</style>\n",
       "<table border=\"1\" class=\"dataframe\">\n",
       "  <thead>\n",
       "    <tr style=\"text-align: right;\">\n",
       "      <th></th>\n",
       "      <th>ID</th>\n",
       "      <th>ParentID</th>\n",
       "      <th>BirthDate</th>\n",
       "      <th>GenderId</th>\n",
       "      <th>ID_length</th>\n",
       "    </tr>\n",
       "  </thead>\n",
       "  <tbody>\n",
       "    <tr>\n",
       "      <th>1490986</th>\n",
       "      <td>4822361022</td>\n",
       "      <td>4822361022</td>\n",
       "      <td>1973-04-21</td>\n",
       "      <td>1</td>\n",
       "      <td>10</td>\n",
       "    </tr>\n",
       "    <tr>\n",
       "      <th>1490987</th>\n",
       "      <td>2816587107</td>\n",
       "      <td>2816587107</td>\n",
       "      <td>1942-07-01</td>\n",
       "      <td>1</td>\n",
       "      <td>10</td>\n",
       "    </tr>\n",
       "    <tr>\n",
       "      <th>1490988</th>\n",
       "      <td>6680054253</td>\n",
       "      <td>6680054253</td>\n",
       "      <td>1945-09-11</td>\n",
       "      <td>1</td>\n",
       "      <td>10</td>\n",
       "    </tr>\n",
       "    <tr>\n",
       "      <th>1490989</th>\n",
       "      <td>4142421696</td>\n",
       "      <td>4142421696</td>\n",
       "      <td>1977-09-21</td>\n",
       "      <td>1</td>\n",
       "      <td>10</td>\n",
       "    </tr>\n",
       "    <tr>\n",
       "      <th>1490990</th>\n",
       "      <td>1424664495</td>\n",
       "      <td>4711403091</td>\n",
       "      <td>2005-05-12</td>\n",
       "      <td>1</td>\n",
       "      <td>10</td>\n",
       "    </tr>\n",
       "  </tbody>\n",
       "</table>\n",
       "</div>"
      ],
      "text/plain": [
       "                 ID    ParentID   BirthDate  GenderId  ID_length\n",
       "1490986  4822361022  4822361022  1973-04-21         1         10\n",
       "1490987  2816587107  2816587107  1942-07-01         1         10\n",
       "1490988  6680054253  6680054253  1945-09-11         1         10\n",
       "1490989  4142421696  4142421696  1977-09-21         1         10\n",
       "1490990  1424664495  4711403091  2005-05-12         1         10"
      ]
     },
     "execution_count": 11,
     "metadata": {},
     "output_type": "execute_result"
    }
   ],
   "source": [
    "df.tail(5)"
   ]
  },
  {
   "cell_type": "code",
   "execution_count": 12,
   "metadata": {},
   "outputs": [
    {
     "data": {
      "text/plain": [
       "10    1211264\n",
       "11     145619\n",
       "9      120698\n",
       "8       12072\n",
       "7        1218\n",
       "6         115\n",
       "5           5\n",
       "Name: ID_length, dtype: int64"
      ]
     },
     "execution_count": 12,
     "metadata": {},
     "output_type": "execute_result"
    }
   ],
   "source": [
    "df['ID_length'].value_counts()"
   ]
  },
  {
   "cell_type": "code",
   "execution_count": 13,
   "metadata": {},
   "outputs": [
    {
     "data": {
      "text/html": [
       "<div>\n",
       "<style scoped>\n",
       "    .dataframe tbody tr th:only-of-type {\n",
       "        vertical-align: middle;\n",
       "    }\n",
       "\n",
       "    .dataframe tbody tr th {\n",
       "        vertical-align: top;\n",
       "    }\n",
       "\n",
       "    .dataframe thead th {\n",
       "        text-align: right;\n",
       "    }\n",
       "</style>\n",
       "<table border=\"1\" class=\"dataframe\">\n",
       "  <thead>\n",
       "    <tr style=\"text-align: right;\">\n",
       "      <th></th>\n",
       "      <th>ID</th>\n",
       "      <th>ParentID</th>\n",
       "      <th>BirthDate</th>\n",
       "      <th>GenderId</th>\n",
       "      <th>ID_length</th>\n",
       "    </tr>\n",
       "  </thead>\n",
       "  <tbody>\n",
       "    <tr>\n",
       "      <th>15</th>\n",
       "      <td>10356235203</td>\n",
       "      <td>1303505313</td>\n",
       "      <td>1998-08-08</td>\n",
       "      <td>1</td>\n",
       "      <td>11</td>\n",
       "    </tr>\n",
       "    <tr>\n",
       "      <th>16</th>\n",
       "      <td>12718204818</td>\n",
       "      <td>5372883069</td>\n",
       "      <td>2019-12-09</td>\n",
       "      <td>1</td>\n",
       "      <td>11</td>\n",
       "    </tr>\n",
       "    <tr>\n",
       "      <th>35</th>\n",
       "      <td>10128534159</td>\n",
       "      <td>10128534159</td>\n",
       "      <td>1967-06-22</td>\n",
       "      <td>1</td>\n",
       "      <td>11</td>\n",
       "    </tr>\n",
       "    <tr>\n",
       "      <th>39</th>\n",
       "      <td>13229152476</td>\n",
       "      <td>6688531413</td>\n",
       "      <td>NaN</td>\n",
       "      <td>2</td>\n",
       "      <td>11</td>\n",
       "    </tr>\n",
       "    <tr>\n",
       "      <th>53</th>\n",
       "      <td>13253682858</td>\n",
       "      <td>696991944</td>\n",
       "      <td>NaN</td>\n",
       "      <td>1</td>\n",
       "      <td>11</td>\n",
       "    </tr>\n",
       "    <tr>\n",
       "      <th>70</th>\n",
       "      <td>10323997026</td>\n",
       "      <td>10323997026</td>\n",
       "      <td>1952-03-21</td>\n",
       "      <td>1</td>\n",
       "      <td>11</td>\n",
       "    </tr>\n",
       "    <tr>\n",
       "      <th>88</th>\n",
       "      <td>10053039342</td>\n",
       "      <td>6837747264</td>\n",
       "      <td>2000-03-22</td>\n",
       "      <td>2</td>\n",
       "      <td>11</td>\n",
       "    </tr>\n",
       "    <tr>\n",
       "      <th>90</th>\n",
       "      <td>10457574042</td>\n",
       "      <td>10457574042</td>\n",
       "      <td>1985-03-21</td>\n",
       "      <td>1</td>\n",
       "      <td>11</td>\n",
       "    </tr>\n",
       "    <tr>\n",
       "      <th>95</th>\n",
       "      <td>12270500808</td>\n",
       "      <td>3788149593</td>\n",
       "      <td>2018-03-20</td>\n",
       "      <td>2</td>\n",
       "      <td>11</td>\n",
       "    </tr>\n",
       "    <tr>\n",
       "      <th>112</th>\n",
       "      <td>10432394097</td>\n",
       "      <td>10432394097</td>\n",
       "      <td>1990-09-19</td>\n",
       "      <td>1</td>\n",
       "      <td>11</td>\n",
       "    </tr>\n",
       "    <tr>\n",
       "      <th>127</th>\n",
       "      <td>10229968938</td>\n",
       "      <td>10229150004</td>\n",
       "      <td>2016-04-07</td>\n",
       "      <td>2</td>\n",
       "      <td>11</td>\n",
       "    </tr>\n",
       "    <tr>\n",
       "      <th>140</th>\n",
       "      <td>10153590858</td>\n",
       "      <td>10153590858</td>\n",
       "      <td>1947-04-29</td>\n",
       "      <td>2</td>\n",
       "      <td>11</td>\n",
       "    </tr>\n",
       "    <tr>\n",
       "      <th>184</th>\n",
       "      <td>12295500435</td>\n",
       "      <td>9808155321</td>\n",
       "      <td>2018-04-06</td>\n",
       "      <td>2</td>\n",
       "      <td>11</td>\n",
       "    </tr>\n",
       "    <tr>\n",
       "      <th>188</th>\n",
       "      <td>12224696715</td>\n",
       "      <td>802859397</td>\n",
       "      <td>2017-07-03</td>\n",
       "      <td>2</td>\n",
       "      <td>11</td>\n",
       "    </tr>\n",
       "    <tr>\n",
       "      <th>190</th>\n",
       "      <td>10294997439</td>\n",
       "      <td>10294997439</td>\n",
       "      <td>1993-07-12</td>\n",
       "      <td>2</td>\n",
       "      <td>11</td>\n",
       "    </tr>\n",
       "    <tr>\n",
       "      <th>201</th>\n",
       "      <td>10084126116</td>\n",
       "      <td>800305548</td>\n",
       "      <td>2000-11-23</td>\n",
       "      <td>2</td>\n",
       "      <td>11</td>\n",
       "    </tr>\n",
       "    <tr>\n",
       "      <th>207</th>\n",
       "      <td>13222309002</td>\n",
       "      <td>1907492877</td>\n",
       "      <td>NaN</td>\n",
       "      <td>2</td>\n",
       "      <td>11</td>\n",
       "    </tr>\n",
       "    <tr>\n",
       "      <th>239</th>\n",
       "      <td>10175960253</td>\n",
       "      <td>10175960253</td>\n",
       "      <td>1975-03-21</td>\n",
       "      <td>1</td>\n",
       "      <td>11</td>\n",
       "    </tr>\n",
       "    <tr>\n",
       "      <th>241</th>\n",
       "      <td>12494345556</td>\n",
       "      <td>9774300678</td>\n",
       "      <td>2018-10-29</td>\n",
       "      <td>2</td>\n",
       "      <td>11</td>\n",
       "    </tr>\n",
       "    <tr>\n",
       "      <th>242</th>\n",
       "      <td>13231532157</td>\n",
       "      <td>1092945549</td>\n",
       "      <td>NaN</td>\n",
       "      <td>1</td>\n",
       "      <td>11</td>\n",
       "    </tr>\n",
       "  </tbody>\n",
       "</table>\n",
       "</div>"
      ],
      "text/plain": [
       "              ID     ParentID   BirthDate  GenderId  ID_length\n",
       "15   10356235203   1303505313  1998-08-08         1         11\n",
       "16   12718204818   5372883069  2019-12-09         1         11\n",
       "35   10128534159  10128534159  1967-06-22         1         11\n",
       "39   13229152476   6688531413         NaN         2         11\n",
       "53   13253682858    696991944         NaN         1         11\n",
       "70   10323997026  10323997026  1952-03-21         1         11\n",
       "88   10053039342   6837747264  2000-03-22         2         11\n",
       "90   10457574042  10457574042  1985-03-21         1         11\n",
       "95   12270500808   3788149593  2018-03-20         2         11\n",
       "112  10432394097  10432394097  1990-09-19         1         11\n",
       "127  10229968938  10229150004  2016-04-07         2         11\n",
       "140  10153590858  10153590858  1947-04-29         2         11\n",
       "184  12295500435   9808155321  2018-04-06         2         11\n",
       "188  12224696715    802859397  2017-07-03         2         11\n",
       "190  10294997439  10294997439  1993-07-12         2         11\n",
       "201  10084126116    800305548  2000-11-23         2         11\n",
       "207  13222309002   1907492877         NaN         2         11\n",
       "239  10175960253  10175960253  1975-03-21         1         11\n",
       "241  12494345556   9774300678  2018-10-29         2         11\n",
       "242  13231532157   1092945549         NaN         1         11"
      ]
     },
     "execution_count": 13,
     "metadata": {},
     "output_type": "execute_result"
    }
   ],
   "source": [
    "df[df['ID_length'] > 10].head(20)"
   ]
  },
  {
   "cell_type": "markdown",
   "metadata": {},
   "source": [
    "#### Check to see if any space make ID length issue\n",
    "\n",
    "```python \n",
    "len(' 9552231653 ') \n",
    "```"
   ]
  },
  {
   "cell_type": "code",
   "execution_count": 14,
   "metadata": {},
   "outputs": [],
   "source": [
    "df['ID'] = df.ID.astype('str').str.strip()"
   ]
  },
  {
   "cell_type": "code",
   "execution_count": 15,
   "metadata": {},
   "outputs": [
    {
     "data": {
      "text/plain": [
       "10    1211264\n",
       "11     145619\n",
       "9      120698\n",
       "8       12072\n",
       "7        1218\n",
       "6         115\n",
       "5           5\n",
       "Name: ID_length, dtype: int64"
      ]
     },
     "execution_count": 15,
     "metadata": {},
     "output_type": "execute_result"
    }
   ],
   "source": [
    "df['ID_length'].value_counts()"
   ]
  },
  {
   "cell_type": "markdown",
   "metadata": {},
   "source": [
    "#### Hack the National IDs!\n",
    "\n",
    "fake Nationa_ID = $a \\ \\  \\times$ Nationa_ID  + $b$\n",
    "\n",
    "where $a$ and $b$ int between 1 , ... , 9"
   ]
  },
  {
   "cell_type": "code",
   "execution_count": 16,
   "metadata": {},
   "outputs": [],
   "source": [
    "df['PID_length'] = df.ParentID.astype('str').str.len()"
   ]
  },
  {
   "cell_type": "code",
   "execution_count": 17,
   "metadata": {},
   "outputs": [
    {
     "data": {
      "text/plain": [
       "10    1284406\n",
       "9      134135\n",
       "11      57386\n",
       "8       13625\n",
       "7        1304\n",
       "6         128\n",
       "5           7\n",
       "Name: PID_length, dtype: int64"
      ]
     },
     "execution_count": 17,
     "metadata": {},
     "output_type": "execute_result"
    }
   ],
   "source": [
    "df.PID_length.value_counts()"
   ]
  },
  {
   "cell_type": "code",
   "execution_count": 18,
   "metadata": {},
   "outputs": [],
   "source": [
    "df['ParentID'] = df.ParentID.astype('str').str.strip()"
   ]
  },
  {
   "cell_type": "code",
   "execution_count": 19,
   "metadata": {},
   "outputs": [
    {
     "data": {
      "text/plain": [
       "10    1284406\n",
       "9      134135\n",
       "11      57386\n",
       "8       13625\n",
       "7        1304\n",
       "6         128\n",
       "5           7\n",
       "Name: PID_length, dtype: int64"
      ]
     },
     "execution_count": 19,
     "metadata": {},
     "output_type": "execute_result"
    }
   ],
   "source": [
    "df.PID_length.value_counts()"
   ]
  },
  {
   "cell_type": "code",
   "execution_count": 20,
   "metadata": {},
   "outputs": [
    {
     "data": {
      "text/plain": [
       "1265582"
      ]
     },
     "execution_count": 20,
     "metadata": {},
     "output_type": "execute_result"
    }
   ],
   "source": [
    "df[(df.PID_length >= 10) & (df.ID_length > 9)].shape[0] "
   ]
  },
  {
   "cell_type": "code",
   "execution_count": 21,
   "metadata": {},
   "outputs": [
    {
     "data": {
      "text/plain": [
       "1490991"
      ]
     },
     "execution_count": 21,
     "metadata": {},
     "output_type": "execute_result"
    }
   ],
   "source": [
    "df.shape[0]"
   ]
  },
  {
   "cell_type": "code",
   "execution_count": 22,
   "metadata": {},
   "outputs": [
    {
     "data": {
      "text/plain": [
       "84.88193423032064"
      ]
     },
     "execution_count": 22,
     "metadata": {},
     "output_type": "execute_result"
    }
   ],
   "source": [
    "df[(df.PID_length >= 10) & (df.ID_length > 9)].shape[0] / df.shape[0] * 100"
   ]
  },
  {
   "cell_type": "code",
   "execution_count": 23,
   "metadata": {},
   "outputs": [
    {
     "data": {
      "text/plain": [
       "(1265582, 6)"
      ]
     },
     "execution_count": 23,
     "metadata": {},
     "output_type": "execute_result"
    }
   ],
   "source": [
    "df[(df.PID_length >= 10) & (df.ID_length > 9)].shape"
   ]
  },
  {
   "cell_type": "code",
   "execution_count": 24,
   "metadata": {},
   "outputs": [
    {
     "data": {
      "text/plain": [
       "1341792"
      ]
     },
     "execution_count": 24,
     "metadata": {},
     "output_type": "execute_result"
    }
   ],
   "source": [
    "(df.PID_length >= 10).sum()"
   ]
  },
  {
   "cell_type": "code",
   "execution_count": 25,
   "metadata": {},
   "outputs": [
    {
     "data": {
      "text/plain": [
       "0          False\n",
       "1           True\n",
       "2          False\n",
       "3          False\n",
       "4          False\n",
       "           ...  \n",
       "1490986     True\n",
       "1490987     True\n",
       "1490988     True\n",
       "1490989     True\n",
       "1490990     True\n",
       "Name: ID_length, Length: 1490991, dtype: bool"
      ]
     },
     "execution_count": 25,
     "metadata": {},
     "output_type": "execute_result"
    }
   ],
   "source": [
    "(df.ID_length > 9)"
   ]
  },
  {
   "cell_type": "markdown",
   "metadata": {},
   "source": [
    "Apply condition on *National ID* length\n",
    "\n",
    "- Exercise: Logic on *National ID* "
   ]
  },
  {
   "cell_type": "code",
   "execution_count": 19,
   "metadata": {},
   "outputs": [],
   "source": [
    "df['ID_length'] = df.ID.astype('str').str.len()\n",
    "df['PID_length'] = df.ParentID.astype('str').str.len()"
   ]
  },
  {
   "cell_type": "code",
   "execution_count": 26,
   "metadata": {},
   "outputs": [
    {
     "data": {
      "text/plain": [
       "(1107959, 6)"
      ]
     },
     "execution_count": 26,
     "metadata": {},
     "output_type": "execute_result"
    }
   ],
   "source": [
    "df_ten = df[(df['PID_length'] == 10 ) & (df['ID_length'] == 10 )]\n",
    "df_ten.shape"
   ]
  },
  {
   "cell_type": "code",
   "execution_count": 28,
   "metadata": {},
   "outputs": [],
   "source": [
    "del df_ten"
   ]
  },
  {
   "cell_type": "code",
   "execution_count": 27,
   "metadata": {},
   "outputs": [
    {
     "data": {
      "text/html": [
       "<div>\n",
       "<style scoped>\n",
       "    .dataframe tbody tr th:only-of-type {\n",
       "        vertical-align: middle;\n",
       "    }\n",
       "\n",
       "    .dataframe tbody tr th {\n",
       "        vertical-align: top;\n",
       "    }\n",
       "\n",
       "    .dataframe thead th {\n",
       "        text-align: right;\n",
       "    }\n",
       "</style>\n",
       "<table border=\"1\" class=\"dataframe\">\n",
       "  <thead>\n",
       "    <tr style=\"text-align: right;\">\n",
       "      <th></th>\n",
       "      <th>ID</th>\n",
       "      <th>ParentID</th>\n",
       "      <th>BirthDate</th>\n",
       "      <th>GenderId</th>\n",
       "      <th>ID_length</th>\n",
       "      <th>PID_length</th>\n",
       "    </tr>\n",
       "  </thead>\n",
       "  <tbody>\n",
       "    <tr>\n",
       "      <th>0</th>\n",
       "      <td>385996899</td>\n",
       "      <td>391863876</td>\n",
       "      <td>1978-03-22</td>\n",
       "      <td>2</td>\n",
       "      <td>9</td>\n",
       "      <td>9</td>\n",
       "    </tr>\n",
       "    <tr>\n",
       "      <th>1</th>\n",
       "      <td>2633686968</td>\n",
       "      <td>2633686968</td>\n",
       "      <td>1995-02-05</td>\n",
       "      <td>1</td>\n",
       "      <td>10</td>\n",
       "      <td>10</td>\n",
       "    </tr>\n",
       "    <tr>\n",
       "      <th>2</th>\n",
       "      <td>312125928</td>\n",
       "      <td>1981002597</td>\n",
       "      <td>1970-05-13</td>\n",
       "      <td>2</td>\n",
       "      <td>9</td>\n",
       "      <td>10</td>\n",
       "    </tr>\n",
       "    <tr>\n",
       "      <th>3</th>\n",
       "      <td>70847160</td>\n",
       "      <td>70847160</td>\n",
       "      <td>1969-03-21</td>\n",
       "      <td>1</td>\n",
       "      <td>8</td>\n",
       "      <td>8</td>\n",
       "    </tr>\n",
       "    <tr>\n",
       "      <th>4</th>\n",
       "      <td>663191175</td>\n",
       "      <td>9230116821</td>\n",
       "      <td>2004-06-19</td>\n",
       "      <td>2</td>\n",
       "      <td>9</td>\n",
       "      <td>10</td>\n",
       "    </tr>\n",
       "    <tr>\n",
       "      <th>5</th>\n",
       "      <td>5795894952</td>\n",
       "      <td>94240284</td>\n",
       "      <td>1950-08-23</td>\n",
       "      <td>2</td>\n",
       "      <td>10</td>\n",
       "      <td>8</td>\n",
       "    </tr>\n",
       "    <tr>\n",
       "      <th>6</th>\n",
       "      <td>3274221522</td>\n",
       "      <td>5459677650</td>\n",
       "      <td>2002-09-21</td>\n",
       "      <td>2</td>\n",
       "      <td>10</td>\n",
       "      <td>10</td>\n",
       "    </tr>\n",
       "    <tr>\n",
       "      <th>7</th>\n",
       "      <td>2376999375</td>\n",
       "      <td>5848907706</td>\n",
       "      <td>1994-02-07</td>\n",
       "      <td>2</td>\n",
       "      <td>10</td>\n",
       "      <td>10</td>\n",
       "    </tr>\n",
       "    <tr>\n",
       "      <th>8</th>\n",
       "      <td>9857876841</td>\n",
       "      <td>8845436658</td>\n",
       "      <td>1967-02-12</td>\n",
       "      <td>2</td>\n",
       "      <td>10</td>\n",
       "      <td>10</td>\n",
       "    </tr>\n",
       "    <tr>\n",
       "      <th>9</th>\n",
       "      <td>6987751668</td>\n",
       "      <td>9286957827</td>\n",
       "      <td>2009-04-03</td>\n",
       "      <td>2</td>\n",
       "      <td>10</td>\n",
       "      <td>10</td>\n",
       "    </tr>\n",
       "  </tbody>\n",
       "</table>\n",
       "</div>"
      ],
      "text/plain": [
       "           ID    ParentID   BirthDate  GenderId  ID_length  PID_length\n",
       "0   385996899   391863876  1978-03-22         2          9           9\n",
       "1  2633686968  2633686968  1995-02-05         1         10          10\n",
       "2   312125928  1981002597  1970-05-13         2          9          10\n",
       "3    70847160    70847160  1969-03-21         1          8           8\n",
       "4   663191175  9230116821  2004-06-19         2          9          10\n",
       "5  5795894952    94240284  1950-08-23         2         10           8\n",
       "6  3274221522  5459677650  2002-09-21         2         10          10\n",
       "7  2376999375  5848907706  1994-02-07         2         10          10\n",
       "8  9857876841  8845436658  1967-02-12         2         10          10\n",
       "9  6987751668  9286957827  2009-04-03         2         10          10"
      ]
     },
     "execution_count": 27,
     "metadata": {},
     "output_type": "execute_result"
    }
   ],
   "source": [
    "df.head(10)"
   ]
  },
  {
   "cell_type": "markdown",
   "metadata": {},
   "source": [
    "These 2 columns are not useful any more. \n",
    "\n",
    "- Why?\n",
    "\n",
    "    > Better to drop any not useful data, especially those you can simply add again!\n",
    "    \n",
    "- What to do?\n",
    "\n",
    "    ```python\n",
    "    df.drop(columns=['ID_length', 'PID_length'], inplace =True) \n",
    "\n",
    "    ```\n",
    "\n"
   ]
  },
  {
   "cell_type": "code",
   "execution_count": 51,
   "metadata": {},
   "outputs": [],
   "source": [
    "df.drop(columns=['ID_length', 'PID_length'], inplace =True)"
   ]
  },
  {
   "cell_type": "markdown",
   "metadata": {},
   "source": [
    "## How to count number of N-ID under each Parent ID?\n",
    "- They are not to be children\n",
    "- These contains those with are supported by a `Parent ID`, i.e. `افراد تحت تکفل سرپرسرت خانوار` "
   ]
  },
  {
   "cell_type": "code",
   "execution_count": 29,
   "metadata": {},
   "outputs": [
    {
     "data": {
      "text/plain": [
       "2183597619     17\n",
       "10311409698    17\n",
       "9366930582     14\n",
       "1066060086     14\n",
       "1729873005     14\n",
       "               ..\n",
       "5992310946      1\n",
       "3461072298      1\n",
       "6604316757      1\n",
       "9061954542      1\n",
       "5604263043      1\n",
       "Name: ParentID, Length: 500000, dtype: int64"
      ]
     },
     "execution_count": 29,
     "metadata": {},
     "output_type": "execute_result"
    }
   ],
   "source": [
    "df.ParentID.value_counts()"
   ]
  },
  {
   "cell_type": "code",
   "execution_count": 32,
   "metadata": {},
   "outputs": [
    {
     "ename": "OverflowError",
     "evalue": "Python int too large to convert to C long",
     "output_type": "error",
     "traceback": [
      "\u001b[1;31m---------------------------------------------------------------------------\u001b[0m",
      "\u001b[1;31mOverflowError\u001b[0m                             Traceback (most recent call last)",
      "\u001b[1;32m<ipython-input-32-0ac5c637a1dc>\u001b[0m in \u001b[0;36m<module>\u001b[1;34m\u001b[0m\n\u001b[1;32m----> 1\u001b[1;33m \u001b[0mdf\u001b[0m\u001b[1;33m.\u001b[0m\u001b[0mParentID\u001b[0m\u001b[1;33m.\u001b[0m\u001b[0mastype\u001b[0m\u001b[1;33m(\u001b[0m\u001b[0mint\u001b[0m\u001b[1;33m)\u001b[0m\u001b[1;33m.\u001b[0m\u001b[0mvalue_counts\u001b[0m\u001b[1;33m(\u001b[0m\u001b[0mbins\u001b[0m\u001b[1;33m=\u001b[0m\u001b[1;36m3\u001b[0m\u001b[1;33m)\u001b[0m\u001b[1;33m\u001b[0m\u001b[1;33m\u001b[0m\u001b[0m\n\u001b[0m",
      "\u001b[1;32mD:\\ProgramData\\Anaconda3\\lib\\site-packages\\pandas\\core\\generic.py\u001b[0m in \u001b[0;36mastype\u001b[1;34m(self, dtype, copy, errors)\u001b[0m\n\u001b[0;32m   5544\u001b[0m         \u001b[1;32melse\u001b[0m\u001b[1;33m:\u001b[0m\u001b[1;33m\u001b[0m\u001b[1;33m\u001b[0m\u001b[0m\n\u001b[0;32m   5545\u001b[0m             \u001b[1;31m# else, only a single dtype is given\u001b[0m\u001b[1;33m\u001b[0m\u001b[1;33m\u001b[0m\u001b[1;33m\u001b[0m\u001b[0m\n\u001b[1;32m-> 5546\u001b[1;33m             \u001b[0mnew_data\u001b[0m \u001b[1;33m=\u001b[0m \u001b[0mself\u001b[0m\u001b[1;33m.\u001b[0m\u001b[0m_mgr\u001b[0m\u001b[1;33m.\u001b[0m\u001b[0mastype\u001b[0m\u001b[1;33m(\u001b[0m\u001b[0mdtype\u001b[0m\u001b[1;33m=\u001b[0m\u001b[0mdtype\u001b[0m\u001b[1;33m,\u001b[0m \u001b[0mcopy\u001b[0m\u001b[1;33m=\u001b[0m\u001b[0mcopy\u001b[0m\u001b[1;33m,\u001b[0m \u001b[0merrors\u001b[0m\u001b[1;33m=\u001b[0m\u001b[0merrors\u001b[0m\u001b[1;33m,\u001b[0m\u001b[1;33m)\u001b[0m\u001b[1;33m\u001b[0m\u001b[1;33m\u001b[0m\u001b[0m\n\u001b[0m\u001b[0;32m   5547\u001b[0m             \u001b[1;32mreturn\u001b[0m \u001b[0mself\u001b[0m\u001b[1;33m.\u001b[0m\u001b[0m_constructor\u001b[0m\u001b[1;33m(\u001b[0m\u001b[0mnew_data\u001b[0m\u001b[1;33m)\u001b[0m\u001b[1;33m.\u001b[0m\u001b[0m__finalize__\u001b[0m\u001b[1;33m(\u001b[0m\u001b[0mself\u001b[0m\u001b[1;33m,\u001b[0m \u001b[0mmethod\u001b[0m\u001b[1;33m=\u001b[0m\u001b[1;34m\"astype\"\u001b[0m\u001b[1;33m)\u001b[0m\u001b[1;33m\u001b[0m\u001b[1;33m\u001b[0m\u001b[0m\n\u001b[0;32m   5548\u001b[0m \u001b[1;33m\u001b[0m\u001b[0m\n",
      "\u001b[1;32mD:\\ProgramData\\Anaconda3\\lib\\site-packages\\pandas\\core\\internals\\managers.py\u001b[0m in \u001b[0;36mastype\u001b[1;34m(self, dtype, copy, errors)\u001b[0m\n\u001b[0;32m    593\u001b[0m         \u001b[0mself\u001b[0m\u001b[1;33m,\u001b[0m \u001b[0mdtype\u001b[0m\u001b[1;33m,\u001b[0m \u001b[0mcopy\u001b[0m\u001b[1;33m:\u001b[0m \u001b[0mbool\u001b[0m \u001b[1;33m=\u001b[0m \u001b[1;32mFalse\u001b[0m\u001b[1;33m,\u001b[0m \u001b[0merrors\u001b[0m\u001b[1;33m:\u001b[0m \u001b[0mstr\u001b[0m \u001b[1;33m=\u001b[0m \u001b[1;34m\"raise\"\u001b[0m\u001b[1;33m\u001b[0m\u001b[1;33m\u001b[0m\u001b[0m\n\u001b[0;32m    594\u001b[0m     ) -> \"BlockManager\":\n\u001b[1;32m--> 595\u001b[1;33m         \u001b[1;32mreturn\u001b[0m \u001b[0mself\u001b[0m\u001b[1;33m.\u001b[0m\u001b[0mapply\u001b[0m\u001b[1;33m(\u001b[0m\u001b[1;34m\"astype\"\u001b[0m\u001b[1;33m,\u001b[0m \u001b[0mdtype\u001b[0m\u001b[1;33m=\u001b[0m\u001b[0mdtype\u001b[0m\u001b[1;33m,\u001b[0m \u001b[0mcopy\u001b[0m\u001b[1;33m=\u001b[0m\u001b[0mcopy\u001b[0m\u001b[1;33m,\u001b[0m \u001b[0merrors\u001b[0m\u001b[1;33m=\u001b[0m\u001b[0merrors\u001b[0m\u001b[1;33m)\u001b[0m\u001b[1;33m\u001b[0m\u001b[1;33m\u001b[0m\u001b[0m\n\u001b[0m\u001b[0;32m    596\u001b[0m \u001b[1;33m\u001b[0m\u001b[0m\n\u001b[0;32m    597\u001b[0m     def convert(\n",
      "\u001b[1;32mD:\\ProgramData\\Anaconda3\\lib\\site-packages\\pandas\\core\\internals\\managers.py\u001b[0m in \u001b[0;36mapply\u001b[1;34m(self, f, align_keys, **kwargs)\u001b[0m\n\u001b[0;32m    404\u001b[0m                 \u001b[0mapplied\u001b[0m \u001b[1;33m=\u001b[0m \u001b[0mb\u001b[0m\u001b[1;33m.\u001b[0m\u001b[0mapply\u001b[0m\u001b[1;33m(\u001b[0m\u001b[0mf\u001b[0m\u001b[1;33m,\u001b[0m \u001b[1;33m**\u001b[0m\u001b[0mkwargs\u001b[0m\u001b[1;33m)\u001b[0m\u001b[1;33m\u001b[0m\u001b[1;33m\u001b[0m\u001b[0m\n\u001b[0;32m    405\u001b[0m             \u001b[1;32melse\u001b[0m\u001b[1;33m:\u001b[0m\u001b[1;33m\u001b[0m\u001b[1;33m\u001b[0m\u001b[0m\n\u001b[1;32m--> 406\u001b[1;33m                 \u001b[0mapplied\u001b[0m \u001b[1;33m=\u001b[0m \u001b[0mgetattr\u001b[0m\u001b[1;33m(\u001b[0m\u001b[0mb\u001b[0m\u001b[1;33m,\u001b[0m \u001b[0mf\u001b[0m\u001b[1;33m)\u001b[0m\u001b[1;33m(\u001b[0m\u001b[1;33m**\u001b[0m\u001b[0mkwargs\u001b[0m\u001b[1;33m)\u001b[0m\u001b[1;33m\u001b[0m\u001b[1;33m\u001b[0m\u001b[0m\n\u001b[0m\u001b[0;32m    407\u001b[0m             \u001b[0mresult_blocks\u001b[0m \u001b[1;33m=\u001b[0m \u001b[0m_extend_blocks\u001b[0m\u001b[1;33m(\u001b[0m\u001b[0mapplied\u001b[0m\u001b[1;33m,\u001b[0m \u001b[0mresult_blocks\u001b[0m\u001b[1;33m)\u001b[0m\u001b[1;33m\u001b[0m\u001b[1;33m\u001b[0m\u001b[0m\n\u001b[0;32m    408\u001b[0m \u001b[1;33m\u001b[0m\u001b[0m\n",
      "\u001b[1;32mD:\\ProgramData\\Anaconda3\\lib\\site-packages\\pandas\\core\\internals\\blocks.py\u001b[0m in \u001b[0;36mastype\u001b[1;34m(self, dtype, copy, errors)\u001b[0m\n\u001b[0;32m    593\u001b[0m             \u001b[0mvals1d\u001b[0m \u001b[1;33m=\u001b[0m \u001b[0mvalues\u001b[0m\u001b[1;33m.\u001b[0m\u001b[0mravel\u001b[0m\u001b[1;33m(\u001b[0m\u001b[1;33m)\u001b[0m\u001b[1;33m\u001b[0m\u001b[1;33m\u001b[0m\u001b[0m\n\u001b[0;32m    594\u001b[0m             \u001b[1;32mtry\u001b[0m\u001b[1;33m:\u001b[0m\u001b[1;33m\u001b[0m\u001b[1;33m\u001b[0m\u001b[0m\n\u001b[1;32m--> 595\u001b[1;33m                 \u001b[0mvalues\u001b[0m \u001b[1;33m=\u001b[0m \u001b[0mastype_nansafe\u001b[0m\u001b[1;33m(\u001b[0m\u001b[0mvals1d\u001b[0m\u001b[1;33m,\u001b[0m \u001b[0mdtype\u001b[0m\u001b[1;33m,\u001b[0m \u001b[0mcopy\u001b[0m\u001b[1;33m=\u001b[0m\u001b[1;32mTrue\u001b[0m\u001b[1;33m)\u001b[0m\u001b[1;33m\u001b[0m\u001b[1;33m\u001b[0m\u001b[0m\n\u001b[0m\u001b[0;32m    596\u001b[0m             \u001b[1;32mexcept\u001b[0m \u001b[1;33m(\u001b[0m\u001b[0mValueError\u001b[0m\u001b[1;33m,\u001b[0m \u001b[0mTypeError\u001b[0m\u001b[1;33m)\u001b[0m\u001b[1;33m:\u001b[0m\u001b[1;33m\u001b[0m\u001b[1;33m\u001b[0m\u001b[0m\n\u001b[0;32m    597\u001b[0m                 \u001b[1;31m# e.g. astype_nansafe can fail on object-dtype of strings\u001b[0m\u001b[1;33m\u001b[0m\u001b[1;33m\u001b[0m\u001b[1;33m\u001b[0m\u001b[0m\n",
      "\u001b[1;32mD:\\ProgramData\\Anaconda3\\lib\\site-packages\\pandas\\core\\dtypes\\cast.py\u001b[0m in \u001b[0;36mastype_nansafe\u001b[1;34m(arr, dtype, copy, skipna)\u001b[0m\n\u001b[0;32m    970\u001b[0m         \u001b[1;31m# work around NumPy brokenness, #1987\u001b[0m\u001b[1;33m\u001b[0m\u001b[1;33m\u001b[0m\u001b[1;33m\u001b[0m\u001b[0m\n\u001b[0;32m    971\u001b[0m         \u001b[1;32mif\u001b[0m \u001b[0mnp\u001b[0m\u001b[1;33m.\u001b[0m\u001b[0missubdtype\u001b[0m\u001b[1;33m(\u001b[0m\u001b[0mdtype\u001b[0m\u001b[1;33m.\u001b[0m\u001b[0mtype\u001b[0m\u001b[1;33m,\u001b[0m \u001b[0mnp\u001b[0m\u001b[1;33m.\u001b[0m\u001b[0minteger\u001b[0m\u001b[1;33m)\u001b[0m\u001b[1;33m:\u001b[0m\u001b[1;33m\u001b[0m\u001b[1;33m\u001b[0m\u001b[0m\n\u001b[1;32m--> 972\u001b[1;33m             \u001b[1;32mreturn\u001b[0m \u001b[0mlib\u001b[0m\u001b[1;33m.\u001b[0m\u001b[0mastype_intsafe\u001b[0m\u001b[1;33m(\u001b[0m\u001b[0marr\u001b[0m\u001b[1;33m.\u001b[0m\u001b[0mravel\u001b[0m\u001b[1;33m(\u001b[0m\u001b[1;33m)\u001b[0m\u001b[1;33m,\u001b[0m \u001b[0mdtype\u001b[0m\u001b[1;33m)\u001b[0m\u001b[1;33m.\u001b[0m\u001b[0mreshape\u001b[0m\u001b[1;33m(\u001b[0m\u001b[0marr\u001b[0m\u001b[1;33m.\u001b[0m\u001b[0mshape\u001b[0m\u001b[1;33m)\u001b[0m\u001b[1;33m\u001b[0m\u001b[1;33m\u001b[0m\u001b[0m\n\u001b[0m\u001b[0;32m    973\u001b[0m \u001b[1;33m\u001b[0m\u001b[0m\n\u001b[0;32m    974\u001b[0m         \u001b[1;31m# if we have a datetime/timedelta array of objects\u001b[0m\u001b[1;33m\u001b[0m\u001b[1;33m\u001b[0m\u001b[1;33m\u001b[0m\u001b[0m\n",
      "\u001b[1;32mpandas\\_libs\\lib.pyx\u001b[0m in \u001b[0;36mpandas._libs.lib.astype_intsafe\u001b[1;34m()\u001b[0m\n",
      "\u001b[1;31mOverflowError\u001b[0m: Python int too large to convert to C long"
     ]
    }
   ],
   "source": [
    "df.ParentID.astype(int).value_counts(bins=3)"
   ]
  },
  {
   "cell_type": "code",
   "execution_count": 33,
   "metadata": {},
   "outputs": [
    {
     "data": {
      "text/plain": [
       "2183597619     17\n",
       "10311409698    17\n",
       "9366930582     14\n",
       "1066060086     14\n",
       "1729873005     14\n",
       "               ..\n",
       "5992310946      1\n",
       "3461072298      1\n",
       "6604316757      1\n",
       "9061954542      1\n",
       "5604263043      1\n",
       "Name: ParentID, Length: 500000, dtype: int64"
      ]
     },
     "execution_count": 33,
     "metadata": {},
     "output_type": "execute_result"
    }
   ],
   "source": [
    "family_count = df.ParentID.value_counts()"
   ]
  },
  {
   "cell_type": "code",
   "execution_count": 34,
   "metadata": {},
   "outputs": [
    {
     "data": {
      "text/plain": [
       "2183597619     17\n",
       "10311409698    17\n",
       "9366930582     14\n",
       "1066060086     14\n",
       "1729873005     14\n",
       "               ..\n",
       "5992310946      1\n",
       "3461072298      1\n",
       "6604316757      1\n",
       "9061954542      1\n",
       "5604263043      1\n",
       "Name: Count_p, Length: 500000, dtype: int64"
      ]
     },
     "execution_count": 34,
     "metadata": {},
     "output_type": "execute_result"
    }
   ],
   "source": [
    "family_count.rename('Count_p')"
   ]
  },
  {
   "cell_type": "code",
   "execution_count": 38,
   "metadata": {},
   "outputs": [
    {
     "data": {
      "text/plain": [
       "<AxesSubplot:>"
      ]
     },
     "execution_count": 38,
     "metadata": {},
     "output_type": "execute_result"
    },
    {
     "data": {
      "image/png": "[encoded data removed]",
      "text/plain": [
       "<Figure size 432x288 with 1 Axes>"
      ]
     },
     "metadata": {
      "needs_background": "light"
     },
     "output_type": "display_data"
    }
   ],
   "source": [
    "family_count.hist(bins=30)"
   ]
  },
  {
   "cell_type": "code",
   "execution_count": 39,
   "metadata": {},
   "outputs": [
    {
     "data": {
      "text/html": [
       "<div>\n",
       "<style scoped>\n",
       "    .dataframe tbody tr th:only-of-type {\n",
       "        vertical-align: middle;\n",
       "    }\n",
       "\n",
       "    .dataframe tbody tr th {\n",
       "        vertical-align: top;\n",
       "    }\n",
       "\n",
       "    .dataframe thead th {\n",
       "        text-align: right;\n",
       "    }\n",
       "</style>\n",
       "<table border=\"1\" class=\"dataframe\">\n",
       "  <thead>\n",
       "    <tr style=\"text-align: right;\">\n",
       "      <th></th>\n",
       "      <th>ID</th>\n",
       "      <th>ParentID</th>\n",
       "      <th>BirthDate</th>\n",
       "      <th>GenderId</th>\n",
       "      <th>ID_length</th>\n",
       "      <th>PID_length</th>\n",
       "    </tr>\n",
       "  </thead>\n",
       "  <tbody>\n",
       "    <tr>\n",
       "      <th>113160</th>\n",
       "      <td>7032610752</td>\n",
       "      <td>2183597619</td>\n",
       "      <td>1967-04-21</td>\n",
       "      <td>2</td>\n",
       "      <td>10</td>\n",
       "      <td>10</td>\n",
       "    </tr>\n",
       "    <tr>\n",
       "      <th>193548</th>\n",
       "      <td>3520510326</td>\n",
       "      <td>2183597619</td>\n",
       "      <td>2009-02-09</td>\n",
       "      <td>1</td>\n",
       "      <td>10</td>\n",
       "      <td>10</td>\n",
       "    </tr>\n",
       "    <tr>\n",
       "      <th>209007</th>\n",
       "      <td>6924574686</td>\n",
       "      <td>2183597619</td>\n",
       "      <td>2012-08-16</td>\n",
       "      <td>2</td>\n",
       "      <td>10</td>\n",
       "      <td>10</td>\n",
       "    </tr>\n",
       "    <tr>\n",
       "      <th>263136</th>\n",
       "      <td>6429609525</td>\n",
       "      <td>2183597619</td>\n",
       "      <td>2004-03-20</td>\n",
       "      <td>1</td>\n",
       "      <td>10</td>\n",
       "      <td>10</td>\n",
       "    </tr>\n",
       "    <tr>\n",
       "      <th>349275</th>\n",
       "      <td>12347218245</td>\n",
       "      <td>2183597619</td>\n",
       "      <td>2017-09-06</td>\n",
       "      <td>1</td>\n",
       "      <td>11</td>\n",
       "      <td>10</td>\n",
       "    </tr>\n",
       "    <tr>\n",
       "      <th>400433</th>\n",
       "      <td>1508179404</td>\n",
       "      <td>2183597619</td>\n",
       "      <td>2006-07-15</td>\n",
       "      <td>2</td>\n",
       "      <td>10</td>\n",
       "      <td>10</td>\n",
       "    </tr>\n",
       "    <tr>\n",
       "      <th>447744</th>\n",
       "      <td>9450298752</td>\n",
       "      <td>2183597619</td>\n",
       "      <td>2000-10-28</td>\n",
       "      <td>2</td>\n",
       "      <td>10</td>\n",
       "      <td>10</td>\n",
       "    </tr>\n",
       "    <tr>\n",
       "      <th>688716</th>\n",
       "      <td>3064471344</td>\n",
       "      <td>2183597619</td>\n",
       "      <td>2009-10-23</td>\n",
       "      <td>2</td>\n",
       "      <td>10</td>\n",
       "      <td>10</td>\n",
       "    </tr>\n",
       "    <tr>\n",
       "      <th>887536</th>\n",
       "      <td>7067291586</td>\n",
       "      <td>2183597619</td>\n",
       "      <td>1982-03-21</td>\n",
       "      <td>2</td>\n",
       "      <td>10</td>\n",
       "      <td>10</td>\n",
       "    </tr>\n",
       "    <tr>\n",
       "      <th>970482</th>\n",
       "      <td>6511318302</td>\n",
       "      <td>2183597619</td>\n",
       "      <td>2013-08-29</td>\n",
       "      <td>1</td>\n",
       "      <td>10</td>\n",
       "      <td>10</td>\n",
       "    </tr>\n",
       "    <tr>\n",
       "      <th>1024839</th>\n",
       "      <td>1743085542</td>\n",
       "      <td>2183597619</td>\n",
       "      <td>2010-06-02</td>\n",
       "      <td>1</td>\n",
       "      <td>10</td>\n",
       "      <td>10</td>\n",
       "    </tr>\n",
       "    <tr>\n",
       "      <th>1032876</th>\n",
       "      <td>13257415539</td>\n",
       "      <td>2183597619</td>\n",
       "      <td>NaN</td>\n",
       "      <td>2</td>\n",
       "      <td>11</td>\n",
       "      <td>10</td>\n",
       "    </tr>\n",
       "    <tr>\n",
       "      <th>1049119</th>\n",
       "      <td>7782135975</td>\n",
       "      <td>2183597619</td>\n",
       "      <td>2011-09-20</td>\n",
       "      <td>2</td>\n",
       "      <td>10</td>\n",
       "      <td>10</td>\n",
       "    </tr>\n",
       "    <tr>\n",
       "      <th>1246040</th>\n",
       "      <td>4542792354</td>\n",
       "      <td>2183597619</td>\n",
       "      <td>1988-10-06</td>\n",
       "      <td>1</td>\n",
       "      <td>10</td>\n",
       "      <td>10</td>\n",
       "    </tr>\n",
       "    <tr>\n",
       "      <th>1288334</th>\n",
       "      <td>2183597619</td>\n",
       "      <td>2183597619</td>\n",
       "      <td>1954-08-24</td>\n",
       "      <td>1</td>\n",
       "      <td>10</td>\n",
       "      <td>10</td>\n",
       "    </tr>\n",
       "    <tr>\n",
       "      <th>1291842</th>\n",
       "      <td>2689470543</td>\n",
       "      <td>2183597619</td>\n",
       "      <td>1998-10-21</td>\n",
       "      <td>1</td>\n",
       "      <td>10</td>\n",
       "      <td>10</td>\n",
       "    </tr>\n",
       "    <tr>\n",
       "      <th>1480975</th>\n",
       "      <td>9451752489</td>\n",
       "      <td>2183597619</td>\n",
       "      <td>2015-09-26</td>\n",
       "      <td>1</td>\n",
       "      <td>10</td>\n",
       "      <td>10</td>\n",
       "    </tr>\n",
       "  </tbody>\n",
       "</table>\n",
       "</div>"
      ],
      "text/plain": [
       "                  ID    ParentID   BirthDate  GenderId  ID_length  PID_length\n",
       "113160    7032610752  2183597619  1967-04-21         2         10          10\n",
       "193548    3520510326  2183597619  2009-02-09         1         10          10\n",
       "209007    6924574686  2183597619  2012-08-16         2         10          10\n",
       "263136    6429609525  2183597619  2004-03-20         1         10          10\n",
       "349275   12347218245  2183597619  2017-09-06         1         11          10\n",
       "400433    1508179404  2183597619  2006-07-15         2         10          10\n",
       "447744    9450298752  2183597619  2000-10-28         2         10          10\n",
       "688716    3064471344  2183597619  2009-10-23         2         10          10\n",
       "887536    7067291586  2183597619  1982-03-21         2         10          10\n",
       "970482    6511318302  2183597619  2013-08-29         1         10          10\n",
       "1024839   1743085542  2183597619  2010-06-02         1         10          10\n",
       "1032876  13257415539  2183597619         NaN         2         11          10\n",
       "1049119   7782135975  2183597619  2011-09-20         2         10          10\n",
       "1246040   4542792354  2183597619  1988-10-06         1         10          10\n",
       "1288334   2183597619  2183597619  1954-08-24         1         10          10\n",
       "1291842   2689470543  2183597619  1998-10-21         1         10          10\n",
       "1480975   9451752489  2183597619  2015-09-26         1         10          10"
      ]
     },
     "execution_count": 39,
     "metadata": {},
     "output_type": "execute_result"
    }
   ],
   "source": [
    "df.query('ParentID == \"2183597619\"')"
   ]
  },
  {
   "cell_type": "markdown",
   "metadata": {},
   "source": [
    "#### Extracting those who are 'سرپرست' of themselves as well"
   ]
  },
  {
   "cell_type": "code",
   "execution_count": 45,
   "metadata": {},
   "outputs": [
    {
     "data": {
      "text/html": [
       "<div>\n",
       "<style scoped>\n",
       "    .dataframe tbody tr th:only-of-type {\n",
       "        vertical-align: middle;\n",
       "    }\n",
       "\n",
       "    .dataframe tbody tr th {\n",
       "        vertical-align: top;\n",
       "    }\n",
       "\n",
       "    .dataframe thead th {\n",
       "        text-align: right;\n",
       "    }\n",
       "</style>\n",
       "<table border=\"1\" class=\"dataframe\">\n",
       "  <thead>\n",
       "    <tr style=\"text-align: right;\">\n",
       "      <th></th>\n",
       "      <th>ID</th>\n",
       "      <th>ParentID</th>\n",
       "      <th>BirthDate</th>\n",
       "      <th>GenderId</th>\n",
       "      <th>ID_length</th>\n",
       "      <th>PID_length</th>\n",
       "    </tr>\n",
       "  </thead>\n",
       "  <tbody>\n",
       "    <tr>\n",
       "      <th>1</th>\n",
       "      <td>2633686968</td>\n",
       "      <td>2633686968</td>\n",
       "      <td>1995-02-05</td>\n",
       "      <td>1</td>\n",
       "      <td>10</td>\n",
       "      <td>10</td>\n",
       "    </tr>\n",
       "    <tr>\n",
       "      <th>3</th>\n",
       "      <td>70847160</td>\n",
       "      <td>70847160</td>\n",
       "      <td>1969-03-21</td>\n",
       "      <td>1</td>\n",
       "      <td>8</td>\n",
       "      <td>8</td>\n",
       "    </tr>\n",
       "    <tr>\n",
       "      <th>10</th>\n",
       "      <td>6236060907</td>\n",
       "      <td>6236060907</td>\n",
       "      <td>1969-09-24</td>\n",
       "      <td>2</td>\n",
       "      <td>10</td>\n",
       "      <td>10</td>\n",
       "    </tr>\n",
       "    <tr>\n",
       "      <th>11</th>\n",
       "      <td>5710446360</td>\n",
       "      <td>5710446360</td>\n",
       "      <td>1977-03-21</td>\n",
       "      <td>1</td>\n",
       "      <td>10</td>\n",
       "      <td>10</td>\n",
       "    </tr>\n",
       "    <tr>\n",
       "      <th>19</th>\n",
       "      <td>5494437573</td>\n",
       "      <td>5494437573</td>\n",
       "      <td>1985-06-18</td>\n",
       "      <td>1</td>\n",
       "      <td>10</td>\n",
       "      <td>10</td>\n",
       "    </tr>\n",
       "    <tr>\n",
       "      <th>22</th>\n",
       "      <td>7772969400</td>\n",
       "      <td>7772969400</td>\n",
       "      <td>1982-03-11</td>\n",
       "      <td>1</td>\n",
       "      <td>10</td>\n",
       "      <td>10</td>\n",
       "    </tr>\n",
       "    <tr>\n",
       "      <th>25</th>\n",
       "      <td>8784211317</td>\n",
       "      <td>8784211317</td>\n",
       "      <td>1982-12-22</td>\n",
       "      <td>1</td>\n",
       "      <td>10</td>\n",
       "      <td>10</td>\n",
       "    </tr>\n",
       "    <tr>\n",
       "      <th>34</th>\n",
       "      <td>3649260084</td>\n",
       "      <td>3649260084</td>\n",
       "      <td>1997-07-04</td>\n",
       "      <td>1</td>\n",
       "      <td>10</td>\n",
       "      <td>10</td>\n",
       "    </tr>\n",
       "    <tr>\n",
       "      <th>35</th>\n",
       "      <td>10128534159</td>\n",
       "      <td>10128534159</td>\n",
       "      <td>1967-06-22</td>\n",
       "      <td>1</td>\n",
       "      <td>11</td>\n",
       "      <td>11</td>\n",
       "    </tr>\n",
       "    <tr>\n",
       "      <th>40</th>\n",
       "      <td>8956218330</td>\n",
       "      <td>8956218330</td>\n",
       "      <td>1988-06-02</td>\n",
       "      <td>1</td>\n",
       "      <td>10</td>\n",
       "      <td>10</td>\n",
       "    </tr>\n",
       "    <tr>\n",
       "      <th>41</th>\n",
       "      <td>466532625</td>\n",
       "      <td>466532625</td>\n",
       "      <td>1955-09-25</td>\n",
       "      <td>2</td>\n",
       "      <td>9</td>\n",
       "      <td>9</td>\n",
       "    </tr>\n",
       "    <tr>\n",
       "      <th>42</th>\n",
       "      <td>7546409058</td>\n",
       "      <td>7546409058</td>\n",
       "      <td>1970-08-12</td>\n",
       "      <td>2</td>\n",
       "      <td>10</td>\n",
       "      <td>10</td>\n",
       "    </tr>\n",
       "    <tr>\n",
       "      <th>43</th>\n",
       "      <td>9010500198</td>\n",
       "      <td>9010500198</td>\n",
       "      <td>1989-07-16</td>\n",
       "      <td>1</td>\n",
       "      <td>10</td>\n",
       "      <td>10</td>\n",
       "    </tr>\n",
       "    <tr>\n",
       "      <th>45</th>\n",
       "      <td>28625319</td>\n",
       "      <td>28625319</td>\n",
       "      <td>1942-06-22</td>\n",
       "      <td>2</td>\n",
       "      <td>8</td>\n",
       "      <td>8</td>\n",
       "    </tr>\n",
       "    <tr>\n",
       "      <th>49</th>\n",
       "      <td>2992000851</td>\n",
       "      <td>2992000851</td>\n",
       "      <td>1996-01-07</td>\n",
       "      <td>1</td>\n",
       "      <td>10</td>\n",
       "      <td>10</td>\n",
       "    </tr>\n",
       "    <tr>\n",
       "      <th>57</th>\n",
       "      <td>2344064034</td>\n",
       "      <td>2344064034</td>\n",
       "      <td>1991-05-09</td>\n",
       "      <td>1</td>\n",
       "      <td>10</td>\n",
       "      <td>10</td>\n",
       "    </tr>\n",
       "    <tr>\n",
       "      <th>62</th>\n",
       "      <td>3610442268</td>\n",
       "      <td>3610442268</td>\n",
       "      <td>1990-02-20</td>\n",
       "      <td>1</td>\n",
       "      <td>10</td>\n",
       "      <td>10</td>\n",
       "    </tr>\n",
       "    <tr>\n",
       "      <th>67</th>\n",
       "      <td>3982028343</td>\n",
       "      <td>3982028343</td>\n",
       "      <td>1973-06-26</td>\n",
       "      <td>2</td>\n",
       "      <td>10</td>\n",
       "      <td>10</td>\n",
       "    </tr>\n",
       "    <tr>\n",
       "      <th>68</th>\n",
       "      <td>3962834931</td>\n",
       "      <td>3962834931</td>\n",
       "      <td>1981-06-01</td>\n",
       "      <td>1</td>\n",
       "      <td>10</td>\n",
       "      <td>10</td>\n",
       "    </tr>\n",
       "    <tr>\n",
       "      <th>70</th>\n",
       "      <td>10323997026</td>\n",
       "      <td>10323997026</td>\n",
       "      <td>1952-03-21</td>\n",
       "      <td>1</td>\n",
       "      <td>11</td>\n",
       "      <td>11</td>\n",
       "    </tr>\n",
       "  </tbody>\n",
       "</table>\n",
       "</div>"
      ],
      "text/plain": [
       "             ID     ParentID   BirthDate  GenderId  ID_length  PID_length\n",
       "1    2633686968   2633686968  1995-02-05         1         10          10\n",
       "3      70847160     70847160  1969-03-21         1          8           8\n",
       "10   6236060907   6236060907  1969-09-24         2         10          10\n",
       "11   5710446360   5710446360  1977-03-21         1         10          10\n",
       "19   5494437573   5494437573  1985-06-18         1         10          10\n",
       "22   7772969400   7772969400  1982-03-11         1         10          10\n",
       "25   8784211317   8784211317  1982-12-22         1         10          10\n",
       "34   3649260084   3649260084  1997-07-04         1         10          10\n",
       "35  10128534159  10128534159  1967-06-22         1         11          11\n",
       "40   8956218330   8956218330  1988-06-02         1         10          10\n",
       "41    466532625    466532625  1955-09-25         2          9           9\n",
       "42   7546409058   7546409058  1970-08-12         2         10          10\n",
       "43   9010500198   9010500198  1989-07-16         1         10          10\n",
       "45     28625319     28625319  1942-06-22         2          8           8\n",
       "49   2992000851   2992000851  1996-01-07         1         10          10\n",
       "57   2344064034   2344064034  1991-05-09         1         10          10\n",
       "62   3610442268   3610442268  1990-02-20         1         10          10\n",
       "67   3982028343   3982028343  1973-06-26         2         10          10\n",
       "68   3962834931   3962834931  1981-06-01         1         10          10\n",
       "70  10323997026  10323997026  1952-03-21         1         11          11"
      ]
     },
     "execution_count": 45,
     "metadata": {},
     "output_type": "execute_result"
    }
   ],
   "source": [
    "df_temp = df[(df.ID == df.ParentID )] # Parent\n",
    "df_temp.head(20)"
   ]
  },
  {
   "cell_type": "code",
   "execution_count": 43,
   "metadata": {},
   "outputs": [
    {
     "data": {
      "text/plain": [
       "(500000, 6)"
      ]
     },
     "execution_count": 43,
     "metadata": {},
     "output_type": "execute_result"
    }
   ],
   "source": [
    "df_temp.shape"
   ]
  },
  {
   "cell_type": "code",
   "execution_count": 46,
   "metadata": {},
   "outputs": [
    {
     "data": {
      "text/html": [
       "<div>\n",
       "<style scoped>\n",
       "    .dataframe tbody tr th:only-of-type {\n",
       "        vertical-align: middle;\n",
       "    }\n",
       "\n",
       "    .dataframe tbody tr th {\n",
       "        vertical-align: top;\n",
       "    }\n",
       "\n",
       "    .dataframe thead th {\n",
       "        text-align: right;\n",
       "    }\n",
       "</style>\n",
       "<table border=\"1\" class=\"dataframe\">\n",
       "  <thead>\n",
       "    <tr style=\"text-align: right;\">\n",
       "      <th></th>\n",
       "      <th>ID</th>\n",
       "      <th>ParentID</th>\n",
       "      <th>BirthDate</th>\n",
       "      <th>GenderId</th>\n",
       "      <th>ID_length</th>\n",
       "      <th>PID_length</th>\n",
       "    </tr>\n",
       "  </thead>\n",
       "  <tbody>\n",
       "    <tr>\n",
       "      <th>16410</th>\n",
       "      <td>9131954334</td>\n",
       "      <td>9690770763</td>\n",
       "      <td>2005-03-23</td>\n",
       "      <td>1</td>\n",
       "      <td>10</td>\n",
       "      <td>10</td>\n",
       "    </tr>\n",
       "    <tr>\n",
       "      <th>16447</th>\n",
       "      <td>7548644952</td>\n",
       "      <td>9690770763</td>\n",
       "      <td>1999-06-23</td>\n",
       "      <td>2</td>\n",
       "      <td>10</td>\n",
       "      <td>10</td>\n",
       "    </tr>\n",
       "    <tr>\n",
       "      <th>30321</th>\n",
       "      <td>7135657569</td>\n",
       "      <td>9690770763</td>\n",
       "      <td>2011-05-07</td>\n",
       "      <td>2</td>\n",
       "      <td>10</td>\n",
       "      <td>10</td>\n",
       "    </tr>\n",
       "    <tr>\n",
       "      <th>39847</th>\n",
       "      <td>9482258457</td>\n",
       "      <td>8323722933</td>\n",
       "      <td>2011-04-19</td>\n",
       "      <td>2</td>\n",
       "      <td>10</td>\n",
       "      <td>10</td>\n",
       "    </tr>\n",
       "    <tr>\n",
       "      <th>42599</th>\n",
       "      <td>950827536</td>\n",
       "      <td>8323722933</td>\n",
       "      <td>2006-05-14</td>\n",
       "      <td>2</td>\n",
       "      <td>9</td>\n",
       "      <td>10</td>\n",
       "    </tr>\n",
       "    <tr>\n",
       "      <th>66317</th>\n",
       "      <td>7804182372</td>\n",
       "      <td>8323722933</td>\n",
       "      <td>2014-11-08</td>\n",
       "      <td>1</td>\n",
       "      <td>10</td>\n",
       "      <td>10</td>\n",
       "    </tr>\n",
       "    <tr>\n",
       "      <th>73817</th>\n",
       "      <td>8558163639</td>\n",
       "      <td>9690770763</td>\n",
       "      <td>2013-08-30</td>\n",
       "      <td>1</td>\n",
       "      <td>10</td>\n",
       "      <td>10</td>\n",
       "    </tr>\n",
       "    <tr>\n",
       "      <th>74295</th>\n",
       "      <td>1969120797</td>\n",
       "      <td>8323722933</td>\n",
       "      <td>2014-11-08</td>\n",
       "      <td>1</td>\n",
       "      <td>10</td>\n",
       "      <td>10</td>\n",
       "    </tr>\n",
       "    <tr>\n",
       "      <th>318843</th>\n",
       "      <td>3279279282</td>\n",
       "      <td>8323722933</td>\n",
       "      <td>1980-05-20</td>\n",
       "      <td>2</td>\n",
       "      <td>10</td>\n",
       "      <td>10</td>\n",
       "    </tr>\n",
       "    <tr>\n",
       "      <th>327629</th>\n",
       "      <td>9510717705</td>\n",
       "      <td>8323722933</td>\n",
       "      <td>1995-10-26</td>\n",
       "      <td>2</td>\n",
       "      <td>10</td>\n",
       "      <td>10</td>\n",
       "    </tr>\n",
       "    <tr>\n",
       "      <th>366196</th>\n",
       "      <td>9074667207</td>\n",
       "      <td>9690770763</td>\n",
       "      <td>2009-05-16</td>\n",
       "      <td>1</td>\n",
       "      <td>10</td>\n",
       "      <td>10</td>\n",
       "    </tr>\n",
       "    <tr>\n",
       "      <th>388908</th>\n",
       "      <td>9692041107</td>\n",
       "      <td>9690770763</td>\n",
       "      <td>2017-02-15</td>\n",
       "      <td>1</td>\n",
       "      <td>10</td>\n",
       "      <td>10</td>\n",
       "    </tr>\n",
       "    <tr>\n",
       "      <th>394526</th>\n",
       "      <td>9690941610</td>\n",
       "      <td>9690770763</td>\n",
       "      <td>2015-11-17</td>\n",
       "      <td>1</td>\n",
       "      <td>10</td>\n",
       "      <td>10</td>\n",
       "    </tr>\n",
       "    <tr>\n",
       "      <th>415670</th>\n",
       "      <td>7964202912</td>\n",
       "      <td>8323722933</td>\n",
       "      <td>2003-07-13</td>\n",
       "      <td>1</td>\n",
       "      <td>10</td>\n",
       "      <td>10</td>\n",
       "    </tr>\n",
       "    <tr>\n",
       "      <th>460002</th>\n",
       "      <td>8323722933</td>\n",
       "      <td>8323722933</td>\n",
       "      <td>1975-06-11</td>\n",
       "      <td>1</td>\n",
       "      <td>10</td>\n",
       "      <td>10</td>\n",
       "    </tr>\n",
       "    <tr>\n",
       "      <th>505033</th>\n",
       "      <td>6757991358</td>\n",
       "      <td>9690770763</td>\n",
       "      <td>2001-09-03</td>\n",
       "      <td>1</td>\n",
       "      <td>10</td>\n",
       "      <td>10</td>\n",
       "    </tr>\n",
       "    <tr>\n",
       "      <th>630656</th>\n",
       "      <td>2319041406</td>\n",
       "      <td>9690770763</td>\n",
       "      <td>1996-07-22</td>\n",
       "      <td>1</td>\n",
       "      <td>10</td>\n",
       "      <td>10</td>\n",
       "    </tr>\n",
       "    <tr>\n",
       "      <th>756699</th>\n",
       "      <td>5733280695</td>\n",
       "      <td>8323722933</td>\n",
       "      <td>2004-01-01</td>\n",
       "      <td>2</td>\n",
       "      <td>10</td>\n",
       "      <td>10</td>\n",
       "    </tr>\n",
       "    <tr>\n",
       "      <th>791848</th>\n",
       "      <td>3713936067</td>\n",
       "      <td>8323722933</td>\n",
       "      <td>2000-04-13</td>\n",
       "      <td>2</td>\n",
       "      <td>10</td>\n",
       "      <td>10</td>\n",
       "    </tr>\n",
       "    <tr>\n",
       "      <th>916487</th>\n",
       "      <td>2921508321</td>\n",
       "      <td>8323722933</td>\n",
       "      <td>2001-10-26</td>\n",
       "      <td>2</td>\n",
       "      <td>10</td>\n",
       "      <td>10</td>\n",
       "    </tr>\n",
       "    <tr>\n",
       "      <th>990267</th>\n",
       "      <td>6706975140</td>\n",
       "      <td>9690770763</td>\n",
       "      <td>2007-01-27</td>\n",
       "      <td>1</td>\n",
       "      <td>10</td>\n",
       "      <td>10</td>\n",
       "    </tr>\n",
       "    <tr>\n",
       "      <th>1000624</th>\n",
       "      <td>355633119</td>\n",
       "      <td>8323722933</td>\n",
       "      <td>2011-08-26</td>\n",
       "      <td>2</td>\n",
       "      <td>9</td>\n",
       "      <td>10</td>\n",
       "    </tr>\n",
       "    <tr>\n",
       "      <th>1170242</th>\n",
       "      <td>3622254327</td>\n",
       "      <td>9690770763</td>\n",
       "      <td>1975-12-22</td>\n",
       "      <td>2</td>\n",
       "      <td>10</td>\n",
       "      <td>10</td>\n",
       "    </tr>\n",
       "    <tr>\n",
       "      <th>1391683</th>\n",
       "      <td>9690770763</td>\n",
       "      <td>9690770763</td>\n",
       "      <td>1971-03-22</td>\n",
       "      <td>1</td>\n",
       "      <td>10</td>\n",
       "      <td>10</td>\n",
       "    </tr>\n",
       "  </tbody>\n",
       "</table>\n",
       "</div>"
      ],
      "text/plain": [
       "                 ID    ParentID   BirthDate  GenderId  ID_length  PID_length\n",
       "16410    9131954334  9690770763  2005-03-23         1         10          10\n",
       "16447    7548644952  9690770763  1999-06-23         2         10          10\n",
       "30321    7135657569  9690770763  2011-05-07         2         10          10\n",
       "39847    9482258457  8323722933  2011-04-19         2         10          10\n",
       "42599     950827536  8323722933  2006-05-14         2          9          10\n",
       "66317    7804182372  8323722933  2014-11-08         1         10          10\n",
       "73817    8558163639  9690770763  2013-08-30         1         10          10\n",
       "74295    1969120797  8323722933  2014-11-08         1         10          10\n",
       "318843   3279279282  8323722933  1980-05-20         2         10          10\n",
       "327629   9510717705  8323722933  1995-10-26         2         10          10\n",
       "366196   9074667207  9690770763  2009-05-16         1         10          10\n",
       "388908   9692041107  9690770763  2017-02-15         1         10          10\n",
       "394526   9690941610  9690770763  2015-11-17         1         10          10\n",
       "415670   7964202912  8323722933  2003-07-13         1         10          10\n",
       "460002   8323722933  8323722933  1975-06-11         1         10          10\n",
       "505033   6757991358  9690770763  2001-09-03         1         10          10\n",
       "630656   2319041406  9690770763  1996-07-22         1         10          10\n",
       "756699   5733280695  8323722933  2004-01-01         2         10          10\n",
       "791848   3713936067  8323722933  2000-04-13         2         10          10\n",
       "916487   2921508321  8323722933  2001-10-26         2         10          10\n",
       "990267   6706975140  9690770763  2007-01-27         1         10          10\n",
       "1000624   355633119  8323722933  2011-08-26         2          9          10\n",
       "1170242  3622254327  9690770763  1975-12-22         2         10          10\n",
       "1391683  9690770763  9690770763  1971-03-22         1         10          10"
      ]
     },
     "execution_count": 46,
     "metadata": {},
     "output_type": "execute_result"
    }
   ],
   "source": [
    "temp_df = df[(df.ParentID == '8323722933') | (df.ParentID =='9690770763')]\n",
    "temp_df"
   ]
  },
  {
   "cell_type": "code",
   "execution_count": 47,
   "metadata": {},
   "outputs": [
    {
     "data": {
      "text/plain": [
       "2921508321    1\n",
       "9690770763    1\n",
       "5733280695    1\n",
       "6757991358    1\n",
       "2319041406    1\n",
       "950827536     1\n",
       "9482258457    1\n",
       "9690941610    1\n",
       "6706975140    1\n",
       "3713936067    1\n",
       "7964202912    1\n",
       "8323722933    1\n",
       "3622254327    1\n",
       "8558163639    1\n",
       "355633119     1\n",
       "1969120797    1\n",
       "7804182372    1\n",
       "7548644952    1\n",
       "7135657569    1\n",
       "9510717705    1\n",
       "9692041107    1\n",
       "3279279282    1\n",
       "9131954334    1\n",
       "9074667207    1\n",
       "Name: ID, dtype: int64"
      ]
     },
     "execution_count": 47,
     "metadata": {},
     "output_type": "execute_result"
    }
   ],
   "source": [
    "temp_df.ID.value_counts()"
   ]
  },
  {
   "cell_type": "markdown",
   "metadata": {},
   "source": [
    "*Exersice*\n",
    "\n",
    "Look for algorithm to verfiy `National ID` and apply it as next integrity check to data set?\n",
    "\n",
    "- How many records out of 1_000_000 pass this?\n",
    "\n",
    "http://www.aliarash.com/article/codemeli/codemeli.htm \n",
    "\n"
   ]
  },
  {
   "cell_type": "markdown",
   "metadata": {},
   "source": [
    "# Investigate number of childern, order birth and age\n",
    "## How to do?\n",
    "   - Any recommendation\n",
    "   - Use rank and partition to label child rank\n",
    "   - Any other method?\n",
    "   \n",
    "   \n",
    "## Data issue identification"
   ]
  },
  {
   "cell_type": "code",
   "execution_count": 48,
   "metadata": {},
   "outputs": [],
   "source": [
    "df = df.assign(child_rank = df.groupby('ParentID').cumcount() + 1)\n",
    "#df['row_num'] = df.groupby('city').cumcount() + 1"
   ]
  },
  {
   "cell_type": "markdown",
   "metadata": {},
   "source": [
    " - What is cumcount?\n",
    "    - check pandas website\n",
    "    - Let's check \n",
    "        - trick on investigate of investigate to see what exist ;-)"
   ]
  },
  {
   "cell_type": "code",
   "execution_count": 52,
   "metadata": {},
   "outputs": [
    {
     "data": {
      "text/html": [
       "<div>\n",
       "<style scoped>\n",
       "    .dataframe tbody tr th:only-of-type {\n",
       "        vertical-align: middle;\n",
       "    }\n",
       "\n",
       "    .dataframe tbody tr th {\n",
       "        vertical-align: top;\n",
       "    }\n",
       "\n",
       "    .dataframe thead th {\n",
       "        text-align: right;\n",
       "    }\n",
       "</style>\n",
       "<table border=\"1\" class=\"dataframe\">\n",
       "  <thead>\n",
       "    <tr style=\"text-align: right;\">\n",
       "      <th></th>\n",
       "      <th>ID</th>\n",
       "      <th>ParentID</th>\n",
       "      <th>BirthDate</th>\n",
       "      <th>GenderId</th>\n",
       "      <th>child_rank</th>\n",
       "    </tr>\n",
       "  </thead>\n",
       "  <tbody>\n",
       "    <tr>\n",
       "      <th>0</th>\n",
       "      <td>385996899</td>\n",
       "      <td>391863876</td>\n",
       "      <td>1978-03-22</td>\n",
       "      <td>2</td>\n",
       "      <td>1</td>\n",
       "    </tr>\n",
       "    <tr>\n",
       "      <th>1</th>\n",
       "      <td>2633686968</td>\n",
       "      <td>2633686968</td>\n",
       "      <td>1995-02-05</td>\n",
       "      <td>1</td>\n",
       "      <td>1</td>\n",
       "    </tr>\n",
       "    <tr>\n",
       "      <th>2</th>\n",
       "      <td>312125928</td>\n",
       "      <td>1981002597</td>\n",
       "      <td>1970-05-13</td>\n",
       "      <td>2</td>\n",
       "      <td>1</td>\n",
       "    </tr>\n",
       "    <tr>\n",
       "      <th>3</th>\n",
       "      <td>70847160</td>\n",
       "      <td>70847160</td>\n",
       "      <td>1969-03-21</td>\n",
       "      <td>1</td>\n",
       "      <td>1</td>\n",
       "    </tr>\n",
       "    <tr>\n",
       "      <th>4</th>\n",
       "      <td>663191175</td>\n",
       "      <td>9230116821</td>\n",
       "      <td>2004-06-19</td>\n",
       "      <td>2</td>\n",
       "      <td>1</td>\n",
       "    </tr>\n",
       "  </tbody>\n",
       "</table>\n",
       "</div>"
      ],
      "text/plain": [
       "           ID    ParentID   BirthDate  GenderId  child_rank\n",
       "0   385996899   391863876  1978-03-22         2           1\n",
       "1  2633686968  2633686968  1995-02-05         1           1\n",
       "2   312125928  1981002597  1970-05-13         2           1\n",
       "3    70847160    70847160  1969-03-21         1           1\n",
       "4   663191175  9230116821  2004-06-19         2           1"
      ]
     },
     "execution_count": 52,
     "metadata": {},
     "output_type": "execute_result"
    }
   ],
   "source": [
    "df.head()"
   ]
  },
  {
   "cell_type": "code",
   "execution_count": 54,
   "metadata": {},
   "outputs": [
    {
     "data": {
      "text/html": [
       "<div>\n",
       "<style scoped>\n",
       "    .dataframe tbody tr th:only-of-type {\n",
       "        vertical-align: middle;\n",
       "    }\n",
       "\n",
       "    .dataframe tbody tr th {\n",
       "        vertical-align: top;\n",
       "    }\n",
       "\n",
       "    .dataframe thead th {\n",
       "        text-align: right;\n",
       "    }\n",
       "</style>\n",
       "<table border=\"1\" class=\"dataframe\">\n",
       "  <thead>\n",
       "    <tr style=\"text-align: right;\">\n",
       "      <th></th>\n",
       "      <th>ID</th>\n",
       "      <th>ParentID</th>\n",
       "      <th>BirthDate</th>\n",
       "      <th>GenderId</th>\n",
       "      <th>child_rank</th>\n",
       "    </tr>\n",
       "  </thead>\n",
       "  <tbody>\n",
       "    <tr>\n",
       "      <th>39847</th>\n",
       "      <td>9482258457</td>\n",
       "      <td>8323722933</td>\n",
       "      <td>2011-04-19</td>\n",
       "      <td>2</td>\n",
       "      <td>1</td>\n",
       "    </tr>\n",
       "    <tr>\n",
       "      <th>42599</th>\n",
       "      <td>950827536</td>\n",
       "      <td>8323722933</td>\n",
       "      <td>2006-05-14</td>\n",
       "      <td>2</td>\n",
       "      <td>2</td>\n",
       "    </tr>\n",
       "    <tr>\n",
       "      <th>66317</th>\n",
       "      <td>7804182372</td>\n",
       "      <td>8323722933</td>\n",
       "      <td>2014-11-08</td>\n",
       "      <td>1</td>\n",
       "      <td>3</td>\n",
       "    </tr>\n",
       "    <tr>\n",
       "      <th>74295</th>\n",
       "      <td>1969120797</td>\n",
       "      <td>8323722933</td>\n",
       "      <td>2014-11-08</td>\n",
       "      <td>1</td>\n",
       "      <td>4</td>\n",
       "    </tr>\n",
       "    <tr>\n",
       "      <th>318843</th>\n",
       "      <td>3279279282</td>\n",
       "      <td>8323722933</td>\n",
       "      <td>1980-05-20</td>\n",
       "      <td>2</td>\n",
       "      <td>5</td>\n",
       "    </tr>\n",
       "    <tr>\n",
       "      <th>327629</th>\n",
       "      <td>9510717705</td>\n",
       "      <td>8323722933</td>\n",
       "      <td>1995-10-26</td>\n",
       "      <td>2</td>\n",
       "      <td>6</td>\n",
       "    </tr>\n",
       "    <tr>\n",
       "      <th>415670</th>\n",
       "      <td>7964202912</td>\n",
       "      <td>8323722933</td>\n",
       "      <td>2003-07-13</td>\n",
       "      <td>1</td>\n",
       "      <td>7</td>\n",
       "    </tr>\n",
       "    <tr>\n",
       "      <th>460002</th>\n",
       "      <td>8323722933</td>\n",
       "      <td>8323722933</td>\n",
       "      <td>1975-06-11</td>\n",
       "      <td>1</td>\n",
       "      <td>8</td>\n",
       "    </tr>\n",
       "    <tr>\n",
       "      <th>756699</th>\n",
       "      <td>5733280695</td>\n",
       "      <td>8323722933</td>\n",
       "      <td>2004-01-01</td>\n",
       "      <td>2</td>\n",
       "      <td>9</td>\n",
       "    </tr>\n",
       "    <tr>\n",
       "      <th>791848</th>\n",
       "      <td>3713936067</td>\n",
       "      <td>8323722933</td>\n",
       "      <td>2000-04-13</td>\n",
       "      <td>2</td>\n",
       "      <td>10</td>\n",
       "    </tr>\n",
       "    <tr>\n",
       "      <th>916487</th>\n",
       "      <td>2921508321</td>\n",
       "      <td>8323722933</td>\n",
       "      <td>2001-10-26</td>\n",
       "      <td>2</td>\n",
       "      <td>11</td>\n",
       "    </tr>\n",
       "    <tr>\n",
       "      <th>1000624</th>\n",
       "      <td>355633119</td>\n",
       "      <td>8323722933</td>\n",
       "      <td>2011-08-26</td>\n",
       "      <td>2</td>\n",
       "      <td>12</td>\n",
       "    </tr>\n",
       "  </tbody>\n",
       "</table>\n",
       "</div>"
      ],
      "text/plain": [
       "                 ID    ParentID   BirthDate  GenderId  child_rank\n",
       "39847    9482258457  8323722933  2011-04-19         2           1\n",
       "42599     950827536  8323722933  2006-05-14         2           2\n",
       "66317    7804182372  8323722933  2014-11-08         1           3\n",
       "74295    1969120797  8323722933  2014-11-08         1           4\n",
       "318843   3279279282  8323722933  1980-05-20         2           5\n",
       "327629   9510717705  8323722933  1995-10-26         2           6\n",
       "415670   7964202912  8323722933  2003-07-13         1           7\n",
       "460002   8323722933  8323722933  1975-06-11         1           8\n",
       "756699   5733280695  8323722933  2004-01-01         2           9\n",
       "791848   3713936067  8323722933  2000-04-13         2          10\n",
       "916487   2921508321  8323722933  2001-10-26         2          11\n",
       "1000624   355633119  8323722933  2011-08-26         2          12"
      ]
     },
     "execution_count": 54,
     "metadata": {},
     "output_type": "execute_result"
    }
   ],
   "source": [
    "df[(df.ParentID == '8323722933') ]"
   ]
  },
  {
   "cell_type": "code",
   "execution_count": 55,
   "metadata": {},
   "outputs": [],
   "source": [
    "df = (df.assign(family_rank = df.sort_values(['BirthDate'], ascending=True)\n",
    ".groupby(['ParentID'])\n",
    ".cumcount()+1)\n",
    "#.query('r < 3')\n",
    ".sort_values(['ParentID', 'family_rank']))"
   ]
  },
  {
   "cell_type": "code",
   "execution_count": 58,
   "metadata": {},
   "outputs": [
    {
     "data": {
      "text/html": [
       "<div>\n",
       "<style scoped>\n",
       "    .dataframe tbody tr th:only-of-type {\n",
       "        vertical-align: middle;\n",
       "    }\n",
       "\n",
       "    .dataframe tbody tr th {\n",
       "        vertical-align: top;\n",
       "    }\n",
       "\n",
       "    .dataframe thead th {\n",
       "        text-align: right;\n",
       "    }\n",
       "</style>\n",
       "<table border=\"1\" class=\"dataframe\">\n",
       "  <thead>\n",
       "    <tr style=\"text-align: right;\">\n",
       "      <th></th>\n",
       "      <th>ID</th>\n",
       "      <th>ParentID</th>\n",
       "      <th>BirthDate</th>\n",
       "      <th>GenderId</th>\n",
       "      <th>child_rank</th>\n",
       "      <th>family_rank</th>\n",
       "    </tr>\n",
       "  </thead>\n",
       "  <tbody>\n",
       "    <tr>\n",
       "      <th>541325</th>\n",
       "      <td>12349732242</td>\n",
       "      <td>10311409698</td>\n",
       "      <td>2017-10-19</td>\n",
       "      <td>1</td>\n",
       "      <td>4</td>\n",
       "      <td>17</td>\n",
       "    </tr>\n",
       "    <tr>\n",
       "      <th>1032876</th>\n",
       "      <td>13257415539</td>\n",
       "      <td>2183597619</td>\n",
       "      <td>NaN</td>\n",
       "      <td>2</td>\n",
       "      <td>12</td>\n",
       "      <td>17</td>\n",
       "    </tr>\n",
       "  </tbody>\n",
       "</table>\n",
       "</div>"
      ],
      "text/plain": [
       "                  ID     ParentID   BirthDate  GenderId  child_rank  \\\n",
       "541325   12349732242  10311409698  2017-10-19         1           4   \n",
       "1032876  13257415539   2183597619         NaN         2          12   \n",
       "\n",
       "         family_rank  \n",
       "541325            17  \n",
       "1032876           17  "
      ]
     },
     "execution_count": 58,
     "metadata": {},
     "output_type": "execute_result"
    }
   ],
   "source": [
    "df[df.family_rank>16].head()"
   ]
  },
  {
   "cell_type": "markdown",
   "metadata": {},
   "source": [
    "Explain *assign*, SQL logic, ..."
   ]
  },
  {
   "cell_type": "code",
   "execution_count": 60,
   "metadata": {},
   "outputs": [
    {
     "data": {
      "text/html": [
       "<div>\n",
       "<style scoped>\n",
       "    .dataframe tbody tr th:only-of-type {\n",
       "        vertical-align: middle;\n",
       "    }\n",
       "\n",
       "    .dataframe tbody tr th {\n",
       "        vertical-align: top;\n",
       "    }\n",
       "\n",
       "    .dataframe thead th {\n",
       "        text-align: right;\n",
       "    }\n",
       "</style>\n",
       "<table border=\"1\" class=\"dataframe\">\n",
       "  <thead>\n",
       "    <tr style=\"text-align: right;\">\n",
       "      <th></th>\n",
       "      <th>ID</th>\n",
       "      <th>ParentID</th>\n",
       "      <th>BirthDate</th>\n",
       "      <th>GenderId</th>\n",
       "      <th>child_rank</th>\n",
       "      <th>family_rank</th>\n",
       "    </tr>\n",
       "  </thead>\n",
       "  <tbody>\n",
       "    <tr>\n",
       "      <th>460002</th>\n",
       "      <td>8323722933</td>\n",
       "      <td>8323722933</td>\n",
       "      <td>1975-06-11</td>\n",
       "      <td>1</td>\n",
       "      <td>8</td>\n",
       "      <td>1</td>\n",
       "    </tr>\n",
       "    <tr>\n",
       "      <th>318843</th>\n",
       "      <td>3279279282</td>\n",
       "      <td>8323722933</td>\n",
       "      <td>1980-05-20</td>\n",
       "      <td>2</td>\n",
       "      <td>5</td>\n",
       "      <td>2</td>\n",
       "    </tr>\n",
       "    <tr>\n",
       "      <th>327629</th>\n",
       "      <td>9510717705</td>\n",
       "      <td>8323722933</td>\n",
       "      <td>1995-10-26</td>\n",
       "      <td>2</td>\n",
       "      <td>6</td>\n",
       "      <td>3</td>\n",
       "    </tr>\n",
       "    <tr>\n",
       "      <th>791848</th>\n",
       "      <td>3713936067</td>\n",
       "      <td>8323722933</td>\n",
       "      <td>2000-04-13</td>\n",
       "      <td>2</td>\n",
       "      <td>10</td>\n",
       "      <td>4</td>\n",
       "    </tr>\n",
       "    <tr>\n",
       "      <th>916487</th>\n",
       "      <td>2921508321</td>\n",
       "      <td>8323722933</td>\n",
       "      <td>2001-10-26</td>\n",
       "      <td>2</td>\n",
       "      <td>11</td>\n",
       "      <td>5</td>\n",
       "    </tr>\n",
       "    <tr>\n",
       "      <th>415670</th>\n",
       "      <td>7964202912</td>\n",
       "      <td>8323722933</td>\n",
       "      <td>2003-07-13</td>\n",
       "      <td>1</td>\n",
       "      <td>7</td>\n",
       "      <td>6</td>\n",
       "    </tr>\n",
       "    <tr>\n",
       "      <th>756699</th>\n",
       "      <td>5733280695</td>\n",
       "      <td>8323722933</td>\n",
       "      <td>2004-01-01</td>\n",
       "      <td>2</td>\n",
       "      <td>9</td>\n",
       "      <td>7</td>\n",
       "    </tr>\n",
       "    <tr>\n",
       "      <th>42599</th>\n",
       "      <td>950827536</td>\n",
       "      <td>8323722933</td>\n",
       "      <td>2006-05-14</td>\n",
       "      <td>2</td>\n",
       "      <td>2</td>\n",
       "      <td>8</td>\n",
       "    </tr>\n",
       "    <tr>\n",
       "      <th>39847</th>\n",
       "      <td>9482258457</td>\n",
       "      <td>8323722933</td>\n",
       "      <td>2011-04-19</td>\n",
       "      <td>2</td>\n",
       "      <td>1</td>\n",
       "      <td>9</td>\n",
       "    </tr>\n",
       "    <tr>\n",
       "      <th>1000624</th>\n",
       "      <td>355633119</td>\n",
       "      <td>8323722933</td>\n",
       "      <td>2011-08-26</td>\n",
       "      <td>2</td>\n",
       "      <td>12</td>\n",
       "      <td>10</td>\n",
       "    </tr>\n",
       "    <tr>\n",
       "      <th>66317</th>\n",
       "      <td>7804182372</td>\n",
       "      <td>8323722933</td>\n",
       "      <td>2014-11-08</td>\n",
       "      <td>1</td>\n",
       "      <td>3</td>\n",
       "      <td>11</td>\n",
       "    </tr>\n",
       "    <tr>\n",
       "      <th>74295</th>\n",
       "      <td>1969120797</td>\n",
       "      <td>8323722933</td>\n",
       "      <td>2014-11-08</td>\n",
       "      <td>1</td>\n",
       "      <td>4</td>\n",
       "      <td>12</td>\n",
       "    </tr>\n",
       "  </tbody>\n",
       "</table>\n",
       "</div>"
      ],
      "text/plain": [
       "                 ID    ParentID   BirthDate  GenderId  child_rank  family_rank\n",
       "460002   8323722933  8323722933  1975-06-11         1           8            1\n",
       "318843   3279279282  8323722933  1980-05-20         2           5            2\n",
       "327629   9510717705  8323722933  1995-10-26         2           6            3\n",
       "791848   3713936067  8323722933  2000-04-13         2          10            4\n",
       "916487   2921508321  8323722933  2001-10-26         2          11            5\n",
       "415670   7964202912  8323722933  2003-07-13         1           7            6\n",
       "756699   5733280695  8323722933  2004-01-01         2           9            7\n",
       "42599     950827536  8323722933  2006-05-14         2           2            8\n",
       "39847    9482258457  8323722933  2011-04-19         2           1            9\n",
       "1000624   355633119  8323722933  2011-08-26         2          12           10\n",
       "66317    7804182372  8323722933  2014-11-08         1           3           11\n",
       "74295    1969120797  8323722933  2014-11-08         1           4           12"
      ]
     },
     "execution_count": 60,
     "metadata": {},
     "output_type": "execute_result"
    }
   ],
   "source": [
    "df[(df.ParentID == '8323722933')]  # '816722293999')] 8323722933"
   ]
  },
  {
   "cell_type": "markdown",
   "metadata": {},
   "source": [
    "Is there any change?\n",
    "\n",
    "Why do you think ranking does not work?\n",
    "\n",
    "How to fix?\n",
    "\n",
    "    - Fix date format "
   ]
  },
  {
   "cell_type": "code",
   "execution_count": 61,
   "metadata": {},
   "outputs": [
    {
     "data": {
      "text/plain": [
       "ID             object\n",
       "ParentID       object\n",
       "BirthDate      object\n",
       "GenderId        int64\n",
       "child_rank      int64\n",
       "family_rank     int64\n",
       "dtype: object"
      ]
     },
     "execution_count": 61,
     "metadata": {},
     "output_type": "execute_result"
    }
   ],
   "source": [
    "df.dtypes"
   ]
  },
  {
   "cell_type": "code",
   "execution_count": 62,
   "metadata": {},
   "outputs": [
    {
     "data": {
      "text/html": [
       "<div>\n",
       "<style scoped>\n",
       "    .dataframe tbody tr th:only-of-type {\n",
       "        vertical-align: middle;\n",
       "    }\n",
       "\n",
       "    .dataframe tbody tr th {\n",
       "        vertical-align: top;\n",
       "    }\n",
       "\n",
       "    .dataframe thead th {\n",
       "        text-align: right;\n",
       "    }\n",
       "</style>\n",
       "<table border=\"1\" class=\"dataframe\">\n",
       "  <thead>\n",
       "    <tr style=\"text-align: right;\">\n",
       "      <th></th>\n",
       "      <th>ID</th>\n",
       "      <th>ParentID</th>\n",
       "      <th>BirthDate</th>\n",
       "      <th>GenderId</th>\n",
       "      <th>child_rank</th>\n",
       "      <th>family_rank</th>\n",
       "    </tr>\n",
       "  </thead>\n",
       "  <tbody>\n",
       "    <tr>\n",
       "      <th>1465912</th>\n",
       "      <td>3289974624</td>\n",
       "      <td>10000002972</td>\n",
       "      <td>1981-09-01</td>\n",
       "      <td>2</td>\n",
       "      <td>3</td>\n",
       "      <td>1</td>\n",
       "    </tr>\n",
       "    <tr>\n",
       "      <th>1065883</th>\n",
       "      <td>10000002972</td>\n",
       "      <td>10000002972</td>\n",
       "      <td>1982-07-21</td>\n",
       "      <td>1</td>\n",
       "      <td>2</td>\n",
       "      <td>2</td>\n",
       "    </tr>\n",
       "    <tr>\n",
       "      <th>746988</th>\n",
       "      <td>6593387838</td>\n",
       "      <td>10000002972</td>\n",
       "      <td>2012-06-28</td>\n",
       "      <td>1</td>\n",
       "      <td>1</td>\n",
       "      <td>3</td>\n",
       "    </tr>\n",
       "    <tr>\n",
       "      <th>265800</th>\n",
       "      <td>10000027326</td>\n",
       "      <td>10000027326</td>\n",
       "      <td>1955-10-24</td>\n",
       "      <td>1</td>\n",
       "      <td>1</td>\n",
       "      <td>1</td>\n",
       "    </tr>\n",
       "    <tr>\n",
       "      <th>501974</th>\n",
       "      <td>1148918544</td>\n",
       "      <td>10000027326</td>\n",
       "      <td>1959-09-03</td>\n",
       "      <td>2</td>\n",
       "      <td>3</td>\n",
       "      <td>2</td>\n",
       "    </tr>\n",
       "  </tbody>\n",
       "</table>\n",
       "</div>"
      ],
      "text/plain": [
       "                  ID     ParentID   BirthDate  GenderId  child_rank  \\\n",
       "1465912   3289974624  10000002972  1981-09-01         2           3   \n",
       "1065883  10000002972  10000002972  1982-07-21         1           2   \n",
       "746988    6593387838  10000002972  2012-06-28         1           1   \n",
       "265800   10000027326  10000027326  1955-10-24         1           1   \n",
       "501974    1148918544  10000027326  1959-09-03         2           3   \n",
       "\n",
       "         family_rank  \n",
       "1465912            1  \n",
       "1065883            2  \n",
       "746988             3  \n",
       "265800             1  \n",
       "501974             2  "
      ]
     },
     "execution_count": 62,
     "metadata": {},
     "output_type": "execute_result"
    }
   ],
   "source": [
    "df.head()"
   ]
  },
  {
   "cell_type": "code",
   "execution_count": 63,
   "metadata": {},
   "outputs": [
    {
     "ename": "OutOfBoundsDatetime",
     "evalue": "Out of bounds nanosecond timestamp: 3213-09-22 00:00:00",
     "output_type": "error",
     "traceback": [
      "\u001b[1;31m---------------------------------------------------------------------------\u001b[0m",
      "\u001b[1;31mTypeError\u001b[0m                                 Traceback (most recent call last)",
      "\u001b[1;32mD:\\ProgramData\\Anaconda3\\lib\\site-packages\\pandas\\core\\arrays\\datetimes.py\u001b[0m in \u001b[0;36mobjects_to_datetime64ns\u001b[1;34m(data, dayfirst, yearfirst, utc, errors, require_iso8601, allow_object)\u001b[0m\n\u001b[0;32m   2053\u001b[0m         \u001b[1;32mtry\u001b[0m\u001b[1;33m:\u001b[0m\u001b[1;33m\u001b[0m\u001b[1;33m\u001b[0m\u001b[0m\n\u001b[1;32m-> 2054\u001b[1;33m             \u001b[0mvalues\u001b[0m\u001b[1;33m,\u001b[0m \u001b[0mtz_parsed\u001b[0m \u001b[1;33m=\u001b[0m \u001b[0mconversion\u001b[0m\u001b[1;33m.\u001b[0m\u001b[0mdatetime_to_datetime64\u001b[0m\u001b[1;33m(\u001b[0m\u001b[0mdata\u001b[0m\u001b[1;33m)\u001b[0m\u001b[1;33m\u001b[0m\u001b[1;33m\u001b[0m\u001b[0m\n\u001b[0m\u001b[0;32m   2055\u001b[0m             \u001b[1;31m# If tzaware, these values represent unix timestamps, so we\u001b[0m\u001b[1;33m\u001b[0m\u001b[1;33m\u001b[0m\u001b[1;33m\u001b[0m\u001b[0m\n",
      "\u001b[1;32mpandas\\_libs\\tslibs\\conversion.pyx\u001b[0m in \u001b[0;36mpandas._libs.tslibs.conversion.datetime_to_datetime64\u001b[1;34m()\u001b[0m\n",
      "\u001b[1;31mTypeError\u001b[0m: Unrecognized value type: <class 'str'>",
      "\nDuring handling of the above exception, another exception occurred:\n",
      "\u001b[1;31mOutOfBoundsDatetime\u001b[0m                       Traceback (most recent call last)",
      "\u001b[1;32m<ipython-input-63-c8f462bb6248>\u001b[0m in \u001b[0;36m<module>\u001b[1;34m\u001b[0m\n\u001b[0;32m      1\u001b[0m \u001b[1;31m# check error result and explain reason\u001b[0m\u001b[1;33m\u001b[0m\u001b[1;33m\u001b[0m\u001b[1;33m\u001b[0m\u001b[0m\n\u001b[0;32m      2\u001b[0m \u001b[1;31m# ways to manage\u001b[0m\u001b[1;33m\u001b[0m\u001b[1;33m\u001b[0m\u001b[1;33m\u001b[0m\u001b[0m\n\u001b[1;32m----> 3\u001b[1;33m \u001b[0mdf\u001b[0m\u001b[1;33m.\u001b[0m\u001b[0mBirthDate\u001b[0m \u001b[1;33m=\u001b[0m \u001b[0mpd\u001b[0m\u001b[1;33m.\u001b[0m\u001b[0mto_datetime\u001b[0m\u001b[1;33m(\u001b[0m\u001b[0mdf\u001b[0m\u001b[1;33m.\u001b[0m\u001b[0mBirthDate\u001b[0m\u001b[1;33m,\u001b[0m \u001b[0mformat\u001b[0m\u001b[1;33m=\u001b[0m\u001b[1;34m'%Y-%m-%d'\u001b[0m\u001b[1;33m)\u001b[0m\u001b[1;33m\u001b[0m\u001b[1;33m\u001b[0m\u001b[0m\n\u001b[0m",
      "\u001b[1;32mD:\\ProgramData\\Anaconda3\\lib\\site-packages\\pandas\\core\\tools\\datetimes.py\u001b[0m in \u001b[0;36mto_datetime\u001b[1;34m(arg, errors, dayfirst, yearfirst, utc, format, exact, unit, infer_datetime_format, origin, cache)\u001b[0m\n\u001b[0;32m    801\u001b[0m             \u001b[0mresult\u001b[0m \u001b[1;33m=\u001b[0m \u001b[0marg\u001b[0m\u001b[1;33m.\u001b[0m\u001b[0mmap\u001b[0m\u001b[1;33m(\u001b[0m\u001b[0mcache_array\u001b[0m\u001b[1;33m)\u001b[0m\u001b[1;33m\u001b[0m\u001b[1;33m\u001b[0m\u001b[0m\n\u001b[0;32m    802\u001b[0m         \u001b[1;32melse\u001b[0m\u001b[1;33m:\u001b[0m\u001b[1;33m\u001b[0m\u001b[1;33m\u001b[0m\u001b[0m\n\u001b[1;32m--> 803\u001b[1;33m             \u001b[0mvalues\u001b[0m \u001b[1;33m=\u001b[0m \u001b[0mconvert_listlike\u001b[0m\u001b[1;33m(\u001b[0m\u001b[0marg\u001b[0m\u001b[1;33m.\u001b[0m\u001b[0m_values\u001b[0m\u001b[1;33m,\u001b[0m \u001b[0mformat\u001b[0m\u001b[1;33m)\u001b[0m\u001b[1;33m\u001b[0m\u001b[1;33m\u001b[0m\u001b[0m\n\u001b[0m\u001b[0;32m    804\u001b[0m             \u001b[0mresult\u001b[0m \u001b[1;33m=\u001b[0m \u001b[0marg\u001b[0m\u001b[1;33m.\u001b[0m\u001b[0m_constructor\u001b[0m\u001b[1;33m(\u001b[0m\u001b[0mvalues\u001b[0m\u001b[1;33m,\u001b[0m \u001b[0mindex\u001b[0m\u001b[1;33m=\u001b[0m\u001b[0marg\u001b[0m\u001b[1;33m.\u001b[0m\u001b[0mindex\u001b[0m\u001b[1;33m,\u001b[0m \u001b[0mname\u001b[0m\u001b[1;33m=\u001b[0m\u001b[0marg\u001b[0m\u001b[1;33m.\u001b[0m\u001b[0mname\u001b[0m\u001b[1;33m)\u001b[0m\u001b[1;33m\u001b[0m\u001b[1;33m\u001b[0m\u001b[0m\n\u001b[0;32m    805\u001b[0m     \u001b[1;32melif\u001b[0m \u001b[0misinstance\u001b[0m\u001b[1;33m(\u001b[0m\u001b[0marg\u001b[0m\u001b[1;33m,\u001b[0m \u001b[1;33m(\u001b[0m\u001b[0mABCDataFrame\u001b[0m\u001b[1;33m,\u001b[0m \u001b[0mabc\u001b[0m\u001b[1;33m.\u001b[0m\u001b[0mMutableMapping\u001b[0m\u001b[1;33m)\u001b[0m\u001b[1;33m)\u001b[0m\u001b[1;33m:\u001b[0m\u001b[1;33m\u001b[0m\u001b[1;33m\u001b[0m\u001b[0m\n",
      "\u001b[1;32mD:\\ProgramData\\Anaconda3\\lib\\site-packages\\pandas\\core\\tools\\datetimes.py\u001b[0m in \u001b[0;36m_convert_listlike_datetimes\u001b[1;34m(arg, format, name, tz, unit, errors, infer_datetime_format, dayfirst, yearfirst, exact)\u001b[0m\n\u001b[0;32m    457\u001b[0m         \u001b[1;32massert\u001b[0m \u001b[0mformat\u001b[0m \u001b[1;32mis\u001b[0m \u001b[1;32mNone\u001b[0m \u001b[1;32mor\u001b[0m \u001b[0minfer_datetime_format\u001b[0m\u001b[1;33m\u001b[0m\u001b[1;33m\u001b[0m\u001b[0m\n\u001b[0;32m    458\u001b[0m         \u001b[0mutc\u001b[0m \u001b[1;33m=\u001b[0m \u001b[0mtz\u001b[0m \u001b[1;33m==\u001b[0m \u001b[1;34m\"utc\"\u001b[0m\u001b[1;33m\u001b[0m\u001b[1;33m\u001b[0m\u001b[0m\n\u001b[1;32m--> 459\u001b[1;33m         result, tz_parsed = objects_to_datetime64ns(\n\u001b[0m\u001b[0;32m    460\u001b[0m             \u001b[0marg\u001b[0m\u001b[1;33m,\u001b[0m\u001b[1;33m\u001b[0m\u001b[1;33m\u001b[0m\u001b[0m\n\u001b[0;32m    461\u001b[0m             \u001b[0mdayfirst\u001b[0m\u001b[1;33m=\u001b[0m\u001b[0mdayfirst\u001b[0m\u001b[1;33m,\u001b[0m\u001b[1;33m\u001b[0m\u001b[1;33m\u001b[0m\u001b[0m\n",
      "\u001b[1;32mD:\\ProgramData\\Anaconda3\\lib\\site-packages\\pandas\\core\\arrays\\datetimes.py\u001b[0m in \u001b[0;36mobjects_to_datetime64ns\u001b[1;34m(data, dayfirst, yearfirst, utc, errors, require_iso8601, allow_object)\u001b[0m\n\u001b[0;32m   2057\u001b[0m             \u001b[1;32mreturn\u001b[0m \u001b[0mvalues\u001b[0m\u001b[1;33m.\u001b[0m\u001b[0mview\u001b[0m\u001b[1;33m(\u001b[0m\u001b[1;34m\"i8\"\u001b[0m\u001b[1;33m)\u001b[0m\u001b[1;33m,\u001b[0m \u001b[0mtz_parsed\u001b[0m\u001b[1;33m\u001b[0m\u001b[1;33m\u001b[0m\u001b[0m\n\u001b[0;32m   2058\u001b[0m         \u001b[1;32mexcept\u001b[0m \u001b[1;33m(\u001b[0m\u001b[0mValueError\u001b[0m\u001b[1;33m,\u001b[0m \u001b[0mTypeError\u001b[0m\u001b[1;33m)\u001b[0m\u001b[1;33m:\u001b[0m\u001b[1;33m\u001b[0m\u001b[1;33m\u001b[0m\u001b[0m\n\u001b[1;32m-> 2059\u001b[1;33m             \u001b[1;32mraise\u001b[0m \u001b[0me\u001b[0m\u001b[1;33m\u001b[0m\u001b[1;33m\u001b[0m\u001b[0m\n\u001b[0m\u001b[0;32m   2060\u001b[0m \u001b[1;33m\u001b[0m\u001b[0m\n\u001b[0;32m   2061\u001b[0m     \u001b[1;32mif\u001b[0m \u001b[0mtz_parsed\u001b[0m \u001b[1;32mis\u001b[0m \u001b[1;32mnot\u001b[0m \u001b[1;32mNone\u001b[0m\u001b[1;33m:\u001b[0m\u001b[1;33m\u001b[0m\u001b[1;33m\u001b[0m\u001b[0m\n",
      "\u001b[1;32mD:\\ProgramData\\Anaconda3\\lib\\site-packages\\pandas\\core\\arrays\\datetimes.py\u001b[0m in \u001b[0;36mobjects_to_datetime64ns\u001b[1;34m(data, dayfirst, yearfirst, utc, errors, require_iso8601, allow_object)\u001b[0m\n\u001b[0;32m   2042\u001b[0m \u001b[1;33m\u001b[0m\u001b[0m\n\u001b[0;32m   2043\u001b[0m     \u001b[1;32mtry\u001b[0m\u001b[1;33m:\u001b[0m\u001b[1;33m\u001b[0m\u001b[1;33m\u001b[0m\u001b[0m\n\u001b[1;32m-> 2044\u001b[1;33m         result, tz_parsed = tslib.array_to_datetime(\n\u001b[0m\u001b[0;32m   2045\u001b[0m             \u001b[0mdata\u001b[0m\u001b[1;33m,\u001b[0m\u001b[1;33m\u001b[0m\u001b[1;33m\u001b[0m\u001b[0m\n\u001b[0;32m   2046\u001b[0m             \u001b[0merrors\u001b[0m\u001b[1;33m=\u001b[0m\u001b[0merrors\u001b[0m\u001b[1;33m,\u001b[0m\u001b[1;33m\u001b[0m\u001b[1;33m\u001b[0m\u001b[0m\n",
      "\u001b[1;32mpandas\\_libs\\tslib.pyx\u001b[0m in \u001b[0;36mpandas._libs.tslib.array_to_datetime\u001b[1;34m()\u001b[0m\n",
      "\u001b[1;32mpandas\\_libs\\tslib.pyx\u001b[0m in \u001b[0;36mpandas._libs.tslib.array_to_datetime\u001b[1;34m()\u001b[0m\n",
      "\u001b[1;32mpandas\\_libs\\tslib.pyx\u001b[0m in \u001b[0;36mpandas._libs.tslib.array_to_datetime\u001b[1;34m()\u001b[0m\n",
      "\u001b[1;32mpandas\\_libs\\tslib.pyx\u001b[0m in \u001b[0;36mpandas._libs.tslib.array_to_datetime\u001b[1;34m()\u001b[0m\n",
      "\u001b[1;32mpandas\\_libs\\tslibs\\np_datetime.pyx\u001b[0m in \u001b[0;36mpandas._libs.tslibs.np_datetime.check_dts_bounds\u001b[1;34m()\u001b[0m\n",
      "\u001b[1;31mOutOfBoundsDatetime\u001b[0m: Out of bounds nanosecond timestamp: 3213-09-22 00:00:00"
     ]
    }
   ],
   "source": [
    "# check error result and explain reason \n",
    "# ways to manage\n",
    "df.BirthDate = pd.to_datetime(df.BirthDate, format='%Y-%m-%d')"
   ]
  },
  {
   "cell_type": "code",
   "execution_count": 64,
   "metadata": {},
   "outputs": [],
   "source": [
    "df.BirthDate = pd.to_datetime(df.BirthDate, format='%Y-%m-%d', errors ='ignore') #'coerce')"
   ]
  },
  {
   "cell_type": "code",
   "execution_count": 66,
   "metadata": {},
   "outputs": [
    {
     "data": {
      "text/html": [
       "<div>\n",
       "<style scoped>\n",
       "    .dataframe tbody tr th:only-of-type {\n",
       "        vertical-align: middle;\n",
       "    }\n",
       "\n",
       "    .dataframe tbody tr th {\n",
       "        vertical-align: top;\n",
       "    }\n",
       "\n",
       "    .dataframe thead th {\n",
       "        text-align: right;\n",
       "    }\n",
       "</style>\n",
       "<table border=\"1\" class=\"dataframe\">\n",
       "  <thead>\n",
       "    <tr style=\"text-align: right;\">\n",
       "      <th></th>\n",
       "      <th>ID</th>\n",
       "      <th>ParentID</th>\n",
       "      <th>BirthDate</th>\n",
       "      <th>GenderId</th>\n",
       "      <th>child_rank</th>\n",
       "      <th>family_rank</th>\n",
       "    </tr>\n",
       "  </thead>\n",
       "  <tbody>\n",
       "    <tr>\n",
       "      <th>1465912</th>\n",
       "      <td>3289974624</td>\n",
       "      <td>10000002972</td>\n",
       "      <td>1981-09-01</td>\n",
       "      <td>2</td>\n",
       "      <td>3</td>\n",
       "      <td>1</td>\n",
       "    </tr>\n",
       "    <tr>\n",
       "      <th>1065883</th>\n",
       "      <td>10000002972</td>\n",
       "      <td>10000002972</td>\n",
       "      <td>1982-07-21</td>\n",
       "      <td>1</td>\n",
       "      <td>2</td>\n",
       "      <td>2</td>\n",
       "    </tr>\n",
       "    <tr>\n",
       "      <th>746988</th>\n",
       "      <td>6593387838</td>\n",
       "      <td>10000002972</td>\n",
       "      <td>2012-06-28</td>\n",
       "      <td>1</td>\n",
       "      <td>1</td>\n",
       "      <td>3</td>\n",
       "    </tr>\n",
       "    <tr>\n",
       "      <th>265800</th>\n",
       "      <td>10000027326</td>\n",
       "      <td>10000027326</td>\n",
       "      <td>1955-10-24</td>\n",
       "      <td>1</td>\n",
       "      <td>1</td>\n",
       "      <td>1</td>\n",
       "    </tr>\n",
       "    <tr>\n",
       "      <th>501974</th>\n",
       "      <td>1148918544</td>\n",
       "      <td>10000027326</td>\n",
       "      <td>1959-09-03</td>\n",
       "      <td>2</td>\n",
       "      <td>3</td>\n",
       "      <td>2</td>\n",
       "    </tr>\n",
       "  </tbody>\n",
       "</table>\n",
       "</div>"
      ],
      "text/plain": [
       "                  ID     ParentID   BirthDate  GenderId  child_rank  \\\n",
       "1465912   3289974624  10000002972  1981-09-01         2           3   \n",
       "1065883  10000002972  10000002972  1982-07-21         1           2   \n",
       "746988    6593387838  10000002972  2012-06-28         1           1   \n",
       "265800   10000027326  10000027326  1955-10-24         1           1   \n",
       "501974    1148918544  10000027326  1959-09-03         2           3   \n",
       "\n",
       "         family_rank  \n",
       "1465912            1  \n",
       "1065883            2  \n",
       "746988             3  \n",
       "265800             1  \n",
       "501974             2  "
      ]
     },
     "execution_count": 66,
     "metadata": {},
     "output_type": "execute_result"
    }
   ],
   "source": [
    "df.head(5)"
   ]
  },
  {
   "cell_type": "markdown",
   "metadata": {},
   "source": [
    "#### Find a way to catch sample where BirthDate is `NaT`"
   ]
  },
  {
   "cell_type": "code",
   "execution_count": 76,
   "metadata": {},
   "outputs": [
    {
     "data": {
      "text/plain": [
       "True"
      ]
     },
     "execution_count": 76,
     "metadata": {},
     "output_type": "execute_result"
    }
   ],
   "source": [
    "pd.isna(pd.NaT)"
   ]
  },
  {
   "cell_type": "code",
   "execution_count": 75,
   "metadata": {},
   "outputs": [
    {
     "data": {
      "text/plain": [
       "True"
      ]
     },
     "execution_count": 75,
     "metadata": {},
     "output_type": "execute_result"
    }
   ],
   "source": [
    "pd.isnull(pd.NaT)"
   ]
  },
  {
   "cell_type": "code",
   "execution_count": 68,
   "metadata": {},
   "outputs": [
    {
     "data": {
      "text/html": [
       "<div>\n",
       "<style scoped>\n",
       "    .dataframe tbody tr th:only-of-type {\n",
       "        vertical-align: middle;\n",
       "    }\n",
       "\n",
       "    .dataframe tbody tr th {\n",
       "        vertical-align: top;\n",
       "    }\n",
       "\n",
       "    .dataframe thead th {\n",
       "        text-align: right;\n",
       "    }\n",
       "</style>\n",
       "<table border=\"1\" class=\"dataframe\">\n",
       "  <thead>\n",
       "    <tr style=\"text-align: right;\">\n",
       "      <th></th>\n",
       "      <th>ID</th>\n",
       "      <th>ParentID</th>\n",
       "      <th>BirthDate</th>\n",
       "      <th>GenderId</th>\n",
       "      <th>child_rank</th>\n",
       "      <th>family_rank</th>\n",
       "    </tr>\n",
       "  </thead>\n",
       "  <tbody>\n",
       "    <tr>\n",
       "      <th>583435</th>\n",
       "      <td>13250236767</td>\n",
       "      <td>10001280819</td>\n",
       "      <td>NaN</td>\n",
       "      <td>2</td>\n",
       "      <td>1</td>\n",
       "      <td>4</td>\n",
       "    </tr>\n",
       "    <tr>\n",
       "      <th>269420</th>\n",
       "      <td>13353737577</td>\n",
       "      <td>10002403440</td>\n",
       "      <td>NaN</td>\n",
       "      <td>2</td>\n",
       "      <td>3</td>\n",
       "      <td>4</td>\n",
       "    </tr>\n",
       "    <tr>\n",
       "      <th>710822</th>\n",
       "      <td>13334747484</td>\n",
       "      <td>10003242300</td>\n",
       "      <td>NaN</td>\n",
       "      <td>2</td>\n",
       "      <td>2</td>\n",
       "      <td>3</td>\n",
       "    </tr>\n",
       "    <tr>\n",
       "      <th>1480752</th>\n",
       "      <td>13340953818</td>\n",
       "      <td>10003242300</td>\n",
       "      <td>NaN</td>\n",
       "      <td>2</td>\n",
       "      <td>4</td>\n",
       "      <td>4</td>\n",
       "    </tr>\n",
       "    <tr>\n",
       "      <th>550860</th>\n",
       "      <td>13245374577</td>\n",
       "      <td>10004841669</td>\n",
       "      <td>NaN</td>\n",
       "      <td>2</td>\n",
       "      <td>2</td>\n",
       "      <td>3</td>\n",
       "    </tr>\n",
       "    <tr>\n",
       "      <th>...</th>\n",
       "      <td>...</td>\n",
       "      <td>...</td>\n",
       "      <td>...</td>\n",
       "      <td>...</td>\n",
       "      <td>...</td>\n",
       "      <td>...</td>\n",
       "    </tr>\n",
       "    <tr>\n",
       "      <th>1201337</th>\n",
       "      <td>9996879756</td>\n",
       "      <td>9996250242</td>\n",
       "      <td>NaN</td>\n",
       "      <td>2</td>\n",
       "      <td>2</td>\n",
       "      <td>2</td>\n",
       "    </tr>\n",
       "    <tr>\n",
       "      <th>59994</th>\n",
       "      <td>13244633748</td>\n",
       "      <td>9998036571</td>\n",
       "      <td>NaN</td>\n",
       "      <td>2</td>\n",
       "      <td>1</td>\n",
       "      <td>4</td>\n",
       "    </tr>\n",
       "    <tr>\n",
       "      <th>1052096</th>\n",
       "      <td>9998243457</td>\n",
       "      <td>9998243457</td>\n",
       "      <td>NaN</td>\n",
       "      <td>2</td>\n",
       "      <td>1</td>\n",
       "      <td>1</td>\n",
       "    </tr>\n",
       "    <tr>\n",
       "      <th>1348001</th>\n",
       "      <td>13254941886</td>\n",
       "      <td>9998288967</td>\n",
       "      <td>NaN</td>\n",
       "      <td>1</td>\n",
       "      <td>3</td>\n",
       "      <td>3</td>\n",
       "    </tr>\n",
       "    <tr>\n",
       "      <th>672736</th>\n",
       "      <td>13259025978</td>\n",
       "      <td>999887808</td>\n",
       "      <td>NaN</td>\n",
       "      <td>2</td>\n",
       "      <td>3</td>\n",
       "      <td>4</td>\n",
       "    </tr>\n",
       "  </tbody>\n",
       "</table>\n",
       "<p>13499 rows × 6 columns</p>\n",
       "</div>"
      ],
      "text/plain": [
       "                  ID     ParentID BirthDate  GenderId  child_rank  family_rank\n",
       "583435   13250236767  10001280819       NaN         2           1            4\n",
       "269420   13353737577  10002403440       NaN         2           3            4\n",
       "710822   13334747484  10003242300       NaN         2           2            3\n",
       "1480752  13340953818  10003242300       NaN         2           4            4\n",
       "550860   13245374577  10004841669       NaN         2           2            3\n",
       "...              ...          ...       ...       ...         ...          ...\n",
       "1201337   9996879756   9996250242       NaN         2           2            2\n",
       "59994    13244633748   9998036571       NaN         2           1            4\n",
       "1052096   9998243457   9998243457       NaN         2           1            1\n",
       "1348001  13254941886   9998288967       NaN         1           3            3\n",
       "672736   13259025978    999887808       NaN         2           3            4\n",
       "\n",
       "[13499 rows x 6 columns]"
      ]
     },
     "execution_count": 68,
     "metadata": {},
     "output_type": "execute_result"
    }
   ],
   "source": [
    "df[df.BirthDate.isna()]"
   ]
  },
  {
   "cell_type": "code",
   "execution_count": 69,
   "metadata": {},
   "outputs": [
    {
     "data": {
      "text/plain": [
       "ID             object\n",
       "ParentID       object\n",
       "BirthDate      object\n",
       "GenderId        int64\n",
       "child_rank      int64\n",
       "family_rank     int64\n",
       "dtype: object"
      ]
     },
     "execution_count": 69,
     "metadata": {},
     "output_type": "execute_result"
    }
   ],
   "source": [
    "df.dtypes"
   ]
  },
  {
   "cell_type": "code",
   "execution_count": 70,
   "metadata": {},
   "outputs": [
    {
     "data": {
      "text/plain": [
       "1893-04-20    1\n",
       "1902-07-26    1\n",
       "1902-12-23    1\n",
       "1906-03-22    1\n",
       "1908-06-01    1\n",
       "             ..\n",
       "3221-01-29    1\n",
       "3221-02-05    1\n",
       "3221-02-19    1\n",
       "3221-03-03    1\n",
       "3221-03-06    1\n",
       "Name: BirthDate, Length: 33651, dtype: int64"
      ]
     },
     "execution_count": 70,
     "metadata": {},
     "output_type": "execute_result"
    }
   ],
   "source": [
    "df.BirthDate.value_counts().sort_index()"
   ]
  },
  {
   "cell_type": "markdown",
   "metadata": {},
   "source": [
    "As soon as column is of type `datetime64[ns]`, datetime related functionalities are available\n",
    "\n",
    "[dt-accessor](https://pandas.pydata.org/docs/user_guide/basics.html#dt-accessor)\n",
    "\n",
    "`df.BirthDate.dt.`\n"
   ]
  },
  {
   "cell_type": "code",
   "execution_count": 71,
   "metadata": {},
   "outputs": [],
   "source": [
    "df = (df.assign(family_rank = df.sort_values(['BirthDate'], ascending=True)\n",
    ".groupby(['ParentID'])\n",
    ".cumcount()+1)\n",
    "#.query('r < 3')\n",
    ".sort_values(['ParentID', 'family_rank']))"
   ]
  },
  {
   "cell_type": "code",
   "execution_count": 73,
   "metadata": {},
   "outputs": [
    {
     "data": {
      "text/html": [
       "<div>\n",
       "<style scoped>\n",
       "    .dataframe tbody tr th:only-of-type {\n",
       "        vertical-align: middle;\n",
       "    }\n",
       "\n",
       "    .dataframe tbody tr th {\n",
       "        vertical-align: top;\n",
       "    }\n",
       "\n",
       "    .dataframe thead th {\n",
       "        text-align: right;\n",
       "    }\n",
       "</style>\n",
       "<table border=\"1\" class=\"dataframe\">\n",
       "  <thead>\n",
       "    <tr style=\"text-align: right;\">\n",
       "      <th></th>\n",
       "      <th>ID</th>\n",
       "      <th>ParentID</th>\n",
       "      <th>BirthDate</th>\n",
       "      <th>GenderId</th>\n",
       "      <th>child_rank</th>\n",
       "      <th>family_rank</th>\n",
       "    </tr>\n",
       "  </thead>\n",
       "  <tbody>\n",
       "    <tr>\n",
       "      <th>460002</th>\n",
       "      <td>8323722933</td>\n",
       "      <td>8323722933</td>\n",
       "      <td>1975-06-11</td>\n",
       "      <td>1</td>\n",
       "      <td>8</td>\n",
       "      <td>1</td>\n",
       "    </tr>\n",
       "    <tr>\n",
       "      <th>318843</th>\n",
       "      <td>3279279282</td>\n",
       "      <td>8323722933</td>\n",
       "      <td>1980-05-20</td>\n",
       "      <td>2</td>\n",
       "      <td>5</td>\n",
       "      <td>2</td>\n",
       "    </tr>\n",
       "    <tr>\n",
       "      <th>327629</th>\n",
       "      <td>9510717705</td>\n",
       "      <td>8323722933</td>\n",
       "      <td>1995-10-26</td>\n",
       "      <td>2</td>\n",
       "      <td>6</td>\n",
       "      <td>3</td>\n",
       "    </tr>\n",
       "    <tr>\n",
       "      <th>791848</th>\n",
       "      <td>3713936067</td>\n",
       "      <td>8323722933</td>\n",
       "      <td>2000-04-13</td>\n",
       "      <td>2</td>\n",
       "      <td>10</td>\n",
       "      <td>4</td>\n",
       "    </tr>\n",
       "    <tr>\n",
       "      <th>916487</th>\n",
       "      <td>2921508321</td>\n",
       "      <td>8323722933</td>\n",
       "      <td>2001-10-26</td>\n",
       "      <td>2</td>\n",
       "      <td>11</td>\n",
       "      <td>5</td>\n",
       "    </tr>\n",
       "    <tr>\n",
       "      <th>415670</th>\n",
       "      <td>7964202912</td>\n",
       "      <td>8323722933</td>\n",
       "      <td>2003-07-13</td>\n",
       "      <td>1</td>\n",
       "      <td>7</td>\n",
       "      <td>6</td>\n",
       "    </tr>\n",
       "    <tr>\n",
       "      <th>756699</th>\n",
       "      <td>5733280695</td>\n",
       "      <td>8323722933</td>\n",
       "      <td>2004-01-01</td>\n",
       "      <td>2</td>\n",
       "      <td>9</td>\n",
       "      <td>7</td>\n",
       "    </tr>\n",
       "    <tr>\n",
       "      <th>42599</th>\n",
       "      <td>950827536</td>\n",
       "      <td>8323722933</td>\n",
       "      <td>2006-05-14</td>\n",
       "      <td>2</td>\n",
       "      <td>2</td>\n",
       "      <td>8</td>\n",
       "    </tr>\n",
       "    <tr>\n",
       "      <th>39847</th>\n",
       "      <td>9482258457</td>\n",
       "      <td>8323722933</td>\n",
       "      <td>2011-04-19</td>\n",
       "      <td>2</td>\n",
       "      <td>1</td>\n",
       "      <td>9</td>\n",
       "    </tr>\n",
       "    <tr>\n",
       "      <th>1000624</th>\n",
       "      <td>355633119</td>\n",
       "      <td>8323722933</td>\n",
       "      <td>2011-08-26</td>\n",
       "      <td>2</td>\n",
       "      <td>12</td>\n",
       "      <td>10</td>\n",
       "    </tr>\n",
       "    <tr>\n",
       "      <th>74295</th>\n",
       "      <td>1969120797</td>\n",
       "      <td>8323722933</td>\n",
       "      <td>2014-11-08</td>\n",
       "      <td>1</td>\n",
       "      <td>4</td>\n",
       "      <td>11</td>\n",
       "    </tr>\n",
       "    <tr>\n",
       "      <th>66317</th>\n",
       "      <td>7804182372</td>\n",
       "      <td>8323722933</td>\n",
       "      <td>2014-11-08</td>\n",
       "      <td>1</td>\n",
       "      <td>3</td>\n",
       "      <td>12</td>\n",
       "    </tr>\n",
       "  </tbody>\n",
       "</table>\n",
       "</div>"
      ],
      "text/plain": [
       "                 ID    ParentID   BirthDate  GenderId  child_rank  family_rank\n",
       "460002   8323722933  8323722933  1975-06-11         1           8            1\n",
       "318843   3279279282  8323722933  1980-05-20         2           5            2\n",
       "327629   9510717705  8323722933  1995-10-26         2           6            3\n",
       "791848   3713936067  8323722933  2000-04-13         2          10            4\n",
       "916487   2921508321  8323722933  2001-10-26         2          11            5\n",
       "415670   7964202912  8323722933  2003-07-13         1           7            6\n",
       "756699   5733280695  8323722933  2004-01-01         2           9            7\n",
       "42599     950827536  8323722933  2006-05-14         2           2            8\n",
       "39847    9482258457  8323722933  2011-04-19         2           1            9\n",
       "1000624   355633119  8323722933  2011-08-26         2          12           10\n",
       "74295    1969120797  8323722933  2014-11-08         1           4           11\n",
       "66317    7804182372  8323722933  2014-11-08         1           3           12"
      ]
     },
     "execution_count": 73,
     "metadata": {},
     "output_type": "execute_result"
    }
   ],
   "source": [
    "df[(df.ParentID == '8323722933') ]"
   ]
  },
  {
   "cell_type": "markdown",
   "metadata": {},
   "source": [
    "- Work to identify twins?\n",
    "- mother pregnancy age analysis?\n",
    "- calculate age difference between first and last child?\n",
    "       - max?\n",
    "- Data issue identification\n",
    "   - junk records \n",
    "     - Birthdates! __3213-09-2, 3220-04-20__\n",
    "     \n",
    "    |ID|ParentID|BirthDate|\tGenderId|\tchild_rank|\n",
    "    |--|------------|------------|----------|-------------|\n",
    "    |10080426276\t|10080426276|\t3213-09-2| | | |\n",
    "    |4380159294\t|1015085073|\t3220-04-20| ||\n",
    "\n",
    "    \n",
    "   - Fraud detection?"
   ]
  },
  {
   "cell_type": "markdown",
   "metadata": {},
   "source": [
    "In above example, we find a set of twin. How to label them with same rank?"
   ]
  },
  {
   "cell_type": "code",
   "execution_count": 78,
   "metadata": {},
   "outputs": [
    {
     "ename": "AttributeError",
     "evalue": "Can only use .dt accessor with datetimelike values",
     "output_type": "error",
     "traceback": [
      "\u001b[1;31m---------------------------------------------------------------------------\u001b[0m",
      "\u001b[1;31mAttributeError\u001b[0m                            Traceback (most recent call last)",
      "\u001b[1;32m<ipython-input-78-d1572f7db4cd>\u001b[0m in \u001b[0;36m<module>\u001b[1;34m\u001b[0m\n\u001b[1;32m----> 1\u001b[1;33m \u001b[0mdf\u001b[0m\u001b[1;33m[\u001b[0m\u001b[0mdf\u001b[0m\u001b[1;33m.\u001b[0m\u001b[0mBirthDate\u001b[0m\u001b[1;33m.\u001b[0m\u001b[0mdt\u001b[0m\u001b[1;33m.\u001b[0m\u001b[0myear\u001b[0m\u001b[1;33m(\u001b[0m\u001b[1;33m)\u001b[0m \u001b[1;33m>\u001b[0m \u001b[1;36m2022\u001b[0m\u001b[1;33m]\u001b[0m\u001b[1;33m\u001b[0m\u001b[1;33m\u001b[0m\u001b[0m\n\u001b[0m",
      "\u001b[1;32mD:\\ProgramData\\Anaconda3\\lib\\site-packages\\pandas\\core\\generic.py\u001b[0m in \u001b[0;36m__getattr__\u001b[1;34m(self, name)\u001b[0m\n\u001b[0;32m   5133\u001b[0m             \u001b[1;32mor\u001b[0m \u001b[0mname\u001b[0m \u001b[1;32min\u001b[0m \u001b[0mself\u001b[0m\u001b[1;33m.\u001b[0m\u001b[0m_accessors\u001b[0m\u001b[1;33m\u001b[0m\u001b[1;33m\u001b[0m\u001b[0m\n\u001b[0;32m   5134\u001b[0m         ):\n\u001b[1;32m-> 5135\u001b[1;33m             \u001b[1;32mreturn\u001b[0m \u001b[0mobject\u001b[0m\u001b[1;33m.\u001b[0m\u001b[0m__getattribute__\u001b[0m\u001b[1;33m(\u001b[0m\u001b[0mself\u001b[0m\u001b[1;33m,\u001b[0m \u001b[0mname\u001b[0m\u001b[1;33m)\u001b[0m\u001b[1;33m\u001b[0m\u001b[1;33m\u001b[0m\u001b[0m\n\u001b[0m\u001b[0;32m   5136\u001b[0m         \u001b[1;32melse\u001b[0m\u001b[1;33m:\u001b[0m\u001b[1;33m\u001b[0m\u001b[1;33m\u001b[0m\u001b[0m\n\u001b[0;32m   5137\u001b[0m             \u001b[1;32mif\u001b[0m \u001b[0mself\u001b[0m\u001b[1;33m.\u001b[0m\u001b[0m_info_axis\u001b[0m\u001b[1;33m.\u001b[0m\u001b[0m_can_hold_identifiers_and_holds_name\u001b[0m\u001b[1;33m(\u001b[0m\u001b[0mname\u001b[0m\u001b[1;33m)\u001b[0m\u001b[1;33m:\u001b[0m\u001b[1;33m\u001b[0m\u001b[1;33m\u001b[0m\u001b[0m\n",
      "\u001b[1;32mD:\\ProgramData\\Anaconda3\\lib\\site-packages\\pandas\\core\\accessor.py\u001b[0m in \u001b[0;36m__get__\u001b[1;34m(self, obj, cls)\u001b[0m\n\u001b[0;32m    185\u001b[0m             \u001b[1;31m# we're accessing the attribute of the class, i.e., Dataset.geo\u001b[0m\u001b[1;33m\u001b[0m\u001b[1;33m\u001b[0m\u001b[1;33m\u001b[0m\u001b[0m\n\u001b[0;32m    186\u001b[0m             \u001b[1;32mreturn\u001b[0m \u001b[0mself\u001b[0m\u001b[1;33m.\u001b[0m\u001b[0m_accessor\u001b[0m\u001b[1;33m\u001b[0m\u001b[1;33m\u001b[0m\u001b[0m\n\u001b[1;32m--> 187\u001b[1;33m         \u001b[0maccessor_obj\u001b[0m \u001b[1;33m=\u001b[0m \u001b[0mself\u001b[0m\u001b[1;33m.\u001b[0m\u001b[0m_accessor\u001b[0m\u001b[1;33m(\u001b[0m\u001b[0mobj\u001b[0m\u001b[1;33m)\u001b[0m\u001b[1;33m\u001b[0m\u001b[1;33m\u001b[0m\u001b[0m\n\u001b[0m\u001b[0;32m    188\u001b[0m         \u001b[1;31m# Replace the property with the accessor object. Inspired by:\u001b[0m\u001b[1;33m\u001b[0m\u001b[1;33m\u001b[0m\u001b[1;33m\u001b[0m\u001b[0m\n\u001b[0;32m    189\u001b[0m         \u001b[1;31m# https://www.pydanny.com/cached-property.html\u001b[0m\u001b[1;33m\u001b[0m\u001b[1;33m\u001b[0m\u001b[1;33m\u001b[0m\u001b[0m\n",
      "\u001b[1;32mD:\\ProgramData\\Anaconda3\\lib\\site-packages\\pandas\\core\\indexes\\accessors.py\u001b[0m in \u001b[0;36m__new__\u001b[1;34m(cls, data)\u001b[0m\n\u001b[0;32m    478\u001b[0m             \u001b[1;32mreturn\u001b[0m \u001b[0mPeriodProperties\u001b[0m\u001b[1;33m(\u001b[0m\u001b[0mdata\u001b[0m\u001b[1;33m,\u001b[0m \u001b[0morig\u001b[0m\u001b[1;33m)\u001b[0m\u001b[1;33m\u001b[0m\u001b[1;33m\u001b[0m\u001b[0m\n\u001b[0;32m    479\u001b[0m \u001b[1;33m\u001b[0m\u001b[0m\n\u001b[1;32m--> 480\u001b[1;33m         \u001b[1;32mraise\u001b[0m \u001b[0mAttributeError\u001b[0m\u001b[1;33m(\u001b[0m\u001b[1;34m\"Can only use .dt accessor with datetimelike values\"\u001b[0m\u001b[1;33m)\u001b[0m\u001b[1;33m\u001b[0m\u001b[1;33m\u001b[0m\u001b[0m\n\u001b[0m",
      "\u001b[1;31mAttributeError\u001b[0m: Can only use .dt accessor with datetimelike values"
     ]
    }
   ],
   "source": [
    "df[df.BirthDate.dt.year() > 2022]"
   ]
  },
  {
   "cell_type": "code",
   "execution_count": 79,
   "metadata": {},
   "outputs": [
    {
     "data": {
      "text/html": [
       "<div>\n",
       "<style scoped>\n",
       "    .dataframe tbody tr th:only-of-type {\n",
       "        vertical-align: middle;\n",
       "    }\n",
       "\n",
       "    .dataframe tbody tr th {\n",
       "        vertical-align: top;\n",
       "    }\n",
       "\n",
       "    .dataframe thead th {\n",
       "        text-align: right;\n",
       "    }\n",
       "</style>\n",
       "<table border=\"1\" class=\"dataframe\">\n",
       "  <thead>\n",
       "    <tr style=\"text-align: right;\">\n",
       "      <th></th>\n",
       "      <th>ID</th>\n",
       "      <th>ParentID</th>\n",
       "      <th>BirthDate</th>\n",
       "      <th>GenderId</th>\n",
       "      <th>child_rank</th>\n",
       "      <th>family_rank</th>\n",
       "    </tr>\n",
       "  </thead>\n",
       "  <tbody>\n",
       "    <tr>\n",
       "      <th>82654</th>\n",
       "      <td>10080426276</td>\n",
       "      <td>10080426276</td>\n",
       "      <td>3213-09-22</td>\n",
       "      <td>2</td>\n",
       "      <td>1</td>\n",
       "      <td>2</td>\n",
       "    </tr>\n",
       "    <tr>\n",
       "      <th>1114920</th>\n",
       "      <td>4380159294</td>\n",
       "      <td>1015085073</td>\n",
       "      <td>3220-04-20</td>\n",
       "      <td>1</td>\n",
       "      <td>3</td>\n",
       "      <td>3</td>\n",
       "    </tr>\n",
       "    <tr>\n",
       "      <th>564518</th>\n",
       "      <td>2641266228</td>\n",
       "      <td>10322211927</td>\n",
       "      <td>3219-05-06</td>\n",
       "      <td>2</td>\n",
       "      <td>4</td>\n",
       "      <td>8</td>\n",
       "    </tr>\n",
       "    <tr>\n",
       "      <th>432337</th>\n",
       "      <td>10323224217</td>\n",
       "      <td>10323224217</td>\n",
       "      <td>3221-01-23</td>\n",
       "      <td>2</td>\n",
       "      <td>1</td>\n",
       "      <td>1</td>\n",
       "    </tr>\n",
       "    <tr>\n",
       "      <th>556408</th>\n",
       "      <td>1039820373</td>\n",
       "      <td>1039820373</td>\n",
       "      <td>3218-03-21</td>\n",
       "      <td>1</td>\n",
       "      <td>2</td>\n",
       "      <td>2</td>\n",
       "    </tr>\n",
       "    <tr>\n",
       "      <th>...</th>\n",
       "      <td>...</td>\n",
       "      <td>...</td>\n",
       "      <td>...</td>\n",
       "      <td>...</td>\n",
       "      <td>...</td>\n",
       "      <td>...</td>\n",
       "    </tr>\n",
       "    <tr>\n",
       "      <th>419132</th>\n",
       "      <td>9037049010</td>\n",
       "      <td>9037049010</td>\n",
       "      <td>3218-03-20</td>\n",
       "      <td>1</td>\n",
       "      <td>1</td>\n",
       "      <td>1</td>\n",
       "    </tr>\n",
       "    <tr>\n",
       "      <th>307475</th>\n",
       "      <td>9249419580</td>\n",
       "      <td>9249419580</td>\n",
       "      <td>3191-05-31</td>\n",
       "      <td>1</td>\n",
       "      <td>1</td>\n",
       "      <td>1</td>\n",
       "    </tr>\n",
       "    <tr>\n",
       "      <th>967168</th>\n",
       "      <td>9489674250</td>\n",
       "      <td>9489674250</td>\n",
       "      <td>3220-09-22</td>\n",
       "      <td>1</td>\n",
       "      <td>1</td>\n",
       "      <td>1</td>\n",
       "    </tr>\n",
       "    <tr>\n",
       "      <th>1014307</th>\n",
       "      <td>9087364743</td>\n",
       "      <td>9588841401</td>\n",
       "      <td>3211-06-26</td>\n",
       "      <td>2</td>\n",
       "      <td>2</td>\n",
       "      <td>2</td>\n",
       "    </tr>\n",
       "    <tr>\n",
       "      <th>1203931</th>\n",
       "      <td>9634275879</td>\n",
       "      <td>9634275879</td>\n",
       "      <td>3206-09-23</td>\n",
       "      <td>1</td>\n",
       "      <td>1</td>\n",
       "      <td>1</td>\n",
       "    </tr>\n",
       "  </tbody>\n",
       "</table>\n",
       "<p>184 rows × 6 columns</p>\n",
       "</div>"
      ],
      "text/plain": [
       "                  ID     ParentID   BirthDate  GenderId  child_rank  \\\n",
       "82654    10080426276  10080426276  3213-09-22         2           1   \n",
       "1114920   4380159294   1015085073  3220-04-20         1           3   \n",
       "564518    2641266228  10322211927  3219-05-06         2           4   \n",
       "432337   10323224217  10323224217  3221-01-23         2           1   \n",
       "556408    1039820373   1039820373  3218-03-21         1           2   \n",
       "...              ...          ...         ...       ...         ...   \n",
       "419132    9037049010   9037049010  3218-03-20         1           1   \n",
       "307475    9249419580   9249419580  3191-05-31         1           1   \n",
       "967168    9489674250   9489674250  3220-09-22         1           1   \n",
       "1014307   9087364743   9588841401  3211-06-26         2           2   \n",
       "1203931   9634275879   9634275879  3206-09-23         1           1   \n",
       "\n",
       "         family_rank  \n",
       "82654              2  \n",
       "1114920            3  \n",
       "564518             8  \n",
       "432337             1  \n",
       "556408             2  \n",
       "...              ...  \n",
       "419132             1  \n",
       "307475             1  \n",
       "967168             1  \n",
       "1014307            2  \n",
       "1203931            1  \n",
       "\n",
       "[184 rows x 6 columns]"
      ]
     },
     "execution_count": 79,
     "metadata": {},
     "output_type": "execute_result"
    }
   ],
   "source": [
    "df[df.BirthDate > '2022-11-01']"
   ]
  },
  {
   "cell_type": "code",
   "execution_count": 165,
   "metadata": {},
   "outputs": [],
   "source": [
    "dff = df[df.BirthDate.isna()!=True].pivot_table(index='ParentID', values = ['BirthDate'],\n",
    "                     aggfunc= ['first','last'])   #np.max() - np.min())\n"
   ]
  },
  {
   "cell_type": "code",
   "execution_count": 166,
   "metadata": {},
   "outputs": [
    {
     "data": {
      "text/html": [
       "<div>\n",
       "<style scoped>\n",
       "    .dataframe tbody tr th:only-of-type {\n",
       "        vertical-align: middle;\n",
       "    }\n",
       "\n",
       "    .dataframe tbody tr th {\n",
       "        vertical-align: top;\n",
       "    }\n",
       "\n",
       "    .dataframe thead tr th {\n",
       "        text-align: left;\n",
       "    }\n",
       "\n",
       "    .dataframe thead tr:last-of-type th {\n",
       "        text-align: right;\n",
       "    }\n",
       "</style>\n",
       "<table border=\"1\" class=\"dataframe\">\n",
       "  <thead>\n",
       "    <tr>\n",
       "      <th></th>\n",
       "      <th>first</th>\n",
       "      <th>last</th>\n",
       "    </tr>\n",
       "    <tr>\n",
       "      <th></th>\n",
       "      <th>BirthDate</th>\n",
       "      <th>BirthDate</th>\n",
       "    </tr>\n",
       "    <tr>\n",
       "      <th>ParentID</th>\n",
       "      <th></th>\n",
       "      <th></th>\n",
       "    </tr>\n",
       "  </thead>\n",
       "  <tbody>\n",
       "    <tr>\n",
       "      <th>10000002972</th>\n",
       "      <td>1981-09-01</td>\n",
       "      <td>2012-06-28</td>\n",
       "    </tr>\n",
       "    <tr>\n",
       "      <th>10000027326</th>\n",
       "      <td>1955-10-24</td>\n",
       "      <td>1979-04-21</td>\n",
       "    </tr>\n",
       "    <tr>\n",
       "      <th>10000060290</th>\n",
       "      <td>1979-05-29</td>\n",
       "      <td>2013-09-04</td>\n",
       "    </tr>\n",
       "    <tr>\n",
       "      <th>10000110474</th>\n",
       "      <td>1975-03-25</td>\n",
       "      <td>2010-08-15</td>\n",
       "    </tr>\n",
       "    <tr>\n",
       "      <th>10000123266</th>\n",
       "      <td>1975-09-11</td>\n",
       "      <td>2004-11-21</td>\n",
       "    </tr>\n",
       "    <tr>\n",
       "      <th>10000126833</th>\n",
       "      <td>1969-09-21</td>\n",
       "      <td>2017-05-16</td>\n",
       "    </tr>\n",
       "    <tr>\n",
       "      <th>10000153524</th>\n",
       "      <td>1980-09-21</td>\n",
       "      <td>1984-03-21</td>\n",
       "    </tr>\n",
       "    <tr>\n",
       "      <th>10000217853</th>\n",
       "      <td>1983-09-23</td>\n",
       "      <td>2015-10-30</td>\n",
       "    </tr>\n",
       "    <tr>\n",
       "      <th>1000022862</th>\n",
       "      <td>1939-03-29</td>\n",
       "      <td>1993-06-12</td>\n",
       "    </tr>\n",
       "    <tr>\n",
       "      <th>1000023846</th>\n",
       "      <td>1978-05-22</td>\n",
       "      <td>2004-03-28</td>\n",
       "    </tr>\n",
       "    <tr>\n",
       "      <th>10000255368</th>\n",
       "      <td>1942-06-22</td>\n",
       "      <td>1942-06-22</td>\n",
       "    </tr>\n",
       "    <tr>\n",
       "      <th>10000271358</th>\n",
       "      <td>1983-08-23</td>\n",
       "      <td>2009-11-23</td>\n",
       "    </tr>\n",
       "    <tr>\n",
       "      <th>10000315638</th>\n",
       "      <td>1989-06-26</td>\n",
       "      <td>2019-03-26</td>\n",
       "    </tr>\n",
       "    <tr>\n",
       "      <th>10000355367</th>\n",
       "      <td>1997-05-18</td>\n",
       "      <td>1997-05-18</td>\n",
       "    </tr>\n",
       "    <tr>\n",
       "      <th>10000375170</th>\n",
       "      <td>1961-01-29</td>\n",
       "      <td>1987-12-14</td>\n",
       "    </tr>\n",
       "    <tr>\n",
       "      <th>10000417113</th>\n",
       "      <td>1974-08-25</td>\n",
       "      <td>2011-06-15</td>\n",
       "    </tr>\n",
       "    <tr>\n",
       "      <th>10000430151</th>\n",
       "      <td>1969-09-11</td>\n",
       "      <td>2007-05-27</td>\n",
       "    </tr>\n",
       "    <tr>\n",
       "      <th>1000048200</th>\n",
       "      <td>1978-03-21</td>\n",
       "      <td>2014-09-08</td>\n",
       "    </tr>\n",
       "    <tr>\n",
       "      <th>1000050045</th>\n",
       "      <td>1989-09-28</td>\n",
       "      <td>2016-11-22</td>\n",
       "    </tr>\n",
       "    <tr>\n",
       "      <th>10000512930</th>\n",
       "      <td>1974-03-13</td>\n",
       "      <td>2002-10-21</td>\n",
       "    </tr>\n",
       "  </tbody>\n",
       "</table>\n",
       "</div>"
      ],
      "text/plain": [
       "                  first        last\n",
       "              BirthDate   BirthDate\n",
       "ParentID                           \n",
       "10000002972  1981-09-01  2012-06-28\n",
       "10000027326  1955-10-24  1979-04-21\n",
       "10000060290  1979-05-29  2013-09-04\n",
       "10000110474  1975-03-25  2010-08-15\n",
       "10000123266  1975-09-11  2004-11-21\n",
       "10000126833  1969-09-21  2017-05-16\n",
       "10000153524  1980-09-21  1984-03-21\n",
       "10000217853  1983-09-23  2015-10-30\n",
       "1000022862   1939-03-29  1993-06-12\n",
       "1000023846   1978-05-22  2004-03-28\n",
       "10000255368  1942-06-22  1942-06-22\n",
       "10000271358  1983-08-23  2009-11-23\n",
       "10000315638  1989-06-26  2019-03-26\n",
       "10000355367  1997-05-18  1997-05-18\n",
       "10000375170  1961-01-29  1987-12-14\n",
       "10000417113  1974-08-25  2011-06-15\n",
       "10000430151  1969-09-11  2007-05-27\n",
       "1000048200   1978-03-21  2014-09-08\n",
       "1000050045   1989-09-28  2016-11-22\n",
       "10000512930  1974-03-13  2002-10-21"
      ]
     },
     "execution_count": 166,
     "metadata": {},
     "output_type": "execute_result"
    }
   ],
   "source": [
    "dff.head(20)"
   ]
  },
  {
   "cell_type": "code",
   "execution_count": 82,
   "metadata": {},
   "outputs": [
    {
     "data": {
      "text/html": [
       "<div>\n",
       "<style scoped>\n",
       "    .dataframe tbody tr th:only-of-type {\n",
       "        vertical-align: middle;\n",
       "    }\n",
       "\n",
       "    .dataframe tbody tr th {\n",
       "        vertical-align: top;\n",
       "    }\n",
       "\n",
       "    .dataframe thead th {\n",
       "        text-align: right;\n",
       "    }\n",
       "</style>\n",
       "<table border=\"1\" class=\"dataframe\">\n",
       "  <thead>\n",
       "    <tr style=\"text-align: right;\">\n",
       "      <th></th>\n",
       "      <th>ID</th>\n",
       "      <th>ParentID</th>\n",
       "      <th>BirthDate</th>\n",
       "      <th>GenderId</th>\n",
       "      <th>child_rank</th>\n",
       "      <th>family_rank</th>\n",
       "    </tr>\n",
       "  </thead>\n",
       "  <tbody>\n",
       "    <tr>\n",
       "      <th>460002</th>\n",
       "      <td>8323722933</td>\n",
       "      <td>8323722933</td>\n",
       "      <td>1975-06-11</td>\n",
       "      <td>1</td>\n",
       "      <td>8</td>\n",
       "      <td>1</td>\n",
       "    </tr>\n",
       "  </tbody>\n",
       "</table>\n",
       "</div>"
      ],
      "text/plain": [
       "                ID    ParentID   BirthDate  GenderId  child_rank  family_rank\n",
       "460002  8323722933  8323722933  1975-06-11         1           8            1"
      ]
     },
     "execution_count": 82,
     "metadata": {},
     "output_type": "execute_result"
    }
   ],
   "source": [
    "df[df.ID == '8323722933']"
   ]
  },
  {
   "cell_type": "code",
   "execution_count": 83,
   "metadata": {},
   "outputs": [
    {
     "data": {
      "text/plain": [
       "(500000, 6)"
      ]
     },
     "execution_count": 83,
     "metadata": {},
     "output_type": "execute_result"
    }
   ],
   "source": [
    "df[df.ID == df.ParentID].shape"
   ]
  },
  {
   "cell_type": "code",
   "execution_count": 84,
   "metadata": {},
   "outputs": [
    {
     "data": {
      "text/html": [
       "<div>\n",
       "<style scoped>\n",
       "    .dataframe tbody tr th:only-of-type {\n",
       "        vertical-align: middle;\n",
       "    }\n",
       "\n",
       "    .dataframe tbody tr th {\n",
       "        vertical-align: top;\n",
       "    }\n",
       "\n",
       "    .dataframe thead th {\n",
       "        text-align: right;\n",
       "    }\n",
       "</style>\n",
       "<table border=\"1\" class=\"dataframe\">\n",
       "  <thead>\n",
       "    <tr style=\"text-align: right;\">\n",
       "      <th></th>\n",
       "      <th>ID</th>\n",
       "      <th>ParentID</th>\n",
       "      <th>BirthDate</th>\n",
       "      <th>GenderId</th>\n",
       "      <th>child_rank</th>\n",
       "      <th>family_rank</th>\n",
       "    </tr>\n",
       "  </thead>\n",
       "  <tbody>\n",
       "    <tr>\n",
       "      <th>1065883</th>\n",
       "      <td>10000002972</td>\n",
       "      <td>10000002972</td>\n",
       "      <td>1982-07-21</td>\n",
       "      <td>1</td>\n",
       "      <td>2</td>\n",
       "      <td>2</td>\n",
       "    </tr>\n",
       "    <tr>\n",
       "      <th>265800</th>\n",
       "      <td>10000027326</td>\n",
       "      <td>10000027326</td>\n",
       "      <td>1955-10-24</td>\n",
       "      <td>1</td>\n",
       "      <td>1</td>\n",
       "      <td>1</td>\n",
       "    </tr>\n",
       "    <tr>\n",
       "      <th>493029</th>\n",
       "      <td>10000060290</td>\n",
       "      <td>10000060290</td>\n",
       "      <td>1979-05-29</td>\n",
       "      <td>1</td>\n",
       "      <td>1</td>\n",
       "      <td>1</td>\n",
       "    </tr>\n",
       "    <tr>\n",
       "      <th>686473</th>\n",
       "      <td>10000110474</td>\n",
       "      <td>10000110474</td>\n",
       "      <td>1976-05-10</td>\n",
       "      <td>1</td>\n",
       "      <td>1</td>\n",
       "      <td>2</td>\n",
       "    </tr>\n",
       "    <tr>\n",
       "      <th>971774</th>\n",
       "      <td>10000123266</td>\n",
       "      <td>10000123266</td>\n",
       "      <td>1975-09-11</td>\n",
       "      <td>2</td>\n",
       "      <td>2</td>\n",
       "      <td>1</td>\n",
       "    </tr>\n",
       "    <tr>\n",
       "      <th>1420021</th>\n",
       "      <td>10000126833</td>\n",
       "      <td>10000126833</td>\n",
       "      <td>1969-09-21</td>\n",
       "      <td>1</td>\n",
       "      <td>5</td>\n",
       "      <td>1</td>\n",
       "    </tr>\n",
       "    <tr>\n",
       "      <th>621427</th>\n",
       "      <td>10000153524</td>\n",
       "      <td>10000153524</td>\n",
       "      <td>1980-09-21</td>\n",
       "      <td>1</td>\n",
       "      <td>1</td>\n",
       "      <td>1</td>\n",
       "    </tr>\n",
       "    <tr>\n",
       "      <th>42097</th>\n",
       "      <td>10000217853</td>\n",
       "      <td>10000217853</td>\n",
       "      <td>1983-09-23</td>\n",
       "      <td>1</td>\n",
       "      <td>2</td>\n",
       "      <td>1</td>\n",
       "    </tr>\n",
       "    <tr>\n",
       "      <th>1074125</th>\n",
       "      <td>1000022862</td>\n",
       "      <td>1000022862</td>\n",
       "      <td>1939-03-29</td>\n",
       "      <td>1</td>\n",
       "      <td>4</td>\n",
       "      <td>1</td>\n",
       "    </tr>\n",
       "    <tr>\n",
       "      <th>1132421</th>\n",
       "      <td>1000023846</td>\n",
       "      <td>1000023846</td>\n",
       "      <td>1978-05-22</td>\n",
       "      <td>2</td>\n",
       "      <td>2</td>\n",
       "      <td>1</td>\n",
       "    </tr>\n",
       "    <tr>\n",
       "      <th>325949</th>\n",
       "      <td>10000255368</td>\n",
       "      <td>10000255368</td>\n",
       "      <td>1942-06-22</td>\n",
       "      <td>1</td>\n",
       "      <td>1</td>\n",
       "      <td>1</td>\n",
       "    </tr>\n",
       "    <tr>\n",
       "      <th>1295317</th>\n",
       "      <td>10000271358</td>\n",
       "      <td>10000271358</td>\n",
       "      <td>1989-09-06</td>\n",
       "      <td>1</td>\n",
       "      <td>3</td>\n",
       "      <td>2</td>\n",
       "    </tr>\n",
       "    <tr>\n",
       "      <th>1466520</th>\n",
       "      <td>10000315638</td>\n",
       "      <td>10000315638</td>\n",
       "      <td>1989-06-26</td>\n",
       "      <td>1</td>\n",
       "      <td>3</td>\n",
       "      <td>1</td>\n",
       "    </tr>\n",
       "    <tr>\n",
       "      <th>39104</th>\n",
       "      <td>10000355367</td>\n",
       "      <td>10000355367</td>\n",
       "      <td>1997-05-18</td>\n",
       "      <td>2</td>\n",
       "      <td>1</td>\n",
       "      <td>1</td>\n",
       "    </tr>\n",
       "    <tr>\n",
       "      <th>387960</th>\n",
       "      <td>10000375170</td>\n",
       "      <td>10000375170</td>\n",
       "      <td>1961-01-29</td>\n",
       "      <td>1</td>\n",
       "      <td>2</td>\n",
       "      <td>1</td>\n",
       "    </tr>\n",
       "    <tr>\n",
       "      <th>864019</th>\n",
       "      <td>10000417113</td>\n",
       "      <td>10000417113</td>\n",
       "      <td>1974-08-25</td>\n",
       "      <td>1</td>\n",
       "      <td>2</td>\n",
       "      <td>1</td>\n",
       "    </tr>\n",
       "    <tr>\n",
       "      <th>778064</th>\n",
       "      <td>10000430151</td>\n",
       "      <td>10000430151</td>\n",
       "      <td>1969-09-11</td>\n",
       "      <td>1</td>\n",
       "      <td>4</td>\n",
       "      <td>1</td>\n",
       "    </tr>\n",
       "    <tr>\n",
       "      <th>1338251</th>\n",
       "      <td>1000048200</td>\n",
       "      <td>1000048200</td>\n",
       "      <td>1978-03-21</td>\n",
       "      <td>1</td>\n",
       "      <td>4</td>\n",
       "      <td>1</td>\n",
       "    </tr>\n",
       "    <tr>\n",
       "      <th>995861</th>\n",
       "      <td>1000050045</td>\n",
       "      <td>1000050045</td>\n",
       "      <td>1989-09-28</td>\n",
       "      <td>2</td>\n",
       "      <td>1</td>\n",
       "      <td>1</td>\n",
       "    </tr>\n",
       "    <tr>\n",
       "      <th>1149667</th>\n",
       "      <td>10000512930</td>\n",
       "      <td>10000512930</td>\n",
       "      <td>1975-06-10</td>\n",
       "      <td>1</td>\n",
       "      <td>3</td>\n",
       "      <td>2</td>\n",
       "    </tr>\n",
       "  </tbody>\n",
       "</table>\n",
       "</div>"
      ],
      "text/plain": [
       "                  ID     ParentID   BirthDate  GenderId  child_rank  \\\n",
       "1065883  10000002972  10000002972  1982-07-21         1           2   \n",
       "265800   10000027326  10000027326  1955-10-24         1           1   \n",
       "493029   10000060290  10000060290  1979-05-29         1           1   \n",
       "686473   10000110474  10000110474  1976-05-10         1           1   \n",
       "971774   10000123266  10000123266  1975-09-11         2           2   \n",
       "1420021  10000126833  10000126833  1969-09-21         1           5   \n",
       "621427   10000153524  10000153524  1980-09-21         1           1   \n",
       "42097    10000217853  10000217853  1983-09-23         1           2   \n",
       "1074125   1000022862   1000022862  1939-03-29         1           4   \n",
       "1132421   1000023846   1000023846  1978-05-22         2           2   \n",
       "325949   10000255368  10000255368  1942-06-22         1           1   \n",
       "1295317  10000271358  10000271358  1989-09-06         1           3   \n",
       "1466520  10000315638  10000315638  1989-06-26         1           3   \n",
       "39104    10000355367  10000355367  1997-05-18         2           1   \n",
       "387960   10000375170  10000375170  1961-01-29         1           2   \n",
       "864019   10000417113  10000417113  1974-08-25         1           2   \n",
       "778064   10000430151  10000430151  1969-09-11         1           4   \n",
       "1338251   1000048200   1000048200  1978-03-21         1           4   \n",
       "995861    1000050045   1000050045  1989-09-28         2           1   \n",
       "1149667  10000512930  10000512930  1975-06-10         1           3   \n",
       "\n",
       "         family_rank  \n",
       "1065883            2  \n",
       "265800             1  \n",
       "493029             1  \n",
       "686473             2  \n",
       "971774             1  \n",
       "1420021            1  \n",
       "621427             1  \n",
       "42097              1  \n",
       "1074125            1  \n",
       "1132421            1  \n",
       "325949             1  \n",
       "1295317            2  \n",
       "1466520            1  \n",
       "39104              1  \n",
       "387960             1  \n",
       "864019             1  \n",
       "778064             1  \n",
       "1338251            1  \n",
       "995861             1  \n",
       "1149667            2  "
      ]
     },
     "execution_count": 84,
     "metadata": {},
     "output_type": "execute_result"
    }
   ],
   "source": [
    "df[df.ID == df.ParentID].head(20)"
   ]
  },
  {
   "cell_type": "code",
   "execution_count": 85,
   "metadata": {},
   "outputs": [
    {
     "data": {
      "text/plain": [
       "(990991, 6)"
      ]
     },
     "execution_count": 85,
     "metadata": {},
     "output_type": "execute_result"
    }
   ],
   "source": [
    "df[df.ID != df.ParentID].shape"
   ]
  },
  {
   "cell_type": "markdown",
   "metadata": {},
   "source": [
    "From 1 milion records, how many seems to be rationally correct?\n",
    "\n",
    "    -> Exercise. If other *National ID* verfication logic to be applied, what is the status on whole dataset?"
   ]
  },
  {
   "cell_type": "code",
   "execution_count": 87,
   "metadata": {},
   "outputs": [
    {
     "data": {
      "text/html": [
       "<div>\n",
       "<style scoped>\n",
       "    .dataframe tbody tr th:only-of-type {\n",
       "        vertical-align: middle;\n",
       "    }\n",
       "\n",
       "    .dataframe tbody tr th {\n",
       "        vertical-align: top;\n",
       "    }\n",
       "\n",
       "    .dataframe thead tr th {\n",
       "        text-align: left;\n",
       "    }\n",
       "\n",
       "    .dataframe thead tr:last-of-type th {\n",
       "        text-align: right;\n",
       "    }\n",
       "</style>\n",
       "<table border=\"1\" class=\"dataframe\">\n",
       "  <thead>\n",
       "    <tr>\n",
       "      <th></th>\n",
       "      <th>first</th>\n",
       "      <th>last</th>\n",
       "    </tr>\n",
       "    <tr>\n",
       "      <th></th>\n",
       "      <th>BirthDate</th>\n",
       "      <th>BirthDate</th>\n",
       "    </tr>\n",
       "    <tr>\n",
       "      <th>ParentID</th>\n",
       "      <th></th>\n",
       "      <th></th>\n",
       "    </tr>\n",
       "  </thead>\n",
       "  <tbody>\n",
       "    <tr>\n",
       "      <th>10000002972</th>\n",
       "      <td>1981-09-01</td>\n",
       "      <td>2012-06-28</td>\n",
       "    </tr>\n",
       "    <tr>\n",
       "      <th>10000027326</th>\n",
       "      <td>1955-10-24</td>\n",
       "      <td>1979-04-21</td>\n",
       "    </tr>\n",
       "    <tr>\n",
       "      <th>10000060290</th>\n",
       "      <td>1979-05-29</td>\n",
       "      <td>2013-09-04</td>\n",
       "    </tr>\n",
       "    <tr>\n",
       "      <th>10000110474</th>\n",
       "      <td>1975-03-25</td>\n",
       "      <td>2010-08-15</td>\n",
       "    </tr>\n",
       "    <tr>\n",
       "      <th>10000123266</th>\n",
       "      <td>1975-09-11</td>\n",
       "      <td>2004-11-21</td>\n",
       "    </tr>\n",
       "    <tr>\n",
       "      <th>10000126833</th>\n",
       "      <td>1969-09-21</td>\n",
       "      <td>2017-05-16</td>\n",
       "    </tr>\n",
       "    <tr>\n",
       "      <th>10000153524</th>\n",
       "      <td>1980-09-21</td>\n",
       "      <td>1984-03-21</td>\n",
       "    </tr>\n",
       "    <tr>\n",
       "      <th>10000217853</th>\n",
       "      <td>1983-09-23</td>\n",
       "      <td>2015-10-30</td>\n",
       "    </tr>\n",
       "    <tr>\n",
       "      <th>1000022862</th>\n",
       "      <td>1939-03-29</td>\n",
       "      <td>1993-06-12</td>\n",
       "    </tr>\n",
       "    <tr>\n",
       "      <th>1000023846</th>\n",
       "      <td>1978-05-22</td>\n",
       "      <td>2004-03-28</td>\n",
       "    </tr>\n",
       "    <tr>\n",
       "      <th>10000255368</th>\n",
       "      <td>1942-06-22</td>\n",
       "      <td>1942-06-22</td>\n",
       "    </tr>\n",
       "    <tr>\n",
       "      <th>10000271358</th>\n",
       "      <td>1983-08-23</td>\n",
       "      <td>2009-11-23</td>\n",
       "    </tr>\n",
       "    <tr>\n",
       "      <th>10000315638</th>\n",
       "      <td>1989-06-26</td>\n",
       "      <td>2019-03-26</td>\n",
       "    </tr>\n",
       "    <tr>\n",
       "      <th>10000355367</th>\n",
       "      <td>1997-05-18</td>\n",
       "      <td>1997-05-18</td>\n",
       "    </tr>\n",
       "    <tr>\n",
       "      <th>10000375170</th>\n",
       "      <td>1961-01-29</td>\n",
       "      <td>1987-12-14</td>\n",
       "    </tr>\n",
       "    <tr>\n",
       "      <th>10000417113</th>\n",
       "      <td>1974-08-25</td>\n",
       "      <td>2011-06-15</td>\n",
       "    </tr>\n",
       "    <tr>\n",
       "      <th>10000430151</th>\n",
       "      <td>1969-09-11</td>\n",
       "      <td>2007-05-27</td>\n",
       "    </tr>\n",
       "    <tr>\n",
       "      <th>1000048200</th>\n",
       "      <td>1978-03-21</td>\n",
       "      <td>2014-09-08</td>\n",
       "    </tr>\n",
       "    <tr>\n",
       "      <th>1000050045</th>\n",
       "      <td>1989-09-28</td>\n",
       "      <td>2016-11-22</td>\n",
       "    </tr>\n",
       "    <tr>\n",
       "      <th>10000512930</th>\n",
       "      <td>1974-03-13</td>\n",
       "      <td>2002-10-21</td>\n",
       "    </tr>\n",
       "  </tbody>\n",
       "</table>\n",
       "</div>"
      ],
      "text/plain": [
       "                  first        last\n",
       "              BirthDate   BirthDate\n",
       "ParentID                           \n",
       "10000002972  1981-09-01  2012-06-28\n",
       "10000027326  1955-10-24  1979-04-21\n",
       "10000060290  1979-05-29  2013-09-04\n",
       "10000110474  1975-03-25  2010-08-15\n",
       "10000123266  1975-09-11  2004-11-21\n",
       "10000126833  1969-09-21  2017-05-16\n",
       "10000153524  1980-09-21  1984-03-21\n",
       "10000217853  1983-09-23  2015-10-30\n",
       "1000022862   1939-03-29  1993-06-12\n",
       "1000023846   1978-05-22  2004-03-28\n",
       "10000255368  1942-06-22  1942-06-22\n",
       "10000271358  1983-08-23  2009-11-23\n",
       "10000315638  1989-06-26  2019-03-26\n",
       "10000355367  1997-05-18  1997-05-18\n",
       "10000375170  1961-01-29  1987-12-14\n",
       "10000417113  1974-08-25  2011-06-15\n",
       "10000430151  1969-09-11  2007-05-27\n",
       "1000048200   1978-03-21  2014-09-08\n",
       "1000050045   1989-09-28  2016-11-22\n",
       "10000512930  1974-03-13  2002-10-21"
      ]
     },
     "execution_count": 87,
     "metadata": {},
     "output_type": "execute_result"
    }
   ],
   "source": [
    "dff.head(20)"
   ]
  },
  {
   "cell_type": "code",
   "execution_count": 167,
   "metadata": {},
   "outputs": [
    {
     "data": {
      "text/plain": [
       "MultiIndex([('first', 'BirthDate'),\n",
       "            ( 'last', 'BirthDate')],\n",
       "           )"
      ]
     },
     "execution_count": 167,
     "metadata": {},
     "output_type": "execute_result"
    }
   ],
   "source": [
    "dff.columns"
   ]
  },
  {
   "cell_type": "code",
   "execution_count": 168,
   "metadata": {},
   "outputs": [],
   "source": [
    "dff.columns = ['first_child_BD', 'last_child_BD']"
   ]
  },
  {
   "cell_type": "code",
   "execution_count": 169,
   "metadata": {},
   "outputs": [
    {
     "data": {
      "text/plain": [
       "first_child_BD    object\n",
       "last_child_BD     object\n",
       "dtype: object"
      ]
     },
     "execution_count": 169,
     "metadata": {},
     "output_type": "execute_result"
    }
   ],
   "source": [
    "dff.dtypes"
   ]
  },
  {
   "cell_type": "code",
   "execution_count": 170,
   "metadata": {},
   "outputs": [
    {
     "data": {
      "text/html": [
       "<div>\n",
       "<style scoped>\n",
       "    .dataframe tbody tr th:only-of-type {\n",
       "        vertical-align: middle;\n",
       "    }\n",
       "\n",
       "    .dataframe tbody tr th {\n",
       "        vertical-align: top;\n",
       "    }\n",
       "\n",
       "    .dataframe thead th {\n",
       "        text-align: right;\n",
       "    }\n",
       "</style>\n",
       "<table border=\"1\" class=\"dataframe\">\n",
       "  <thead>\n",
       "    <tr style=\"text-align: right;\">\n",
       "      <th></th>\n",
       "      <th>ParentID</th>\n",
       "      <th>first_child_BD</th>\n",
       "      <th>last_child_BD</th>\n",
       "    </tr>\n",
       "  </thead>\n",
       "  <tbody>\n",
       "    <tr>\n",
       "      <th>0</th>\n",
       "      <td>10000002972</td>\n",
       "      <td>1981-09-01</td>\n",
       "      <td>2012-06-28</td>\n",
       "    </tr>\n",
       "    <tr>\n",
       "      <th>1</th>\n",
       "      <td>10000027326</td>\n",
       "      <td>1955-10-24</td>\n",
       "      <td>1979-04-21</td>\n",
       "    </tr>\n",
       "    <tr>\n",
       "      <th>2</th>\n",
       "      <td>10000060290</td>\n",
       "      <td>1979-05-29</td>\n",
       "      <td>2013-09-04</td>\n",
       "    </tr>\n",
       "    <tr>\n",
       "      <th>3</th>\n",
       "      <td>10000110474</td>\n",
       "      <td>1975-03-25</td>\n",
       "      <td>2010-08-15</td>\n",
       "    </tr>\n",
       "    <tr>\n",
       "      <th>4</th>\n",
       "      <td>10000123266</td>\n",
       "      <td>1975-09-11</td>\n",
       "      <td>2004-11-21</td>\n",
       "    </tr>\n",
       "  </tbody>\n",
       "</table>\n",
       "</div>"
      ],
      "text/plain": [
       "      ParentID first_child_BD last_child_BD\n",
       "0  10000002972     1981-09-01    2012-06-28\n",
       "1  10000027326     1955-10-24    1979-04-21\n",
       "2  10000060290     1979-05-29    2013-09-04\n",
       "3  10000110474     1975-03-25    2010-08-15\n",
       "4  10000123266     1975-09-11    2004-11-21"
      ]
     },
     "execution_count": 170,
     "metadata": {},
     "output_type": "execute_result"
    }
   ],
   "source": [
    "dff = dff.reset_index()\n",
    "dff.head()"
   ]
  },
  {
   "cell_type": "code",
   "execution_count": 171,
   "metadata": {},
   "outputs": [
    {
     "data": {
      "text/plain": [
       "(498319, 3)"
      ]
     },
     "execution_count": 171,
     "metadata": {},
     "output_type": "execute_result"
    }
   ],
   "source": [
    "dff.shape"
   ]
  },
  {
   "cell_type": "code",
   "execution_count": 176,
   "metadata": {},
   "outputs": [
    {
     "data": {
      "text/plain": [
       "(498137, 3)"
      ]
     },
     "execution_count": 176,
     "metadata": {},
     "output_type": "execute_result"
    }
   ],
   "source": [
    "dff = dff[(dff['first_child_BD'] < '2022-12-01') &\n",
    "          (dff['last_child_BD'] < '2022-12-01')]\n",
    "\n",
    "\n",
    "dff['first_child_BD'] = pd.to_datetime(dff['first_child_BD'], format='%Y-%m-%d', errors ='ignore') #'coerce')\n",
    "dff['last_child_BD'] = pd.to_datetime(dff['last_child_BD'], format='%Y-%m-%d', errors ='ignore') #'coerce')\n",
    "dff = dff[(dff['first_child_BD'].isna() !=True) &\n",
    "         (dff['last_child_BD'].isna() !=True)]\n",
    "\n",
    "dff.shape"
   ]
  },
  {
   "cell_type": "code",
   "execution_count": 177,
   "metadata": {},
   "outputs": [
    {
     "data": {
      "text/plain": [
       "ParentID                  object\n",
       "first_child_BD    datetime64[ns]\n",
       "last_child_BD     datetime64[ns]\n",
       "dtype: object"
      ]
     },
     "execution_count": 177,
     "metadata": {},
     "output_type": "execute_result"
    }
   ],
   "source": [
    "dff.dtypes"
   ]
  },
  {
   "cell_type": "code",
   "execution_count": 178,
   "metadata": {},
   "outputs": [],
   "source": [
    "dff['Delta'] = (dff['last_child_BD'] - dff['first_child_BD'])"
   ]
  },
  {
   "cell_type": "code",
   "execution_count": 179,
   "metadata": {},
   "outputs": [
    {
     "data": {
      "text/html": [
       "<div>\n",
       "<style scoped>\n",
       "    .dataframe tbody tr th:only-of-type {\n",
       "        vertical-align: middle;\n",
       "    }\n",
       "\n",
       "    .dataframe tbody tr th {\n",
       "        vertical-align: top;\n",
       "    }\n",
       "\n",
       "    .dataframe thead th {\n",
       "        text-align: right;\n",
       "    }\n",
       "</style>\n",
       "<table border=\"1\" class=\"dataframe\">\n",
       "  <thead>\n",
       "    <tr style=\"text-align: right;\">\n",
       "      <th></th>\n",
       "      <th>ParentID</th>\n",
       "      <th>first_child_BD</th>\n",
       "      <th>last_child_BD</th>\n",
       "      <th>Delta</th>\n",
       "    </tr>\n",
       "  </thead>\n",
       "  <tbody>\n",
       "    <tr>\n",
       "      <th>0</th>\n",
       "      <td>10000002972</td>\n",
       "      <td>1981-09-01</td>\n",
       "      <td>2012-06-28</td>\n",
       "      <td>11258 days</td>\n",
       "    </tr>\n",
       "    <tr>\n",
       "      <th>1</th>\n",
       "      <td>10000027326</td>\n",
       "      <td>1955-10-24</td>\n",
       "      <td>1979-04-21</td>\n",
       "      <td>8580 days</td>\n",
       "    </tr>\n",
       "    <tr>\n",
       "      <th>2</th>\n",
       "      <td>10000060290</td>\n",
       "      <td>1979-05-29</td>\n",
       "      <td>2013-09-04</td>\n",
       "      <td>12517 days</td>\n",
       "    </tr>\n",
       "    <tr>\n",
       "      <th>3</th>\n",
       "      <td>10000110474</td>\n",
       "      <td>1975-03-25</td>\n",
       "      <td>2010-08-15</td>\n",
       "      <td>12927 days</td>\n",
       "    </tr>\n",
       "    <tr>\n",
       "      <th>4</th>\n",
       "      <td>10000123266</td>\n",
       "      <td>1975-09-11</td>\n",
       "      <td>2004-11-21</td>\n",
       "      <td>10664 days</td>\n",
       "    </tr>\n",
       "  </tbody>\n",
       "</table>\n",
       "</div>"
      ],
      "text/plain": [
       "      ParentID first_child_BD last_child_BD      Delta\n",
       "0  10000002972     1981-09-01    2012-06-28 11258 days\n",
       "1  10000027326     1955-10-24    1979-04-21  8580 days\n",
       "2  10000060290     1979-05-29    2013-09-04 12517 days\n",
       "3  10000110474     1975-03-25    2010-08-15 12927 days\n",
       "4  10000123266     1975-09-11    2004-11-21 10664 days"
      ]
     },
     "execution_count": 179,
     "metadata": {},
     "output_type": "execute_result"
    }
   ],
   "source": [
    "dff.head()"
   ]
  },
  {
   "cell_type": "code",
   "execution_count": 180,
   "metadata": {},
   "outputs": [],
   "source": [
    "dff['Delta_year'] = (dff['last_child_BD'].dt.year - dff['first_child_BD'].dt.year)"
   ]
  },
  {
   "cell_type": "code",
   "execution_count": 181,
   "metadata": {},
   "outputs": [
    {
     "ename": "AttributeError",
     "evalue": "Can only use .dt accessor with datetimelike values",
     "output_type": "error",
     "traceback": [
      "\u001b[1;31m---------------------------------------------------------------------------\u001b[0m",
      "\u001b[1;31mAttributeError\u001b[0m                            Traceback (most recent call last)",
      "\u001b[1;32m<ipython-input-181-cc4c4dff0151>\u001b[0m in \u001b[0;36m<module>\u001b[1;34m\u001b[0m\n\u001b[1;32m----> 1\u001b[1;33m \u001b[0mdff\u001b[0m\u001b[1;33m.\u001b[0m\u001b[0mDelta_year\u001b[0m\u001b[1;33m.\u001b[0m\u001b[0mdt\u001b[0m\u001b[1;33m.\u001b[0m\u001b[0myear\u001b[0m\u001b[1;33m(\u001b[0m\u001b[1;33m)\u001b[0m \u001b[1;31m# not working? why?\u001b[0m\u001b[1;33m\u001b[0m\u001b[1;33m\u001b[0m\u001b[0m\n\u001b[0m",
      "\u001b[1;32mD:\\ProgramData\\Anaconda3\\lib\\site-packages\\pandas\\core\\generic.py\u001b[0m in \u001b[0;36m__getattr__\u001b[1;34m(self, name)\u001b[0m\n\u001b[0;32m   5133\u001b[0m             \u001b[1;32mor\u001b[0m \u001b[0mname\u001b[0m \u001b[1;32min\u001b[0m \u001b[0mself\u001b[0m\u001b[1;33m.\u001b[0m\u001b[0m_accessors\u001b[0m\u001b[1;33m\u001b[0m\u001b[1;33m\u001b[0m\u001b[0m\n\u001b[0;32m   5134\u001b[0m         ):\n\u001b[1;32m-> 5135\u001b[1;33m             \u001b[1;32mreturn\u001b[0m \u001b[0mobject\u001b[0m\u001b[1;33m.\u001b[0m\u001b[0m__getattribute__\u001b[0m\u001b[1;33m(\u001b[0m\u001b[0mself\u001b[0m\u001b[1;33m,\u001b[0m \u001b[0mname\u001b[0m\u001b[1;33m)\u001b[0m\u001b[1;33m\u001b[0m\u001b[1;33m\u001b[0m\u001b[0m\n\u001b[0m\u001b[0;32m   5136\u001b[0m         \u001b[1;32melse\u001b[0m\u001b[1;33m:\u001b[0m\u001b[1;33m\u001b[0m\u001b[1;33m\u001b[0m\u001b[0m\n\u001b[0;32m   5137\u001b[0m             \u001b[1;32mif\u001b[0m \u001b[0mself\u001b[0m\u001b[1;33m.\u001b[0m\u001b[0m_info_axis\u001b[0m\u001b[1;33m.\u001b[0m\u001b[0m_can_hold_identifiers_and_holds_name\u001b[0m\u001b[1;33m(\u001b[0m\u001b[0mname\u001b[0m\u001b[1;33m)\u001b[0m\u001b[1;33m:\u001b[0m\u001b[1;33m\u001b[0m\u001b[1;33m\u001b[0m\u001b[0m\n",
      "\u001b[1;32mD:\\ProgramData\\Anaconda3\\lib\\site-packages\\pandas\\core\\accessor.py\u001b[0m in \u001b[0;36m__get__\u001b[1;34m(self, obj, cls)\u001b[0m\n\u001b[0;32m    185\u001b[0m             \u001b[1;31m# we're accessing the attribute of the class, i.e., Dataset.geo\u001b[0m\u001b[1;33m\u001b[0m\u001b[1;33m\u001b[0m\u001b[1;33m\u001b[0m\u001b[0m\n\u001b[0;32m    186\u001b[0m             \u001b[1;32mreturn\u001b[0m \u001b[0mself\u001b[0m\u001b[1;33m.\u001b[0m\u001b[0m_accessor\u001b[0m\u001b[1;33m\u001b[0m\u001b[1;33m\u001b[0m\u001b[0m\n\u001b[1;32m--> 187\u001b[1;33m         \u001b[0maccessor_obj\u001b[0m \u001b[1;33m=\u001b[0m \u001b[0mself\u001b[0m\u001b[1;33m.\u001b[0m\u001b[0m_accessor\u001b[0m\u001b[1;33m(\u001b[0m\u001b[0mobj\u001b[0m\u001b[1;33m)\u001b[0m\u001b[1;33m\u001b[0m\u001b[1;33m\u001b[0m\u001b[0m\n\u001b[0m\u001b[0;32m    188\u001b[0m         \u001b[1;31m# Replace the property with the accessor object. Inspired by:\u001b[0m\u001b[1;33m\u001b[0m\u001b[1;33m\u001b[0m\u001b[1;33m\u001b[0m\u001b[0m\n\u001b[0;32m    189\u001b[0m         \u001b[1;31m# https://www.pydanny.com/cached-property.html\u001b[0m\u001b[1;33m\u001b[0m\u001b[1;33m\u001b[0m\u001b[1;33m\u001b[0m\u001b[0m\n",
      "\u001b[1;32mD:\\ProgramData\\Anaconda3\\lib\\site-packages\\pandas\\core\\indexes\\accessors.py\u001b[0m in \u001b[0;36m__new__\u001b[1;34m(cls, data)\u001b[0m\n\u001b[0;32m    478\u001b[0m             \u001b[1;32mreturn\u001b[0m \u001b[0mPeriodProperties\u001b[0m\u001b[1;33m(\u001b[0m\u001b[0mdata\u001b[0m\u001b[1;33m,\u001b[0m \u001b[0morig\u001b[0m\u001b[1;33m)\u001b[0m\u001b[1;33m\u001b[0m\u001b[1;33m\u001b[0m\u001b[0m\n\u001b[0;32m    479\u001b[0m \u001b[1;33m\u001b[0m\u001b[0m\n\u001b[1;32m--> 480\u001b[1;33m         \u001b[1;32mraise\u001b[0m \u001b[0mAttributeError\u001b[0m\u001b[1;33m(\u001b[0m\u001b[1;34m\"Can only use .dt accessor with datetimelike values\"\u001b[0m\u001b[1;33m)\u001b[0m\u001b[1;33m\u001b[0m\u001b[1;33m\u001b[0m\u001b[0m\n\u001b[0m",
      "\u001b[1;31mAttributeError\u001b[0m: Can only use .dt accessor with datetimelike values"
     ]
    }
   ],
   "source": [
    "dff.Delta_year.dt.year() # not working? why?"
   ]
  },
  {
   "cell_type": "code",
   "execution_count": 182,
   "metadata": {},
   "outputs": [
    {
     "data": {
      "text/html": [
       "<div>\n",
       "<style scoped>\n",
       "    .dataframe tbody tr th:only-of-type {\n",
       "        vertical-align: middle;\n",
       "    }\n",
       "\n",
       "    .dataframe tbody tr th {\n",
       "        vertical-align: top;\n",
       "    }\n",
       "\n",
       "    .dataframe thead th {\n",
       "        text-align: right;\n",
       "    }\n",
       "</style>\n",
       "<table border=\"1\" class=\"dataframe\">\n",
       "  <thead>\n",
       "    <tr style=\"text-align: right;\">\n",
       "      <th></th>\n",
       "      <th>ParentID</th>\n",
       "      <th>first_child_BD</th>\n",
       "      <th>last_child_BD</th>\n",
       "      <th>Delta</th>\n",
       "      <th>Delta_year</th>\n",
       "    </tr>\n",
       "  </thead>\n",
       "  <tbody>\n",
       "    <tr>\n",
       "      <th>0</th>\n",
       "      <td>10000002972</td>\n",
       "      <td>1981-09-01</td>\n",
       "      <td>2012-06-28</td>\n",
       "      <td>11258 days</td>\n",
       "      <td>31</td>\n",
       "    </tr>\n",
       "    <tr>\n",
       "      <th>1</th>\n",
       "      <td>10000027326</td>\n",
       "      <td>1955-10-24</td>\n",
       "      <td>1979-04-21</td>\n",
       "      <td>8580 days</td>\n",
       "      <td>24</td>\n",
       "    </tr>\n",
       "    <tr>\n",
       "      <th>2</th>\n",
       "      <td>10000060290</td>\n",
       "      <td>1979-05-29</td>\n",
       "      <td>2013-09-04</td>\n",
       "      <td>12517 days</td>\n",
       "      <td>34</td>\n",
       "    </tr>\n",
       "    <tr>\n",
       "      <th>3</th>\n",
       "      <td>10000110474</td>\n",
       "      <td>1975-03-25</td>\n",
       "      <td>2010-08-15</td>\n",
       "      <td>12927 days</td>\n",
       "      <td>35</td>\n",
       "    </tr>\n",
       "    <tr>\n",
       "      <th>4</th>\n",
       "      <td>10000123266</td>\n",
       "      <td>1975-09-11</td>\n",
       "      <td>2004-11-21</td>\n",
       "      <td>10664 days</td>\n",
       "      <td>29</td>\n",
       "    </tr>\n",
       "  </tbody>\n",
       "</table>\n",
       "</div>"
      ],
      "text/plain": [
       "      ParentID first_child_BD last_child_BD      Delta  Delta_year\n",
       "0  10000002972     1981-09-01    2012-06-28 11258 days          31\n",
       "1  10000027326     1955-10-24    1979-04-21  8580 days          24\n",
       "2  10000060290     1979-05-29    2013-09-04 12517 days          34\n",
       "3  10000110474     1975-03-25    2010-08-15 12927 days          35\n",
       "4  10000123266     1975-09-11    2004-11-21 10664 days          29"
      ]
     },
     "execution_count": 182,
     "metadata": {},
     "output_type": "execute_result"
    }
   ],
   "source": [
    "dff.head()"
   ]
  },
  {
   "cell_type": "code",
   "execution_count": 183,
   "metadata": {},
   "outputs": [
    {
     "data": {
      "text/html": [
       "<div>\n",
       "<style scoped>\n",
       "    .dataframe tbody tr th:only-of-type {\n",
       "        vertical-align: middle;\n",
       "    }\n",
       "\n",
       "    .dataframe tbody tr th {\n",
       "        vertical-align: top;\n",
       "    }\n",
       "\n",
       "    .dataframe thead th {\n",
       "        text-align: right;\n",
       "    }\n",
       "</style>\n",
       "<table border=\"1\" class=\"dataframe\">\n",
       "  <thead>\n",
       "    <tr style=\"text-align: right;\">\n",
       "      <th></th>\n",
       "      <th>ParentID</th>\n",
       "      <th>first_child_BD</th>\n",
       "      <th>last_child_BD</th>\n",
       "      <th>Delta</th>\n",
       "      <th>Delta_year</th>\n",
       "      <th>Delta_year_calculated</th>\n",
       "    </tr>\n",
       "  </thead>\n",
       "  <tbody>\n",
       "    <tr>\n",
       "      <th>0</th>\n",
       "      <td>10000002972</td>\n",
       "      <td>1981-09-01</td>\n",
       "      <td>2012-06-28</td>\n",
       "      <td>11258 days</td>\n",
       "      <td>31</td>\n",
       "      <td>30.822724</td>\n",
       "    </tr>\n",
       "    <tr>\n",
       "      <th>1</th>\n",
       "      <td>10000027326</td>\n",
       "      <td>1955-10-24</td>\n",
       "      <td>1979-04-21</td>\n",
       "      <td>8580 days</td>\n",
       "      <td>24</td>\n",
       "      <td>23.490760</td>\n",
       "    </tr>\n",
       "    <tr>\n",
       "      <th>2</th>\n",
       "      <td>10000060290</td>\n",
       "      <td>1979-05-29</td>\n",
       "      <td>2013-09-04</td>\n",
       "      <td>12517 days</td>\n",
       "      <td>34</td>\n",
       "      <td>34.269678</td>\n",
       "    </tr>\n",
       "    <tr>\n",
       "      <th>3</th>\n",
       "      <td>10000110474</td>\n",
       "      <td>1975-03-25</td>\n",
       "      <td>2010-08-15</td>\n",
       "      <td>12927 days</td>\n",
       "      <td>35</td>\n",
       "      <td>35.392197</td>\n",
       "    </tr>\n",
       "    <tr>\n",
       "      <th>4</th>\n",
       "      <td>10000123266</td>\n",
       "      <td>1975-09-11</td>\n",
       "      <td>2004-11-21</td>\n",
       "      <td>10664 days</td>\n",
       "      <td>29</td>\n",
       "      <td>29.196441</td>\n",
       "    </tr>\n",
       "  </tbody>\n",
       "</table>\n",
       "</div>"
      ],
      "text/plain": [
       "      ParentID first_child_BD last_child_BD      Delta  Delta_year  \\\n",
       "0  10000002972     1981-09-01    2012-06-28 11258 days          31   \n",
       "1  10000027326     1955-10-24    1979-04-21  8580 days          24   \n",
       "2  10000060290     1979-05-29    2013-09-04 12517 days          34   \n",
       "3  10000110474     1975-03-25    2010-08-15 12927 days          35   \n",
       "4  10000123266     1975-09-11    2004-11-21 10664 days          29   \n",
       "\n",
       "   Delta_year_calculated  \n",
       "0              30.822724  \n",
       "1              23.490760  \n",
       "2              34.269678  \n",
       "3              35.392197  \n",
       "4              29.196441  "
      ]
     },
     "execution_count": 183,
     "metadata": {},
     "output_type": "execute_result"
    }
   ],
   "source": [
    "dff['Delta_year_calculated'] = dff.Delta.dt.days/365.25\n",
    "dff.head()"
   ]
  },
  {
   "cell_type": "code",
   "execution_count": 184,
   "metadata": {},
   "outputs": [
    {
     "data": {
      "text/html": [
       "<div>\n",
       "<style scoped>\n",
       "    .dataframe tbody tr th:only-of-type {\n",
       "        vertical-align: middle;\n",
       "    }\n",
       "\n",
       "    .dataframe tbody tr th {\n",
       "        vertical-align: top;\n",
       "    }\n",
       "\n",
       "    .dataframe thead th {\n",
       "        text-align: right;\n",
       "    }\n",
       "</style>\n",
       "<table border=\"1\" class=\"dataframe\">\n",
       "  <thead>\n",
       "    <tr style=\"text-align: right;\">\n",
       "      <th></th>\n",
       "      <th>ParentID</th>\n",
       "      <th>first_child_BD</th>\n",
       "      <th>last_child_BD</th>\n",
       "      <th>Delta</th>\n",
       "      <th>Delta_year</th>\n",
       "      <th>Delta_year_calculated</th>\n",
       "    </tr>\n",
       "  </thead>\n",
       "  <tbody>\n",
       "    <tr>\n",
       "      <th>0</th>\n",
       "      <td>10000002972</td>\n",
       "      <td>1981-09-01</td>\n",
       "      <td>2012-06-28</td>\n",
       "      <td>11258 days</td>\n",
       "      <td>30.8</td>\n",
       "      <td>30.822724</td>\n",
       "    </tr>\n",
       "    <tr>\n",
       "      <th>1</th>\n",
       "      <td>10000027326</td>\n",
       "      <td>1955-10-24</td>\n",
       "      <td>1979-04-21</td>\n",
       "      <td>8580 days</td>\n",
       "      <td>23.5</td>\n",
       "      <td>23.490760</td>\n",
       "    </tr>\n",
       "    <tr>\n",
       "      <th>2</th>\n",
       "      <td>10000060290</td>\n",
       "      <td>1979-05-29</td>\n",
       "      <td>2013-09-04</td>\n",
       "      <td>12517 days</td>\n",
       "      <td>34.3</td>\n",
       "      <td>34.269678</td>\n",
       "    </tr>\n",
       "    <tr>\n",
       "      <th>3</th>\n",
       "      <td>10000110474</td>\n",
       "      <td>1975-03-25</td>\n",
       "      <td>2010-08-15</td>\n",
       "      <td>12927 days</td>\n",
       "      <td>35.4</td>\n",
       "      <td>35.392197</td>\n",
       "    </tr>\n",
       "    <tr>\n",
       "      <th>4</th>\n",
       "      <td>10000123266</td>\n",
       "      <td>1975-09-11</td>\n",
       "      <td>2004-11-21</td>\n",
       "      <td>10664 days</td>\n",
       "      <td>29.2</td>\n",
       "      <td>29.196441</td>\n",
       "    </tr>\n",
       "    <tr>\n",
       "      <th>5</th>\n",
       "      <td>10000126833</td>\n",
       "      <td>1969-09-21</td>\n",
       "      <td>2017-05-16</td>\n",
       "      <td>17404 days</td>\n",
       "      <td>47.6</td>\n",
       "      <td>47.649555</td>\n",
       "    </tr>\n",
       "    <tr>\n",
       "      <th>6</th>\n",
       "      <td>10000153524</td>\n",
       "      <td>1980-09-21</td>\n",
       "      <td>1984-03-21</td>\n",
       "      <td>1277 days</td>\n",
       "      <td>3.5</td>\n",
       "      <td>3.496235</td>\n",
       "    </tr>\n",
       "    <tr>\n",
       "      <th>7</th>\n",
       "      <td>10000217853</td>\n",
       "      <td>1983-09-23</td>\n",
       "      <td>2015-10-30</td>\n",
       "      <td>11725 days</td>\n",
       "      <td>32.1</td>\n",
       "      <td>32.101300</td>\n",
       "    </tr>\n",
       "    <tr>\n",
       "      <th>8</th>\n",
       "      <td>1000022862</td>\n",
       "      <td>1939-03-29</td>\n",
       "      <td>1993-06-12</td>\n",
       "      <td>19799 days</td>\n",
       "      <td>54.2</td>\n",
       "      <td>54.206708</td>\n",
       "    </tr>\n",
       "    <tr>\n",
       "      <th>9</th>\n",
       "      <td>1000023846</td>\n",
       "      <td>1978-05-22</td>\n",
       "      <td>2004-03-28</td>\n",
       "      <td>9442 days</td>\n",
       "      <td>25.9</td>\n",
       "      <td>25.850787</td>\n",
       "    </tr>\n",
       "  </tbody>\n",
       "</table>\n",
       "</div>"
      ],
      "text/plain": [
       "      ParentID first_child_BD last_child_BD      Delta  Delta_year  \\\n",
       "0  10000002972     1981-09-01    2012-06-28 11258 days        30.8   \n",
       "1  10000027326     1955-10-24    1979-04-21  8580 days        23.5   \n",
       "2  10000060290     1979-05-29    2013-09-04 12517 days        34.3   \n",
       "3  10000110474     1975-03-25    2010-08-15 12927 days        35.4   \n",
       "4  10000123266     1975-09-11    2004-11-21 10664 days        29.2   \n",
       "5  10000126833     1969-09-21    2017-05-16 17404 days        47.6   \n",
       "6  10000153524     1980-09-21    1984-03-21  1277 days         3.5   \n",
       "7  10000217853     1983-09-23    2015-10-30 11725 days        32.1   \n",
       "8   1000022862     1939-03-29    1993-06-12 19799 days        54.2   \n",
       "9   1000023846     1978-05-22    2004-03-28  9442 days        25.9   \n",
       "\n",
       "   Delta_year_calculated  \n",
       "0              30.822724  \n",
       "1              23.490760  \n",
       "2              34.269678  \n",
       "3              35.392197  \n",
       "4              29.196441  \n",
       "5              47.649555  \n",
       "6               3.496235  \n",
       "7              32.101300  \n",
       "8              54.206708  \n",
       "9              25.850787  "
      ]
     },
     "execution_count": 184,
     "metadata": {},
     "output_type": "execute_result"
    }
   ],
   "source": [
    "dff['Delta_year'] = round(( dff[\"last_child_BD\"] - dff[\"first_child_BD\"] ).dt.days / 365.25, 1)\n",
    "dff.head(10)"
   ]
  },
  {
   "cell_type": "code",
   "execution_count": 185,
   "metadata": {},
   "outputs": [
    {
     "data": {
      "text/plain": [
       "(-36 days +02:49:55.199999999, 1196 days 01:36:00]    120963\n",
       "(11960 days 16:00:00, 13156 days 17:36:00]             66546\n",
       "(10764 days 14:24:00, 11960 days 16:00:00]             65346\n",
       "(13156 days 17:36:00, 14352 days 19:12:00]             53219\n",
       "(9568 days 12:48:00, 10764 days 14:24:00]              47182\n",
       "(14352 days 19:12:00, 15548 days 20:48:00]             33348\n",
       "(8372 days 11:12:00, 9568 days 12:48:00]               23750\n",
       "(1196 days 01:36:00, 2392 days 03:12:00]               19489\n",
       "(15548 days 20:48:00, 16744 days 22:24:00]             17072\n",
       "(2392 days 03:12:00, 3588 days 04:48:00]               12926\n",
       "(16744 days 22:24:00, 17941 days 00:00:00]              7702\n",
       "(7176 days 09:36:00, 8372 days 11:12:00]                7631\n",
       "(3588 days 04:48:00, 4784 days 06:24:00]                5753\n",
       "(17941 days 00:00:00, 19137 days 01:36:00]              3794\n",
       "(5980 days 08:00:00, 7176 days 09:36:00]                2546\n",
       "(4784 days 06:24:00, 5980 days 08:00:00]                2197\n",
       "(19137 days 01:36:00, 20333 days 03:12:00]              2111\n",
       "(20333 days 03:12:00, 21529 days 04:48:00]              1616\n",
       "(21529 days 04:48:00, 22725 days 06:24:00]              1317\n",
       "(22725 days 06:24:00, 23921 days 08:00:00]              1071\n",
       "(23921 days 08:00:00, 25117 days 09:36:00]               835\n",
       "(25117 days 09:36:00, 26313 days 11:12:00]               607\n",
       "(26313 days 11:12:00, 27509 days 12:48:00]               442\n",
       "(27509 days 12:48:00, 28705 days 14:24:00]               312\n",
       "(28705 days 14:24:00, 29901 days 16:00:00]               169\n",
       "(29901 days 16:00:00, 31097 days 17:36:00]                89\n",
       "(31097 days 17:36:00, 32293 days 19:12:00]                73\n",
       "(32293 days 19:12:00, 33489 days 20:48:00]                22\n",
       "(33489 days 20:48:00, 34685 days 22:24:00]                 7\n",
       "(34685 days 22:24:00, 35882 days 00:00:00]                 2\n",
       "Name: Delta, dtype: int64"
      ]
     },
     "execution_count": 185,
     "metadata": {},
     "output_type": "execute_result"
    }
   ],
   "source": [
    "dff.Delta.value_counts(bins=30)\n",
    "# options of value_counts"
   ]
  },
  {
   "cell_type": "code",
   "execution_count": 186,
   "metadata": {},
   "outputs": [
    {
     "data": {
      "text/plain": [
       "Timedelta('35882 days 00:00:00')"
      ]
     },
     "execution_count": 186,
     "metadata": {},
     "output_type": "execute_result"
    }
   ],
   "source": [
    "dff.Delta.max()"
   ]
  },
  {
   "cell_type": "code",
   "execution_count": 187,
   "metadata": {},
   "outputs": [
    {
     "data": {
      "text/plain": [
       "(498137, 6)"
      ]
     },
     "execution_count": 187,
     "metadata": {},
     "output_type": "execute_result"
    }
   ],
   "source": [
    "dff.shape"
   ]
  },
  {
   "cell_type": "code",
   "execution_count": 189,
   "metadata": {},
   "outputs": [
    {
     "name": "stdout",
     "output_type": "stream",
     "text": [
      "Max difference between childern birth is 98.2 Wooo! \n",
      "\n",
      "Median difference between childern birth is 29.8\n"
     ]
    }
   ],
   "source": [
    "print(f'Max difference between childern birth is {dff.Delta_year.max()} Wooo! \\n')\n",
    "print(f'Median difference between childern birth is {dff.Delta_year.median()} \\n')\n",
    "print(f'Median difference between childern birth is {dff.Delta_year.median()} \\n')"
   ]
  },
  {
   "cell_type": "code",
   "execution_count": 193,
   "metadata": {},
   "outputs": [
    {
     "data": {
      "text/plain": [
       "<AxesSubplot:>"
      ]
     },
     "execution_count": 193,
     "metadata": {},
     "output_type": "execute_result"
    },
    {
     "data": {
      "image/png": "[encoded data removed]",
      "text/plain": [
       "<Figure size 432x288 with 1 Axes>"
      ]
     },
     "metadata": {
      "needs_background": "light"
     },
     "output_type": "display_data"
    }
   ],
   "source": [
    "dff.Delta_year.hist(bins=60)"
   ]
  },
  {
   "cell_type": "markdown",
   "metadata": {},
   "source": [
    "What is reasonable range of child age difference, i.e. age eldest child - age youngest child?\n",
    "\n",
    "- This is not real Parent, `سرپرست خانوار`\n",
    "\n",
    "```\n",
    "98.2! \n",
    "\n",
    "```"
   ]
  },
  {
   "cell_type": "code",
   "execution_count": 194,
   "metadata": {},
   "outputs": [
    {
     "data": {
      "text/plain": [
       "<AxesSubplot:>"
      ]
     },
     "execution_count": 194,
     "metadata": {},
     "output_type": "execute_result"
    },
    {
     "data": {
      "image/png": "[encoded data removed]",
      "text/plain": [
       "<Figure size 432x288 with 1 Axes>"
      ]
     },
     "metadata": {
      "needs_background": "light"
     },
     "output_type": "display_data"
    }
   ],
   "source": [
    "dff.query('Delta_year > 0').Delta_year.hist(bins=100)"
   ]
  },
  {
   "cell_type": "markdown",
   "metadata": {},
   "source": [
    "Google \"pandas pivot_table aggfunc calculate date difference\"\n",
    "\n",
    "Take a look at sample [stackoverflow solution](https://stackoverflow.com/questions/61681897/how-to-create-a-pivot-table-on-pandas-date-column-and-calculate-time-difference)\n",
    "    \n"
   ]
  },
  {
   "cell_type": "markdown",
   "metadata": {},
   "source": []
  },
  {
   "cell_type": "markdown",
   "metadata": {},
   "source": [
    "## Calculate distribution of children per parent"
   ]
  },
  {
   "cell_type": "code",
   "execution_count": 199,
   "metadata": {},
   "outputs": [
    {
     "data": {
      "text/html": [
       "<div>\n",
       "<style scoped>\n",
       "    .dataframe tbody tr th:only-of-type {\n",
       "        vertical-align: middle;\n",
       "    }\n",
       "\n",
       "    .dataframe tbody tr th {\n",
       "        vertical-align: top;\n",
       "    }\n",
       "\n",
       "    .dataframe thead tr th {\n",
       "        text-align: left;\n",
       "    }\n",
       "\n",
       "    .dataframe thead tr:last-of-type th {\n",
       "        text-align: right;\n",
       "    }\n",
       "</style>\n",
       "<table border=\"1\" class=\"dataframe\">\n",
       "  <thead>\n",
       "    <tr>\n",
       "      <th></th>\n",
       "      <th colspan=\"2\" halign=\"left\">BirthDate</th>\n",
       "      <th>GenderId</th>\n",
       "      <th colspan=\"2\" halign=\"left\">ID</th>\n",
       "    </tr>\n",
       "    <tr>\n",
       "      <th></th>\n",
       "      <th>first</th>\n",
       "      <th>last</th>\n",
       "      <th>&lt;lambda&gt;</th>\n",
       "      <th>&lt;lambda_0&gt;</th>\n",
       "      <th>count_nonzero</th>\n",
       "    </tr>\n",
       "    <tr>\n",
       "      <th>ParentID</th>\n",
       "      <th></th>\n",
       "      <th></th>\n",
       "      <th></th>\n",
       "      <th></th>\n",
       "      <th></th>\n",
       "    </tr>\n",
       "  </thead>\n",
       "  <tbody>\n",
       "    <tr>\n",
       "      <th>10000002972</th>\n",
       "      <td>1981-09-01</td>\n",
       "      <td>2012-06-28</td>\n",
       "      <td>1 4 6 5 9 1 2         2 \\n 1 0 6 5 8 8 3      ...</td>\n",
       "      <td>1,4,6,5,9,1,2, , , , , ,3,2,8,9,9,7,4,6,2,4,\\n...</td>\n",
       "      <td>3</td>\n",
       "    </tr>\n",
       "    <tr>\n",
       "      <th>10000027326</th>\n",
       "      <td>1955-10-24</td>\n",
       "      <td>1979-04-21</td>\n",
       "      <td>2 6 5 8 0 0         1 \\n 5 0 1 9 7 4         2...</td>\n",
       "      <td>2,6,5,8,0,0, , , , ,1,0,0,0,0,0,2,7,3,2,6,\\n,5...</td>\n",
       "      <td>3</td>\n",
       "    </tr>\n",
       "    <tr>\n",
       "      <th>10000060290</th>\n",
       "      <td>1979-05-29</td>\n",
       "      <td>2013-09-04</td>\n",
       "      <td>4 9 3 0 2 9           1 \\n 1 0 9 9 5 6 2      ...</td>\n",
       "      <td>4,9,3,0,2,9, , , , , ,1,0,0,0,0,0,6,0,2,9,0,\\n...</td>\n",
       "      <td>4</td>\n",
       "    </tr>\n",
       "  </tbody>\n",
       "</table>\n",
       "</div>"
      ],
      "text/plain": [
       "              BirthDate              \\\n",
       "                  first        last   \n",
       "ParentID                              \n",
       "10000002972  1981-09-01  2012-06-28   \n",
       "10000027326  1955-10-24  1979-04-21   \n",
       "10000060290  1979-05-29  2013-09-04   \n",
       "\n",
       "                                                      GenderId  \\\n",
       "                                                      <lambda>   \n",
       "ParentID                                                         \n",
       "10000002972  1 4 6 5 9 1 2         2 \\n 1 0 6 5 8 8 3      ...   \n",
       "10000027326  2 6 5 8 0 0         1 \\n 5 0 1 9 7 4         2...   \n",
       "10000060290  4 9 3 0 2 9           1 \\n 1 0 9 9 5 6 2      ...   \n",
       "\n",
       "                                                            ID                \n",
       "                                                    <lambda_0> count_nonzero  \n",
       "ParentID                                                                      \n",
       "10000002972  1,4,6,5,9,1,2, , , , , ,3,2,8,9,9,7,4,6,2,4,\\n...             3  \n",
       "10000027326  2,6,5,8,0,0, , , , ,1,0,0,0,0,0,2,7,3,2,6,\\n,5...             3  \n",
       "10000060290  4,9,3,0,2,9, , , , , ,1,0,0,0,0,0,6,0,2,9,0,\\n...             4  "
      ]
     },
     "execution_count": 199,
     "metadata": {},
     "output_type": "execute_result"
    }
   ],
   "source": [
    "dfff = df.head(10).pivot_table(index='ParentID', values = ['ID', 'GenderId','BirthDate'],\n",
    "                     aggfunc= {'ID': [np.count_nonzero, lambda x:','.join(str(x))],\n",
    "                               'GenderId': lambda x:' '.join(str(x)),\n",
    "                               'BirthDate':['first','last']\n",
    "                              }\n",
    "                     )#np.max() - np.min())\n",
    "\n",
    "dfff.head()"
   ]
  },
  {
   "cell_type": "markdown",
   "metadata": {},
   "source": [
    "- **Why it is like this?**\n",
    "   - What is the issue?\n",
    "- Note the \n",
    "\n",
    "   - `.head(10)` otherwise it take much more time to provide output!\n",
    "   - check `dtypes`"
   ]
  },
  {
   "cell_type": "code",
   "execution_count": 200,
   "metadata": {},
   "outputs": [
    {
     "data": {
      "text/plain": [
       "ID             object\n",
       "ParentID       object\n",
       "BirthDate      object\n",
       "GenderId        int64\n",
       "child_rank      int64\n",
       "family_rank     int64\n",
       "dtype: object"
      ]
     },
     "execution_count": 200,
     "metadata": {},
     "output_type": "execute_result"
    }
   ],
   "source": [
    "df.dtypes"
   ]
  },
  {
   "cell_type": "code",
   "execution_count": 202,
   "metadata": {},
   "outputs": [
    {
     "data": {
      "text/html": [
       "<div>\n",
       "<style scoped>\n",
       "    .dataframe tbody tr th:only-of-type {\n",
       "        vertical-align: middle;\n",
       "    }\n",
       "\n",
       "    .dataframe tbody tr th {\n",
       "        vertical-align: top;\n",
       "    }\n",
       "\n",
       "    .dataframe thead th {\n",
       "        text-align: right;\n",
       "    }\n",
       "</style>\n",
       "<table border=\"1\" class=\"dataframe\">\n",
       "  <thead>\n",
       "    <tr style=\"text-align: right;\">\n",
       "      <th></th>\n",
       "      <th>ID</th>\n",
       "      <th>ParentID</th>\n",
       "      <th>BirthDate</th>\n",
       "      <th>GenderId</th>\n",
       "      <th>child_rank</th>\n",
       "      <th>family_rank</th>\n",
       "    </tr>\n",
       "  </thead>\n",
       "  <tbody>\n",
       "    <tr>\n",
       "      <th>1465912</th>\n",
       "      <td>3289974624</td>\n",
       "      <td>10000002972</td>\n",
       "      <td>1981-09-01</td>\n",
       "      <td>2</td>\n",
       "      <td>3</td>\n",
       "      <td>1</td>\n",
       "    </tr>\n",
       "    <tr>\n",
       "      <th>1065883</th>\n",
       "      <td>10000002972</td>\n",
       "      <td>10000002972</td>\n",
       "      <td>1982-07-21</td>\n",
       "      <td>1</td>\n",
       "      <td>2</td>\n",
       "      <td>2</td>\n",
       "    </tr>\n",
       "    <tr>\n",
       "      <th>746988</th>\n",
       "      <td>6593387838</td>\n",
       "      <td>10000002972</td>\n",
       "      <td>2012-06-28</td>\n",
       "      <td>1</td>\n",
       "      <td>1</td>\n",
       "      <td>3</td>\n",
       "    </tr>\n",
       "    <tr>\n",
       "      <th>265800</th>\n",
       "      <td>10000027326</td>\n",
       "      <td>10000027326</td>\n",
       "      <td>1955-10-24</td>\n",
       "      <td>1</td>\n",
       "      <td>1</td>\n",
       "      <td>1</td>\n",
       "    </tr>\n",
       "    <tr>\n",
       "      <th>501974</th>\n",
       "      <td>1148918544</td>\n",
       "      <td>10000027326</td>\n",
       "      <td>1959-09-03</td>\n",
       "      <td>2</td>\n",
       "      <td>3</td>\n",
       "      <td>2</td>\n",
       "    </tr>\n",
       "  </tbody>\n",
       "</table>\n",
       "</div>"
      ],
      "text/plain": [
       "                  ID     ParentID   BirthDate  GenderId  child_rank  \\\n",
       "1465912   3289974624  10000002972  1981-09-01         2           3   \n",
       "1065883  10000002972  10000002972  1982-07-21         1           2   \n",
       "746988    6593387838  10000002972  2012-06-28         1           1   \n",
       "265800   10000027326  10000027326  1955-10-24         1           1   \n",
       "501974    1148918544  10000027326  1959-09-03         2           3   \n",
       "\n",
       "         family_rank  \n",
       "1465912            1  \n",
       "1065883            2  \n",
       "746988             3  \n",
       "265800             1  \n",
       "501974             2  "
      ]
     },
     "execution_count": 202,
     "metadata": {},
     "output_type": "execute_result"
    }
   ],
   "source": [
    "df.head()"
   ]
  },
  {
   "cell_type": "code",
   "execution_count": 64,
   "metadata": {},
   "outputs": [],
   "source": [
    "# df.BirthDate = pd.to_datetime(df.BirthDate, format='%Y-%m-%d', errors ='ignore') #'coerce')"
   ]
  },
  {
   "cell_type": "code",
   "execution_count": 213,
   "metadata": {},
   "outputs": [],
   "source": [
    "df = df.assign(ID = lambda x: x['ID'].astype(str),\n",
    "               BirthDate = lambda x:  pd.to_datetime(x['BirthDate'], format='%Y-%m-%d', errors ='ignore'),# note\n",
    "               # BirthDate = lambda x: x['BirthDate'].dt.strftime('%Y%m%d'),\n",
    "               ParentID = lambda x: x['ParentID'].astype(str),\n",
    "               GenderId = lambda x: x['GenderId'].astype('str'),\n",
    "               child_rank = lambda x: x['child_rank'].astype('category')\n",
    "              )"
   ]
  },
  {
   "cell_type": "code",
   "execution_count": 214,
   "metadata": {},
   "outputs": [
    {
     "data": {
      "text/plain": [
       "ID               object\n",
       "ParentID         object\n",
       "BirthDate        object\n",
       "GenderId         object\n",
       "child_rank     category\n",
       "family_rank       int64\n",
       "dtype: object"
      ]
     },
     "execution_count": 214,
     "metadata": {},
     "output_type": "execute_result"
    }
   ],
   "source": [
    "df.dtypes"
   ]
  },
  {
   "cell_type": "code",
   "execution_count": 208,
   "metadata": {},
   "outputs": [
    {
     "data": {
      "text/html": [
       "<div>\n",
       "<style scoped>\n",
       "    .dataframe tbody tr th:only-of-type {\n",
       "        vertical-align: middle;\n",
       "    }\n",
       "\n",
       "    .dataframe tbody tr th {\n",
       "        vertical-align: top;\n",
       "    }\n",
       "\n",
       "    .dataframe thead th {\n",
       "        text-align: right;\n",
       "    }\n",
       "</style>\n",
       "<table border=\"1\" class=\"dataframe\">\n",
       "  <thead>\n",
       "    <tr style=\"text-align: right;\">\n",
       "      <th></th>\n",
       "      <th>ID</th>\n",
       "      <th>ParentID</th>\n",
       "      <th>BirthDate</th>\n",
       "      <th>GenderId</th>\n",
       "      <th>child_rank</th>\n",
       "      <th>family_rank</th>\n",
       "    </tr>\n",
       "  </thead>\n",
       "  <tbody>\n",
       "    <tr>\n",
       "      <th>1465912</th>\n",
       "      <td>3289974624</td>\n",
       "      <td>10000002972</td>\n",
       "      <td>1981-09-01</td>\n",
       "      <td>2</td>\n",
       "      <td>3</td>\n",
       "      <td>1</td>\n",
       "    </tr>\n",
       "    <tr>\n",
       "      <th>1065883</th>\n",
       "      <td>10000002972</td>\n",
       "      <td>10000002972</td>\n",
       "      <td>1982-07-21</td>\n",
       "      <td>1</td>\n",
       "      <td>2</td>\n",
       "      <td>2</td>\n",
       "    </tr>\n",
       "    <tr>\n",
       "      <th>746988</th>\n",
       "      <td>6593387838</td>\n",
       "      <td>10000002972</td>\n",
       "      <td>2012-06-28</td>\n",
       "      <td>1</td>\n",
       "      <td>1</td>\n",
       "      <td>3</td>\n",
       "    </tr>\n",
       "    <tr>\n",
       "      <th>265800</th>\n",
       "      <td>10000027326</td>\n",
       "      <td>10000027326</td>\n",
       "      <td>1955-10-24</td>\n",
       "      <td>1</td>\n",
       "      <td>1</td>\n",
       "      <td>1</td>\n",
       "    </tr>\n",
       "    <tr>\n",
       "      <th>501974</th>\n",
       "      <td>1148918544</td>\n",
       "      <td>10000027326</td>\n",
       "      <td>1959-09-03</td>\n",
       "      <td>2</td>\n",
       "      <td>3</td>\n",
       "      <td>2</td>\n",
       "    </tr>\n",
       "  </tbody>\n",
       "</table>\n",
       "</div>"
      ],
      "text/plain": [
       "                  ID     ParentID   BirthDate GenderId child_rank  family_rank\n",
       "1465912   3289974624  10000002972  1981-09-01        2          3            1\n",
       "1065883  10000002972  10000002972  1982-07-21        1          2            2\n",
       "746988    6593387838  10000002972  2012-06-28        1          1            3\n",
       "265800   10000027326  10000027326  1955-10-24        1          1            1\n",
       "501974    1148918544  10000027326  1959-09-03        2          3            2"
      ]
     },
     "execution_count": 208,
     "metadata": {},
     "output_type": "execute_result"
    }
   ],
   "source": [
    "df.head()"
   ]
  },
  {
   "cell_type": "code",
   "execution_count": 215,
   "metadata": {},
   "outputs": [
    {
     "data": {
      "text/html": [
       "<div>\n",
       "<style scoped>\n",
       "    .dataframe tbody tr th:only-of-type {\n",
       "        vertical-align: middle;\n",
       "    }\n",
       "\n",
       "    .dataframe tbody tr th {\n",
       "        vertical-align: top;\n",
       "    }\n",
       "\n",
       "    .dataframe thead tr th {\n",
       "        text-align: left;\n",
       "    }\n",
       "\n",
       "    .dataframe thead tr:last-of-type th {\n",
       "        text-align: right;\n",
       "    }\n",
       "</style>\n",
       "<table border=\"1\" class=\"dataframe\">\n",
       "  <thead>\n",
       "    <tr>\n",
       "      <th></th>\n",
       "      <th colspan=\"2\" halign=\"left\">BirthDate</th>\n",
       "      <th>GenderId</th>\n",
       "      <th colspan=\"2\" halign=\"left\">ID</th>\n",
       "    </tr>\n",
       "    <tr>\n",
       "      <th></th>\n",
       "      <th>first</th>\n",
       "      <th>last</th>\n",
       "      <th>&lt;lambda&gt;</th>\n",
       "      <th>&lt;lambda_0&gt;</th>\n",
       "      <th>count_nonzero</th>\n",
       "    </tr>\n",
       "    <tr>\n",
       "      <th>ParentID</th>\n",
       "      <th></th>\n",
       "      <th></th>\n",
       "      <th></th>\n",
       "      <th></th>\n",
       "      <th></th>\n",
       "    </tr>\n",
       "  </thead>\n",
       "  <tbody>\n",
       "    <tr>\n",
       "      <th>10000002972</th>\n",
       "      <td>1981-09-01</td>\n",
       "      <td>2012-06-28</td>\n",
       "      <td>2 1 1</td>\n",
       "      <td>3289974624,10000002972,6593387838</td>\n",
       "      <td>3</td>\n",
       "    </tr>\n",
       "    <tr>\n",
       "      <th>10000027326</th>\n",
       "      <td>1955-10-24</td>\n",
       "      <td>1979-04-21</td>\n",
       "      <td>1 2 2</td>\n",
       "      <td>10000027326,1148918544,1900741776</td>\n",
       "      <td>3</td>\n",
       "    </tr>\n",
       "    <tr>\n",
       "      <th>10000060290</th>\n",
       "      <td>1979-05-29</td>\n",
       "      <td>2013-09-04</td>\n",
       "      <td>1 2 1 1</td>\n",
       "      <td>10000060290,2793581679,1498633497,7564096950</td>\n",
       "      <td>4</td>\n",
       "    </tr>\n",
       "    <tr>\n",
       "      <th>10000110474</th>\n",
       "      <td>1975-03-25</td>\n",
       "      <td>2010-08-15</td>\n",
       "      <td>2 1 2 2</td>\n",
       "      <td>1830649980,10000110474,7531608468,5166883284</td>\n",
       "      <td>4</td>\n",
       "    </tr>\n",
       "    <tr>\n",
       "      <th>10000123266</th>\n",
       "      <td>1975-09-11</td>\n",
       "      <td>2004-11-21</td>\n",
       "      <td>2 2</td>\n",
       "      <td>10000123266,9995967219</td>\n",
       "      <td>2</td>\n",
       "    </tr>\n",
       "  </tbody>\n",
       "</table>\n",
       "</div>"
      ],
      "text/plain": [
       "              BirthDate             GenderId  \\\n",
       "                  first        last <lambda>   \n",
       "ParentID                                       \n",
       "10000002972  1981-09-01  2012-06-28    2 1 1   \n",
       "10000027326  1955-10-24  1979-04-21    1 2 2   \n",
       "10000060290  1979-05-29  2013-09-04  1 2 1 1   \n",
       "10000110474  1975-03-25  2010-08-15  2 1 2 2   \n",
       "10000123266  1975-09-11  2004-11-21      2 2   \n",
       "\n",
       "                                                       ID                \n",
       "                                               <lambda_0> count_nonzero  \n",
       "ParentID                                                                 \n",
       "10000002972             3289974624,10000002972,6593387838             3  \n",
       "10000027326             10000027326,1148918544,1900741776             3  \n",
       "10000060290  10000060290,2793581679,1498633497,7564096950             4  \n",
       "10000110474  1830649980,10000110474,7531608468,5166883284             4  \n",
       "10000123266                        10000123266,9995967219             2  "
      ]
     },
     "execution_count": 215,
     "metadata": {},
     "output_type": "execute_result"
    }
   ],
   "source": [
    "dfff = df.pivot_table(index='ParentID', values = ['ID', 'GenderId','BirthDate'],\n",
    "                     aggfunc= {'ID': [np.count_nonzero, lambda x:','.join(x)],\n",
    "                               'GenderId': lambda x:' '.join(x),\n",
    "                               'BirthDate':['first','last']\n",
    "                              }\n",
    "                     )#np.max() - np.min())\n",
    "\n",
    "dfff.head()"
   ]
  },
  {
   "cell_type": "code",
   "execution_count": 228,
   "metadata": {},
   "outputs": [
    {
     "data": {
      "text/html": [
       "<div>\n",
       "<style scoped>\n",
       "    .dataframe tbody tr th:only-of-type {\n",
       "        vertical-align: middle;\n",
       "    }\n",
       "\n",
       "    .dataframe tbody tr th {\n",
       "        vertical-align: top;\n",
       "    }\n",
       "\n",
       "    .dataframe thead tr th {\n",
       "        text-align: left;\n",
       "    }\n",
       "\n",
       "    .dataframe thead tr:last-of-type th {\n",
       "        text-align: right;\n",
       "    }\n",
       "</style>\n",
       "<table border=\"1\" class=\"dataframe\">\n",
       "  <thead>\n",
       "    <tr>\n",
       "      <th></th>\n",
       "      <th>BirthDate</th>\n",
       "      <th>GenderId</th>\n",
       "      <th colspan=\"2\" halign=\"left\">ID</th>\n",
       "    </tr>\n",
       "    <tr>\n",
       "      <th></th>\n",
       "      <th>&lt;lambda&gt;</th>\n",
       "      <th>&lt;lambda&gt;</th>\n",
       "      <th>&lt;lambda_0&gt;</th>\n",
       "      <th>count_nonzero</th>\n",
       "    </tr>\n",
       "    <tr>\n",
       "      <th>ParentID</th>\n",
       "      <th></th>\n",
       "      <th></th>\n",
       "      <th></th>\n",
       "      <th></th>\n",
       "    </tr>\n",
       "  </thead>\n",
       "  <tbody>\n",
       "    <tr>\n",
       "      <th>10000002972</th>\n",
       "      <td>{1982-07-21, 2012-06-28, 1981-09-01}</td>\n",
       "      <td>2 1 1</td>\n",
       "      <td>3289974624,10000002972,6593387838</td>\n",
       "      <td>3</td>\n",
       "    </tr>\n",
       "    <tr>\n",
       "      <th>10000027326</th>\n",
       "      <td>{1955-10-24, 1979-04-21, 1959-09-03}</td>\n",
       "      <td>1 2 2</td>\n",
       "      <td>10000027326,1148918544,1900741776</td>\n",
       "      <td>3</td>\n",
       "    </tr>\n",
       "    <tr>\n",
       "      <th>10000060290</th>\n",
       "      <td>{2013-09-04, 2009-11-15, 1979-05-29, 1983-09-05}</td>\n",
       "      <td>1 2 1 1</td>\n",
       "      <td>10000060290,2793581679,1498633497,7564096950</td>\n",
       "      <td>4</td>\n",
       "    </tr>\n",
       "    <tr>\n",
       "      <th>10000110474</th>\n",
       "      <td>{2001-10-13, 1976-05-10, 1975-03-25, 2010-08-15}</td>\n",
       "      <td>2 1 2 2</td>\n",
       "      <td>1830649980,10000110474,7531608468,5166883284</td>\n",
       "      <td>4</td>\n",
       "    </tr>\n",
       "    <tr>\n",
       "      <th>10000123266</th>\n",
       "      <td>{1975-09-11, 2004-11-21}</td>\n",
       "      <td>2 2</td>\n",
       "      <td>10000123266,9995967219</td>\n",
       "      <td>2</td>\n",
       "    </tr>\n",
       "  </tbody>\n",
       "</table>\n",
       "</div>"
      ],
      "text/plain": [
       "                                                    BirthDate GenderId  \\\n",
       "                                                     <lambda> <lambda>   \n",
       "ParentID                                                                 \n",
       "10000002972              {1982-07-21, 2012-06-28, 1981-09-01}    2 1 1   \n",
       "10000027326              {1955-10-24, 1979-04-21, 1959-09-03}    1 2 2   \n",
       "10000060290  {2013-09-04, 2009-11-15, 1979-05-29, 1983-09-05}  1 2 1 1   \n",
       "10000110474  {2001-10-13, 1976-05-10, 1975-03-25, 2010-08-15}  2 1 2 2   \n",
       "10000123266                          {1975-09-11, 2004-11-21}      2 2   \n",
       "\n",
       "                                                       ID                \n",
       "                                               <lambda_0> count_nonzero  \n",
       "ParentID                                                                 \n",
       "10000002972             3289974624,10000002972,6593387838             3  \n",
       "10000027326             10000027326,1148918544,1900741776             3  \n",
       "10000060290  10000060290,2793581679,1498633497,7564096950             4  \n",
       "10000110474  1830649980,10000110474,7531608468,5166883284             4  \n",
       "10000123266                        10000123266,9995967219             2  "
      ]
     },
     "execution_count": 228,
     "metadata": {},
     "output_type": "execute_result"
    }
   ],
   "source": [
    "df_parent_child = df.pivot_table(index='ParentID', values = ['ID', 'GenderId','BirthDate'],\n",
    "                     aggfunc= {'ID': [np.count_nonzero, lambda x:','.join(x)],\n",
    "                               'GenderId': lambda x:' '.join(x),\n",
    "                               'BirthDate': lambda x: set(x)\n",
    "                              }\n",
    "                     )#np.max() - np.min())\n",
    "\n",
    "df_parent_child.head()"
   ]
  },
  {
   "cell_type": "code",
   "execution_count": 229,
   "metadata": {},
   "outputs": [
    {
     "data": {
      "text/plain": [
       "MultiIndex([('BirthDate',      '<lambda>'),\n",
       "            ( 'GenderId',      '<lambda>'),\n",
       "            (       'ID',    '<lambda_0>'),\n",
       "            (       'ID', 'count_nonzero')],\n",
       "           )"
      ]
     },
     "execution_count": 229,
     "metadata": {},
     "output_type": "execute_result"
    }
   ],
   "source": [
    "df_parent_child.columns"
   ]
  },
  {
   "cell_type": "code",
   "execution_count": 230,
   "metadata": {},
   "outputs": [],
   "source": [
    "df_parent_child.reset_index(inplace=True)"
   ]
  },
  {
   "cell_type": "code",
   "execution_count": 231,
   "metadata": {},
   "outputs": [],
   "source": [
    "df_parent_child.columns = ['ParentID', 'Distinct BirthDate', 'List Gender', 'List_N_ID', 'count_nonzero_N_ID']"
   ]
  },
  {
   "cell_type": "code",
   "execution_count": 232,
   "metadata": {},
   "outputs": [
    {
     "data": {
      "text/html": [
       "<div>\n",
       "<style scoped>\n",
       "    .dataframe tbody tr th:only-of-type {\n",
       "        vertical-align: middle;\n",
       "    }\n",
       "\n",
       "    .dataframe tbody tr th {\n",
       "        vertical-align: top;\n",
       "    }\n",
       "\n",
       "    .dataframe thead th {\n",
       "        text-align: right;\n",
       "    }\n",
       "</style>\n",
       "<table border=\"1\" class=\"dataframe\">\n",
       "  <thead>\n",
       "    <tr style=\"text-align: right;\">\n",
       "      <th></th>\n",
       "      <th>ParentID</th>\n",
       "      <th>Distinct BirthDate</th>\n",
       "      <th>List Gender</th>\n",
       "      <th>List_N_ID</th>\n",
       "      <th>count_nonzero_N_ID</th>\n",
       "    </tr>\n",
       "  </thead>\n",
       "  <tbody>\n",
       "    <tr>\n",
       "      <th>0</th>\n",
       "      <td>10000002972</td>\n",
       "      <td>{1982-07-21, 2012-06-28, 1981-09-01}</td>\n",
       "      <td>2 1 1</td>\n",
       "      <td>3289974624,10000002972,6593387838</td>\n",
       "      <td>3</td>\n",
       "    </tr>\n",
       "    <tr>\n",
       "      <th>1</th>\n",
       "      <td>10000027326</td>\n",
       "      <td>{1955-10-24, 1979-04-21, 1959-09-03}</td>\n",
       "      <td>1 2 2</td>\n",
       "      <td>10000027326,1148918544,1900741776</td>\n",
       "      <td>3</td>\n",
       "    </tr>\n",
       "    <tr>\n",
       "      <th>2</th>\n",
       "      <td>10000060290</td>\n",
       "      <td>{2013-09-04, 2009-11-15, 1979-05-29, 1983-09-05}</td>\n",
       "      <td>1 2 1 1</td>\n",
       "      <td>10000060290,2793581679,1498633497,7564096950</td>\n",
       "      <td>4</td>\n",
       "    </tr>\n",
       "    <tr>\n",
       "      <th>3</th>\n",
       "      <td>10000110474</td>\n",
       "      <td>{2001-10-13, 1976-05-10, 1975-03-25, 2010-08-15}</td>\n",
       "      <td>2 1 2 2</td>\n",
       "      <td>1830649980,10000110474,7531608468,5166883284</td>\n",
       "      <td>4</td>\n",
       "    </tr>\n",
       "    <tr>\n",
       "      <th>4</th>\n",
       "      <td>10000123266</td>\n",
       "      <td>{1975-09-11, 2004-11-21}</td>\n",
       "      <td>2 2</td>\n",
       "      <td>10000123266,9995967219</td>\n",
       "      <td>2</td>\n",
       "    </tr>\n",
       "    <tr>\n",
       "      <th>5</th>\n",
       "      <td>10000126833</td>\n",
       "      <td>{1997-02-20, 1969-09-21, 2002-03-27, 1977-02-0...</td>\n",
       "      <td>1 2 1 2 2</td>\n",
       "      <td>10000126833,7139090376,2021686323,2301551544,9...</td>\n",
       "      <td>5</td>\n",
       "    </tr>\n",
       "    <tr>\n",
       "      <th>6</th>\n",
       "      <td>10000153524</td>\n",
       "      <td>{1984-03-21, 1980-09-21}</td>\n",
       "      <td>1 2</td>\n",
       "      <td>10000153524,3665656107</td>\n",
       "      <td>2</td>\n",
       "    </tr>\n",
       "    <tr>\n",
       "      <th>7</th>\n",
       "      <td>10000217853</td>\n",
       "      <td>{2010-11-13, 1990-09-21, 2015-10-30, 1983-09-23}</td>\n",
       "      <td>1 2 2 2</td>\n",
       "      <td>10000217853,7361507955,5296157760,9999963735</td>\n",
       "      <td>4</td>\n",
       "    </tr>\n",
       "  </tbody>\n",
       "</table>\n",
       "</div>"
      ],
      "text/plain": [
       "      ParentID                                 Distinct BirthDate List Gender  \\\n",
       "0  10000002972               {1982-07-21, 2012-06-28, 1981-09-01}       2 1 1   \n",
       "1  10000027326               {1955-10-24, 1979-04-21, 1959-09-03}       1 2 2   \n",
       "2  10000060290   {2013-09-04, 2009-11-15, 1979-05-29, 1983-09-05}     1 2 1 1   \n",
       "3  10000110474   {2001-10-13, 1976-05-10, 1975-03-25, 2010-08-15}     2 1 2 2   \n",
       "4  10000123266                           {1975-09-11, 2004-11-21}         2 2   \n",
       "5  10000126833  {1997-02-20, 1969-09-21, 2002-03-27, 1977-02-0...   1 2 1 2 2   \n",
       "6  10000153524                           {1984-03-21, 1980-09-21}         1 2   \n",
       "7  10000217853   {2010-11-13, 1990-09-21, 2015-10-30, 1983-09-23}     1 2 2 2   \n",
       "\n",
       "                                           List_N_ID  count_nonzero_N_ID  \n",
       "0                  3289974624,10000002972,6593387838                   3  \n",
       "1                  10000027326,1148918544,1900741776                   3  \n",
       "2       10000060290,2793581679,1498633497,7564096950                   4  \n",
       "3       1830649980,10000110474,7531608468,5166883284                   4  \n",
       "4                             10000123266,9995967219                   2  \n",
       "5  10000126833,7139090376,2021686323,2301551544,9...                   5  \n",
       "6                             10000153524,3665656107                   2  \n",
       "7       10000217853,7361507955,5296157760,9999963735                   4  "
      ]
     },
     "execution_count": 232,
     "metadata": {},
     "output_type": "execute_result"
    }
   ],
   "source": [
    "df_parent_child.head(8)"
   ]
  },
  {
   "cell_type": "code",
   "execution_count": 233,
   "metadata": {},
   "outputs": [
    {
     "data": {
      "text/plain": [
       "(500000, 6)"
      ]
     },
     "execution_count": 233,
     "metadata": {},
     "output_type": "execute_result"
    }
   ],
   "source": [
    "df_child1 = df[df.child_rank == 1]\n",
    "df_child1.shape"
   ]
  },
  {
   "cell_type": "code",
   "execution_count": 234,
   "metadata": {},
   "outputs": [
    {
     "data": {
      "text/html": [
       "<div>\n",
       "<style scoped>\n",
       "    .dataframe tbody tr th:only-of-type {\n",
       "        vertical-align: middle;\n",
       "    }\n",
       "\n",
       "    .dataframe tbody tr th {\n",
       "        vertical-align: top;\n",
       "    }\n",
       "\n",
       "    .dataframe thead th {\n",
       "        text-align: right;\n",
       "    }\n",
       "</style>\n",
       "<table border=\"1\" class=\"dataframe\">\n",
       "  <thead>\n",
       "    <tr style=\"text-align: right;\">\n",
       "      <th></th>\n",
       "      <th>ID</th>\n",
       "      <th>ParentID</th>\n",
       "      <th>BirthDate</th>\n",
       "      <th>GenderId</th>\n",
       "      <th>child_rank</th>\n",
       "      <th>family_rank</th>\n",
       "    </tr>\n",
       "  </thead>\n",
       "  <tbody>\n",
       "    <tr>\n",
       "      <th>746988</th>\n",
       "      <td>6593387838</td>\n",
       "      <td>10000002972</td>\n",
       "      <td>2012-06-28</td>\n",
       "      <td>1</td>\n",
       "      <td>1</td>\n",
       "      <td>3</td>\n",
       "    </tr>\n",
       "    <tr>\n",
       "      <th>265800</th>\n",
       "      <td>10000027326</td>\n",
       "      <td>10000027326</td>\n",
       "      <td>1955-10-24</td>\n",
       "      <td>1</td>\n",
       "      <td>1</td>\n",
       "      <td>1</td>\n",
       "    </tr>\n",
       "    <tr>\n",
       "      <th>493029</th>\n",
       "      <td>10000060290</td>\n",
       "      <td>10000060290</td>\n",
       "      <td>1979-05-29</td>\n",
       "      <td>1</td>\n",
       "      <td>1</td>\n",
       "      <td>1</td>\n",
       "    </tr>\n",
       "    <tr>\n",
       "      <th>686473</th>\n",
       "      <td>10000110474</td>\n",
       "      <td>10000110474</td>\n",
       "      <td>1976-05-10</td>\n",
       "      <td>1</td>\n",
       "      <td>1</td>\n",
       "      <td>2</td>\n",
       "    </tr>\n",
       "    <tr>\n",
       "      <th>874858</th>\n",
       "      <td>9995967219</td>\n",
       "      <td>10000123266</td>\n",
       "      <td>2004-11-21</td>\n",
       "      <td>2</td>\n",
       "      <td>1</td>\n",
       "      <td>2</td>\n",
       "    </tr>\n",
       "  </tbody>\n",
       "</table>\n",
       "</div>"
      ],
      "text/plain": [
       "                 ID     ParentID   BirthDate GenderId child_rank  family_rank\n",
       "746988   6593387838  10000002972  2012-06-28        1          1            3\n",
       "265800  10000027326  10000027326  1955-10-24        1          1            1\n",
       "493029  10000060290  10000060290  1979-05-29        1          1            1\n",
       "686473  10000110474  10000110474  1976-05-10        1          1            2\n",
       "874858   9995967219  10000123266  2004-11-21        2          1            2"
      ]
     },
     "execution_count": 234,
     "metadata": {},
     "output_type": "execute_result"
    }
   ],
   "source": [
    "df_child1.head()"
   ]
  },
  {
   "cell_type": "markdown",
   "metadata": {},
   "source": []
  },
  {
   "cell_type": "markdown",
   "metadata": {},
   "source": [
    "## Our aim for end of class for data cleaning with Pandas\n",
    "\n",
    "Sample of complex data cleaning - Data preprocessing you can write with `Pandas`.\n",
    "\n",
    "```python\n",
    "def data_cleaning(input_csv):\n",
    "    df = (pd.read_csv(input_csv, parse_dates=['date', 'tansaction_rdate'])   \n",
    "          # basic read file. It is highly recommended to use `read_csv` features. Here we convert `date`, `tansaction_rdate`  columns into `datetime` in read operation.  \n",
    "            .rename(columns=str.lower) # rename columns or change all to lower or upper\n",
    "            .rename(columns=lambda s: s.strip())  # to remove out of name 'spaces' in name of columns \n",
    "            .rename(columns= {'date':'date_key', 'customer_msisdn':'msisdn_nsk'}) # rename columns or change all to lower or upper\n",
    "            .drop('payment_id', axis=1) # drop column or drop row\n",
    "            .assign(date_key=lambda x: x['date_key'].dt.strftime('%Y%m%d'),  # make new columns from existintg - useful for calculation, data_time, change to categorical\n",
    "                    msisdn_nsk_clean=lambda x: x['msisdn_nsk'].astype(str).str[2:],  # get rid of the first 2 digits - substr in SQL\n",
    "                    msisdn_lastdigit=lambda x: x['msisdn_nsk'].astype(str).str[-1],  # extract last digit to be used\n",
    "                    msisdn_nsk_extended=lambda x: '935' + x['msisdn_nsk'].astype(str).str[2:] + '935',  # add text - Concatenate in SQL\n",
    "                    msisdn_check=lambda x: x['msisdn_nsk'].str.contains(r'\\d{11}'),  # regex usecase sample: check if columns contains pattern of 11 decimal digit\n",
    "                    tansaction=lambda x: x['tansaction'].replace({'%':''}, regex=True).astype('float'),  # remove '%' character from 'tansaction' column and convert to float\n",
    "                    temp_hour=lambda x: x['transaction_date'].dt.hour)  # extract hour \n",
    "            .query('delearname in (\"SNAPCAB\", \"SNAPFOOD\", \"SNAPMARKET\")')   # filtering on column with `in`\n",
    "            #.sort_values(by = ['granted_gift_irr'], ascending=False)\n",
    "            .assign(rank=lambda x: x.sort_values(['granted_gift_irr', 'msisdn_lastdigit','temp_hour'], #  make rank based on 3 columns; similar to `SQL` partition by\n",
    "                                                 ascending=(False, True, True)\n",
    "                                                 )\n",
    "                    .groupby(['date_key', 'msisdn_lastdigit'])\n",
    "                    .cumcount()\n",
    "                    + 1    \n",
    "                    )\n",
    "            #.query(\"rank < 3\")\n",
    "            .sort_values([\"date_key\", \"rank\"])  # sort values\n",
    "          )\n",
    "    return df\n",
    "    \n",
    "df = data_cleaning('marketplace_cashback_20perc_20220517.csv')\n",
    "```"
   ]
  },
  {
   "cell_type": "code",
   "execution_count": null,
   "metadata": {},
   "outputs": [],
   "source": []
  },
  {
   "cell_type": "code",
   "execution_count": null,
   "metadata": {},
   "outputs": [],
   "source": []
  },
  {
   "cell_type": "markdown",
   "metadata": {},
   "source": [
    "Work to make date with columns of `Year`, `Month`, `Day`\n",
    "\n",
    "```python\n",
    "# 20220517\n",
    "df['Date'] = df['Year'] + '/' + df['Month'] + '/' + df['Day']  # 2022/05/17\n",
    "# type change\n",
    "```"
   ]
  },
  {
   "cell_type": "code",
   "execution_count": null,
   "metadata": {},
   "outputs": [],
   "source": []
  },
  {
   "cell_type": "code",
   "execution_count": 249,
   "metadata": {},
   "outputs": [],
   "source": [
    "cols = ['ID', 'ParentID', 'BirthDate', 'GenderId']\n",
    "df = pd.read_csv('./data/Sample2Percent_Refah_4000412.xlsx.csv', \n",
    "                 nrows = 2_000_000,\n",
    "                 usecols= cols,\n",
    "                 encoding = \"ISO-8859-1\") "
   ]
  },
  {
   "cell_type": "code",
   "execution_count": 256,
   "metadata": {},
   "outputs": [],
   "source": [
    "df = df[df.BirthDate.isna()!=True]"
   ]
  },
  {
   "cell_type": "code",
   "execution_count": 257,
   "metadata": {},
   "outputs": [
    {
     "data": {
      "text/plain": [
       "ID            int64\n",
       "ParentID      int64\n",
       "BirthDate    object\n",
       "GenderId      int64\n",
       "dtype: object"
      ]
     },
     "execution_count": 257,
     "metadata": {},
     "output_type": "execute_result"
    }
   ],
   "source": [
    "df.dtypes"
   ]
  },
  {
   "cell_type": "code",
   "execution_count": 264,
   "metadata": {},
   "outputs": [],
   "source": [
    "#df.BirthDate = pd.to_datetime(df.BirthDate, format='%Y-%m-%d', errors ='ignore') #'coerce')\n",
    "df = df.assign(date=lambda x: pd.to_datetime(x['BirthDate'], format='%Y-%m-%d', errors ='ignore') )"
   ]
  },
  {
   "cell_type": "code",
   "execution_count": 265,
   "metadata": {},
   "outputs": [
    {
     "data": {
      "text/plain": [
       "ID            int64\n",
       "ParentID      int64\n",
       "BirthDate    object\n",
       "GenderId      int64\n",
       "date         object\n",
       "dtype: object"
      ]
     },
     "execution_count": 265,
     "metadata": {},
     "output_type": "execute_result"
    }
   ],
   "source": [
    "df.dtypes"
   ]
  },
  {
   "cell_type": "code",
   "execution_count": 261,
   "metadata": {},
   "outputs": [
    {
     "ename": "AttributeError",
     "evalue": "Can only use .dt accessor with datetimelike values",
     "output_type": "error",
     "traceback": [
      "\u001b[1;31m---------------------------------------------------------------------------\u001b[0m",
      "\u001b[1;31mAttributeError\u001b[0m                            Traceback (most recent call last)",
      "\u001b[1;32m<ipython-input-261-7fb5f745229b>\u001b[0m in \u001b[0;36m<module>\u001b[1;34m\u001b[0m\n\u001b[1;32m----> 1\u001b[1;33m \u001b[0mdf\u001b[0m\u001b[1;33m.\u001b[0m\u001b[0massign\u001b[0m\u001b[1;33m(\u001b[0m\u001b[0mdate\u001b[0m\u001b[1;33m=\u001b[0m\u001b[1;32mlambda\u001b[0m \u001b[0mx\u001b[0m\u001b[1;33m:\u001b[0m \u001b[0mx\u001b[0m\u001b[1;33m[\u001b[0m\u001b[1;34m'BirthDate'\u001b[0m\u001b[1;33m]\u001b[0m\u001b[1;33m.\u001b[0m\u001b[0mdt\u001b[0m\u001b[1;33m.\u001b[0m\u001b[0mstrftime\u001b[0m\u001b[1;33m(\u001b[0m\u001b[1;34m'%Y_%m_%d  %c:%B'\u001b[0m\u001b[1;33m)\u001b[0m\u001b[1;33m)\u001b[0m\u001b[1;33m\u001b[0m\u001b[1;33m\u001b[0m\u001b[0m\n\u001b[0m",
      "\u001b[1;32mD:\\ProgramData\\Anaconda3\\lib\\site-packages\\pandas\\core\\frame.py\u001b[0m in \u001b[0;36massign\u001b[1;34m(self, **kwargs)\u001b[0m\n\u001b[0;32m   3693\u001b[0m \u001b[1;33m\u001b[0m\u001b[0m\n\u001b[0;32m   3694\u001b[0m         \u001b[1;32mfor\u001b[0m \u001b[0mk\u001b[0m\u001b[1;33m,\u001b[0m \u001b[0mv\u001b[0m \u001b[1;32min\u001b[0m \u001b[0mkwargs\u001b[0m\u001b[1;33m.\u001b[0m\u001b[0mitems\u001b[0m\u001b[1;33m(\u001b[0m\u001b[1;33m)\u001b[0m\u001b[1;33m:\u001b[0m\u001b[1;33m\u001b[0m\u001b[1;33m\u001b[0m\u001b[0m\n\u001b[1;32m-> 3695\u001b[1;33m             \u001b[0mdata\u001b[0m\u001b[1;33m[\u001b[0m\u001b[0mk\u001b[0m\u001b[1;33m]\u001b[0m \u001b[1;33m=\u001b[0m \u001b[0mcom\u001b[0m\u001b[1;33m.\u001b[0m\u001b[0mapply_if_callable\u001b[0m\u001b[1;33m(\u001b[0m\u001b[0mv\u001b[0m\u001b[1;33m,\u001b[0m \u001b[0mdata\u001b[0m\u001b[1;33m)\u001b[0m\u001b[1;33m\u001b[0m\u001b[1;33m\u001b[0m\u001b[0m\n\u001b[0m\u001b[0;32m   3696\u001b[0m         \u001b[1;32mreturn\u001b[0m \u001b[0mdata\u001b[0m\u001b[1;33m\u001b[0m\u001b[1;33m\u001b[0m\u001b[0m\n\u001b[0;32m   3697\u001b[0m \u001b[1;33m\u001b[0m\u001b[0m\n",
      "\u001b[1;32mD:\\ProgramData\\Anaconda3\\lib\\site-packages\\pandas\\core\\common.py\u001b[0m in \u001b[0;36mapply_if_callable\u001b[1;34m(maybe_callable, obj, **kwargs)\u001b[0m\n\u001b[0;32m    339\u001b[0m     \"\"\"\n\u001b[0;32m    340\u001b[0m     \u001b[1;32mif\u001b[0m \u001b[0mcallable\u001b[0m\u001b[1;33m(\u001b[0m\u001b[0mmaybe_callable\u001b[0m\u001b[1;33m)\u001b[0m\u001b[1;33m:\u001b[0m\u001b[1;33m\u001b[0m\u001b[1;33m\u001b[0m\u001b[0m\n\u001b[1;32m--> 341\u001b[1;33m         \u001b[1;32mreturn\u001b[0m \u001b[0mmaybe_callable\u001b[0m\u001b[1;33m(\u001b[0m\u001b[0mobj\u001b[0m\u001b[1;33m,\u001b[0m \u001b[1;33m**\u001b[0m\u001b[0mkwargs\u001b[0m\u001b[1;33m)\u001b[0m\u001b[1;33m\u001b[0m\u001b[1;33m\u001b[0m\u001b[0m\n\u001b[0m\u001b[0;32m    342\u001b[0m \u001b[1;33m\u001b[0m\u001b[0m\n\u001b[0;32m    343\u001b[0m     \u001b[1;32mreturn\u001b[0m \u001b[0mmaybe_callable\u001b[0m\u001b[1;33m\u001b[0m\u001b[1;33m\u001b[0m\u001b[0m\n",
      "\u001b[1;32m<ipython-input-261-7fb5f745229b>\u001b[0m in \u001b[0;36m<lambda>\u001b[1;34m(x)\u001b[0m\n\u001b[1;32m----> 1\u001b[1;33m \u001b[0mdf\u001b[0m\u001b[1;33m.\u001b[0m\u001b[0massign\u001b[0m\u001b[1;33m(\u001b[0m\u001b[0mdate\u001b[0m\u001b[1;33m=\u001b[0m\u001b[1;32mlambda\u001b[0m \u001b[0mx\u001b[0m\u001b[1;33m:\u001b[0m \u001b[0mx\u001b[0m\u001b[1;33m[\u001b[0m\u001b[1;34m'BirthDate'\u001b[0m\u001b[1;33m]\u001b[0m\u001b[1;33m.\u001b[0m\u001b[0mdt\u001b[0m\u001b[1;33m.\u001b[0m\u001b[0mstrftime\u001b[0m\u001b[1;33m(\u001b[0m\u001b[1;34m'%Y_%m_%d  %c:%B'\u001b[0m\u001b[1;33m)\u001b[0m\u001b[1;33m)\u001b[0m\u001b[1;33m\u001b[0m\u001b[1;33m\u001b[0m\u001b[0m\n\u001b[0m",
      "\u001b[1;32mD:\\ProgramData\\Anaconda3\\lib\\site-packages\\pandas\\core\\generic.py\u001b[0m in \u001b[0;36m__getattr__\u001b[1;34m(self, name)\u001b[0m\n\u001b[0;32m   5133\u001b[0m             \u001b[1;32mor\u001b[0m \u001b[0mname\u001b[0m \u001b[1;32min\u001b[0m \u001b[0mself\u001b[0m\u001b[1;33m.\u001b[0m\u001b[0m_accessors\u001b[0m\u001b[1;33m\u001b[0m\u001b[1;33m\u001b[0m\u001b[0m\n\u001b[0;32m   5134\u001b[0m         ):\n\u001b[1;32m-> 5135\u001b[1;33m             \u001b[1;32mreturn\u001b[0m \u001b[0mobject\u001b[0m\u001b[1;33m.\u001b[0m\u001b[0m__getattribute__\u001b[0m\u001b[1;33m(\u001b[0m\u001b[0mself\u001b[0m\u001b[1;33m,\u001b[0m \u001b[0mname\u001b[0m\u001b[1;33m)\u001b[0m\u001b[1;33m\u001b[0m\u001b[1;33m\u001b[0m\u001b[0m\n\u001b[0m\u001b[0;32m   5136\u001b[0m         \u001b[1;32melse\u001b[0m\u001b[1;33m:\u001b[0m\u001b[1;33m\u001b[0m\u001b[1;33m\u001b[0m\u001b[0m\n\u001b[0;32m   5137\u001b[0m             \u001b[1;32mif\u001b[0m \u001b[0mself\u001b[0m\u001b[1;33m.\u001b[0m\u001b[0m_info_axis\u001b[0m\u001b[1;33m.\u001b[0m\u001b[0m_can_hold_identifiers_and_holds_name\u001b[0m\u001b[1;33m(\u001b[0m\u001b[0mname\u001b[0m\u001b[1;33m)\u001b[0m\u001b[1;33m:\u001b[0m\u001b[1;33m\u001b[0m\u001b[1;33m\u001b[0m\u001b[0m\n",
      "\u001b[1;32mD:\\ProgramData\\Anaconda3\\lib\\site-packages\\pandas\\core\\accessor.py\u001b[0m in \u001b[0;36m__get__\u001b[1;34m(self, obj, cls)\u001b[0m\n\u001b[0;32m    185\u001b[0m             \u001b[1;31m# we're accessing the attribute of the class, i.e., Dataset.geo\u001b[0m\u001b[1;33m\u001b[0m\u001b[1;33m\u001b[0m\u001b[1;33m\u001b[0m\u001b[0m\n\u001b[0;32m    186\u001b[0m             \u001b[1;32mreturn\u001b[0m \u001b[0mself\u001b[0m\u001b[1;33m.\u001b[0m\u001b[0m_accessor\u001b[0m\u001b[1;33m\u001b[0m\u001b[1;33m\u001b[0m\u001b[0m\n\u001b[1;32m--> 187\u001b[1;33m         \u001b[0maccessor_obj\u001b[0m \u001b[1;33m=\u001b[0m \u001b[0mself\u001b[0m\u001b[1;33m.\u001b[0m\u001b[0m_accessor\u001b[0m\u001b[1;33m(\u001b[0m\u001b[0mobj\u001b[0m\u001b[1;33m)\u001b[0m\u001b[1;33m\u001b[0m\u001b[1;33m\u001b[0m\u001b[0m\n\u001b[0m\u001b[0;32m    188\u001b[0m         \u001b[1;31m# Replace the property with the accessor object. Inspired by:\u001b[0m\u001b[1;33m\u001b[0m\u001b[1;33m\u001b[0m\u001b[1;33m\u001b[0m\u001b[0m\n\u001b[0;32m    189\u001b[0m         \u001b[1;31m# https://www.pydanny.com/cached-property.html\u001b[0m\u001b[1;33m\u001b[0m\u001b[1;33m\u001b[0m\u001b[1;33m\u001b[0m\u001b[0m\n",
      "\u001b[1;32mD:\\ProgramData\\Anaconda3\\lib\\site-packages\\pandas\\core\\indexes\\accessors.py\u001b[0m in \u001b[0;36m__new__\u001b[1;34m(cls, data)\u001b[0m\n\u001b[0;32m    478\u001b[0m             \u001b[1;32mreturn\u001b[0m \u001b[0mPeriodProperties\u001b[0m\u001b[1;33m(\u001b[0m\u001b[0mdata\u001b[0m\u001b[1;33m,\u001b[0m \u001b[0morig\u001b[0m\u001b[1;33m)\u001b[0m\u001b[1;33m\u001b[0m\u001b[1;33m\u001b[0m\u001b[0m\n\u001b[0;32m    479\u001b[0m \u001b[1;33m\u001b[0m\u001b[0m\n\u001b[1;32m--> 480\u001b[1;33m         \u001b[1;32mraise\u001b[0m \u001b[0mAttributeError\u001b[0m\u001b[1;33m(\u001b[0m\u001b[1;34m\"Can only use .dt accessor with datetimelike values\"\u001b[0m\u001b[1;33m)\u001b[0m\u001b[1;33m\u001b[0m\u001b[1;33m\u001b[0m\u001b[0m\n\u001b[0m",
      "\u001b[1;31mAttributeError\u001b[0m: Can only use .dt accessor with datetimelike values"
     ]
    }
   ],
   "source": [
    "df.assign(date=lambda x: x['BirthDate'].dt.strftime('%Y_%m_%d  %c:%B'))"
   ]
  },
  {
   "cell_type": "code",
   "execution_count": 322,
   "metadata": {},
   "outputs": [
    {
     "data": {
      "text/html": [
       "<div>\n",
       "<style scoped>\n",
       "    .dataframe tbody tr th:only-of-type {\n",
       "        vertical-align: middle;\n",
       "    }\n",
       "\n",
       "    .dataframe tbody tr th {\n",
       "        vertical-align: top;\n",
       "    }\n",
       "\n",
       "    .dataframe thead th {\n",
       "        text-align: right;\n",
       "    }\n",
       "</style>\n",
       "<table border=\"1\" class=\"dataframe\">\n",
       "  <thead>\n",
       "    <tr style=\"text-align: right;\">\n",
       "      <th></th>\n",
       "      <th>ID</th>\n",
       "      <th>ParentID</th>\n",
       "      <th>BirthDate</th>\n",
       "      <th>GenderId</th>\n",
       "    </tr>\n",
       "  </thead>\n",
       "  <tbody>\n",
       "    <tr>\n",
       "      <th>0</th>\n",
       "      <td>385996899</td>\n",
       "      <td>391863876</td>\n",
       "      <td>1978-03-22</td>\n",
       "      <td>2</td>\n",
       "    </tr>\n",
       "    <tr>\n",
       "      <th>1</th>\n",
       "      <td>2633686968</td>\n",
       "      <td>2633686968</td>\n",
       "      <td>1995-02-05</td>\n",
       "      <td>1</td>\n",
       "    </tr>\n",
       "    <tr>\n",
       "      <th>2</th>\n",
       "      <td>312125928</td>\n",
       "      <td>1981002597</td>\n",
       "      <td>1970-05-13</td>\n",
       "      <td>2</td>\n",
       "    </tr>\n",
       "    <tr>\n",
       "      <th>3</th>\n",
       "      <td>70847160</td>\n",
       "      <td>70847160</td>\n",
       "      <td>1969-03-21</td>\n",
       "      <td>1</td>\n",
       "    </tr>\n",
       "    <tr>\n",
       "      <th>4</th>\n",
       "      <td>663191175</td>\n",
       "      <td>9230116821</td>\n",
       "      <td>2004-06-19</td>\n",
       "      <td>2</td>\n",
       "    </tr>\n",
       "  </tbody>\n",
       "</table>\n",
       "</div>"
      ],
      "text/plain": [
       "           ID    ParentID   BirthDate  GenderId\n",
       "0   385996899   391863876  1978-03-22         2\n",
       "1  2633686968  2633686968  1995-02-05         1\n",
       "2   312125928  1981002597  1970-05-13         2\n",
       "3    70847160    70847160  1969-03-21         1\n",
       "4   663191175  9230116821  2004-06-19         2"
      ]
     },
     "execution_count": 322,
     "metadata": {},
     "output_type": "execute_result"
    }
   ],
   "source": [
    "df.head()\n"
   ]
  },
  {
   "cell_type": "code",
   "execution_count": 239,
   "metadata": {},
   "outputs": [
    {
     "data": {
      "text/plain": [
       "'D:\\\\Hesam\\\\Data Science\\\\Pandas course notebook'"
      ]
     },
     "execution_count": 239,
     "metadata": {},
     "output_type": "execute_result"
    }
   ],
   "source": [
    "%pwd"
   ]
  },
  {
   "cell_type": "code",
   "execution_count": null,
   "metadata": {},
   "outputs": [],
   "source": []
  },
  {
   "cell_type": "markdown",
   "metadata": {},
   "source": [
    "## Some handy Notebook tricks + managing loaded data"
   ]
  },
  {
   "cell_type": "code",
   "execution_count": 240,
   "metadata": {},
   "outputs": [
    {
     "name": "stdout",
     "output_type": "stream",
     "text": [
      "Variable          Type                          Data/Info\n",
      "---------------------------------------------------------\n",
      "chdir             builtin_function_or_method    <built-in function chdir>\n",
      "cols              list                          n=4\n",
      "df                DataFrame                                       ID     <...>1490991 rows x 6 columns]\n",
      "df_child1         DataFrame                                       ID     <...>[500000 rows x 6 columns]\n",
      "df_parent_child   DataFrame                                ParentID      <...>[500000 rows x 5 columns]\n",
      "df_temp           DataFrame                                      ID    Pa<...>[500000 rows x 6 columns]\n",
      "dff               DataFrame                                ParentID first<...>[498137 rows x 6 columns]\n",
      "dfff              DataFrame                                   BirthDate  <...>[500000 rows x 5 columns]\n",
      "family_count      Series                        2183597619     17\\n103114<...>gth: 500000, dtype: int64\n",
      "getcwd            builtin_function_or_method    <built-in function getcwd>\n",
      "listdir           builtin_function_or_method    <built-in function listdir>\n",
      "np                module                        <module 'numpy' from 'D:\\<...>ges\\\\numpy\\\\__init__.py'>\n",
      "pd                module                        <module 'pandas' from 'D:<...>es\\\\pandas\\\\__init__.py'>\n",
      "plt               module                        <module 'matplotlib.pyplo<...>\\\\matplotlib\\\\pyplot.py'>\n",
      "temp_df           DataFrame                                      ID    Pa<...> 1         10          10\n"
     ]
    }
   ],
   "source": [
    "%whos"
   ]
  },
  {
   "cell_type": "code",
   "execution_count": 241,
   "metadata": {},
   "outputs": [
    {
     "name": "stdout",
     "output_type": "stream",
     "text": [
      "chdir\t cols\t df\t df_child1\t df_parent_child\t df_temp\t dff\t dfff\t family_count\t \n",
      "getcwd\t listdir\t np\t pd\t plt\t temp_df\t \n"
     ]
    }
   ],
   "source": [
    "%who"
   ]
  },
  {
   "cell_type": "code",
   "execution_count": 114,
   "metadata": {},
   "outputs": [
    {
     "name": "stdout",
     "output_type": "stream",
     "text": [
      "<class 'pandas.core.frame.DataFrame'>\n",
      "Int64Index: 743242 entries, 1 to 999999\n",
      "Data columns (total 2 columns):\n",
      " #   Column    Non-Null Count   Dtype\n",
      "---  ------    --------------   -----\n",
      " 0   ParentID  743242 non-null  int64\n",
      " 1   ID        743242 non-null  int64\n",
      "dtypes: int64(2)\n",
      "memory usage: 33.1 MB\n"
     ]
    }
   ],
   "source": [
    "df_parents.info() # df_parents.size"
   ]
  },
  {
   "cell_type": "code",
   "execution_count": 266,
   "metadata": {},
   "outputs": [],
   "source": [
    "sample_text = 'df_lab lab lab'"
   ]
  },
  {
   "cell_type": "code",
   "execution_count": 267,
   "metadata": {},
   "outputs": [
    {
     "data": {
      "text/plain": [
       "0"
      ]
     },
     "execution_count": 267,
     "metadata": {},
     "output_type": "execute_result"
    }
   ],
   "source": [
    "sample_text.rfind('df')"
   ]
  },
  {
   "cell_type": "code",
   "execution_count": 269,
   "metadata": {},
   "outputs": [
    {
     "name": "stdout",
     "output_type": "stream",
     "text": [
      "chdir\t cols\t df\t df_child1\t df_parent_child\t df_temp\t dff\t dfff\t family_count\t \n",
      "getcwd\t listdir\t np\t pd\t plt\t sample_text\t temp_df\t \n"
     ]
    }
   ],
   "source": [
    "files_in_ram = %who"
   ]
  },
  {
   "cell_type": "code",
   "execution_count": 274,
   "metadata": {},
   "outputs": [],
   "source": [
    "files_in_ram"
   ]
  },
  {
   "cell_type": "code",
   "execution_count": 277,
   "metadata": {},
   "outputs": [],
   "source": [
    "f = [df, df_child1, df_parent_child, df_temp, dff, dfff,temp_df]"
   ]
  },
  {
   "cell_type": "code",
   "execution_count": 279,
   "metadata": {},
   "outputs": [],
   "source": [
    "for x in f:\n",
    "    del x"
   ]
  },
  {
   "cell_type": "markdown",
   "metadata": {},
   "source": [
    "## Project for course:\n",
    "\n",
    "As we disccussed during sessions, it is good to delve into and investigate the dataset in one Jupyter notebook:\n",
    "\n",
    "  - What are your anlysis questions on dataset?\n",
    "     - Write down questions and answers you have.\n",
    "     - What are answers you extract.\n",
    "     - \n",
    "  - Did you face any **data quality issues**?\n",
    "     - List them with short explnation of why you consider these as data issue."
   ]
  },
  {
   "cell_type": "code",
   "execution_count": null,
   "metadata": {},
   "outputs": [],
   "source": []
  }
 ],
 "metadata": {
  "kernelspec": {
   "display_name": "Python 3",
   "language": "python",
   "name": "python3"
  },
  "language_info": {
   "codemirror_mode": {
    "name": "ipython",
    "version": 3
   },
   "file_extension": ".py",
   "mimetype": "text/x-python",
   "name": "python",
   "nbconvert_exporter": "python",
   "pygments_lexer": "ipython3",
   "version": "3.8.5"
  }
 },
 "nbformat": 4,
 "nbformat_minor": 4
}
