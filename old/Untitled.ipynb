{
 "cells": [
  {
   "cell_type": "markdown",
   "id": "58c703aa-2290-421e-9f55-a28c4011b787",
   "metadata": {},
   "source": [
    "## What is the main aim / advantage of using Pandas?\n",
    "\n",
    "Pandas is a sample, in general higher layer libraries, application\n",
    "\n",
    " - read csv and excel sheets, SQL table, etc from scratch\n",
    "\n",
    " - use simpler libraries like `csv` "
   ]
  },
  {
   "cell_type": "code",
   "execution_count": null,
   "id": "0a819a22-6f13-4c50-8ed1-6dcd1b4da1aa",
   "metadata": {},
   "outputs": [],
   "source": [
    "import numpy as np\n",
    "import random"
   ]
  },
  {
   "cell_type": "code",
   "execution_count": 27,
   "id": "7f04a604-9b88-4a1d-85a6-f8aeb8bc36f0",
   "metadata": {},
   "outputs": [
    {
     "name": "stdout",
     "output_type": "stream",
     "text": [
      "3.48792\n"
     ]
    }
   ],
   "source": [
    "sample = np.array([random.randint(1,6) for _ in np.arange(100_000)])\n",
    "print(sample.mean())"
   ]
  },
  {
   "cell_type": "code",
   "execution_count": 49,
   "id": "0d098a04-3812-4b33-b288-002abaa1e8e7",
   "metadata": {},
   "outputs": [],
   "source": [
    "def sample_result(toss_value = 6):\n",
    "    i = 1\n",
    "    sample = []\n",
    "    number = random.randint(1,6)\n",
    "    while number != toss_value:\n",
    "        i += 1 \n",
    "        sample.append(number)\n",
    "        number = random.randint(1,6)\n",
    "          \n",
    "    return i, sample"
   ]
  },
  {
   "cell_type": "code",
   "execution_count": 53,
   "id": "cc2885d0-bdfc-44e3-ae04-24d55e85cccf",
   "metadata": {},
   "outputs": [
    {
     "data": {
      "text/plain": [
       "(3, [2, 1])"
      ]
     },
     "execution_count": 53,
     "metadata": {},
     "output_type": "execute_result"
    }
   ],
   "source": [
    "sample_result(5)"
   ]
  },
  {
   "cell_type": "code",
   "execution_count": 58,
   "id": "7aa17602-b512-4f17-9fea-e08b5aba1177",
   "metadata": {},
   "outputs": [],
   "source": [
    "def run_sample(n = 5_000, toss_value = 6):\n",
    "    average_number = 0\n",
    "    for i in range(n):\n",
    "        average_number += sample_result(toss_value)[0]\n",
    "    return average_number / n\n"
   ]
  },
  {
   "cell_type": "code",
   "execution_count": 62,
   "id": "91d05bdf-d604-4d31-9c3e-67cb7981f395",
   "metadata": {},
   "outputs": [
    {
     "data": {
      "text/plain": [
       "6.0012505"
      ]
     },
     "execution_count": 62,
     "metadata": {},
     "output_type": "execute_result"
    }
   ],
   "source": [
    "run_sample(n = 2_000_000,toss_value = 1)"
   ]
  },
  {
   "cell_type": "code",
   "execution_count": 63,
   "id": "8cf1694b-fa14-44f8-9dc4-57f31b4f9792",
   "metadata": {},
   "outputs": [],
   "source": [
    "import os"
   ]
  },
  {
   "cell_type": "code",
   "execution_count": 65,
   "id": "75ee2092-9aea-42a0-b61f-f7ecd7b90503",
   "metadata": {},
   "outputs": [
    {
     "data": {
      "text/plain": [
       "'C:\\\\Users\\\\h.mohammadhosseini'"
      ]
     },
     "execution_count": 65,
     "metadata": {},
     "output_type": "execute_result"
    }
   ],
   "source": [
    "os.getcwd()"
   ]
  },
  {
   "cell_type": "code",
   "execution_count": null,
   "id": "3d55db86-d638-4b26-b08f-083793fcbb08",
   "metadata": {},
   "outputs": [],
   "source": []
  }
 ],
 "metadata": {
  "kernelspec": {
   "display_name": "Python 3 (ipykernel)",
   "language": "python",
   "name": "python3"
  },
  "language_info": {
   "codemirror_mode": {
    "name": "ipython",
    "version": 3
   },
   "file_extension": ".py",
   "mimetype": "text/x-python",
   "name": "python",
   "nbconvert_exporter": "python",
   "pygments_lexer": "ipython3",
   "version": "3.8.8"
  }
 },
 "nbformat": 4,
 "nbformat_minor": 5
}
