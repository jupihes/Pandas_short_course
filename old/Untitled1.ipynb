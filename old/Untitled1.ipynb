{
 "cells": [
  {
   "cell_type": "code",
   "execution_count": 1,
   "id": "343f8e06-ac55-4fff-9e51-c21ff140ccb0",
   "metadata": {},
   "outputs": [
    {
     "data": {
      "text/plain": [
       "'C:\\\\Users\\\\h.mohammadhosseini'"
      ]
     },
     "execution_count": 1,
     "metadata": {},
     "output_type": "execute_result"
    }
   ],
   "source": [
    "import os\n",
    "os.getcwd()"
   ]
  },
  {
   "cell_type": "markdown",
   "id": "58a57e59-0be1-4510-ad41-ae7d46407c69",
   "metadata": {},
   "source": [
    "https://docs.aws.amazon.com/wellarchitected/latest/machine-learning-lens/well-architected-machine-learning-lifecycle.html"
   ]
  },
  {
   "cell_type": "code",
   "execution_count": null,
   "id": "4fb6fd48-b743-4869-9d29-d530a4203611",
   "metadata": {},
   "outputs": [],
   "source": []
  },
  {
   "cell_type": "code",
   "execution_count": null,
   "id": "3aa89197-bf8d-4702-82f6-efe8c4c08f69",
   "metadata": {},
   "outputs": [],
   "source": [
    "https://www.mit.edu/~amidi/teaching/data-science-tools/study-guide/data-manipulation-with-python/#data-preprocessing"
   ]
  }
 ],
 "metadata": {
  "kernelspec": {
   "display_name": "Python 3 (ipykernel)",
   "language": "python",
   "name": "python3"
  },
  "language_info": {
   "codemirror_mode": {
    "name": "ipython",
    "version": 3
   },
   "file_extension": ".py",
   "mimetype": "text/x-python",
   "name": "python",
   "nbconvert_exporter": "python",
   "pygments_lexer": "ipython3",
   "version": "3.8.8"
  }
 },
 "nbformat": 4,
 "nbformat_minor": 5
}
