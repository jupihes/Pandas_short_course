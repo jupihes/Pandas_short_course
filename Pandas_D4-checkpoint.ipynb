{
 "cells": [
  {
   "cell_type": "code",
   "execution_count": null,
   "metadata": {},
   "outputs": [],
   "source": []
  },
  {
   "cell_type": "markdown",
   "metadata": {},
   "source": [
    "\n",
    "# Advanced Pandas course - Day 4\n",
    "----"
   ]
  },
  {
   "cell_type": "markdown",
   "metadata": {},
   "source": [
    "## Review [Pandas documentation ](https://pandas.pydata.org/pandas-docs/stable/)\n",
    "\n",
    "- Where to start?\n",
    "    \n",
    "    - 10 min Pandas \n",
    "    \n",
    "    \n",
    "- How to do it effectively?\n",
    "\n",
    "https://github.com/jupihes/SQL-versus-Pandas/blob/master/Pandas%20SQL-like%20functionality.ipynb"
   ]
  },
  {
   "cell_type": "markdown",
   "metadata": {},
   "source": [
    "<ul class=\"nav bd-sidenav\">\n",
    "<li class=\"toctree-l1\">\n",
    "<a class=\"reference internal\" href=\"https://pandas.pydata.org/pandas-docs/stable/user_guide/10min.html\">\n",
    "10 minutes to pandas\n",
    "</a>\n",
    "</li>\n",
    "<li class=\"toctree-l1\">\n",
    "<a class=\"reference internal\" href=\"https://pandas.pydata.org/pandas-docs/stable/user_guide/dsintro.html\">\n",
    "Intro to data structures\n",
    "</a>\n",
    "</li>\n",
    "<li class=\"toctree-l1\">\n",
    "<a class=\"reference internal\" href=\"https://pandas.pydata.org/pandas-docs/stable/user_guide/basics.html\">\n",
    "Essential basic functionality\n",
    "</a>\n",
    "</li>\n",
    "<li class=\"toctree-l1\">\n",
    "<a class=\"reference internal\" href=\"https://pandas.pydata.org/pandas-docs/stable/user_guide/io.html\">\n",
    "IO tools (text, CSV, HDF5, …)\n",
    "</a>\n",
    "</li>\n",
    "<li class=\"toctree-l1\">\n",
    "<a class=\"reference internal\" href=\"https://pandas.pydata.org/pandas-docs/stable/user_guide/indexing.html\">\n",
    "Indexing and selecting data\n",
    "</a>\n",
    "</li>\n",
    "<li class=\"toctree-l1\">\n",
    "<a class=\"reference internal\" href=\"https://pandas.pydata.org/pandas-docs/stable/user_guide/advanced.html\">\n",
    "MultiIndex / advanced indexing\n",
    "</a>\n",
    "</li>\n",
    "<li class=\"toctree-l1\">\n",
    "<a class=\"reference internal\" href=\"https://pandas.pydata.org/pandas-docs/stable/user_guide/merging.html\">\n",
    "Merge, join, concatenate and compare\n",
    "</a>\n",
    "</li>\n",
    "<li class=\"toctree-l1\">\n",
    "<a class=\"reference internal\" href=\"https://pandas.pydata.org/pandas-docs/stable/user_guide/reshaping.html\">\n",
    "Reshaping and pivot tables\n",
    "</a>\n",
    "</li>\n",
    "<li class=\"toctree-l1\">\n",
    "<a class=\"reference internal\" href=\"https://pandas.pydata.org/pandas-docs/stable/user_guide/text.html\">\n",
    "Working with text data\n",
    "</a>\n",
    "</li>\n",
    "<li class=\"toctree-l1\">\n",
    "<a class=\"reference internal\" href=\"https://pandas.pydata.org/pandas-docs/stable/user_guide/missing_data.html\">\n",
    "Working with missing data\n",
    "</a>\n",
    "</li>\n",
    "<li class=\"toctree-l1\">\n",
    "<a class=\"reference internal\" href=\"https://pandas.pydata.org/pandas-docs/stable/user_guide/duplicates.html\">\n",
    "Duplicate Labels\n",
    "</a>\n",
    "</li>\n",
    "<li class=\"toctree-l1\">\n",
    "<a class=\"reference internal\" href=\"https://pandas.pydata.org/pandas-docs/stable/user_guide/categorical.html\">\n",
    "Categorical data\n",
    "</a>\n",
    "</li>\n",
    "<li class=\"toctree-l1\">\n",
    "<a class=\"reference internal\" href=\"https://pandas.pydata.org/pandas-docs/stable/user_guide/integer_na.html\">\n",
    "Nullable integer data type\n",
    "</a>\n",
    "</li>\n",
    "<li class=\"toctree-l1\">\n",
    "<a class=\"reference internal\" href=\"https://pandas.pydata.org/pandas-docs/stable/user_guide/boolean.html\">\n",
    "Nullable Boolean data type\n",
    "</a>\n",
    "</li>\n",
    "<li class=\"toctree-l1\">\n",
    "<a class=\"reference internal\" href=\"https://pandas.pydata.org/pandas-docs/stable/user_guide/visualization.html\">\n",
    "Chart Visualization\n",
    "</a>\n",
    "</li>\n",
    "<li class=\"toctree-l1\">\n",
    "<a class=\"reference internal\" href=\"https://pandas.pydata.org/pandas-docs/stable/user_guide/style.html\">\n",
    "Table Visualization\n",
    "</a>\n",
    "</li>\n",
    "<li class=\"toctree-l1\">\n",
    "<a class=\"reference internal\" href=\"https://pandas.pydata.org/pandas-docs/stable/user_guide/computation.html\">\n",
    "Computational tools\n",
    "</a>\n",
    "</li>\n",
    "<li class=\"toctree-l1\">\n",
    "<a class=\"reference internal\" href=\"https://pandas.pydata.org/pandas-docs/stable/user_guide/groupby.html\">\n",
    "Group by: split-apply-combine\n",
    "</a>\n",
    "</li>\n",
    "<li class=\"toctree-l1\">\n",
    "<a class=\"reference internal\" href=\"https://pandas.pydata.org/pandas-docs/stable/user_guide/window.html\">\n",
    "Windowing Operations\n",
    "</a>\n",
    "</li>\n",
    "<li class=\"toctree-l1\">\n",
    "<a class=\"reference internal\" href=\"https://pandas.pydata.org/pandas-docs/stable/user_guide/timeseries.html\">\n",
    "Time series / date functionality\n",
    "</a>\n",
    "</li>\n",
    "<li class=\"toctree-l1\">\n",
    "<a class=\"reference internal\" href=\"https://pandas.pydata.org/pandas-docs/stable/user_guide/timedeltas.html\">\n",
    "Time deltas\n",
    "</a>\n",
    "</li>\n",
    "<li class=\"toctree-l1\">\n",
    "<a class=\"reference internal\" href=\"https://pandas.pydata.org/pandas-docs/stable/user_guide/options.html\">\n",
    "Options and settings\n",
    "</a>\n",
    "</li>\n",
    "<li class=\"toctree-l1\">\n",
    "<a class=\"reference internal\" href=\"https://pandas.pydata.org/pandas-docs/stable/user_guide/enhancingperf.html\">\n",
    "Enhancing performance\n",
    "</a>\n",
    "</li>\n",
    "<li class=\"toctree-l1\">\n",
    "<a class=\"reference internal\" href=\"https://pandas.pydata.org/pandas-docs/stable/user_guide/scale.html\">\n",
    "Scaling to large datasets\n",
    "</a>\n",
    "</li>\n",
    "<li class=\"toctree-l1\">\n",
    "<a class=\"reference internal\" href=\"https://pandas.pydata.org/pandas-docs/stable/user_guide/sparse.html\">\n",
    "Sparse data structures\n",
    "</a>\n",
    "</li>\n",
    "<li class=\"toctree-l1\">\n",
    "<a class=\"reference internal\" href=\"https://pandas.pydata.org/pandas-docs/stable/user_guide/gotchas.html\">\n",
    "Frequently Asked Questions (FAQ)\n",
    "</a>\n",
    "</li>\n",
    "<li class=\"toctree-l1\">\n",
    "<a class=\"reference internal\" href=\"https://pandas.pydata.org/pandas-docs/stable/user_guide/cookbook.html\">\n",
    "Cookbook\n",
    "</a>\n",
    "</li>\n",
    "</ul>"
   ]
  },
  {
   "cell_type": "markdown",
   "metadata": {},
   "source": [
    "## Date-time techniuques\n",
    "\n",
    "- Explain and review date_time logics in systems like\n",
    "    - Unix based\n",
    "        - epoch \n",
    "           - Count passed `Seconds` starting from `1970/01/01 00:00:00`.\n",
    "           - [on_line_epoch_converter](https://www.epochconverter.com/)\n",
    "    - Excel\n",
    "        - Gerigorian\n",
    "           - Count passed `Days` starting from `1900/01/01` as day 1.\n",
    "        - Persian - Jalali\n",
    "\n",
    "Useful links:\n",
    "\n",
    "https://www.analyticsvidhya.com/blog/2020/05/datetime-variables-python-pandas/\n",
    "\n",
    "https://man7.org/linux/man-pages/man3/strftime.3.html\n",
    "\n",
    "https://www.dataquest.io/blog/python-datetime-tutorial/\n",
    "\n",
    "https://realpython.com/python-datetime/\n",
    "\n",
    "[Python strftime cheatsheet](https://strftime.org/)\n",
    "\n",
    "https://jeffkayser.com/projects/date-format-string-composer/index.html"
   ]
  },
  {
   "cell_type": "code",
   "execution_count": 2,
   "metadata": {},
   "outputs": [
    {
     "data": {
      "text/html": [
       "\n",
       "        <iframe\n",
       "            width=\"1000\"\n",
       "            height=\"800\"\n",
       "            src=\"https://jeffkayser.com/projects/date-format-string-composer/index.html\"\n",
       "            frameborder=\"0\"\n",
       "            allowfullscreen\n",
       "        ></iframe>\n",
       "        "
      ],
      "text/plain": [
       "<IPython.lib.display.IFrame at 0x1b2801bee50>"
      ]
     },
     "execution_count": 2,
     "metadata": {},
     "output_type": "execute_result"
    }
   ],
   "source": [
    "from IPython.display import IFrame, Image\n",
    "IFrame(src='https://jeffkayser.com/projects/date-format-string-composer/index.html', width=1000, height=800)"
   ]
  },
  {
   "cell_type": "code",
   "execution_count": null,
   "metadata": {},
   "outputs": [],
   "source": [
    "https://jeffkayser.com/projects/date-format-string-composer/index.html"
   ]
  },
  {
   "cell_type": "code",
   "execution_count": null,
   "metadata": {},
   "outputs": [],
   "source": [
    "https://jeffkayser.com/projects/date-format-string-composer/index.html"
   ]
  },
  {
   "cell_type": "markdown",
   "metadata": {},
   "source": [
    "#### Summary of Date\n",
    "\n",
    "strptime : str **parse** time \n",
    "\n",
    "<br>\n",
    "\n",
    "`STRING` $\\xrightarrow[\\text{}]{\\text{ parse STRING and convert to DATE}}$ `DATE`\n",
    "           \n",
    "\n",
    "strftime : str **format** time \n",
    "\n",
    "<br>\n",
    "\n",
    "`DATE` $\\xrightarrow[\\text{}]{\\text{ parse DATE and convert to STRING}}$ `STRING`\n"
   ]
  },
  {
   "cell_type": "code",
   "execution_count": 81,
   "metadata": {},
   "outputs": [
    {
     "name": "stdout",
     "output_type": "stream",
     "text": [
      "dt_object1: 2018-11-12 09:15:32\n",
      "dt_object2: 2018-12-11 09:15:32\n",
      "Unix Timestamp:  1544507132.0\n",
      "Output 1: Tue Dec 11 09:15:32 2018\n",
      "Output 2: 12/11/18\n",
      "Output 3: 09:15:32\n"
     ]
    }
   ],
   "source": [
    "# import datetime\n",
    "from datetime import datetime\n",
    "dt_string = \"12/11/2018 09:15:32\"\n",
    "# Considering date is in dd/mm/yyyy format\n",
    "dt_object1 = datetime.strptime(dt_string, \"%d/%m/%Y %H:%M:%S\")\n",
    "print(\"dt_object1:\", dt_object1)\n",
    "# Considering date is in mm/dd/yyyy format\n",
    "dt_object2 = datetime.strptime(dt_string, \"%m/%d/%Y %H:%M:%S\")\n",
    "print(\"dt_object2:\", dt_object2)"
   ]
  },
  {
   "cell_type": "code",
   "execution_count": null,
   "metadata": {},
   "outputs": [],
   "source": [
    "# Convert dt_object2 to Unix Timestamp\n",
    "timestamp = datetime.timestamp(dt_object2)\n",
    "print('Unix Timestamp: ', timestamp)"
   ]
  },
  {
   "cell_type": "code",
   "execution_count": null,
   "metadata": {},
   "outputs": [],
   "source": [
    "# Convert back into datetime\n",
    "date_time = datetime.fromtimestamp(timestamp)\n",
    "d = date_time.strftime(\"%c\")\n",
    "print(\"Output 1:\", d)\n",
    "d = date_time.strftime(\"%x\")\n",
    "print(\"Output 2:\", d)\n",
    "d = date_time.strftime(\"%X\")\n",
    "print(\"Output 3:\", d)\n"
   ]
  },
  {
   "cell_type": "markdown",
   "metadata": {},
   "source": [
    "<table class=\"table\">\n",
    "<tbody>\n",
    "        <tr>\n",
    "          <td><code>%a</code></td>\n",
    "          <td><code>Sun</code></td>\n",
    "          <td>Weekday as locale’s abbreviated name.</td>\n",
    "        </tr>\n",
    "        <tr>\n",
    "          <td><code>%A</code></td>\n",
    "          <td><code>Sunday</code></td>\n",
    "          <td>Weekday as locale’s full name.</td>\n",
    "        </tr>\n",
    "        <tr>\n",
    "          <td><code>%w</code></td>\n",
    "          <td><code>0</code></td>\n",
    "          <td>Weekday as a decimal number, where 0 is Sunday and 6 is Saturday.</td>\n",
    "        </tr>\n",
    "        <tr>\n",
    "          <td><code>%d</code></td>\n",
    "          <td><code>08</code></td>\n",
    "          <td>Day of the month as a zero-padded decimal number.</td>\n",
    "        </tr>\n",
    "        <tr>\n",
    "          <td><code>%-d</code></td>\n",
    "          <td><code>8</code></td>\n",
    "          <td>Day of the month as a  decimal number. (Platform specific)</td>\n",
    "        </tr>\n",
    "        <tr>\n",
    "          <td><code>%b</code></td>\n",
    "          <td><code>Sep</code></td>\n",
    "          <td>Month as locale’s abbreviated name.</td>\n",
    "        </tr>\n",
    "        <tr>\n",
    "          <td><code>%B</code></td>\n",
    "          <td><code>September</code></td>\n",
    "          <td>Month as locale’s full name.</td>\n",
    "        </tr>\n",
    "        <tr>\n",
    "          <td><code>%m</code></td>\n",
    "          <td><code>09</code></td>\n",
    "          <td>Month as a zero-padded decimal number.</td>\n",
    "        </tr>\n",
    "        <tr>\n",
    "          <td><code>%-m</code></td>\n",
    "          <td><code>9</code></td>\n",
    "          <td>Month as a  decimal number. (Platform specific)</td>\n",
    "        </tr>\n",
    "        <tr>\n",
    "          <td><code>%y</code></td>\n",
    "          <td><code>13</code></td>\n",
    "          <td>Year without century as a zero-padded decimal number.</td>\n",
    "        </tr>\n",
    "        <tr>\n",
    "          <td><code>%Y</code></td>\n",
    "          <td><code>2013</code></td>\n",
    "          <td>Year with century as a decimal number.</td>\n",
    "        </tr>\n",
    "        <tr>\n",
    "          <td><code>%H</code></td>\n",
    "          <td><code>07</code></td>\n",
    "          <td>Hour (24-hour clock) as a zero-padded decimal number.</td>\n",
    "        </tr>\n",
    "        <tr>\n",
    "          <td><code>%-H</code></td>\n",
    "          <td><code>7</code></td>\n",
    "          <td>Hour (24-hour clock) as a  decimal number. (Platform specific)</td>\n",
    "        </tr>\n",
    "        <tr>\n",
    "          <td><code>%I</code></td>\n",
    "          <td><code>07</code></td>\n",
    "          <td>Hour (12-hour clock) as a zero-padded decimal number.</td>\n",
    "        </tr>\n",
    "        <tr>\n",
    "          <td><code>%-I</code></td>\n",
    "          <td><code>7</code></td>\n",
    "          <td>Hour (12-hour clock) as a  decimal number. (Platform specific)</td>\n",
    "        </tr>\n",
    "        <tr>\n",
    "          <td><code>%p</code></td>\n",
    "          <td><code>AM</code></td>\n",
    "          <td>Locale’s equivalent of either AM or PM.</td>\n",
    "        </tr>\n",
    "        <tr>\n",
    "          <td><code>%M</code></td>\n",
    "          <td><code>06</code></td>\n",
    "          <td>Minute as a zero-padded decimal number.</td>\n",
    "        </tr>\n",
    "        <tr>\n",
    "          <td><code>%-M</code></td>\n",
    "          <td><code>6</code></td>\n",
    "          <td>Minute as a  decimal number. (Platform specific)</td>\n",
    "        </tr>\n",
    "        <tr>\n",
    "          <td><code>%S</code></td>\n",
    "          <td><code>05</code></td>\n",
    "          <td>Second as a zero-padded decimal number.</td>\n",
    "        </tr>\n",
    "        <tr>\n",
    "          <td><code>%-S</code></td>\n",
    "          <td><code>5</code></td>\n",
    "          <td>Second as a  decimal number. (Platform specific)</td>\n",
    "        </tr>\n",
    "        <tr>\n",
    "          <td><code>%f</code></td>\n",
    "          <td><code>000000</code></td>\n",
    "          <td>Microsecond as a decimal number, zero-padded on the left.</td>\n",
    "        </tr>\n",
    "        <tr>\n",
    "          <td><code>%z</code></td>\n",
    "          <td><code>+0000</code></td>\n",
    "          <td>UTC offset in the form ±HHMM[SS[.ffffff]] (empty string if the object is naive).</td>\n",
    "        </tr>\n",
    "        <tr>\n",
    "          <td><code>%Z</code></td>\n",
    "          <td><code>UTC</code></td>\n",
    "          <td>Time zone name (empty string if the object is naive).</td>\n",
    "        </tr>\n",
    "        <tr>\n",
    "          <td><code>%j</code></td>\n",
    "          <td><code>251</code></td>\n",
    "          <td>Day of the year as a zero-padded decimal number.</td>\n",
    "        </tr>\n",
    "        <tr>\n",
    "          <td><code>%-j</code></td>\n",
    "          <td><code>251</code></td>\n",
    "          <td>Day of the year as a  decimal number. (Platform specific)</td>\n",
    "        </tr>\n",
    "        <tr>\n",
    "          <td><code>%U</code></td>\n",
    "          <td><code>36</code></td>\n",
    "          <td>Week number of the year (Sunday as the first day of the week) as a zero padded decimal number. All days in a new year preceding the first Sunday are considered to be in week 0.</td>\n",
    "        </tr>\n",
    "        <tr>\n",
    "          <td><code>%W</code></td>\n",
    "          <td><code>35</code></td>\n",
    "          <td>Week number of the year (Monday as the first day of the week) as a decimal number. All days in a new year preceding the first Monday are considered to be in week 0.</td>\n",
    "        </tr>\n",
    "        <tr>\n",
    "          <td><code>%c</code></td>\n",
    "          <td><code>Sun Sep  8 07:06:05 2013</code></td>\n",
    "          <td>Locale’s appropriate date and time representation.</td>\n",
    "        </tr>\n",
    "        <tr>\n",
    "          <td><code>%x</code></td>\n",
    "          <td><code>09/08/13</code></td>\n",
    "          <td>Locale’s appropriate date representation.</td>\n",
    "        </tr>\n",
    "        <tr>\n",
    "          <td><code>%X</code></td>\n",
    "          <td><code>07:06:05</code></td>\n",
    "          <td>Locale’s appropriate time representation.</td>\n",
    "        </tr>\n",
    "        <tr>\n",
    "          <td><code>%%</code></td>\n",
    "          <td><code>%</code></td>\n",
    "          <td>A literal '%' character.</td>\n",
    "        </tr>\n",
    "      </tbody>"
   ]
  },
  {
   "cell_type": "markdown",
   "metadata": {},
   "source": [
    "### DateTime in Pandas"
   ]
  },
  {
   "cell_type": "code",
   "execution_count": null,
   "metadata": {},
   "outputs": [],
   "source": [
    "# Try on sample data set"
   ]
  },
  {
   "cell_type": "markdown",
   "metadata": {},
   "source": [
    "<table class=\"table\">\n",
    "<colgroup>\n",
    "<col style=\"width: 15%\">\n",
    "<col style=\"width: 12%\">\n",
    "<col style=\"width: 13%\">\n",
    "<col style=\"width: 31%\">\n",
    "<col style=\"width: 28%\">\n",
    "</colgroup>\n",
    "<thead>\n",
    "<tr class=\"row-odd\"><th class=\"head\"><p>Concept</p></th>\n",
    "<th class=\"head\"><p>Scalar Class</p></th>\n",
    "<th class=\"head\"><p>Array Class</p></th>\n",
    "<th class=\"head\"><p>pandas Data Type</p></th>\n",
    "<th class=\"head\"><p>Primary Creation Method</p></th>\n",
    "</tr>\n",
    "</thead>\n",
    "<tbody>\n",
    "<tr class=\"row-even\"><td><p>Date times</p></td>\n",
    "<td><p><code class=\"docutils literal notranslate\"><span class=\"pre\">Timestamp</span></code></p></td>\n",
    "<td><p><code class=\"docutils literal notranslate\"><span class=\"pre\">DatetimeIndex</span></code></p></td>\n",
    "<td><p><code class=\"docutils literal notranslate\"><span class=\"pre\">datetime64[ns]</span></code> or <code class=\"docutils literal notranslate\"><span class=\"pre\">datetime64[ns,</span> <span class=\"pre\">tz]</span></code></p></td>\n",
    "<td><p><code class=\"docutils literal notranslate\"><span class=\"pre\">to_datetime</span></code> or <code class=\"docutils literal notranslate\"><span class=\"pre\">date_range</span></code></p></td>\n",
    "</tr>\n",
    "<tr class=\"row-odd\"><td><p>Time deltas</p></td>\n",
    "<td><p><code class=\"docutils literal notranslate\"><span class=\"pre\">Timedelta</span></code></p></td>\n",
    "<td><p><code class=\"docutils literal notranslate\"><span class=\"pre\">TimedeltaIndex</span></code></p></td>\n",
    "<td><p><code class=\"docutils literal notranslate\"><span class=\"pre\">timedelta64[ns]</span></code></p></td>\n",
    "<td><p><code class=\"docutils literal notranslate\"><span class=\"pre\">to_timedelta</span></code> or <code class=\"docutils literal notranslate\"><span class=\"pre\">timedelta_range</span></code></p></td>\n",
    "</tr>\n",
    "<tr class=\"row-even\"><td><p>Time spans</p></td>\n",
    "<td><p><code class=\"docutils literal notranslate\"><span class=\"pre\">Period</span></code></p></td>\n",
    "<td><p><code class=\"docutils literal notranslate\"><span class=\"pre\">PeriodIndex</span></code></p></td>\n",
    "<td><p><code class=\"docutils literal notranslate\"><span class=\"pre\">period[freq]</span></code></p></td>\n",
    "<td><p><code class=\"docutils literal notranslate\"><span class=\"pre\">Period</span></code> or <code class=\"docutils literal notranslate\"><span class=\"pre\">period_range</span></code></p></td>\n",
    "</tr>\n",
    "<tr class=\"row-odd\"><td><p>Date offsets</p></td>\n",
    "<td><p><code class=\"docutils literal notranslate\"><span class=\"pre\">DateOffset</span></code></p></td>\n",
    "<td><p><code class=\"docutils literal notranslate\"><span class=\"pre\">None</span></code></p></td>\n",
    "<td><p><code class=\"docutils literal notranslate\"><span class=\"pre\">None</span></code></p></td>\n",
    "<td><p><code class=\"docutils literal notranslate\"><span class=\"pre\">DateOffset</span></code></p></td>\n",
    "</tr>\n",
    "</tbody>\n",
    "</table>"
   ]
  },
  {
   "cell_type": "markdown",
   "metadata": {},
   "source": [
    "<table class=\"colwidths-given table\">\n",
    "<colgroup>\n",
    "<col style=\"width: 19%\">\n",
    "<col style=\"width: 81%\">\n",
    "</colgroup>\n",
    "<thead>\n",
    "<tr class=\"row-odd\"><th class=\"head\"><p>Property</p></th>\n",
    "<th class=\"head\"><p>Description</p></th>\n",
    "</tr>\n",
    "</thead>\n",
    "<tbody>\n",
    "<tr class=\"row-even\"><td><p>year</p></td>\n",
    "<td><p>The year of the datetime</p></td>\n",
    "</tr>\n",
    "<tr class=\"row-odd\"><td><p>month</p></td>\n",
    "<td><p>The month of the datetime</p></td>\n",
    "</tr>\n",
    "<tr class=\"row-even\"><td><p>day</p></td>\n",
    "<td><p>The days of the datetime</p></td>\n",
    "</tr>\n",
    "<tr class=\"row-odd\"><td><p>hour</p></td>\n",
    "<td><p>The hour of the datetime</p></td>\n",
    "</tr>\n",
    "<tr class=\"row-even\"><td><p>minute</p></td>\n",
    "<td><p>The minutes of the datetime</p></td>\n",
    "</tr>\n",
    "<tr class=\"row-odd\"><td><p>second</p></td>\n",
    "<td><p>The seconds of the datetime</p></td>\n",
    "</tr>\n",
    "<tr class=\"row-even\"><td><p>microsecond</p></td>\n",
    "<td><p>The microseconds of the datetime</p></td>\n",
    "</tr>\n",
    "<tr class=\"row-odd\"><td><p>nanosecond</p></td>\n",
    "<td><p>The nanoseconds of the datetime</p></td>\n",
    "</tr>\n",
    "<tr class=\"row-even\"><td><p>date</p></td>\n",
    "<td><p>Returns datetime.date (does not contain timezone information)</p></td>\n",
    "</tr>\n",
    "<tr class=\"row-odd\"><td><p>time</p></td>\n",
    "<td><p>Returns datetime.time (does not contain timezone information)</p></td>\n",
    "</tr>\n",
    "<tr class=\"row-even\"><td><p>timetz</p></td>\n",
    "<td><p>Returns datetime.time as local time with timezone information</p></td>\n",
    "</tr>\n",
    "<tr class=\"row-odd\"><td><p>dayofyear</p></td>\n",
    "<td><p>The ordinal day of year</p></td>\n",
    "</tr>\n",
    "<tr class=\"row-even\"><td><p>day_of_year</p></td>\n",
    "<td><p>The ordinal day of year</p></td>\n",
    "</tr>\n",
    "<tr class=\"row-odd\"><td><p>weekofyear</p></td>\n",
    "<td><p>The week ordinal of the year</p></td>\n",
    "</tr>\n",
    "<tr class=\"row-even\"><td><p>week</p></td>\n",
    "<td><p>The week ordinal of the year</p></td>\n",
    "</tr>\n",
    "<tr class=\"row-odd\"><td><p>dayofweek</p></td>\n",
    "<td><p>The number of the day of the week with Monday=0, Sunday=6</p></td>\n",
    "</tr>\n",
    "<tr class=\"row-even\"><td><p>day_of_week</p></td>\n",
    "<td><p>The number of the day of the week with Monday=0, Sunday=6</p></td>\n",
    "</tr>\n",
    "<tr class=\"row-odd\"><td><p>weekday</p></td>\n",
    "<td><p>The number of the day of the week with Monday=0, Sunday=6</p></td>\n",
    "</tr>\n",
    "<tr class=\"row-even\"><td><p>quarter</p></td>\n",
    "<td><p>Quarter of the date: Jan-Mar = 1, Apr-Jun = 2, etc.</p></td>\n",
    "</tr>\n",
    "<tr class=\"row-odd\"><td><p>days_in_month</p></td>\n",
    "<td><p>The number of days in the month of the datetime</p></td>\n",
    "</tr>\n",
    "<tr class=\"row-even\"><td><p>is_month_start</p></td>\n",
    "<td><p>Logical indicating if first day of month (defined by frequency)</p></td>\n",
    "</tr>\n",
    "<tr class=\"row-odd\"><td><p>is_month_end</p></td>\n",
    "<td><p>Logical indicating if last day of month (defined by frequency)</p></td>\n",
    "</tr>\n",
    "<tr class=\"row-even\"><td><p>is_quarter_start</p></td>\n",
    "<td><p>Logical indicating if first day of quarter (defined by frequency)</p></td>\n",
    "</tr>\n",
    "<tr class=\"row-odd\"><td><p>is_quarter_end</p></td>\n",
    "<td><p>Logical indicating if last day of quarter (defined by frequency)</p></td>\n",
    "</tr>\n",
    "<tr class=\"row-even\"><td><p>is_year_start</p></td>\n",
    "<td><p>Logical indicating if first day of year (defined by frequency)</p></td>\n",
    "</tr>\n",
    "<tr class=\"row-odd\"><td><p>is_year_end</p></td>\n",
    "<td><p>Logical indicating if last day of year (defined by frequency)</p></td>\n",
    "</tr>\n",
    "<tr class=\"row-even\"><td><p>is_leap_year</p></td>\n",
    "<td><p>Logical indicating if the date belongs to a leap year</p></td>\n",
    "</tr>\n",
    "</tbody>\n",
    "</table>"
   ]
  },
  {
   "cell_type": "markdown",
   "metadata": {},
   "source": [
    "## Sting techniuques\n",
    "- Review string functions\n",
    "- `.str.`\n",
    "- [Pandas_documentation](https://pandas.pydata.org/docs/reference/series.html#string-handling)"
   ]
  },
  {
   "cell_type": "markdown",
   "metadata": {},
   "source": [
    "<!--\n",
    "\n",
    "| **Method**                                              | **Short explanation**                           |\n",
    "|----------------------------------------------------------------------|----------------------------------------------------------------------------------|\n",
    "| Series.str.capitalize()                                              | Convert strings in the Series/Index to be capitalized.                           |\n",
    "| Series.str.casefold()                                                | Convert strings in the Series/Index to be casefolded.                            |\n",
    "| Series.str.cat([others,&nbsp;sep,&nbsp;na_rep,&nbsp;join])           | Concatenate strings in the Series/Index with given separator.                    |\n",
    "| Series.str.center(width[,&nbsp;fillchar])                            | Pad left and right side of strings in the Series/Index.                          |\n",
    "| Series.str.contains(pat[,&nbsp;case,&nbsp;flags,&nbsp;na,&nbsp;...]) | Test if pattern or regex is contained within a string of a Series or Index.      |\n",
    "| Series.str.count(pat[,&nbsp;flags])                                  | Count occurrences of pattern in each string of the Series/Index.                 |\n",
    "| Series.str.decode(encoding[,&nbsp;errors])                           | Decode character string in the Series/Index using indicated encoding.            |\n",
    "| Series.str.encode(encoding[,&nbsp;errors])                           | Encode character string in the Series/Index using indicated encoding.            |\n",
    "| Series.str.endswith(pat[,&nbsp;na])                                  | Test if the end of each string element matches a pattern.                        |\n",
    "| Series.str.extract(pat[,&nbsp;flags,&nbsp;expand])                   | Extract capture groups in the regex pat as columns in a DataFrame.               |\n",
    "| Series.str.extractall(pat[,&nbsp;flags])                             | Extract capture groups in the regex pat as columns in DataFrame.                 |\n",
    "| Series.str.find(sub[,&nbsp;start,&nbsp;end])                         | Return lowest indexes in each strings in the Series/Index.                       |\n",
    "| Series.str.findall(pat[,&nbsp;flags])                                | Find all occurrences of pattern or regular expression in the Series/Index.       |\n",
    "| Series.str.fullmatch(pat[,&nbsp;case,&nbsp;flags,&nbsp;na])          | Determine if each string entirely matches a regular expression.                  |\n",
    "| Series.str.get(i)                                                    | Extract element from each component at specified position or with specified key. |\n",
    "| Series.str.index(sub[,&nbsp;start,&nbsp;end])                        | Return lowest indexes in each string in Series/Index.                            |\n",
    "| Series.str.join(sep)                                                 | Join lists contained as elements in the Series/Index with passed delimiter.      |\n",
    "| Series.str.len()                                                     | Compute the length of each element in the Series/Index.                          |\n",
    "| Series.str.ljust(width[,&nbsp;fillchar])                             | Pad right side of strings in the Series/Index.                                   |\n",
    "| Series.str.lower()                                                   | Convert strings in the Series/Index to lowercase.                                |\n",
    "| Series.str.lstrip([to_strip])                                        | Remove leading characters.                                                       |\n",
    "| Series.str.match(pat[,&nbsp;case,&nbsp;flags,&nbsp;na])              | Determine if each string starts with a match of a regular expression.            |\n",
    "| Series.str.normalize(form)                                           | Return the Unicode normal form for the strings in the Series/Index.              |\n",
    "| Series.str.pad(width[,&nbsp;side,&nbsp;fillchar])                    | Pad strings in the Series/Index up to width.                                     |\n",
    "| Series.str.partition([sep,&nbsp;expand])                             | Split the string at the first occurrence of sep.                                 |\n",
    "| Series.str.removeprefix(prefix)                                      | Remove a prefix from an object series.                                           |\n",
    "| Series.str.removesuffix(suffix)                                      | Remove a suffix from an object series.                                           |\n",
    "| Series.str.repeat(repeats)                                           | Duplicate each string in the Series or Index.                                    |\n",
    "| Series.str.replace(pat,&nbsp;repl[,&nbsp;n,&nbsp;case,&nbsp;...])    | Replace each occurrence of pattern/regex in the Series/Index.                    |\n",
    "| Series.str.rfind(sub[,&nbsp;start,&nbsp;end])                        | Return highest indexes in each strings in the Series/Index.                      |\n",
    "| Series.str.rindex(sub[,&nbsp;start,&nbsp;end])                       | Return highest indexes in each string in Series/Index.                           |\n",
    "| Series.str.rjust(width[,&nbsp;fillchar])                             | Pad left side of strings in the Series/Index.                                    |\n",
    "| Series.str.rpartition([sep,&nbsp;expand])                            | Split the string at the last occurrence of sep.                                  |\n",
    "| Series.str.rstrip([to_strip])                                        | Remove trailing characters.                                                      |\n",
    "| Series.str.slice([start,&nbsp;stop,&nbsp;step])                      | Slice substrings from each element in the Series or Index.                       |\n",
    "| Series.str.slice_replace([start,&nbsp;stop,&nbsp;repl])              | Replace a positional slice of a string with another value.                       |\n",
    "| Series.str.split([pat,&nbsp;n,&nbsp;expand,&nbsp;regex])             | Split strings around given separator/delimiter.                                  |\n",
    "| Series.str.rsplit([pat,&nbsp;n,&nbsp;expand])                        | Split strings around given separator/delimiter.                                  |\n",
    "| Series.str.startswith(pat[,&nbsp;na])                                | Test if the start of each string element matches a pattern.                      |\n",
    "| Series.str.strip([to_strip])                                         | Remove leading and trailing characters.                                          |\n",
    "| Series.str.swapcase()                                                | Convert strings in the Series/Index to be swapcased.                             |\n",
    "| Series.str.title()                                                   | Convert strings in the Series/Index to titlecase.                                |\n",
    "| Series.str.translate(table)                                          | Map all characters in the string through the given mapping table.                |\n",
    "| Series.str.upper()                                                   | Convert strings in the Series/Index to uppercase.                                |\n",
    "| Series.str.wrap(width,&nbsp;**kwargs)                                | Wrap strings in Series/Index at specified line width.                            |\n",
    "| Series.str.zfill(width)                                              | Pad strings in the Series/Index by prepending '0' characters.                    |\n",
    "| Series.str.isalnum()                                                 | Check whether all characters in each string are alphanumeric.                    |\n",
    "| Series.str.isalpha()                                                 | Check whether all characters in each string are alphabetic.                      |\n",
    "| Series.str.isdigit()                                                 | Check whether all characters in each string are digits.                          |\n",
    "| Series.str.isspace()                                                 | Check whether all characters in each string are whitespace.                      |\n",
    "| Series.str.islower()                                                 | Check whether all characters in each string are lowercase.                       |\n",
    "| Series.str.isupper()                                                 | Check whether all characters in each string are uppercase.                       |\n",
    "| Series.str.istitle()                                                 | Check whether all characters in each string are titlecase.                       |\n",
    "| Series.str.isnumeric()                                               | Check whether all characters in each string are numeric.                         |\n",
    "| Series.str.isdecimal()                                               | Check whether all characters in each string are decimal.                         |\n",
    "| Series.str.get_dummies([sep])                                        | Return DataFrame of dummy/indicator variables for Series.                        |\n",
    "-->"
   ]
  },
  {
   "cell_type": "markdown",
   "metadata": {},
   "source": [
    "<section id=\"string-handling\">\n",
    "<span id=\"api-series-str\"></span><h3>String handling<a class=\"headerlink\" href=\"#string-handling\" title=\"Permalink to this headline\">#</a></h3>\n",
    "<p><code class=\"docutils literal notranslate\"><span class=\"pre\">Series.str</span></code> can be used to access the values of the series as\n",
    "strings and apply several methods to it. These can be accessed like\n",
    "<code class=\"docutils literal notranslate\"><span class=\"pre\">Series.str.&lt;function/property&gt;</span></code>.</p>\n",
    "<table class=\"autosummary longtable table autosummary\">\n",
    "<colgroup>\n",
    "<!-- <col style=\"width: 10%\">\n",
    "<col style=\"width: 90%\"> -->\n",
    "</colgroup>\n",
    "<tbody> \n",
    "<tr class=\"row-odd\"><td><p><a class=\"reference internal\" href=\"https://pandas.pydata.org/docs/reference/api/pandas.Series.str.capitalize.html#pandas.Series.str.capitalize\" title=\"pandas.Series.str.capitalize\"><code class=\"xref py py-obj docutils literal notranslate\"><span class=\"pre\">Series.str.capitalize</span></code></a>()</p></td>\n",
    "<td><p>Convert strings in the Series/Index to be capitalized.</p></td>\n",
    "</tr>\n",
    "<tr class=\"row-even\"><td><p><a class=\"reference internal\" href=\"https://pandas.pydata.org/docs/reference/api/pandas.Series.str.casefold.html#pandas.Series.str.casefold\" title=\"pandas.Series.str.casefold\"><code class=\"xref py py-obj docutils literal notranslate\"><span class=\"pre\">Series.str.casefold</span></code></a>()</p></td>\n",
    "<td><p>Convert strings in the Series/Index to be casefolded.</p></td>\n",
    "</tr>\n",
    "<tr class=\"row-odd\"><td><p><a class=\"reference internal\" href=\"https://pandas.pydata.org/docs/reference/api/pandas.Series.str.cat.html#pandas.Series.str.cat\" title=\"pandas.Series.str.cat\"><code class=\"xref py py-obj docutils literal notranslate\"><span class=\"pre\">Series.str.cat</span></code></a>([others,&nbsp;sep,&nbsp;na_rep,&nbsp;join])</p></td>\n",
    "<td><p>Concatenate strings in the Series/Index with given separator.</p></td>\n",
    "</tr>\n",
    "<tr class=\"row-even\"><td><p><a class=\"reference internal\" href=\"https://pandas.pydata.org/docs/reference/api/pandas.Series.str.center.html#pandas.Series.str.center\" title=\"pandas.Series.str.center\"><code class=\"xref py py-obj docutils literal notranslate\"><span class=\"pre\">Series.str.center</span></code></a>(width[,&nbsp;fillchar])</p></td>\n",
    "<td><p>Pad left and right side of strings in the Series/Index.</p></td>\n",
    "</tr>\n",
    "<tr class=\"row-odd\"><td><p><a class=\"reference internal\" href=\"https://pandas.pydata.org/docs/reference/api/pandas.Series.str.contains.html#pandas.Series.str.contains\" title=\"pandas.Series.str.contains\"><code class=\"xref py py-obj docutils literal notranslate\"><span class=\"pre\">Series.str.contains</span></code></a>(pat[,&nbsp;case,&nbsp;flags,&nbsp;na,&nbsp;...])</p></td>\n",
    "<td><p>Test if pattern or regex is contained within a string of a Series or Index.</p></td>\n",
    "</tr>\n",
    "<tr class=\"row-even\"><td><p><a class=\"reference internal\" href=\"https://pandas.pydata.org/docs/reference/api/pandas.Series.str.count.html#pandas.Series.str.count\" title=\"pandas.Series.str.count\"><code class=\"xref py py-obj docutils literal notranslate\"><span class=\"pre\">Series.str.count</span></code></a>(pat[,&nbsp;flags])</p></td>\n",
    "<td><p>Count occurrences of pattern in each string of the Series/Index.</p></td>\n",
    "</tr>\n",
    "<tr class=\"row-odd\"><td><p><a class=\"reference internal\" href=\"https://pandas.pydata.org/docs/reference/api/pandas.Series.str.decode.html#pandas.Series.str.decode\" title=\"pandas.Series.str.decode\"><code class=\"xref py py-obj docutils literal notranslate\"><span class=\"pre\">Series.str.decode</span></code></a>(encoding[,&nbsp;errors])</p></td>\n",
    "<td><p>Decode character string in the Series/Index using indicated encoding.</p></td>\n",
    "</tr>\n",
    "<tr class=\"row-even\"><td><p><a class=\"reference internal\" href=\"https://pandas.pydata.org/docs/reference/api/pandas.Series.str.encode.html#pandas.Series.str.encode\" title=\"pandas.Series.str.encode\"><code class=\"xref py py-obj docutils literal notranslate\"><span class=\"pre\">Series.str.encode</span></code></a>(encoding[,&nbsp;errors])</p></td>\n",
    "<td><p>Encode character string in the Series/Index using indicated encoding.</p></td>\n",
    "</tr>\n",
    "<tr class=\"row-odd\"><td><p><a class=\"reference internal\" href=\"https://pandas.pydata.org/docs/reference/api/pandas.Series.str.endswith.html#pandas.Series.str.endswith\" title=\"pandas.Series.str.endswith\"><code class=\"xref py py-obj docutils literal notranslate\"><span class=\"pre\">Series.str.endswith</span></code></a>(pat[,&nbsp;na])</p></td>\n",
    "<td><p>Test if the end of each string element matches a pattern.</p></td>\n",
    "</tr>\n",
    "<tr class=\"row-even\"><td><p><a class=\"reference internal\" href=\"https://pandas.pydata.org/docs/reference/api/pandas.Series.str.extract.html#pandas.Series.str.extract\" title=\"pandas.Series.str.extract\"><code class=\"xref py py-obj docutils literal notranslate\"><span class=\"pre\">Series.str.extract</span></code></a>(pat[,&nbsp;flags,&nbsp;expand])</p></td>\n",
    "<td><p>Extract capture groups in the regex <cite>pat</cite> as columns in a DataFrame.</p></td>\n",
    "</tr>\n",
    "<tr class=\"row-odd\"><td><p><a class=\"reference internal\" href=\"https://pandas.pydata.org/docs/reference/api/pandas.Series.str.extractall.html#pandas.Series.str.extractall\" title=\"pandas.Series.str.extractall\"><code class=\"xref py py-obj docutils literal notranslate\"><span class=\"pre\">Series.str.extractall</span></code></a>(pat[,&nbsp;flags])</p></td>\n",
    "<td><p>Extract capture groups in the regex <cite>pat</cite> as columns in DataFrame.</p></td>\n",
    "</tr>\n",
    "<tr class=\"row-even\"><td><p><a class=\"reference internal\" href=\"https://pandas.pydata.org/docs/reference/api/pandas.Series.str.find.html#pandas.Series.str.find\" title=\"pandas.Series.str.find\"><code class=\"xref py py-obj docutils literal notranslate\"><span class=\"pre\">Series.str.find</span></code></a>(sub[,&nbsp;start,&nbsp;end])</p></td>\n",
    "<td><p>Return lowest indexes in each strings in the Series/Index.</p></td>\n",
    "</tr>\n",
    "<tr class=\"row-odd\"><td><p><a class=\"reference internal\" href=\"https://pandas.pydata.org/docs/reference/api/pandas.Series.str.findall.html#pandas.Series.str.findall\" title=\"pandas.Series.str.findall\"><code class=\"xref py py-obj docutils literal notranslate\"><span class=\"pre\">Series.str.findall</span></code></a>(pat[,&nbsp;flags])</p></td>\n",
    "<td><p>Find all occurrences of pattern or regular expression in the Series/Index.</p></td>\n",
    "</tr>\n",
    "<tr class=\"row-even\"><td><p><a class=\"reference internal\" href=\"https://pandas.pydata.org/docs/reference/api/pandas.Series.str.fullmatch.html#pandas.Series.str.fullmatch\" title=\"pandas.Series.str.fullmatch\"><code class=\"xref py py-obj docutils literal notranslate\"><span class=\"pre\">Series.str.fullmatch</span></code></a>(pat[,&nbsp;case,&nbsp;flags,&nbsp;na])</p></td>\n",
    "<td><p>Determine if each string entirely matches a regular expression.</p></td>\n",
    "</tr>\n",
    "<tr class=\"row-odd\"><td><p><a class=\"reference internal\" href=\"https://pandas.pydata.org/docs/reference/api/pandas.Series.str.get.html#pandas.Series.str.get\" title=\"pandas.Series.str.get\"><code class=\"xref py py-obj docutils literal notranslate\"><span class=\"pre\">Series.str.get</span></code></a>(i)</p></td>\n",
    "<td><p>Extract element from each component at specified position or with specified key.</p></td>\n",
    "</tr>\n",
    "<tr class=\"row-even\"><td><p><a class=\"reference internal\" href=\"https://pandas.pydata.org/docs/reference/api/pandas.Series.str.index.html#pandas.Series.str.index\" title=\"pandas.Series.str.index\"><code class=\"xref py py-obj docutils literal notranslate\"><span class=\"pre\">Series.str.index</span></code></a>(sub[,&nbsp;start,&nbsp;end])</p></td>\n",
    "<td><p>Return lowest indexes in each string in Series/Index.</p></td>\n",
    "</tr>\n",
    "<tr class=\"row-odd\"><td><p><a class=\"reference internal\" href=\"https://pandas.pydata.org/docs/reference/api/pandas.Series.str.join.html#pandas.Series.str.join\" title=\"pandas.Series.str.join\"><code class=\"xref py py-obj docutils literal notranslate\"><span class=\"pre\">Series.str.join</span></code></a>(sep)</p></td>\n",
    "<td><p>Join lists contained as elements in the Series/Index with passed delimiter.</p></td>\n",
    "</tr>\n",
    "<tr class=\"row-even\"><td><p><a class=\"reference internal\" href=\"https://pandas.pydata.org/docs/reference/api/pandas.Series.str.len.html#pandas.Series.str.len\" title=\"pandas.Series.str.len\"><code class=\"xref py py-obj docutils literal notranslate\"><span class=\"pre\">Series.str.len</span></code></a>()</p></td>\n",
    "<td><p>Compute the length of each element in the Series/Index.</p></td>\n",
    "</tr>\n",
    "<tr class=\"row-odd\"><td><p><a class=\"reference internal\" href=\"https://pandas.pydata.org/docs/reference/api/pandas.Series.str.ljust.html#pandas.Series.str.ljust\" title=\"pandas.Series.str.ljust\"><code class=\"xref py py-obj docutils literal notranslate\"><span class=\"pre\">Series.str.ljust</span></code></a>(width[,&nbsp;fillchar])</p></td>\n",
    "<td><p>Pad right side of strings in the Series/Index.</p></td>\n",
    "</tr>\n",
    "<tr class=\"row-even\"><td><p><a class=\"reference internal\" href=\"https://pandas.pydata.org/docs/reference/api/pandas.Series.str.lower.html#pandas.Series.str.lower\" title=\"pandas.Series.str.lower\"><code class=\"xref py py-obj docutils literal notranslate\"><span class=\"pre\">Series.str.lower</span></code></a>()</p></td>\n",
    "<td><p>Convert strings in the Series/Index to lowercase.</p></td>\n",
    "</tr>\n",
    "<tr class=\"row-odd\"><td><p><a class=\"reference internal\" href=\"https://pandas.pydata.org/docs/reference/api/pandas.Series.str.lstrip.html#pandas.Series.str.lstrip\" title=\"pandas.Series.str.lstrip\"><code class=\"xref py py-obj docutils literal notranslate\"><span class=\"pre\">Series.str.lstrip</span></code></a>([to_strip])</p></td>\n",
    "<td><p>Remove leading characters.</p></td>\n",
    "</tr>\n",
    "<tr class=\"row-even\"><td><p><a class=\"reference internal\" href=\"https://pandas.pydata.org/docs/reference/api/pandas.Series.str.match.html#pandas.Series.str.match\" title=\"pandas.Series.str.match\"><code class=\"xref py py-obj docutils literal notranslate\"><span class=\"pre\">Series.str.match</span></code></a>(pat[,&nbsp;case,&nbsp;flags,&nbsp;na])</p></td>\n",
    "<td><p>Determine if each string starts with a match of a regular expression.</p></td>\n",
    "</tr>\n",
    "<tr class=\"row-odd\"><td><p><a class=\"reference internal\" href=\"https://pandas.pydata.org/docs/reference/api/pandas.Series.str.normalize.html#pandas.Series.str.normalize\" title=\"pandas.Series.str.normalize\"><code class=\"xref py py-obj docutils literal notranslate\"><span class=\"pre\">Series.str.normalize</span></code></a>(form)</p></td>\n",
    "<td><p>Return the Unicode normal form for the strings in the Series/Index.</p></td>\n",
    "</tr>\n",
    "<tr class=\"row-even\"><td><p><a class=\"reference internal\" href=\"https://pandas.pydata.org/docs/reference/api/pandas.Series.str.pad.html#pandas.Series.str.pad\" title=\"pandas.Series.str.pad\"><code class=\"xref py py-obj docutils literal notranslate\"><span class=\"pre\">Series.str.pad</span></code></a>(width[,&nbsp;side,&nbsp;fillchar])</p></td>\n",
    "<td><p>Pad strings in the Series/Index up to width.</p></td>\n",
    "</tr>\n",
    "<tr class=\"row-odd\"><td><p><a class=\"reference internal\" href=\"https://pandas.pydata.org/docs/reference/api/pandas.Series.str.partition.html#pandas.Series.str.partition\" title=\"pandas.Series.str.partition\"><code class=\"xref py py-obj docutils literal notranslate\"><span class=\"pre\">Series.str.partition</span></code></a>([sep,&nbsp;expand])</p></td>\n",
    "<td><p>Split the string at the first occurrence of <cite>sep</cite>.</p></td>\n",
    "</tr>\n",
    "<tr class=\"row-even\"><td><p><a class=\"reference internal\" href=\"https://pandas.pydata.org/docs/reference/api/pandas.Series.str.removeprefix.html#pandas.Series.str.removeprefix\" title=\"pandas.Series.str.removeprefix\"><code class=\"xref py py-obj docutils literal notranslate\"><span class=\"pre\">Series.str.removeprefix</span></code></a>(prefix)</p></td>\n",
    "<td><p>Remove a prefix from an object series.</p></td>\n",
    "</tr>\n",
    "<tr class=\"row-odd\"><td><p><a class=\"reference internal\" href=\"https://pandas.pydata.org/docs/reference/api/pandas.Series.str.removesuffix.html#pandas.Series.str.removesuffix\" title=\"pandas.Series.str.removesuffix\"><code class=\"xref py py-obj docutils literal notranslate\"><span class=\"pre\">Series.str.removesuffix</span></code></a>(suffix)</p></td>\n",
    "<td><p>Remove a suffix from an object series.</p></td>\n",
    "</tr>\n",
    "<tr class=\"row-even\"><td><p><a class=\"reference internal\" href=\"https://pandas.pydata.org/docs/reference/api/pandas.Series.str.repeat.html#pandas.Series.str.repeat\" title=\"pandas.Series.str.repeat\"><code class=\"xref py py-obj docutils literal notranslate\"><span class=\"pre\">Series.str.repeat</span></code></a>(repeats)</p></td>\n",
    "<td><p>Duplicate each string in the Series or Index.</p></td>\n",
    "</tr>\n",
    "<tr class=\"row-odd\"><td><p><a class=\"reference internal\" href=\"https://pandas.pydata.org/docs/reference/api/pandas.Series.str.replace.html#pandas.Series.str.replace\" title=\"pandas.Series.str.replace\"><code class=\"xref py py-obj docutils literal notranslate\"><span class=\"pre\">Series.str.replace</span></code></a>(pat,&nbsp;repl[,&nbsp;n,&nbsp;case,&nbsp;...])</p></td>\n",
    "<td><p>Replace each occurrence of pattern/regex in the Series/Index.</p></td>\n",
    "</tr>\n",
    "<tr class=\"row-even\"><td><p><a class=\"reference internal\" href=\"https://pandas.pydata.org/docs/reference/api/pandas.Series.str.rfind.html#pandas.Series.str.rfind\" title=\"pandas.Series.str.rfind\"><code class=\"xref py py-obj docutils literal notranslate\"><span class=\"pre\">Series.str.rfind</span></code></a>(sub[,&nbsp;start,&nbsp;end])</p></td>\n",
    "<td><p>Return highest indexes in each strings in the Series/Index.</p></td>\n",
    "</tr>\n",
    "<tr class=\"row-odd\"><td><p><a class=\"reference internal\" href=\"https://pandas.pydata.org/docs/reference/api/pandas.Series.str.rindex.html#pandas.Series.str.rindex\" title=\"pandas.Series.str.rindex\"><code class=\"xref py py-obj docutils literal notranslate\"><span class=\"pre\">Series.str.rindex</span></code></a>(sub[,&nbsp;start,&nbsp;end])</p></td>\n",
    "<td><p>Return highest indexes in each string in Series/Index.</p></td>\n",
    "</tr>\n",
    "<tr class=\"row-even\"><td><p><a class=\"reference internal\" href=\"https://pandas.pydata.org/docs/reference/api/pandas.Series.str.rjust.html#pandas.Series.str.rjust\" title=\"pandas.Series.str.rjust\"><code class=\"xref py py-obj docutils literal notranslate\"><span class=\"pre\">Series.str.rjust</span></code></a>(width[,&nbsp;fillchar])</p></td>\n",
    "<td><p>Pad left side of strings in the Series/Index.</p></td>\n",
    "</tr>\n",
    "<tr class=\"row-odd\"><td><p><a class=\"reference internal\" href=\"https://pandas.pydata.org/docs/reference/api/pandas.Series.str.rpartition.html#pandas.Series.str.rpartition\" title=\"pandas.Series.str.rpartition\"><code class=\"xref py py-obj docutils literal notranslate\"><span class=\"pre\">Series.str.rpartition</span></code></a>([sep,&nbsp;expand])</p></td>\n",
    "<td><p>Split the string at the last occurrence of <cite>sep</cite>.</p></td>\n",
    "</tr>\n",
    "<tr class=\"row-even\"><td><p><a class=\"reference internal\" href=\"https://pandas.pydata.org/docs/reference/api/pandas.Series.str.rstrip.html#pandas.Series.str.rstrip\" title=\"pandas.Series.str.rstrip\"><code class=\"xref py py-obj docutils literal notranslate\"><span class=\"pre\">Series.str.rstrip</span></code></a>([to_strip])</p></td>\n",
    "<td><p>Remove trailing characters.</p></td>\n",
    "</tr>\n",
    "<tr class=\"row-odd\"><td><p><a class=\"reference internal\" href=\"https://pandas.pydata.org/docs/reference/api/pandas.Series.str.slice.html#pandas.Series.str.slice\" title=\"pandas.Series.str.slice\"><code class=\"xref py py-obj docutils literal notranslate\"><span class=\"pre\">Series.str.slice</span></code></a>([start,&nbsp;stop,&nbsp;step])</p></td>\n",
    "<td><p>Slice substrings from each element in the Series or Index.</p></td>\n",
    "</tr>\n",
    "<tr class=\"row-even\"><td><p><a class=\"reference internal\" href=\"https://pandas.pydata.org/docs/reference/api/pandas.Series.str.slice_replace.html#pandas.Series.str.slice_replace\" title=\"pandas.Series.str.slice_replace\"><code class=\"xref py py-obj docutils literal notranslate\"><span class=\"pre\">Series.str.slice_replace</span></code></a>([start,&nbsp;stop,&nbsp;repl])</p></td>\n",
    "<td><p>Replace a positional slice of a string with another value.</p></td>\n",
    "</tr>\n",
    "<tr class=\"row-odd\"><td><p><a class=\"reference internal\" href=\"https://pandas.pydata.org/docs/reference/api/pandas.Series.str.split.html#pandas.Series.str.split\" title=\"pandas.Series.str.split\"><code class=\"xref py py-obj docutils literal notranslate\"><span class=\"pre\">Series.str.split</span></code></a>([pat,&nbsp;n,&nbsp;expand,&nbsp;regex])</p></td>\n",
    "<td><p>Split strings around given separator/delimiter.</p></td>\n",
    "</tr>\n",
    "<tr class=\"row-even\"><td><p><a class=\"reference internal\" href=\"https://pandas.pydata.org/docs/reference/api/pandas.Series.str.rsplit.html#pandas.Series.str.rsplit\" title=\"pandas.Series.str.rsplit\"><code class=\"xref py py-obj docutils literal notranslate\"><span class=\"pre\">Series.str.rsplit</span></code></a>([pat,&nbsp;n,&nbsp;expand])</p></td>\n",
    "<td><p>Split strings around given separator/delimiter.</p></td>\n",
    "</tr>\n",
    "<tr class=\"row-odd\"><td><p><a class=\"reference internal\" href=\"https://pandas.pydata.org/docs/reference/api/pandas.Series.str.startswith.html#pandas.Series.str.startswith\" title=\"pandas.Series.str.startswith\"><code class=\"xref py py-obj docutils literal notranslate\"><span class=\"pre\">Series.str.startswith</span></code></a>(pat[,&nbsp;na])</p></td>\n",
    "<td><p>Test if the start of each string element matches a pattern.</p></td>\n",
    "</tr>\n",
    "<tr class=\"row-even\"><td><p><a class=\"reference internal\" href=\"https://pandas.pydata.org/docs/reference/api/pandas.Series.str.strip.html#pandas.Series.str.strip\" title=\"pandas.Series.str.strip\"><code class=\"xref py py-obj docutils literal notranslate\"><span class=\"pre\">Series.str.strip</span></code></a>([to_strip])</p></td>\n",
    "<td><p>Remove leading and trailing characters.</p></td>\n",
    "</tr>\n",
    "<tr class=\"row-odd\"><td><p><a class=\"reference internal\" href=\"https://pandas.pydata.org/docs/reference/api/pandas.Series.str.swapcase.html#pandas.Series.str.swapcase\" title=\"pandas.Series.str.swapcase\"><code class=\"xref py py-obj docutils literal notranslate\"><span class=\"pre\">Series.str.swapcase</span></code></a>()</p></td>\n",
    "<td><p>Convert strings in the Series/Index to be swapcased.</p></td>\n",
    "</tr>\n",
    "<tr class=\"row-even\"><td><p><a class=\"reference internal\" href=\"https://pandas.pydata.org/docs/reference/api/pandas.Series.str.title.html#pandas.Series.str.title\" title=\"pandas.Series.str.title\"><code class=\"xref py py-obj docutils literal notranslate\"><span class=\"pre\">Series.str.title</span></code></a>()</p></td>\n",
    "<td><p>Convert strings in the Series/Index to titlecase.</p></td>\n",
    "</tr>\n",
    "<tr class=\"row-odd\"><td><p><a class=\"reference internal\" href=\"https://pandas.pydata.org/docs/reference/api/pandas.Series.str.translate.html#pandas.Series.str.translate\" title=\"pandas.Series.str.translate\"><code class=\"xref py py-obj docutils literal notranslate\"><span class=\"pre\">Series.str.translate</span></code></a>(table)</p></td>\n",
    "<td><p>Map all characters in the string through the given mapping table.</p></td>\n",
    "</tr>\n",
    "<tr class=\"row-even\"><td><p><a class=\"reference internal\" href=\"https://pandas.pydata.org/docs/reference/api/pandas.Series.str.upper.html#pandas.Series.str.upper\" title=\"pandas.Series.str.upper\"><code class=\"xref py py-obj docutils literal notranslate\"><span class=\"pre\">Series.str.upper</span></code></a>()</p></td>\n",
    "<td><p>Convert strings in the Series/Index to uppercase.</p></td>\n",
    "</tr>\n",
    "<tr class=\"row-odd\"><td><p><a class=\"reference internal\" href=\"https://pandas.pydata.org/docs/reference/api/pandas.Series.str.wrap.html#pandas.Series.str.wrap\" title=\"pandas.Series.str.wrap\"><code class=\"xref py py-obj docutils literal notranslate\"><span class=\"pre\">Series.str.wrap</span></code></a>(width,&nbsp;**kwargs)</p></td>\n",
    "<td><p>Wrap strings in Series/Index at specified line width.</p></td>\n",
    "</tr>\n",
    "<tr class=\"row-even\"><td><p><a class=\"reference internal\" href=\"https://pandas.pydata.org/docs/reference/api/pandas.Series.str.zfill.html#pandas.Series.str.zfill\" title=\"pandas.Series.str.zfill\"><code class=\"xref py py-obj docutils literal notranslate\"><span class=\"pre\">Series.str.zfill</span></code></a>(width)</p></td>\n",
    "<td><p>Pad strings in the Series/Index by prepending '0' characters.</p></td>\n",
    "</tr>\n",
    "<tr class=\"row-odd\"><td><p><a class=\"reference internal\" href=\"https://pandas.pydata.org/docs/reference/api/pandas.Series.str.isalnum.html#pandas.Series.str.isalnum\" title=\"pandas.Series.str.isalnum\"><code class=\"xref py py-obj docutils literal notranslate\"><span class=\"pre\">Series.str.isalnum</span></code></a>()</p></td>\n",
    "<td><p>Check whether all characters in each string are alphanumeric.</p></td>\n",
    "</tr>\n",
    "<tr class=\"row-even\"><td><p><a class=\"reference internal\" href=\"https://pandas.pydata.org/docs/reference/api/pandas.Series.str.isalpha.html#pandas.Series.str.isalpha\" title=\"pandas.Series.str.isalpha\"><code class=\"xref py py-obj docutils literal notranslate\"><span class=\"pre\">Series.str.isalpha</span></code></a>()</p></td>\n",
    "<td><p>Check whether all characters in each string are alphabetic.</p></td>\n",
    "</tr>\n",
    "<tr class=\"row-odd\"><td><p><a class=\"reference internal\" href=\"https://pandas.pydata.org/docs/reference/api/pandas.Series.str.isdigit.html#pandas.Series.str.isdigit\" title=\"pandas.Series.str.isdigit\"><code class=\"xref py py-obj docutils literal notranslate\"><span class=\"pre\">Series.str.isdigit</span></code></a>()</p></td>\n",
    "<td><p>Check whether all characters in each string are digits.</p></td>\n",
    "</tr>\n",
    "<tr class=\"row-even\"><td><p><a class=\"reference internal\" href=\"https://pandas.pydata.org/docs/reference/api/pandas.Series.str.isspace.html#pandas.Series.str.isspace\" title=\"pandas.Series.str.isspace\"><code class=\"xref py py-obj docutils literal notranslate\"><span class=\"pre\">Series.str.isspace</span></code></a>()</p></td>\n",
    "<td><p>Check whether all characters in each string are whitespace.</p></td>\n",
    "</tr>\n",
    "<tr class=\"row-odd\"><td><p><a class=\"reference internal\" href=\"https://pandas.pydata.org/docs/reference/api/pandas.Series.str.islower.html#pandas.Series.str.islower\" title=\"pandas.Series.str.islower\"><code class=\"xref py py-obj docutils literal notranslate\"><span class=\"pre\">Series.str.islower</span></code></a>()</p></td>\n",
    "<td><p>Check whether all characters in each string are lowercase.</p></td>\n",
    "</tr>\n",
    "<tr class=\"row-even\"><td><p><a class=\"reference internal\" href=\"https://pandas.pydata.org/docs/reference/api/pandas.Series.str.isupper.html#pandas.Series.str.isupper\" title=\"pandas.Series.str.isupper\"><code class=\"xref py py-obj docutils literal notranslate\"><span class=\"pre\">Series.str.isupper</span></code></a>()</p></td>\n",
    "<td><p>Check whether all characters in each string are uppercase.</p></td>\n",
    "</tr>\n",
    "<tr class=\"row-odd\"><td><p><a class=\"reference internal\" href=\"https://pandas.pydata.org/docs/reference/api/pandas.Series.str.istitle.html#pandas.Series.str.istitle\" title=\"pandas.Series.str.istitle\"><code class=\"xref py py-obj docutils literal notranslate\"><span class=\"pre\">Series.str.istitle</span></code></a>()</p></td>\n",
    "<td><p>Check whether all characters in each string are titlecase.</p></td>\n",
    "</tr>\n",
    "<tr class=\"row-even\"><td><p><a class=\"reference internal\" href=\"https://pandas.pydata.org/docs/reference/api/pandas.Series.str.isnumeric.html#pandas.Series.str.isnumeric\" title=\"pandas.Series.str.isnumeric\"><code class=\"xref py py-obj docutils literal notranslate\"><span class=\"pre\">Series.str.isnumeric</span></code></a>()</p></td>\n",
    "<td><p>Check whether all characters in each string are numeric.</p></td>\n",
    "</tr>\n",
    "<tr class=\"row-odd\"><td><p><a class=\"reference internal\" href=\"https://pandas.pydata.org/docs/reference/api/pandas.Series.str.isdecimal.html#pandas.Series.str.isdecimal\" title=\"pandas.Series.str.isdecimal\"><code class=\"xref py py-obj docutils literal notranslate\"><span class=\"pre\">Series.str.isdecimal</span></code></a>()</p></td>\n",
    "<td><p>Check whether all characters in each string are decimal.</p></td>\n",
    "</tr>\n",
    "<tr class=\"row-even\"><td><p><a class=\"reference internal\" href=\"https://pandas.pydata.org/docs/reference/api/pandas.Series.str.get_dummies.html#pandas.Series.str.get_dummies\" title=\"pandas.Series.str.get_dummies\"><code class=\"xref py py-obj docutils literal notranslate\"><span class=\"pre\">Series.str.get_dummies</span></code></a>([sep])</p></td>\n",
    "<td><p>Return DataFrame of dummy/indicator variables for Series.</p></td>\n",
    "</tr>\n",
    "</tbody>\n",
    "</table>\n",
    "</section>"
   ]
  },
  {
   "cell_type": "markdown",
   "metadata": {},
   "source": [
    "## Regex\n",
    "\n",
    "- Review Regex based on [Charles Severance - P4E - REGEX](https://www.py4e.com/lessons/regex)\n",
    "- Look at cheat sheats\n",
    "\n",
    "   - [Online_regex](https://regex101.com/)\n",
    "   - Google for regex pattern\n",
    "   - Sample at my github\n",
    "   \n",
    "   \n",
    "```python\n",
    "# filter on column name with REXEG\n",
    "vel = df.filter(regex='Vel*')\n",
    "```"
   ]
  },
  {
   "cell_type": "code",
   "execution_count": null,
   "metadata": {},
   "outputs": [],
   "source": []
  },
  {
   "cell_type": "code",
   "execution_count": null,
   "metadata": {},
   "outputs": [],
   "source": []
  },
  {
   "cell_type": "code",
   "execution_count": null,
   "metadata": {},
   "outputs": [],
   "source": [
    "df.convert_dtypes(infer_objects=True, convert_string=True, convert_integer=True, convert_boolean=True, convert_floating=True)"
   ]
  },
  {
   "cell_type": "code",
   "execution_count": 222,
   "metadata": {},
   "outputs": [
    {
     "name": "stdout",
     "output_type": "stream",
     "text": [
      "Variable               Type                          Data/Info\n",
      "--------------------------------------------------------------\n",
      "IFrame                 type                          <class 'IPython.lib.display.IFrame'>\n",
      "Image                  type                          <class 'IPython.core.display.Image'>\n",
      "chdir                  builtin_function_or_method    <built-in function chdir>\n",
      "col                    str                           lstPrd_1400\n",
      "cols                   Index                         Index(['ID', 'Parentid', <...>],\\n      dtype='object')\n",
      "cols_sample_year       list                          n=6\n",
      "cols_val               list                          n=61\n",
      "df                     DataFrame                              frstPrd_99    ls<...>1693935 rows x 8 columns]\n",
      "df1                    DataFrame                              frstPrd_99  lstP<...>3387870 rows x 7 columns]\n",
      "df_columns             DataFrame                                              <...>\\n\\n[65 rows x 3 columns]\n",
      "df_ostan               DataFrame                                Dar_100MT     <...>n\\n[2 rows x 341 columns]\n",
      "df_sample              DataFrame                                   ID      Par<...>n\\n[20 rows x 65 columns]\n",
      "df_sample_year         DataFrame                                    ID   AmCrd<...>\\n[200 rows x 10 columns]\n",
      "display                function                      <function display at 0x000002688D20BA60>\n",
      "getcwd                 builtin_function_or_method    <built-in function getcwd>\n",
      "img                    function                      <function img at 0x000002690A3DF5E0>\n",
      "input_dict             dict                          n=3\n",
      "listdir                builtin_function_or_method    <built-in function listdir>\n",
      "missing_values_table   function                      <function missing_values_<...>le at 0x0000026896BE1820>\n",
      "needed_cols            list                          n=9\n",
      "np                     module                        <module 'numpy' from 'D:\\<...>ges\\\\numpy\\\\__init__.py'>\n",
      "path                   str                           D:/Hesam/Data Science/Pan<...>s course notebook/images/\n",
      "pd                     module                        <module 'pandas' from 'D:<...>es\\\\pandas\\\\__init__.py'>\n",
      "plt                    module                        <module 'matplotlib.pyplo<...>\\\\matplotlib\\\\pyplot.py'>\n",
      "re                     module                        <module 're' from 'D:\\\\Pr<...>\\\\Anaconda3\\\\lib\\\\re.py'>\n",
      "sample_cols            list                          n=4\n",
      "sample_year            str                           _99\n",
      "str_col                str                           lstPrd_1400\n",
      "str_col_year           str                           1400\n",
      "temp                   str                           dfdsfds_99\n"
     ]
    }
   ],
   "source": [
    "%whos"
   ]
  },
  {
   "cell_type": "code",
   "execution_count": 214,
   "metadata": {},
   "outputs": [
    {
     "data": {
      "text/plain": [
       "(1693935, 8)"
      ]
     },
     "execution_count": 214,
     "metadata": {},
     "output_type": "execute_result"
    }
   ],
   "source": [
    "df.shape"
   ]
  },
  {
   "cell_type": "code",
   "execution_count": 188,
   "metadata": {},
   "outputs": [
    {
     "data": {
      "text/html": [
       "<div>\n",
       "<style scoped>\n",
       "    .dataframe tbody tr th:only-of-type {\n",
       "        vertical-align: middle;\n",
       "    }\n",
       "\n",
       "    .dataframe tbody tr th {\n",
       "        vertical-align: top;\n",
       "    }\n",
       "\n",
       "    .dataframe thead th {\n",
       "        text-align: right;\n",
       "    }\n",
       "</style>\n",
       "<table border=\"1\" class=\"dataframe\">\n",
       "  <thead>\n",
       "    <tr style=\"text-align: right;\">\n",
       "      <th></th>\n",
       "      <th>frstPrd_99</th>\n",
       "      <th>lstPrd_99</th>\n",
       "      <th>frstPrd_1400</th>\n",
       "      <th>lstPrd_1400</th>\n",
       "      <th>Ostan</th>\n",
       "      <th>Dar_100MT</th>\n",
       "      <th>99</th>\n",
       "      <th>1400</th>\n",
       "    </tr>\n",
       "  </thead>\n",
       "  <tbody>\n",
       "    <tr>\n",
       "      <th>0</th>\n",
       "      <td>2500000</td>\n",
       "      <td>2500000</td>\n",
       "      <td>2500000</td>\n",
       "      <td>2500000</td>\n",
       "      <td>تهران</td>\n",
       "      <td>0.000000</td>\n",
       "      <td>99</td>\n",
       "      <td>1400</td>\n",
       "    </tr>\n",
       "    <tr>\n",
       "      <th>1</th>\n",
       "      <td>57500000</td>\n",
       "      <td>82500000</td>\n",
       "      <td>87500000</td>\n",
       "      <td>32500000</td>\n",
       "      <td>سمنان</td>\n",
       "      <td>0.068558</td>\n",
       "      <td>99</td>\n",
       "      <td>1400</td>\n",
       "    </tr>\n",
       "    <tr>\n",
       "      <th>2</th>\n",
       "      <td>2500000</td>\n",
       "      <td>7500000</td>\n",
       "      <td>7500000</td>\n",
       "      <td>42500000</td>\n",
       "      <td>NaN</td>\n",
       "      <td>0.000000</td>\n",
       "      <td>99</td>\n",
       "      <td>1400</td>\n",
       "    </tr>\n",
       "    <tr>\n",
       "      <th>3</th>\n",
       "      <td>22500000</td>\n",
       "      <td>7500000</td>\n",
       "      <td>7500000</td>\n",
       "      <td>22500000</td>\n",
       "      <td>تهران</td>\n",
       "      <td>0.000000</td>\n",
       "      <td>99</td>\n",
       "      <td>1400</td>\n",
       "    </tr>\n",
       "    <tr>\n",
       "      <th>4</th>\n",
       "      <td>2500000</td>\n",
       "      <td>2500000</td>\n",
       "      <td>2500000</td>\n",
       "      <td>2500000</td>\n",
       "      <td>تهران</td>\n",
       "      <td>0.000000</td>\n",
       "      <td>99</td>\n",
       "      <td>1400</td>\n",
       "    </tr>\n",
       "  </tbody>\n",
       "</table>\n",
       "</div>"
      ],
      "text/plain": [
       "   frstPrd_99  lstPrd_99  frstPrd_1400  lstPrd_1400  Ostan  Dar_100MT  99  \\\n",
       "0     2500000    2500000       2500000      2500000  تهران   0.000000  99   \n",
       "1    57500000   82500000      87500000     32500000  سمنان   0.068558  99   \n",
       "2     2500000    7500000       7500000     42500000    NaN   0.000000  99   \n",
       "3    22500000    7500000       7500000     22500000  تهران   0.000000  99   \n",
       "4     2500000    2500000       2500000      2500000  تهران   0.000000  99   \n",
       "\n",
       "   1400  \n",
       "0  1400  \n",
       "1  1400  \n",
       "2  1400  \n",
       "3  1400  \n",
       "4  1400  "
      ]
     },
     "execution_count": 188,
     "metadata": {},
     "output_type": "execute_result"
    }
   ],
   "source": [
    "df.head()"
   ]
  },
  {
   "cell_type": "code",
   "execution_count": null,
   "metadata": {},
   "outputs": [],
   "source": []
  },
  {
   "cell_type": "markdown",
   "metadata": {},
   "source": [
    "**Sort_values in Pandas**\n",
    "\n",
    "[DataFrame.sort_values](https://pandas.pydata.org/docs/reference/api/pandas.DataFrame.sort_values.html)\n",
    "\n",
    "Sort by the values along either axis.\n",
    "```python\n",
    "sort_values(by, *, \n",
    "            axis=0, \n",
    "            ascending=True, \n",
    "            inplace=False, \n",
    "            kind='quicksort', \n",
    "            na_position='last', \n",
    "            ignore_index=False, \n",
    "            key=None)\n",
    "\n",
    "```\n",
    "\n",
    "\n",
    "**SQL Functions**\n",
    "\n",
    "```SQL Functions\n",
    "ORDER BY\n",
    "\n",
    "PARTITION By\n",
    "\n",
    "row_number(), rank(), dense_rank()\n",
    "```"
   ]
  },
  {
   "cell_type": "code",
   "execution_count": 287,
   "metadata": {},
   "outputs": [],
   "source": [
    "df.sort_values('Dar_100MT', ascending=False, inplace=True)"
   ]
  },
  {
   "cell_type": "code",
   "execution_count": 288,
   "metadata": {},
   "outputs": [
    {
     "data": {
      "text/html": [
       "<div>\n",
       "<style scoped>\n",
       "    .dataframe tbody tr th:only-of-type {\n",
       "        vertical-align: middle;\n",
       "    }\n",
       "\n",
       "    .dataframe tbody tr th {\n",
       "        vertical-align: top;\n",
       "    }\n",
       "\n",
       "    .dataframe thead th {\n",
       "        text-align: right;\n",
       "    }\n",
       "</style>\n",
       "<table border=\"1\" class=\"dataframe\">\n",
       "  <thead>\n",
       "    <tr style=\"text-align: right;\">\n",
       "      <th></th>\n",
       "      <th>frstPrd_99</th>\n",
       "      <th>lstPrd_99</th>\n",
       "      <th>frstPrd_1400</th>\n",
       "      <th>lstPrd_1400</th>\n",
       "      <th>Ostan</th>\n",
       "      <th>Dar_100MT</th>\n",
       "      <th>99</th>\n",
       "      <th>1400</th>\n",
       "    </tr>\n",
       "  </thead>\n",
       "  <tbody>\n",
       "    <tr>\n",
       "      <th>830244</th>\n",
       "      <td>750000000</td>\n",
       "      <td>1150000000</td>\n",
       "      <td>550000000</td>\n",
       "      <td>1650000000</td>\n",
       "      <td>همدان</td>\n",
       "      <td>0.936570</td>\n",
       "      <td>1399</td>\n",
       "      <td>1400</td>\n",
       "    </tr>\n",
       "    <tr>\n",
       "      <th>618</th>\n",
       "      <td>1450000000</td>\n",
       "      <td>17500000000</td>\n",
       "      <td>325000000</td>\n",
       "      <td>225000000</td>\n",
       "      <td>تهران</td>\n",
       "      <td>0.709530</td>\n",
       "      <td>1399</td>\n",
       "      <td>1400</td>\n",
       "    </tr>\n",
       "    <tr>\n",
       "      <th>975059</th>\n",
       "      <td>4750000000</td>\n",
       "      <td>650000000</td>\n",
       "      <td>375000000</td>\n",
       "      <td>1250000000</td>\n",
       "      <td>همدان</td>\n",
       "      <td>0.706337</td>\n",
       "      <td>1399</td>\n",
       "      <td>1400</td>\n",
       "    </tr>\n",
       "    <tr>\n",
       "      <th>630341</th>\n",
       "      <td>7500000</td>\n",
       "      <td>1550000000</td>\n",
       "      <td>1550000000</td>\n",
       "      <td>225000000</td>\n",
       "      <td>تهران</td>\n",
       "      <td>0.589324</td>\n",
       "      <td>1399</td>\n",
       "      <td>1400</td>\n",
       "    </tr>\n",
       "    <tr>\n",
       "      <th>1021332</th>\n",
       "      <td>7500000</td>\n",
       "      <td>750000000</td>\n",
       "      <td>950000000</td>\n",
       "      <td>325000000</td>\n",
       "      <td>کردستان</td>\n",
       "      <td>0.576528</td>\n",
       "      <td>1399</td>\n",
       "      <td>1400</td>\n",
       "    </tr>\n",
       "  </tbody>\n",
       "</table>\n",
       "</div>"
      ],
      "text/plain": [
       "         frstPrd_99    lstPrd_99  frstPrd_1400  lstPrd_1400    Ostan  \\\n",
       "830244    750000000   1150000000     550000000   1650000000    همدان   \n",
       "618      1450000000  17500000000     325000000    225000000    تهران   \n",
       "975059   4750000000    650000000     375000000   1250000000    همدان   \n",
       "630341      7500000   1550000000    1550000000    225000000    تهران   \n",
       "1021332     7500000    750000000     950000000    325000000  کردستان   \n",
       "\n",
       "         Dar_100MT    99  1400  \n",
       "830244    0.936570  1399  1400  \n",
       "618       0.709530  1399  1400  \n",
       "975059    0.706337  1399  1400  \n",
       "630341    0.589324  1399  1400  \n",
       "1021332   0.576528  1399  1400  "
      ]
     },
     "execution_count": 288,
     "metadata": {},
     "output_type": "execute_result"
    }
   ],
   "source": [
    "df.head()"
   ]
  },
  {
   "cell_type": "code",
   "execution_count": 217,
   "metadata": {},
   "outputs": [
    {
     "data": {
      "text/plain": [
       "<AxesSubplot:ylabel='Frequency'>"
      ]
     },
     "execution_count": 217,
     "metadata": {},
     "output_type": "execute_result"
    },
    {
     "data": {
      "image/png": "[encoded data removed]",
      "text/plain": [
       "<Figure size 432x288 with 1 Axes>"
      ]
     },
     "metadata": {
      "needs_background": "light"
     },
     "output_type": "display_data"
    }
   ],
   "source": [
    "df.Dar_100MT.plot(kind = 'hist')"
   ]
  },
  {
   "cell_type": "code",
   "execution_count": 220,
   "metadata": {},
   "outputs": [
    {
     "data": {
      "text/plain": [
       "<AxesSubplot:>"
      ]
     },
     "execution_count": 220,
     "metadata": {},
     "output_type": "execute_result"
    },
    {
     "data": {
      "image/png": "[encoded data removed]",
      "text/plain": [
       "<Figure size 432x288 with 1 Axes>"
      ]
     },
     "metadata": {
      "needs_background": "light"
     },
     "output_type": "display_data"
    }
   ],
   "source": [
    "df.Dar_100MT.hist(bins=100)"
   ]
  },
  {
   "cell_type": "code",
   "execution_count": 177,
   "metadata": {},
   "outputs": [
    {
     "data": {
      "text/html": [
       "<div>\n",
       "<style scoped>\n",
       "    .dataframe tbody tr th:only-of-type {\n",
       "        vertical-align: middle;\n",
       "    }\n",
       "\n",
       "    .dataframe tbody tr th {\n",
       "        vertical-align: top;\n",
       "    }\n",
       "\n",
       "    .dataframe thead th {\n",
       "        text-align: right;\n",
       "    }\n",
       "</style>\n",
       "<table border=\"1\" class=\"dataframe\">\n",
       "  <thead>\n",
       "    <tr style=\"text-align: right;\">\n",
       "      <th></th>\n",
       "      <th>frstPrd_99</th>\n",
       "      <th>lstPrd_99</th>\n",
       "      <th>frstPrd_1400</th>\n",
       "      <th>lstPrd_1400</th>\n",
       "      <th>Ostan</th>\n",
       "      <th>Dar_100MT</th>\n",
       "      <th>99</th>\n",
       "      <th>1400</th>\n",
       "    </tr>\n",
       "  </thead>\n",
       "  <tbody>\n",
       "    <tr>\n",
       "      <th>0</th>\n",
       "      <td>2500000</td>\n",
       "      <td>2500000</td>\n",
       "      <td>2500000</td>\n",
       "      <td>2500000</td>\n",
       "      <td>تهران</td>\n",
       "      <td>0.000000</td>\n",
       "      <td>99</td>\n",
       "      <td>1400</td>\n",
       "    </tr>\n",
       "    <tr>\n",
       "      <th>1</th>\n",
       "      <td>57500000</td>\n",
       "      <td>82500000</td>\n",
       "      <td>87500000</td>\n",
       "      <td>32500000</td>\n",
       "      <td>سمنان</td>\n",
       "      <td>0.068558</td>\n",
       "      <td>99</td>\n",
       "      <td>1400</td>\n",
       "    </tr>\n",
       "    <tr>\n",
       "      <th>2</th>\n",
       "      <td>2500000</td>\n",
       "      <td>7500000</td>\n",
       "      <td>7500000</td>\n",
       "      <td>42500000</td>\n",
       "      <td>NaN</td>\n",
       "      <td>0.000000</td>\n",
       "      <td>99</td>\n",
       "      <td>1400</td>\n",
       "    </tr>\n",
       "    <tr>\n",
       "      <th>3</th>\n",
       "      <td>22500000</td>\n",
       "      <td>7500000</td>\n",
       "      <td>7500000</td>\n",
       "      <td>22500000</td>\n",
       "      <td>تهران</td>\n",
       "      <td>0.000000</td>\n",
       "      <td>99</td>\n",
       "      <td>1400</td>\n",
       "    </tr>\n",
       "    <tr>\n",
       "      <th>4</th>\n",
       "      <td>2500000</td>\n",
       "      <td>2500000</td>\n",
       "      <td>2500000</td>\n",
       "      <td>2500000</td>\n",
       "      <td>تهران</td>\n",
       "      <td>0.000000</td>\n",
       "      <td>99</td>\n",
       "      <td>1400</td>\n",
       "    </tr>\n",
       "  </tbody>\n",
       "</table>\n",
       "</div>"
      ],
      "text/plain": [
       "   frstPrd_99  lstPrd_99  frstPrd_1400  lstPrd_1400  Ostan  Dar_100MT  99  \\\n",
       "0     2500000    2500000       2500000      2500000  تهران   0.000000  99   \n",
       "1    57500000   82500000      87500000     32500000  سمنان   0.068558  99   \n",
       "2     2500000    7500000       7500000     42500000    NaN   0.000000  99   \n",
       "3    22500000    7500000       7500000     22500000  تهران   0.000000  99   \n",
       "4     2500000    2500000       2500000      2500000  تهران   0.000000  99   \n",
       "\n",
       "   1400  \n",
       "0  1400  \n",
       "1  1400  \n",
       "2  1400  \n",
       "3  1400  \n",
       "4  1400  "
      ]
     },
     "execution_count": 177,
     "metadata": {},
     "output_type": "execute_result"
    }
   ],
   "source": [
    "df.head()"
   ]
  },
  {
   "cell_type": "markdown",
   "metadata": {},
   "source": [
    "#### Making a function for reading and cleaning data"
   ]
  },
  {
   "cell_type": "code",
   "execution_count": 343,
   "metadata": {},
   "outputs": [],
   "source": [
    "df_sample = pd.read_csv('./2Percent140105/Sample2Percent_140105.csv', nrows = 2_0,  encoding = \"cp1256\")\n",
    "cols =  df_sample.columns \n",
    "sample_year = '_99'\n",
    "cols_sample_year = [_ for _ in cols if _.find(sample_year)>0]\n",
    "needed_cols = ['ID','Daramad_Total_Rials','Ostan'] + cols_sample_year "
   ]
  },
  {
   "cell_type": "code",
   "execution_count": 344,
   "metadata": {},
   "outputs": [
    {
     "data": {
      "text/plain": [
       "['AmCrdtr_99', 'Amdbtr_99', 'frstPrd_99', 'lstPrd_99', 'SmBnft_99', 'Loan_99']"
      ]
     },
     "execution_count": 344,
     "metadata": {},
     "output_type": "execute_result"
    }
   ],
   "source": [
    "cols_sample_year"
   ]
  },
  {
   "cell_type": "code",
   "execution_count": 345,
   "metadata": {},
   "outputs": [
    {
     "data": {
      "text/plain": [
       "['ID',\n",
       " 'Daramad_Total_Rials',\n",
       " 'Ostan',\n",
       " 'AmCrdtr_99',\n",
       " 'Amdbtr_99',\n",
       " 'frstPrd_99',\n",
       " 'lstPrd_99',\n",
       " 'SmBnft_99',\n",
       " 'Loan_99']"
      ]
     },
     "execution_count": 345,
     "metadata": {},
     "output_type": "execute_result"
    }
   ],
   "source": [
    "needed_cols"
   ]
  },
  {
   "cell_type": "code",
   "execution_count": 346,
   "metadata": {},
   "outputs": [],
   "source": [
    "df_sample_year = pd.read_csv('./2Percent140105/Sample2Percent_140105.csv', nrows = 2_00, usecols=needed_cols,\n",
    "                 encoding = \"cp1256\")"
   ]
  },
  {
   "cell_type": "code",
   "execution_count": 347,
   "metadata": {},
   "outputs": [],
   "source": [
    "df_sample_year = (pd.read_csv('./2Percent140105/Sample2Percent_140105.csv', nrows = 2_000_000, usecols=needed_cols,\n",
    "                 encoding = \"cp1256\")\\\n",
    "                  .assign(Dar_100MT=lambda x: x['Daramad_Total_Rials']/ 10**9,\n",
    "                          Year = int(sample_year.replace('_','')))\\\n",
    "                 .drop('Daramad_Total_Rials', axis=1)  # drop column or drop row\n",
    "                 )\n"
   ]
  },
  {
   "cell_type": "code",
   "execution_count": 348,
   "metadata": {},
   "outputs": [
    {
     "data": {
      "text/html": [
       "<div>\n",
       "<style scoped>\n",
       "    .dataframe tbody tr th:only-of-type {\n",
       "        vertical-align: middle;\n",
       "    }\n",
       "\n",
       "    .dataframe tbody tr th {\n",
       "        vertical-align: top;\n",
       "    }\n",
       "\n",
       "    .dataframe thead th {\n",
       "        text-align: right;\n",
       "    }\n",
       "</style>\n",
       "<table border=\"1\" class=\"dataframe\">\n",
       "  <thead>\n",
       "    <tr style=\"text-align: right;\">\n",
       "      <th></th>\n",
       "      <th>ID</th>\n",
       "      <th>AmCrdtr_99</th>\n",
       "      <th>Amdbtr_99</th>\n",
       "      <th>frstPrd_99</th>\n",
       "      <th>lstPrd_99</th>\n",
       "      <th>SmBnft_99</th>\n",
       "      <th>Loan_99</th>\n",
       "      <th>Ostan</th>\n",
       "      <th>Dar_100MT</th>\n",
       "      <th>Year</th>\n",
       "    </tr>\n",
       "  </thead>\n",
       "  <tbody>\n",
       "    <tr>\n",
       "      <th>0</th>\n",
       "      <td>6935414289</td>\n",
       "      <td>7500000</td>\n",
       "      <td>7500000</td>\n",
       "      <td>2500000</td>\n",
       "      <td>2500000</td>\n",
       "      <td>0</td>\n",
       "      <td>0</td>\n",
       "      <td>تهران</td>\n",
       "      <td>0.000000</td>\n",
       "      <td>99</td>\n",
       "    </tr>\n",
       "    <tr>\n",
       "      <th>1</th>\n",
       "      <td>18872613557</td>\n",
       "      <td>850000000</td>\n",
       "      <td>850000000</td>\n",
       "      <td>57500000</td>\n",
       "      <td>82500000</td>\n",
       "      <td>0</td>\n",
       "      <td>25000000</td>\n",
       "      <td>سمنان</td>\n",
       "      <td>0.068558</td>\n",
       "      <td>99</td>\n",
       "    </tr>\n",
       "    <tr>\n",
       "      <th>2</th>\n",
       "      <td>795522316531</td>\n",
       "      <td>3750000000</td>\n",
       "      <td>3250000000</td>\n",
       "      <td>2500000</td>\n",
       "      <td>7500000</td>\n",
       "      <td>0</td>\n",
       "      <td>0</td>\n",
       "      <td>NaN</td>\n",
       "      <td>0.000000</td>\n",
       "      <td>99</td>\n",
       "    </tr>\n",
       "    <tr>\n",
       "      <th>3</th>\n",
       "      <td>116538004642</td>\n",
       "      <td>650000000</td>\n",
       "      <td>650000000</td>\n",
       "      <td>22500000</td>\n",
       "      <td>7500000</td>\n",
       "      <td>2500000</td>\n",
       "      <td>0</td>\n",
       "      <td>تهران</td>\n",
       "      <td>0.000000</td>\n",
       "      <td>99</td>\n",
       "    </tr>\n",
       "    <tr>\n",
       "      <th>4</th>\n",
       "      <td>431583521610</td>\n",
       "      <td>97500000</td>\n",
       "      <td>97500000</td>\n",
       "      <td>2500000</td>\n",
       "      <td>2500000</td>\n",
       "      <td>0</td>\n",
       "      <td>25000000</td>\n",
       "      <td>تهران</td>\n",
       "      <td>0.000000</td>\n",
       "      <td>99</td>\n",
       "    </tr>\n",
       "  </tbody>\n",
       "</table>\n",
       "</div>"
      ],
      "text/plain": [
       "             ID  AmCrdtr_99   Amdbtr_99  frstPrd_99  lstPrd_99  SmBnft_99  \\\n",
       "0    6935414289     7500000     7500000     2500000    2500000          0   \n",
       "1   18872613557   850000000   850000000    57500000   82500000          0   \n",
       "2  795522316531  3750000000  3250000000     2500000    7500000          0   \n",
       "3  116538004642   650000000   650000000    22500000    7500000    2500000   \n",
       "4  431583521610    97500000    97500000     2500000    2500000          0   \n",
       "\n",
       "    Loan_99  Ostan  Dar_100MT  Year  \n",
       "0         0  تهران   0.000000    99  \n",
       "1  25000000  سمنان   0.068558    99  \n",
       "2         0    NaN   0.000000    99  \n",
       "3         0  تهران   0.000000    99  \n",
       "4  25000000  تهران   0.000000    99  "
      ]
     },
     "execution_count": 348,
     "metadata": {},
     "output_type": "execute_result"
    }
   ],
   "source": [
    "df_sample_year.head()"
   ]
  },
  {
   "cell_type": "code",
   "execution_count": 351,
   "metadata": {},
   "outputs": [],
   "source": [
    "del df_sample_year; del df_sample"
   ]
  },
  {
   "cell_type": "code",
   "execution_count": 412,
   "metadata": {},
   "outputs": [
    {
     "data": {
      "text/plain": [
       "1400"
      ]
     },
     "execution_count": 412,
     "metadata": {},
     "output_type": "execute_result"
    }
   ],
   "source": [
    "def year_clean(sample_year):\n",
    "    if int(sample_year.replace('_','')) <100:\n",
    "        return(1300 + int(sample_year.replace('_','')))\n",
    "    else:\n",
    "        return(int(sample_year.replace('_','')))\n",
    "\n",
    "year_clean('_1400')"
   ]
  },
  {
   "cell_type": "code",
   "execution_count": 409,
   "metadata": {},
   "outputs": [],
   "source": [
    "def read_df_year(csv_add='./2Percent140105/Sample2Percent_140105.csv', sample_year = '_99', n=2_000_000):\n",
    "    df_sample = pd.read_csv(csv_add, nrows = 2_0,  encoding = \"cp1256\")\n",
    "    cols =  df_sample.columns \n",
    "    del df_sample\n",
    "    cols_sample_year = [_ for _ in cols if _.find(sample_year)>0]\n",
    "    needed_cols = ['ID','Daramad_Total_Rials','Ostan'] + cols_sample_year \n",
    "    return (pd.read_csv(csv_add, nrows = n, usecols=needed_cols,\n",
    "                 encoding = \"cp1256\")\\\n",
    "                  .assign(Dar_100MT=lambda x: x['Daramad_Total_Rials']/ 10**9,\n",
    "                          Year = year_clean(sample_year))\\\n",
    "                 .drop('Daramad_Total_Rials', axis=1)  # drop column or drop row\n",
    "                 )\n"
   ]
  },
  {
   "cell_type": "code",
   "execution_count": 410,
   "metadata": {},
   "outputs": [],
   "source": [
    "df_99 = read_df_year('./2Percent140105/Sample2Percent_140105.csv', sample_year = '_99', n=5_000_000)"
   ]
  },
  {
   "cell_type": "code",
   "execution_count": 301,
   "metadata": {},
   "outputs": [],
   "source": [
    "%timeit \n",
    "df_99 = read_df_year('./2Percent140105/Sample2Percent_140105.csv', sample_year = '_99')"
   ]
  },
  {
   "cell_type": "code",
   "execution_count": 356,
   "metadata": {},
   "outputs": [
    {
     "data": {
      "text/plain": [
       "(1693935, 10)"
      ]
     },
     "execution_count": 356,
     "metadata": {},
     "output_type": "execute_result"
    }
   ],
   "source": [
    "df_99.shape"
   ]
  },
  {
   "cell_type": "code",
   "execution_count": 411,
   "metadata": {},
   "outputs": [
    {
     "data": {
      "text/html": [
       "<div>\n",
       "<style scoped>\n",
       "    .dataframe tbody tr th:only-of-type {\n",
       "        vertical-align: middle;\n",
       "    }\n",
       "\n",
       "    .dataframe tbody tr th {\n",
       "        vertical-align: top;\n",
       "    }\n",
       "\n",
       "    .dataframe thead th {\n",
       "        text-align: right;\n",
       "    }\n",
       "</style>\n",
       "<table border=\"1\" class=\"dataframe\">\n",
       "  <thead>\n",
       "    <tr style=\"text-align: right;\">\n",
       "      <th></th>\n",
       "      <th>ID</th>\n",
       "      <th>AmCrdtr_99</th>\n",
       "      <th>Amdbtr_99</th>\n",
       "      <th>frstPrd_99</th>\n",
       "      <th>lstPrd_99</th>\n",
       "      <th>SmBnft_99</th>\n",
       "      <th>Loan_99</th>\n",
       "      <th>Ostan</th>\n",
       "      <th>Dar_100MT</th>\n",
       "      <th>Year</th>\n",
       "    </tr>\n",
       "  </thead>\n",
       "  <tbody>\n",
       "    <tr>\n",
       "      <th>0</th>\n",
       "      <td>6935414289</td>\n",
       "      <td>7500000</td>\n",
       "      <td>7500000</td>\n",
       "      <td>2500000</td>\n",
       "      <td>2500000</td>\n",
       "      <td>0</td>\n",
       "      <td>0</td>\n",
       "      <td>تهران</td>\n",
       "      <td>0.000000</td>\n",
       "      <td>1399</td>\n",
       "    </tr>\n",
       "    <tr>\n",
       "      <th>1</th>\n",
       "      <td>18872613557</td>\n",
       "      <td>850000000</td>\n",
       "      <td>850000000</td>\n",
       "      <td>57500000</td>\n",
       "      <td>82500000</td>\n",
       "      <td>0</td>\n",
       "      <td>25000000</td>\n",
       "      <td>سمنان</td>\n",
       "      <td>0.068558</td>\n",
       "      <td>1399</td>\n",
       "    </tr>\n",
       "    <tr>\n",
       "      <th>2</th>\n",
       "      <td>795522316531</td>\n",
       "      <td>3750000000</td>\n",
       "      <td>3250000000</td>\n",
       "      <td>2500000</td>\n",
       "      <td>7500000</td>\n",
       "      <td>0</td>\n",
       "      <td>0</td>\n",
       "      <td>NaN</td>\n",
       "      <td>0.000000</td>\n",
       "      <td>1399</td>\n",
       "    </tr>\n",
       "    <tr>\n",
       "      <th>3</th>\n",
       "      <td>116538004642</td>\n",
       "      <td>650000000</td>\n",
       "      <td>650000000</td>\n",
       "      <td>22500000</td>\n",
       "      <td>7500000</td>\n",
       "      <td>2500000</td>\n",
       "      <td>0</td>\n",
       "      <td>تهران</td>\n",
       "      <td>0.000000</td>\n",
       "      <td>1399</td>\n",
       "    </tr>\n",
       "    <tr>\n",
       "      <th>4</th>\n",
       "      <td>431583521610</td>\n",
       "      <td>97500000</td>\n",
       "      <td>97500000</td>\n",
       "      <td>2500000</td>\n",
       "      <td>2500000</td>\n",
       "      <td>0</td>\n",
       "      <td>25000000</td>\n",
       "      <td>تهران</td>\n",
       "      <td>0.000000</td>\n",
       "      <td>1399</td>\n",
       "    </tr>\n",
       "    <tr>\n",
       "      <th>5</th>\n",
       "      <td>820103503579</td>\n",
       "      <td>2500000</td>\n",
       "      <td>0</td>\n",
       "      <td>2500000</td>\n",
       "      <td>2500000</td>\n",
       "      <td>0</td>\n",
       "      <td>0</td>\n",
       "      <td>تهران</td>\n",
       "      <td>0.026555</td>\n",
       "      <td>1399</td>\n",
       "    </tr>\n",
       "    <tr>\n",
       "      <th>6</th>\n",
       "      <td>531404811765</td>\n",
       "      <td>2250000000</td>\n",
       "      <td>2250000000</td>\n",
       "      <td>125000000</td>\n",
       "      <td>47500000</td>\n",
       "      <td>2500000</td>\n",
       "      <td>0</td>\n",
       "      <td>تهران</td>\n",
       "      <td>0.000000</td>\n",
       "      <td>1399</td>\n",
       "    </tr>\n",
       "    <tr>\n",
       "      <th>7</th>\n",
       "      <td>170487727576</td>\n",
       "      <td>35000000000</td>\n",
       "      <td>35000000000</td>\n",
       "      <td>32500000</td>\n",
       "      <td>425000000</td>\n",
       "      <td>2500000</td>\n",
       "      <td>400000000</td>\n",
       "      <td>تهران</td>\n",
       "      <td>0.000000</td>\n",
       "      <td>1399</td>\n",
       "    </tr>\n",
       "    <tr>\n",
       "      <th>8</th>\n",
       "      <td>508389930519</td>\n",
       "      <td>0</td>\n",
       "      <td>0</td>\n",
       "      <td>0</td>\n",
       "      <td>0</td>\n",
       "      <td>0</td>\n",
       "      <td>0</td>\n",
       "      <td>تهران</td>\n",
       "      <td>0.000000</td>\n",
       "      <td>1399</td>\n",
       "    </tr>\n",
       "    <tr>\n",
       "      <th>9</th>\n",
       "      <td>183329682076</td>\n",
       "      <td>1350000000</td>\n",
       "      <td>1350000000</td>\n",
       "      <td>32500000</td>\n",
       "      <td>27500000</td>\n",
       "      <td>2500000</td>\n",
       "      <td>0</td>\n",
       "      <td>تهران</td>\n",
       "      <td>0.023089</td>\n",
       "      <td>1399</td>\n",
       "    </tr>\n",
       "  </tbody>\n",
       "</table>\n",
       "</div>"
      ],
      "text/plain": [
       "             ID   AmCrdtr_99    Amdbtr_99  frstPrd_99  lstPrd_99  SmBnft_99  \\\n",
       "0    6935414289      7500000      7500000     2500000    2500000          0   \n",
       "1   18872613557    850000000    850000000    57500000   82500000          0   \n",
       "2  795522316531   3750000000   3250000000     2500000    7500000          0   \n",
       "3  116538004642    650000000    650000000    22500000    7500000    2500000   \n",
       "4  431583521610     97500000     97500000     2500000    2500000          0   \n",
       "5  820103503579      2500000            0     2500000    2500000          0   \n",
       "6  531404811765   2250000000   2250000000   125000000   47500000    2500000   \n",
       "7  170487727576  35000000000  35000000000    32500000  425000000    2500000   \n",
       "8  508389930519            0            0           0          0          0   \n",
       "9  183329682076   1350000000   1350000000    32500000   27500000    2500000   \n",
       "\n",
       "     Loan_99  Ostan  Dar_100MT  Year  \n",
       "0          0  تهران   0.000000  1399  \n",
       "1   25000000  سمنان   0.068558  1399  \n",
       "2          0    NaN   0.000000  1399  \n",
       "3          0  تهران   0.000000  1399  \n",
       "4   25000000  تهران   0.000000  1399  \n",
       "5          0  تهران   0.026555  1399  \n",
       "6          0  تهران   0.000000  1399  \n",
       "7  400000000  تهران   0.000000  1399  \n",
       "8          0  تهران   0.000000  1399  \n",
       "9          0  تهران   0.023089  1399  "
      ]
     },
     "execution_count": 411,
     "metadata": {},
     "output_type": "execute_result"
    }
   ],
   "source": [
    "df_99.head(10)"
   ]
  },
  {
   "cell_type": "markdown",
   "metadata": {},
   "source": [
    "#### Cut and qcut \n",
    "`cut`\n",
    "   \n",
    "   - Bin values into discrete intervals.\n",
    "\n",
    "`qcut`\n",
    "\n",
    "   - Discretize variable into equal-sized buckets based on rank or based on sample quantiles.\n",
    "\n"
   ]
  },
  {
   "cell_type": "code",
   "execution_count": 359,
   "metadata": {},
   "outputs": [],
   "source": [
    "df_99['Bin_type'] = pd.cut(df_99.Dar_100MT, bins=4,\\\n",
    "                                    labels=[\"Low\", \"Medium\", \"High\", \"Very High\"])"
   ]
  },
  {
   "cell_type": "code",
   "execution_count": 360,
   "metadata": {},
   "outputs": [
    {
     "data": {
      "text/html": [
       "<div>\n",
       "<style scoped>\n",
       "    .dataframe tbody tr th:only-of-type {\n",
       "        vertical-align: middle;\n",
       "    }\n",
       "\n",
       "    .dataframe tbody tr th {\n",
       "        vertical-align: top;\n",
       "    }\n",
       "\n",
       "    .dataframe thead th {\n",
       "        text-align: right;\n",
       "    }\n",
       "</style>\n",
       "<table border=\"1\" class=\"dataframe\">\n",
       "  <thead>\n",
       "    <tr style=\"text-align: right;\">\n",
       "      <th></th>\n",
       "      <th>ID</th>\n",
       "      <th>AmCrdtr_99</th>\n",
       "      <th>Amdbtr_99</th>\n",
       "      <th>frstPrd_99</th>\n",
       "      <th>lstPrd_99</th>\n",
       "      <th>SmBnft_99</th>\n",
       "      <th>Loan_99</th>\n",
       "      <th>Ostan</th>\n",
       "      <th>Dar_100MT</th>\n",
       "      <th>Year</th>\n",
       "      <th>Bin_type</th>\n",
       "    </tr>\n",
       "  </thead>\n",
       "  <tbody>\n",
       "    <tr>\n",
       "      <th>0</th>\n",
       "      <td>6935414289</td>\n",
       "      <td>7500000</td>\n",
       "      <td>7500000</td>\n",
       "      <td>2500000</td>\n",
       "      <td>2500000</td>\n",
       "      <td>0</td>\n",
       "      <td>0</td>\n",
       "      <td>تهران</td>\n",
       "      <td>0.000000</td>\n",
       "      <td>99</td>\n",
       "      <td>Low</td>\n",
       "    </tr>\n",
       "    <tr>\n",
       "      <th>1</th>\n",
       "      <td>18872613557</td>\n",
       "      <td>850000000</td>\n",
       "      <td>850000000</td>\n",
       "      <td>57500000</td>\n",
       "      <td>82500000</td>\n",
       "      <td>0</td>\n",
       "      <td>25000000</td>\n",
       "      <td>سمنان</td>\n",
       "      <td>0.068558</td>\n",
       "      <td>99</td>\n",
       "      <td>Low</td>\n",
       "    </tr>\n",
       "    <tr>\n",
       "      <th>2</th>\n",
       "      <td>795522316531</td>\n",
       "      <td>3750000000</td>\n",
       "      <td>3250000000</td>\n",
       "      <td>2500000</td>\n",
       "      <td>7500000</td>\n",
       "      <td>0</td>\n",
       "      <td>0</td>\n",
       "      <td>NaN</td>\n",
       "      <td>0.000000</td>\n",
       "      <td>99</td>\n",
       "      <td>Low</td>\n",
       "    </tr>\n",
       "    <tr>\n",
       "      <th>3</th>\n",
       "      <td>116538004642</td>\n",
       "      <td>650000000</td>\n",
       "      <td>650000000</td>\n",
       "      <td>22500000</td>\n",
       "      <td>7500000</td>\n",
       "      <td>2500000</td>\n",
       "      <td>0</td>\n",
       "      <td>تهران</td>\n",
       "      <td>0.000000</td>\n",
       "      <td>99</td>\n",
       "      <td>Low</td>\n",
       "    </tr>\n",
       "    <tr>\n",
       "      <th>4</th>\n",
       "      <td>431583521610</td>\n",
       "      <td>97500000</td>\n",
       "      <td>97500000</td>\n",
       "      <td>2500000</td>\n",
       "      <td>2500000</td>\n",
       "      <td>0</td>\n",
       "      <td>25000000</td>\n",
       "      <td>تهران</td>\n",
       "      <td>0.000000</td>\n",
       "      <td>99</td>\n",
       "      <td>Low</td>\n",
       "    </tr>\n",
       "  </tbody>\n",
       "</table>\n",
       "</div>"
      ],
      "text/plain": [
       "             ID  AmCrdtr_99   Amdbtr_99  frstPrd_99  lstPrd_99  SmBnft_99  \\\n",
       "0    6935414289     7500000     7500000     2500000    2500000          0   \n",
       "1   18872613557   850000000   850000000    57500000   82500000          0   \n",
       "2  795522316531  3750000000  3250000000     2500000    7500000          0   \n",
       "3  116538004642   650000000   650000000    22500000    7500000    2500000   \n",
       "4  431583521610    97500000    97500000     2500000    2500000          0   \n",
       "\n",
       "    Loan_99  Ostan  Dar_100MT  Year Bin_type  \n",
       "0         0  تهران   0.000000    99      Low  \n",
       "1  25000000  سمنان   0.068558    99      Low  \n",
       "2         0    NaN   0.000000    99      Low  \n",
       "3         0  تهران   0.000000    99      Low  \n",
       "4  25000000  تهران   0.000000    99      Low  "
      ]
     },
     "execution_count": 360,
     "metadata": {},
     "output_type": "execute_result"
    }
   ],
   "source": [
    "df_99.head()"
   ]
  },
  {
   "cell_type": "code",
   "execution_count": 361,
   "metadata": {},
   "outputs": [
    {
     "data": {
      "text/plain": [
       "(1693935, 11)"
      ]
     },
     "execution_count": 361,
     "metadata": {},
     "output_type": "execute_result"
    }
   ],
   "source": [
    "df_99.shape"
   ]
  },
  {
   "cell_type": "code",
   "execution_count": 362,
   "metadata": {},
   "outputs": [
    {
     "data": {
      "text/plain": [
       "Low          1692705\n",
       "Medium          1187\n",
       "High              40\n",
       "Very High          3\n",
       "Name: Bin_type, dtype: int64"
      ]
     },
     "execution_count": 362,
     "metadata": {},
     "output_type": "execute_result"
    }
   ],
   "source": [
    "df_99.Bin_type.value_counts()"
   ]
  },
  {
   "cell_type": "code",
   "execution_count": 415,
   "metadata": {},
   "outputs": [
    {
     "data": {
      "text/plain": [
       "<AxesSubplot:>"
      ]
     },
     "execution_count": 415,
     "metadata": {},
     "output_type": "execute_result"
    },
    {
     "data": {
      "image/png": "[encoded data removed]",
      "text/plain": [
       "<Figure size 432x288 with 1 Axes>"
      ]
     },
     "metadata": {
      "needs_background": "light"
     },
     "output_type": "display_data"
    }
   ],
   "source": [
    "df_99.Dar_100MT.plot(kind='box')#, logy =True)"
   ]
  },
  {
   "cell_type": "code",
   "execution_count": 364,
   "metadata": {},
   "outputs": [
    {
     "data": {
      "text/plain": [
       "<AxesSubplot:>"
      ]
     },
     "execution_count": 364,
     "metadata": {},
     "output_type": "execute_result"
    },
    {
     "data": {
      "image/png": "[encoded data removed]",
      "text/plain": [
       "<Figure size 432x288 with 1 Axes>"
      ]
     },
     "metadata": {
      "needs_background": "light"
     },
     "output_type": "display_data"
    }
   ],
   "source": [
    "df_99[df_99.Dar_100MT>0].Dar_100MT.hist(bins=150)"
   ]
  },
  {
   "cell_type": "code",
   "execution_count": 417,
   "metadata": {},
   "outputs": [
    {
     "data": {
      "text/plain": [
       "<AxesSubplot:>"
      ]
     },
     "execution_count": 417,
     "metadata": {},
     "output_type": "execute_result"
    },
    {
     "data": {
      "image/png": "[encoded data removed]",
      "text/plain": [
       "<Figure size 432x288 with 1 Axes>"
      ]
     },
     "metadata": {
      "needs_background": "light"
     },
     "output_type": "display_data"
    }
   ],
   "source": [
    "df_99[df_99.Dar_100MT>0].Dar_100MT.plot(kind='box')"
   ]
  },
  {
   "cell_type": "code",
   "execution_count": 366,
   "metadata": {},
   "outputs": [
    {
     "data": {
      "text/plain": [
       "(1236475, 11)"
      ]
     },
     "execution_count": 366,
     "metadata": {},
     "output_type": "execute_result"
    }
   ],
   "source": [
    "df_99[df_99.Dar_100MT==0].shape"
   ]
  },
  {
   "cell_type": "code",
   "execution_count": 367,
   "metadata": {},
   "outputs": [
    {
     "data": {
      "text/plain": [
       "1236475"
      ]
     },
     "execution_count": 367,
     "metadata": {},
     "output_type": "execute_result"
    }
   ],
   "source": [
    "(df_99.Dar_100MT==0).sum()"
   ]
  },
  {
   "cell_type": "code",
   "execution_count": 376,
   "metadata": {},
   "outputs": [],
   "source": [
    "df_99['Bin_type'] = pd.cut(df_99[df_99.Dar_100MT>0].Dar_100MT, bins=4,\\\n",
    "                                    labels=[\"Low\", \"Medium\", \"High\", \"Very High\"])"
   ]
  },
  {
   "cell_type": "code",
   "execution_count": 377,
   "metadata": {},
   "outputs": [
    {
     "data": {
      "text/plain": [
       "Low          456230\n",
       "Medium         1187\n",
       "High             40\n",
       "Very High         3\n",
       "Name: Bin_type, dtype: int64"
      ]
     },
     "execution_count": 377,
     "metadata": {},
     "output_type": "execute_result"
    }
   ],
   "source": [
    "df_99.Bin_type.value_counts()"
   ]
  },
  {
   "cell_type": "markdown",
   "metadata": {},
   "source": [
    "Let's check quantile values with describe removing `Dar_100MT == 0`"
   ]
  },
  {
   "cell_type": "code",
   "execution_count": 379,
   "metadata": {},
   "outputs": [
    {
     "data": {
      "text/plain": [
       "count    4.574600e+05\n",
       "mean     5.176813e-02\n",
       "std      3.719967e-02\n",
       "min      1.000000e-09\n",
       "25%      3.000000e-02\n",
       "50%      3.837000e-02\n",
       "75%      6.839902e-02\n",
       "max      9.365704e-01\n",
       "Name: Dar_100MT, dtype: float64"
      ]
     },
     "execution_count": 379,
     "metadata": {},
     "output_type": "execute_result"
    }
   ],
   "source": [
    "df_99[df_99.Dar_100MT>0].Dar_100MT.describe()"
   ]
  },
  {
   "cell_type": "code",
   "execution_count": 378,
   "metadata": {},
   "outputs": [],
   "source": [
    "df_99['Bin_type'] = pd.cut(df_99[df_99.Dar_100MT>0].Dar_100MT, \n",
    "                                    bins= [0, 3.0e-02, 3.83700e-02, 6.839902e-02, 10e-01],\\\n",
    "                                    labels=[\"Low\", \"Medium\", \"High\", \"Very High\"])"
   ]
  },
  {
   "cell_type": "code",
   "execution_count": 380,
   "metadata": {},
   "outputs": [
    {
     "data": {
      "text/html": [
       "<div>\n",
       "<style scoped>\n",
       "    .dataframe tbody tr th:only-of-type {\n",
       "        vertical-align: middle;\n",
       "    }\n",
       "\n",
       "    .dataframe tbody tr th {\n",
       "        vertical-align: top;\n",
       "    }\n",
       "\n",
       "    .dataframe thead th {\n",
       "        text-align: right;\n",
       "    }\n",
       "</style>\n",
       "<table border=\"1\" class=\"dataframe\">\n",
       "  <thead>\n",
       "    <tr style=\"text-align: right;\">\n",
       "      <th></th>\n",
       "      <th>ID</th>\n",
       "      <th>AmCrdtr_99</th>\n",
       "      <th>Amdbtr_99</th>\n",
       "      <th>frstPrd_99</th>\n",
       "      <th>lstPrd_99</th>\n",
       "      <th>SmBnft_99</th>\n",
       "      <th>Loan_99</th>\n",
       "      <th>Ostan</th>\n",
       "      <th>Dar_100MT</th>\n",
       "      <th>Year</th>\n",
       "      <th>Bin_type</th>\n",
       "    </tr>\n",
       "  </thead>\n",
       "  <tbody>\n",
       "    <tr>\n",
       "      <th>0</th>\n",
       "      <td>6935414289</td>\n",
       "      <td>7500000</td>\n",
       "      <td>7500000</td>\n",
       "      <td>2500000</td>\n",
       "      <td>2500000</td>\n",
       "      <td>0</td>\n",
       "      <td>0</td>\n",
       "      <td>تهران</td>\n",
       "      <td>0.000000</td>\n",
       "      <td>99</td>\n",
       "      <td>NaN</td>\n",
       "    </tr>\n",
       "    <tr>\n",
       "      <th>1</th>\n",
       "      <td>18872613557</td>\n",
       "      <td>850000000</td>\n",
       "      <td>850000000</td>\n",
       "      <td>57500000</td>\n",
       "      <td>82500000</td>\n",
       "      <td>0</td>\n",
       "      <td>25000000</td>\n",
       "      <td>سمنان</td>\n",
       "      <td>0.068558</td>\n",
       "      <td>99</td>\n",
       "      <td>Very High</td>\n",
       "    </tr>\n",
       "    <tr>\n",
       "      <th>2</th>\n",
       "      <td>795522316531</td>\n",
       "      <td>3750000000</td>\n",
       "      <td>3250000000</td>\n",
       "      <td>2500000</td>\n",
       "      <td>7500000</td>\n",
       "      <td>0</td>\n",
       "      <td>0</td>\n",
       "      <td>NaN</td>\n",
       "      <td>0.000000</td>\n",
       "      <td>99</td>\n",
       "      <td>NaN</td>\n",
       "    </tr>\n",
       "    <tr>\n",
       "      <th>3</th>\n",
       "      <td>116538004642</td>\n",
       "      <td>650000000</td>\n",
       "      <td>650000000</td>\n",
       "      <td>22500000</td>\n",
       "      <td>7500000</td>\n",
       "      <td>2500000</td>\n",
       "      <td>0</td>\n",
       "      <td>تهران</td>\n",
       "      <td>0.000000</td>\n",
       "      <td>99</td>\n",
       "      <td>NaN</td>\n",
       "    </tr>\n",
       "    <tr>\n",
       "      <th>4</th>\n",
       "      <td>431583521610</td>\n",
       "      <td>97500000</td>\n",
       "      <td>97500000</td>\n",
       "      <td>2500000</td>\n",
       "      <td>2500000</td>\n",
       "      <td>0</td>\n",
       "      <td>25000000</td>\n",
       "      <td>تهران</td>\n",
       "      <td>0.000000</td>\n",
       "      <td>99</td>\n",
       "      <td>NaN</td>\n",
       "    </tr>\n",
       "  </tbody>\n",
       "</table>\n",
       "</div>"
      ],
      "text/plain": [
       "             ID  AmCrdtr_99   Amdbtr_99  frstPrd_99  lstPrd_99  SmBnft_99  \\\n",
       "0    6935414289     7500000     7500000     2500000    2500000          0   \n",
       "1   18872613557   850000000   850000000    57500000   82500000          0   \n",
       "2  795522316531  3750000000  3250000000     2500000    7500000          0   \n",
       "3  116538004642   650000000   650000000    22500000    7500000    2500000   \n",
       "4  431583521610    97500000    97500000     2500000    2500000          0   \n",
       "\n",
       "    Loan_99  Ostan  Dar_100MT  Year   Bin_type  \n",
       "0         0  تهران   0.000000    99        NaN  \n",
       "1  25000000  سمنان   0.068558    99  Very High  \n",
       "2         0    NaN   0.000000    99        NaN  \n",
       "3         0  تهران   0.000000    99        NaN  \n",
       "4  25000000  تهران   0.000000    99        NaN  "
      ]
     },
     "execution_count": 380,
     "metadata": {},
     "output_type": "execute_result"
    }
   ],
   "source": [
    "df_99.head()"
   ]
  },
  {
   "cell_type": "code",
   "execution_count": 381,
   "metadata": {},
   "outputs": [
    {
     "data": {
      "text/plain": [
       "Low          118902\n",
       "Very High    114365\n",
       "High         113796\n",
       "Medium       110397\n",
       "Name: Bin_type, dtype: int64"
      ]
     },
     "execution_count": 381,
     "metadata": {},
     "output_type": "execute_result"
    }
   ],
   "source": [
    "df_99.Bin_type.value_counts()"
   ]
  },
  {
   "cell_type": "code",
   "execution_count": 382,
   "metadata": {},
   "outputs": [
    {
     "data": {
      "text/plain": [
       "1                         (0.0684, 0.937]\n",
       "5          (-0.0009999990000000001, 0.03]\n",
       "9          (-0.0009999990000000001, 0.03]\n",
       "12                       (0.0384, 0.0684]\n",
       "20                       (0.0384, 0.0684]\n",
       "                        ...              \n",
       "1693682                    (0.03, 0.0384]\n",
       "1693684                    (0.03, 0.0384]\n",
       "1693686                  (0.0384, 0.0684]\n",
       "1693784                  (0.0384, 0.0684]\n",
       "1693864                  (0.0384, 0.0684]\n",
       "Name: Dar_100MT, Length: 457460, dtype: category\n",
       "Categories (4, interval[float64]): [(-0.0009999990000000001, 0.03] < (0.03, 0.0384] < (0.0384, 0.0684] < (0.0684, 0.937]]"
      ]
     },
     "execution_count": 382,
     "metadata": {},
     "output_type": "execute_result"
    }
   ],
   "source": [
    "range_boundries = pd.qcut(df_99[df_99['Dar_100MT']>0].Dar_100MT, q=4)#, duplicates='drop')\n",
    "range_boundries"
   ]
  },
  {
   "cell_type": "code",
   "execution_count": null,
   "metadata": {},
   "outputs": [],
   "source": []
  },
  {
   "cell_type": "code",
   "execution_count": null,
   "metadata": {},
   "outputs": [],
   "source": [
    "     "
   ]
  },
  {
   "cell_type": "code",
   "execution_count": 383,
   "metadata": {},
   "outputs": [],
   "source": [
    "df_99.sort_values('Dar_100MT', ascending=False, inplace=True)"
   ]
  },
  {
   "cell_type": "code",
   "execution_count": 384,
   "metadata": {},
   "outputs": [
    {
     "data": {
      "text/html": [
       "<div>\n",
       "<style scoped>\n",
       "    .dataframe tbody tr th:only-of-type {\n",
       "        vertical-align: middle;\n",
       "    }\n",
       "\n",
       "    .dataframe tbody tr th {\n",
       "        vertical-align: top;\n",
       "    }\n",
       "\n",
       "    .dataframe thead th {\n",
       "        text-align: right;\n",
       "    }\n",
       "</style>\n",
       "<table border=\"1\" class=\"dataframe\">\n",
       "  <thead>\n",
       "    <tr style=\"text-align: right;\">\n",
       "      <th></th>\n",
       "      <th>ID</th>\n",
       "      <th>AmCrdtr_99</th>\n",
       "      <th>Amdbtr_99</th>\n",
       "      <th>frstPrd_99</th>\n",
       "      <th>lstPrd_99</th>\n",
       "      <th>SmBnft_99</th>\n",
       "      <th>Loan_99</th>\n",
       "      <th>Ostan</th>\n",
       "      <th>Dar_100MT</th>\n",
       "      <th>Year</th>\n",
       "      <th>Bin_type</th>\n",
       "    </tr>\n",
       "  </thead>\n",
       "  <tbody>\n",
       "    <tr>\n",
       "      <th>830244</th>\n",
       "      <td>180530278425</td>\n",
       "      <td>12500000000</td>\n",
       "      <td>12500000000</td>\n",
       "      <td>750000000</td>\n",
       "      <td>1150000000</td>\n",
       "      <td>32500000</td>\n",
       "      <td>1250000000</td>\n",
       "      <td>همدان</td>\n",
       "      <td>0.936570</td>\n",
       "      <td>99</td>\n",
       "      <td>Very High</td>\n",
       "    </tr>\n",
       "    <tr>\n",
       "      <th>618</th>\n",
       "      <td>126699722830</td>\n",
       "      <td>87500000000</td>\n",
       "      <td>87500000000</td>\n",
       "      <td>1450000000</td>\n",
       "      <td>17500000000</td>\n",
       "      <td>950000000</td>\n",
       "      <td>875000000</td>\n",
       "      <td>تهران</td>\n",
       "      <td>0.709530</td>\n",
       "      <td>99</td>\n",
       "      <td>Very High</td>\n",
       "    </tr>\n",
       "    <tr>\n",
       "      <th>975059</th>\n",
       "      <td>92310903455</td>\n",
       "      <td>25000000000</td>\n",
       "      <td>17500000000</td>\n",
       "      <td>4750000000</td>\n",
       "      <td>650000000</td>\n",
       "      <td>175000000</td>\n",
       "      <td>875000000</td>\n",
       "      <td>همدان</td>\n",
       "      <td>0.706337</td>\n",
       "      <td>99</td>\n",
       "      <td>Very High</td>\n",
       "    </tr>\n",
       "    <tr>\n",
       "      <th>630341</th>\n",
       "      <td>207335759505</td>\n",
       "      <td>12500000000</td>\n",
       "      <td>12500000000</td>\n",
       "      <td>7500000</td>\n",
       "      <td>1550000000</td>\n",
       "      <td>2500000</td>\n",
       "      <td>1750000000</td>\n",
       "      <td>تهران</td>\n",
       "      <td>0.589324</td>\n",
       "      <td>99</td>\n",
       "      <td>Very High</td>\n",
       "    </tr>\n",
       "    <tr>\n",
       "      <th>1021332</th>\n",
       "      <td>756738980277</td>\n",
       "      <td>17500000000</td>\n",
       "      <td>17500000000</td>\n",
       "      <td>7500000</td>\n",
       "      <td>750000000</td>\n",
       "      <td>37500000</td>\n",
       "      <td>0</td>\n",
       "      <td>کردستان</td>\n",
       "      <td>0.576528</td>\n",
       "      <td>99</td>\n",
       "      <td>Very High</td>\n",
       "    </tr>\n",
       "    <tr>\n",
       "      <th>1221367</th>\n",
       "      <td>745784321029</td>\n",
       "      <td>17500000000</td>\n",
       "      <td>17500000000</td>\n",
       "      <td>1450000000</td>\n",
       "      <td>2750000000</td>\n",
       "      <td>175000000</td>\n",
       "      <td>0</td>\n",
       "      <td>سمنان</td>\n",
       "      <td>0.558309</td>\n",
       "      <td>99</td>\n",
       "      <td>Very High</td>\n",
       "    </tr>\n",
       "    <tr>\n",
       "      <th>969827</th>\n",
       "      <td>488074445169</td>\n",
       "      <td>25000000000</td>\n",
       "      <td>25000000000</td>\n",
       "      <td>2750000000</td>\n",
       "      <td>175000000</td>\n",
       "      <td>175000000</td>\n",
       "      <td>0</td>\n",
       "      <td>تهران</td>\n",
       "      <td>0.522607</td>\n",
       "      <td>99</td>\n",
       "      <td>Very High</td>\n",
       "    </tr>\n",
       "    <tr>\n",
       "      <th>1590019</th>\n",
       "      <td>456730747267</td>\n",
       "      <td>62500000000</td>\n",
       "      <td>62500000000</td>\n",
       "      <td>2750000000</td>\n",
       "      <td>17500000000</td>\n",
       "      <td>1150000000</td>\n",
       "      <td>0</td>\n",
       "      <td>البرز</td>\n",
       "      <td>0.521718</td>\n",
       "      <td>99</td>\n",
       "      <td>Very High</td>\n",
       "    </tr>\n",
       "    <tr>\n",
       "      <th>1404243</th>\n",
       "      <td>742525942100</td>\n",
       "      <td>17500000000</td>\n",
       "      <td>12500000000</td>\n",
       "      <td>4250000000</td>\n",
       "      <td>8750000000</td>\n",
       "      <td>475000000</td>\n",
       "      <td>0</td>\n",
       "      <td>تهران</td>\n",
       "      <td>0.503196</td>\n",
       "      <td>99</td>\n",
       "      <td>Very High</td>\n",
       "    </tr>\n",
       "    <tr>\n",
       "      <th>1423047</th>\n",
       "      <td>92299787020</td>\n",
       "      <td>100000000001</td>\n",
       "      <td>100000000001</td>\n",
       "      <td>175000000</td>\n",
       "      <td>12500000000</td>\n",
       "      <td>850000000</td>\n",
       "      <td>0</td>\n",
       "      <td>خوزستان</td>\n",
       "      <td>0.500000</td>\n",
       "      <td>99</td>\n",
       "      <td>Very High</td>\n",
       "    </tr>\n",
       "    <tr>\n",
       "      <th>607329</th>\n",
       "      <td>53901192893</td>\n",
       "      <td>25000000000</td>\n",
       "      <td>25000000000</td>\n",
       "      <td>275000000</td>\n",
       "      <td>1650000000</td>\n",
       "      <td>27500000</td>\n",
       "      <td>0</td>\n",
       "      <td>تهران</td>\n",
       "      <td>0.500000</td>\n",
       "      <td>99</td>\n",
       "      <td>Very High</td>\n",
       "    </tr>\n",
       "    <tr>\n",
       "      <th>809946</th>\n",
       "      <td>457354734771</td>\n",
       "      <td>12500000000</td>\n",
       "      <td>12500000000</td>\n",
       "      <td>275000000</td>\n",
       "      <td>650000000</td>\n",
       "      <td>0</td>\n",
       "      <td>1750000000</td>\n",
       "      <td>فارس</td>\n",
       "      <td>0.500000</td>\n",
       "      <td>99</td>\n",
       "      <td>Very High</td>\n",
       "    </tr>\n",
       "    <tr>\n",
       "      <th>816643</th>\n",
       "      <td>215880821837</td>\n",
       "      <td>17500000000</td>\n",
       "      <td>17500000000</td>\n",
       "      <td>650000000</td>\n",
       "      <td>225000000</td>\n",
       "      <td>2500000</td>\n",
       "      <td>2500000000</td>\n",
       "      <td>تهران</td>\n",
       "      <td>0.500000</td>\n",
       "      <td>99</td>\n",
       "      <td>Very High</td>\n",
       "    </tr>\n",
       "    <tr>\n",
       "      <th>30111</th>\n",
       "      <td>116992188158</td>\n",
       "      <td>62500000000</td>\n",
       "      <td>62500000000</td>\n",
       "      <td>3250000000</td>\n",
       "      <td>12500000000</td>\n",
       "      <td>225000000</td>\n",
       "      <td>0</td>\n",
       "      <td>تهران</td>\n",
       "      <td>0.500000</td>\n",
       "      <td>99</td>\n",
       "      <td>Very High</td>\n",
       "    </tr>\n",
       "    <tr>\n",
       "      <th>1276122</th>\n",
       "      <td>303793406394</td>\n",
       "      <td>100000000001</td>\n",
       "      <td>100000000001</td>\n",
       "      <td>35000000000</td>\n",
       "      <td>8750000000</td>\n",
       "      <td>1050000000</td>\n",
       "      <td>0</td>\n",
       "      <td>تهران</td>\n",
       "      <td>0.500000</td>\n",
       "      <td>99</td>\n",
       "      <td>Very High</td>\n",
       "    </tr>\n",
       "    <tr>\n",
       "      <th>1472657</th>\n",
       "      <td>413440045386</td>\n",
       "      <td>25000000000</td>\n",
       "      <td>25000000000</td>\n",
       "      <td>2250000000</td>\n",
       "      <td>1350000000</td>\n",
       "      <td>27500000</td>\n",
       "      <td>0</td>\n",
       "      <td>کرمان</td>\n",
       "      <td>0.500000</td>\n",
       "      <td>99</td>\n",
       "      <td>Very High</td>\n",
       "    </tr>\n",
       "    <tr>\n",
       "      <th>954573</th>\n",
       "      <td>306557525285</td>\n",
       "      <td>8750000000</td>\n",
       "      <td>6250000000</td>\n",
       "      <td>950000000</td>\n",
       "      <td>4750000000</td>\n",
       "      <td>2500000</td>\n",
       "      <td>0</td>\n",
       "      <td>تهران</td>\n",
       "      <td>0.500000</td>\n",
       "      <td>99</td>\n",
       "      <td>Very High</td>\n",
       "    </tr>\n",
       "    <tr>\n",
       "      <th>1473582</th>\n",
       "      <td>14916453376</td>\n",
       "      <td>100000000001</td>\n",
       "      <td>100000000001</td>\n",
       "      <td>45000000000</td>\n",
       "      <td>425000000</td>\n",
       "      <td>17500000</td>\n",
       "      <td>0</td>\n",
       "      <td>تهران</td>\n",
       "      <td>0.500000</td>\n",
       "      <td>99</td>\n",
       "      <td>Very High</td>\n",
       "    </tr>\n",
       "    <tr>\n",
       "      <th>1648901</th>\n",
       "      <td>625096601142</td>\n",
       "      <td>8750000000</td>\n",
       "      <td>8750000000</td>\n",
       "      <td>425000000</td>\n",
       "      <td>325000000</td>\n",
       "      <td>7500000</td>\n",
       "      <td>0</td>\n",
       "      <td>خوزستان</td>\n",
       "      <td>0.500000</td>\n",
       "      <td>99</td>\n",
       "      <td>Very High</td>\n",
       "    </tr>\n",
       "    <tr>\n",
       "      <th>1242637</th>\n",
       "      <td>240600109143</td>\n",
       "      <td>6250000000</td>\n",
       "      <td>6250000000</td>\n",
       "      <td>2500000</td>\n",
       "      <td>27500000</td>\n",
       "      <td>2500000</td>\n",
       "      <td>0</td>\n",
       "      <td>البرز</td>\n",
       "      <td>0.500000</td>\n",
       "      <td>99</td>\n",
       "      <td>Very High</td>\n",
       "    </tr>\n",
       "  </tbody>\n",
       "</table>\n",
       "</div>"
      ],
      "text/plain": [
       "                   ID    AmCrdtr_99     Amdbtr_99   frstPrd_99    lstPrd_99  \\\n",
       "830244   180530278425   12500000000   12500000000    750000000   1150000000   \n",
       "618      126699722830   87500000000   87500000000   1450000000  17500000000   \n",
       "975059    92310903455   25000000000   17500000000   4750000000    650000000   \n",
       "630341   207335759505   12500000000   12500000000      7500000   1550000000   \n",
       "1021332  756738980277   17500000000   17500000000      7500000    750000000   \n",
       "1221367  745784321029   17500000000   17500000000   1450000000   2750000000   \n",
       "969827   488074445169   25000000000   25000000000   2750000000    175000000   \n",
       "1590019  456730747267   62500000000   62500000000   2750000000  17500000000   \n",
       "1404243  742525942100   17500000000   12500000000   4250000000   8750000000   \n",
       "1423047   92299787020  100000000001  100000000001    175000000  12500000000   \n",
       "607329    53901192893   25000000000   25000000000    275000000   1650000000   \n",
       "809946   457354734771   12500000000   12500000000    275000000    650000000   \n",
       "816643   215880821837   17500000000   17500000000    650000000    225000000   \n",
       "30111    116992188158   62500000000   62500000000   3250000000  12500000000   \n",
       "1276122  303793406394  100000000001  100000000001  35000000000   8750000000   \n",
       "1472657  413440045386   25000000000   25000000000   2250000000   1350000000   \n",
       "954573   306557525285    8750000000    6250000000    950000000   4750000000   \n",
       "1473582   14916453376  100000000001  100000000001  45000000000    425000000   \n",
       "1648901  625096601142    8750000000    8750000000    425000000    325000000   \n",
       "1242637  240600109143    6250000000    6250000000      2500000     27500000   \n",
       "\n",
       "          SmBnft_99     Loan_99    Ostan  Dar_100MT  Year   Bin_type  \n",
       "830244     32500000  1250000000    همدان   0.936570    99  Very High  \n",
       "618       950000000   875000000    تهران   0.709530    99  Very High  \n",
       "975059    175000000   875000000    همدان   0.706337    99  Very High  \n",
       "630341      2500000  1750000000    تهران   0.589324    99  Very High  \n",
       "1021332    37500000           0  کردستان   0.576528    99  Very High  \n",
       "1221367   175000000           0    سمنان   0.558309    99  Very High  \n",
       "969827    175000000           0    تهران   0.522607    99  Very High  \n",
       "1590019  1150000000           0    البرز   0.521718    99  Very High  \n",
       "1404243   475000000           0    تهران   0.503196    99  Very High  \n",
       "1423047   850000000           0  خوزستان   0.500000    99  Very High  \n",
       "607329     27500000           0    تهران   0.500000    99  Very High  \n",
       "809946            0  1750000000     فارس   0.500000    99  Very High  \n",
       "816643      2500000  2500000000    تهران   0.500000    99  Very High  \n",
       "30111     225000000           0    تهران   0.500000    99  Very High  \n",
       "1276122  1050000000           0    تهران   0.500000    99  Very High  \n",
       "1472657    27500000           0    کرمان   0.500000    99  Very High  \n",
       "954573      2500000           0    تهران   0.500000    99  Very High  \n",
       "1473582    17500000           0    تهران   0.500000    99  Very High  \n",
       "1648901     7500000           0  خوزستان   0.500000    99  Very High  \n",
       "1242637     2500000           0    البرز   0.500000    99  Very High  "
      ]
     },
     "execution_count": 384,
     "metadata": {},
     "output_type": "execute_result"
    }
   ],
   "source": [
    "df_99.head(20)"
   ]
  },
  {
   "cell_type": "code",
   "execution_count": 385,
   "metadata": {},
   "outputs": [
    {
     "data": {
      "text/plain": [
       "count    1.693935e+06\n",
       "mean     1.398038e-02\n",
       "std      3.003326e-02\n",
       "min      0.000000e+00\n",
       "25%      0.000000e+00\n",
       "50%      0.000000e+00\n",
       "75%      1.380780e-02\n",
       "max      9.365704e-01\n",
       "Name: Dar_100MT, dtype: float64"
      ]
     },
     "execution_count": 385,
     "metadata": {},
     "output_type": "execute_result"
    }
   ],
   "source": [
    "df_99.Dar_100MT.describe()"
   ]
  },
  {
   "cell_type": "code",
   "execution_count": 386,
   "metadata": {},
   "outputs": [
    {
     "ename": "ValueError",
     "evalue": "Bin edges must be unique: array([0.        , 0.        , 0.        , 0.0138078 , 0.93657043]).\nYou can drop duplicate edges by setting the 'duplicates' kwarg",
     "output_type": "error",
     "traceback": [
      "\u001b[1;31m---------------------------------------------------------------------------\u001b[0m",
      "\u001b[1;31mValueError\u001b[0m                                Traceback (most recent call last)",
      "\u001b[1;32m<ipython-input-386-665f36405790>\u001b[0m in \u001b[0;36m<module>\u001b[1;34m\u001b[0m\n\u001b[1;32m----> 1\u001b[1;33m \u001b[0mrange_boundries\u001b[0m \u001b[1;33m=\u001b[0m \u001b[0mpd\u001b[0m\u001b[1;33m.\u001b[0m\u001b[0mqcut\u001b[0m\u001b[1;33m(\u001b[0m\u001b[0mdf_99\u001b[0m\u001b[1;33m[\u001b[0m\u001b[1;34m'Dar_100MT'\u001b[0m\u001b[1;33m]\u001b[0m\u001b[1;33m,\u001b[0m \u001b[0mq\u001b[0m\u001b[1;33m=\u001b[0m\u001b[1;36m4\u001b[0m\u001b[1;33m)\u001b[0m \u001b[1;31m# , duplicates='drop')\u001b[0m\u001b[1;33m\u001b[0m\u001b[1;33m\u001b[0m\u001b[0m\n\u001b[0m",
      "\u001b[1;32mD:\\ProgramData\\Anaconda3\\lib\\site-packages\\pandas\\core\\reshape\\tile.py\u001b[0m in \u001b[0;36mqcut\u001b[1;34m(x, q, labels, retbins, precision, duplicates)\u001b[0m\n\u001b[0;32m    358\u001b[0m         \u001b[0mquantiles\u001b[0m \u001b[1;33m=\u001b[0m \u001b[0mq\u001b[0m\u001b[1;33m\u001b[0m\u001b[1;33m\u001b[0m\u001b[0m\n\u001b[0;32m    359\u001b[0m     \u001b[0mbins\u001b[0m \u001b[1;33m=\u001b[0m \u001b[0malgos\u001b[0m\u001b[1;33m.\u001b[0m\u001b[0mquantile\u001b[0m\u001b[1;33m(\u001b[0m\u001b[0mx\u001b[0m\u001b[1;33m,\u001b[0m \u001b[0mquantiles\u001b[0m\u001b[1;33m)\u001b[0m\u001b[1;33m\u001b[0m\u001b[1;33m\u001b[0m\u001b[0m\n\u001b[1;32m--> 360\u001b[1;33m     fac, bins = _bins_to_cuts(\n\u001b[0m\u001b[0;32m    361\u001b[0m         \u001b[0mx\u001b[0m\u001b[1;33m,\u001b[0m\u001b[1;33m\u001b[0m\u001b[1;33m\u001b[0m\u001b[0m\n\u001b[0;32m    362\u001b[0m         \u001b[0mbins\u001b[0m\u001b[1;33m,\u001b[0m\u001b[1;33m\u001b[0m\u001b[1;33m\u001b[0m\u001b[0m\n",
      "\u001b[1;32mD:\\ProgramData\\Anaconda3\\lib\\site-packages\\pandas\\core\\reshape\\tile.py\u001b[0m in \u001b[0;36m_bins_to_cuts\u001b[1;34m(x, bins, right, labels, precision, include_lowest, dtype, duplicates, ordered)\u001b[0m\n\u001b[0;32m    399\u001b[0m     \u001b[1;32mif\u001b[0m \u001b[0mlen\u001b[0m\u001b[1;33m(\u001b[0m\u001b[0munique_bins\u001b[0m\u001b[1;33m)\u001b[0m \u001b[1;33m<\u001b[0m \u001b[0mlen\u001b[0m\u001b[1;33m(\u001b[0m\u001b[0mbins\u001b[0m\u001b[1;33m)\u001b[0m \u001b[1;32mand\u001b[0m \u001b[0mlen\u001b[0m\u001b[1;33m(\u001b[0m\u001b[0mbins\u001b[0m\u001b[1;33m)\u001b[0m \u001b[1;33m!=\u001b[0m \u001b[1;36m2\u001b[0m\u001b[1;33m:\u001b[0m\u001b[1;33m\u001b[0m\u001b[1;33m\u001b[0m\u001b[0m\n\u001b[0;32m    400\u001b[0m         \u001b[1;32mif\u001b[0m \u001b[0mduplicates\u001b[0m \u001b[1;33m==\u001b[0m \u001b[1;34m\"raise\"\u001b[0m\u001b[1;33m:\u001b[0m\u001b[1;33m\u001b[0m\u001b[1;33m\u001b[0m\u001b[0m\n\u001b[1;32m--> 401\u001b[1;33m             raise ValueError(\n\u001b[0m\u001b[0;32m    402\u001b[0m                 \u001b[1;34mf\"Bin edges must be unique: {repr(bins)}.\\n\"\u001b[0m\u001b[1;33m\u001b[0m\u001b[1;33m\u001b[0m\u001b[0m\n\u001b[0;32m    403\u001b[0m                 \u001b[1;34mf\"You can drop duplicate edges by setting the 'duplicates' kwarg\"\u001b[0m\u001b[1;33m\u001b[0m\u001b[1;33m\u001b[0m\u001b[0m\n",
      "\u001b[1;31mValueError\u001b[0m: Bin edges must be unique: array([0.        , 0.        , 0.        , 0.0138078 , 0.93657043]).\nYou can drop duplicate edges by setting the 'duplicates' kwarg"
     ]
    }
   ],
   "source": [
    "range_boundries = pd.qcut(df_99['Dar_100MT'], q=4) # , duplicates='drop')"
   ]
  },
  {
   "cell_type": "code",
   "execution_count": 387,
   "metadata": {},
   "outputs": [],
   "source": [
    "range_boundries = pd.qcut(df_99['Dar_100MT'], q=4, duplicates='drop')"
   ]
  },
  {
   "cell_type": "code",
   "execution_count": 388,
   "metadata": {},
   "outputs": [
    {
     "data": {
      "text/plain": [
       "830244      (0.0138, 0.937]\n",
       "618         (0.0138, 0.937]\n",
       "975059      (0.0138, 0.937]\n",
       "630341      (0.0138, 0.937]\n",
       "1021332     (0.0138, 0.937]\n",
       "                 ...       \n",
       "653928     (-0.001, 0.0138]\n",
       "653927     (-0.001, 0.0138]\n",
       "653926     (-0.001, 0.0138]\n",
       "653924     (-0.001, 0.0138]\n",
       "1693934    (-0.001, 0.0138]\n",
       "Name: Dar_100MT, Length: 1693935, dtype: category\n",
       "Categories (2, interval[float64]): [(-0.001, 0.0138] < (0.0138, 0.937]]"
      ]
     },
     "execution_count": 388,
     "metadata": {},
     "output_type": "execute_result"
    }
   ],
   "source": [
    "range_boundries"
   ]
  },
  {
   "cell_type": "markdown",
   "metadata": {},
   "source": [
    "Pandas identified and suggested below 2 Categories for `Dar_100MT`\n",
    "\n",
    "`Categories (2, interval[float64]): [(-0.001, 0.0138] < (0.0138, 0.937]]`"
   ]
  },
  {
   "cell_type": "code",
   "execution_count": 389,
   "metadata": {},
   "outputs": [
    {
     "data": {
      "text/plain": [
       "830244      (0.0398, 0.937]\n",
       "618         (0.0398, 0.937]\n",
       "975059      (0.0398, 0.937]\n",
       "630341      (0.0398, 0.937]\n",
       "1021332     (0.0398, 0.937]\n",
       "                 ...       \n",
       "653928     (-0.001, 0.0138]\n",
       "653927     (-0.001, 0.0138]\n",
       "653926     (-0.001, 0.0138]\n",
       "653924     (-0.001, 0.0138]\n",
       "1693934    (-0.001, 0.0138]\n",
       "Name: Dar_100MT, Length: 1693935, dtype: category\n",
       "Categories (3, interval[float64]): [(-0.001, 0.0138] < (0.0138, 0.0398] < (0.0398, 0.937]]"
      ]
     },
     "execution_count": 389,
     "metadata": {},
     "output_type": "execute_result"
    }
   ],
   "source": [
    "range_boundries = pd.qcut(df_99['Dar_100MT'], q=8, duplicates='drop')\n",
    "range_boundries"
   ]
  },
  {
   "cell_type": "code",
   "execution_count": 391,
   "metadata": {},
   "outputs": [
    {
     "data": {
      "text/plain": [
       "830244                    (0.0684, 0.937]\n",
       "618                       (0.0684, 0.937]\n",
       "975059                    (0.0684, 0.937]\n",
       "630341                    (0.0684, 0.937]\n",
       "1021332                   (0.0684, 0.937]\n",
       "                        ...              \n",
       "863253     (-0.0009999990000000001, 0.03]\n",
       "474087     (-0.0009999990000000001, 0.03]\n",
       "707227     (-0.0009999990000000001, 0.03]\n",
       "705262     (-0.0009999990000000001, 0.03]\n",
       "1568560    (-0.0009999990000000001, 0.03]\n",
       "Name: Dar_100MT, Length: 457460, dtype: category\n",
       "Categories (4, interval[float64]): [(-0.0009999990000000001, 0.03] < (0.03, 0.0384] < (0.0384, 0.0684] < (0.0684, 0.937]]"
      ]
     },
     "execution_count": 391,
     "metadata": {},
     "output_type": "execute_result"
    }
   ],
   "source": [
    "range_boundries = pd.qcut(df_99[df_99['Dar_100MT']>0].Dar_100MT, q=4)#, duplicates='drop')\n",
    "range_boundries"
   ]
  },
  {
   "cell_type": "code",
   "execution_count": 392,
   "metadata": {},
   "outputs": [],
   "source": [
    "df_99['Bin_type'] = pd.qcut(df_99[df_99['Dar_100MT']>0].Dar_100MT, q=4)"
   ]
  },
  {
   "cell_type": "code",
   "execution_count": 393,
   "metadata": {},
   "outputs": [
    {
     "data": {
      "text/html": [
       "<div>\n",
       "<style scoped>\n",
       "    .dataframe tbody tr th:only-of-type {\n",
       "        vertical-align: middle;\n",
       "    }\n",
       "\n",
       "    .dataframe tbody tr th {\n",
       "        vertical-align: top;\n",
       "    }\n",
       "\n",
       "    .dataframe thead th {\n",
       "        text-align: right;\n",
       "    }\n",
       "</style>\n",
       "<table border=\"1\" class=\"dataframe\">\n",
       "  <thead>\n",
       "    <tr style=\"text-align: right;\">\n",
       "      <th></th>\n",
       "      <th>ID</th>\n",
       "      <th>AmCrdtr_99</th>\n",
       "      <th>Amdbtr_99</th>\n",
       "      <th>frstPrd_99</th>\n",
       "      <th>lstPrd_99</th>\n",
       "      <th>SmBnft_99</th>\n",
       "      <th>Loan_99</th>\n",
       "      <th>Ostan</th>\n",
       "      <th>Dar_100MT</th>\n",
       "      <th>Year</th>\n",
       "      <th>Bin_type</th>\n",
       "    </tr>\n",
       "  </thead>\n",
       "  <tbody>\n",
       "    <tr>\n",
       "      <th>830244</th>\n",
       "      <td>180530278425</td>\n",
       "      <td>12500000000</td>\n",
       "      <td>12500000000</td>\n",
       "      <td>750000000</td>\n",
       "      <td>1150000000</td>\n",
       "      <td>32500000</td>\n",
       "      <td>1250000000</td>\n",
       "      <td>همدان</td>\n",
       "      <td>0.936570</td>\n",
       "      <td>99</td>\n",
       "      <td>(0.0684, 0.937]</td>\n",
       "    </tr>\n",
       "    <tr>\n",
       "      <th>618</th>\n",
       "      <td>126699722830</td>\n",
       "      <td>87500000000</td>\n",
       "      <td>87500000000</td>\n",
       "      <td>1450000000</td>\n",
       "      <td>17500000000</td>\n",
       "      <td>950000000</td>\n",
       "      <td>875000000</td>\n",
       "      <td>تهران</td>\n",
       "      <td>0.709530</td>\n",
       "      <td>99</td>\n",
       "      <td>(0.0684, 0.937]</td>\n",
       "    </tr>\n",
       "    <tr>\n",
       "      <th>975059</th>\n",
       "      <td>92310903455</td>\n",
       "      <td>25000000000</td>\n",
       "      <td>17500000000</td>\n",
       "      <td>4750000000</td>\n",
       "      <td>650000000</td>\n",
       "      <td>175000000</td>\n",
       "      <td>875000000</td>\n",
       "      <td>همدان</td>\n",
       "      <td>0.706337</td>\n",
       "      <td>99</td>\n",
       "      <td>(0.0684, 0.937]</td>\n",
       "    </tr>\n",
       "    <tr>\n",
       "      <th>630341</th>\n",
       "      <td>207335759505</td>\n",
       "      <td>12500000000</td>\n",
       "      <td>12500000000</td>\n",
       "      <td>7500000</td>\n",
       "      <td>1550000000</td>\n",
       "      <td>2500000</td>\n",
       "      <td>1750000000</td>\n",
       "      <td>تهران</td>\n",
       "      <td>0.589324</td>\n",
       "      <td>99</td>\n",
       "      <td>(0.0684, 0.937]</td>\n",
       "    </tr>\n",
       "    <tr>\n",
       "      <th>1021332</th>\n",
       "      <td>756738980277</td>\n",
       "      <td>17500000000</td>\n",
       "      <td>17500000000</td>\n",
       "      <td>7500000</td>\n",
       "      <td>750000000</td>\n",
       "      <td>37500000</td>\n",
       "      <td>0</td>\n",
       "      <td>کردستان</td>\n",
       "      <td>0.576528</td>\n",
       "      <td>99</td>\n",
       "      <td>(0.0684, 0.937]</td>\n",
       "    </tr>\n",
       "  </tbody>\n",
       "</table>\n",
       "</div>"
      ],
      "text/plain": [
       "                   ID   AmCrdtr_99    Amdbtr_99  frstPrd_99    lstPrd_99  \\\n",
       "830244   180530278425  12500000000  12500000000   750000000   1150000000   \n",
       "618      126699722830  87500000000  87500000000  1450000000  17500000000   \n",
       "975059    92310903455  25000000000  17500000000  4750000000    650000000   \n",
       "630341   207335759505  12500000000  12500000000     7500000   1550000000   \n",
       "1021332  756738980277  17500000000  17500000000     7500000    750000000   \n",
       "\n",
       "         SmBnft_99     Loan_99    Ostan  Dar_100MT  Year         Bin_type  \n",
       "830244    32500000  1250000000    همدان   0.936570    99  (0.0684, 0.937]  \n",
       "618      950000000   875000000    تهران   0.709530    99  (0.0684, 0.937]  \n",
       "975059   175000000   875000000    همدان   0.706337    99  (0.0684, 0.937]  \n",
       "630341     2500000  1750000000    تهران   0.589324    99  (0.0684, 0.937]  \n",
       "1021332   37500000           0  کردستان   0.576528    99  (0.0684, 0.937]  "
      ]
     },
     "execution_count": 393,
     "metadata": {},
     "output_type": "execute_result"
    }
   ],
   "source": [
    "df_99.head()"
   ]
  },
  {
   "cell_type": "markdown",
   "metadata": {},
   "source": [
    "Read more from \n",
    "\n",
    "   - Pandas documenation  \n",
    "\n",
    "   - [pandas-qcut-cut](https://pbpython.com/pandas-qcut-cut.html)\n"
   ]
  },
  {
   "cell_type": "code",
   "execution_count": null,
   "metadata": {},
   "outputs": [],
   "source": []
  },
  {
   "cell_type": "code",
   "execution_count": null,
   "metadata": {},
   "outputs": [],
   "source": []
  },
  {
   "cell_type": "code",
   "execution_count": 395,
   "metadata": {},
   "outputs": [
    {
     "name": "stdout",
     "output_type": "stream",
     "text": [
      "يزد                   0.041565\n",
      "تهران                 0.041254\n",
      "کهگيلويه وبويراحمد    0.041248\n",
      "البرز                 0.041040\n",
      "هرمزگان               0.041040\n",
      "خوزستان               0.040513\n",
      "بوشهر                 0.039840\n",
      "کرمان                 0.039840\n",
      "سيستان وبلوچستان      0.039840\n",
      "قزوين                 0.039840\n",
      "سمنان                 0.039796\n",
      "مرکزي                 0.039678\n",
      "اصفهان                0.038574\n",
      "زنجان                 0.038455\n",
      "خراسان جنوبي          0.038370\n",
      "فارس                  0.038315\n",
      "خراسان رضوي           0.037200\n",
      "ايلام                 0.037135\n",
      "اردبيل                0.037055\n",
      "آذربايجان غربي        0.037055\n",
      "گيلان                 0.037055\n",
      "خراسان شمالي          0.037055\n",
      "گلستان                0.037055\n",
      "قم                    0.037055\n",
      "لرستان                0.037055\n",
      "مازندران              0.037055\n",
      "چهارمحال وبختياري     0.037055\n",
      "کرمانشاه              0.037055\n",
      "آذربايجان شرقي        0.037055\n",
      "کردستان               0.036056\n",
      "همدان                 0.036013\n",
      "dtype: float64\n"
     ]
    },
    {
     "data": {
      "image/png": "[encoded data removed]",
      "text/plain": [
       "<Figure size 432x288 with 1 Axes>"
      ]
     },
     "metadata": {
      "needs_background": "light"
     },
     "output_type": "display_data"
    }
   ],
   "source": [
    "## pandas boxplot sort  \n",
    "# https://stackoverflow.com/questions/21912634/how-can-i-sort-a-boxplot-in-pandas-by-the-median-values\n",
    "# draw a boxplot of column Z in dataframe df by the categories X and Y. How can I sort the boxplot by the median, in descending order?\n",
    "def boxplot_sorted(df, by, column):\n",
    "    df2 = pd.DataFrame({col:vals[column] for col, vals in df.groupby(by)})\n",
    "    meds = df2.median().sort_values(ascending=False)\n",
    "    print(meds)\n",
    "    df2[meds.index[:40]].boxplot(rot=45)\n",
    "\n",
    "boxplot_sorted(df_99[df_99.Dar_100MT>0], by=['Ostan'], column='Dar_100MT')\n",
    "plt.yscale('log')\n"
   ]
  },
  {
   "cell_type": "code",
   "execution_count": 398,
   "metadata": {},
   "outputs": [],
   "source": [
    "import seaborn as sns"
   ]
  },
  {
   "cell_type": "code",
   "execution_count": 405,
   "metadata": {},
   "outputs": [
    {
     "name": "stderr",
     "output_type": "stream",
     "text": [
      "D:\\ProgramData\\Anaconda3\\lib\\site-packages\\seaborn\\_decorators.py:36: FutureWarning: Pass the following variable as a keyword arg: x. From version 0.12, the only valid positional argument will be `data`, and passing other arguments without an explicit keyword will result in an error or misinterpretation.\n",
      "  warnings.warn(\n",
      "D:\\ProgramData\\Anaconda3\\lib\\site-packages\\seaborn\\distributions.py:2551: FutureWarning: `distplot` is a deprecated function and will be removed in a future version. Please adapt your code to use either `displot` (a figure-level function with similar flexibility) or `histplot` (an axes-level function for histograms).\n",
      "  warnings.warn(msg, FutureWarning)\n"
     ]
    },
    {
     "data": {
      "text/plain": [
       "[Text(0.5, 0, '')]"
      ]
     },
     "execution_count": 405,
     "metadata": {},
     "output_type": "execute_result"
    },
    {
     "data": {
      "image/png": "[encoded data removed]",
      "text/plain": [
       "<Figure size 432x288 with 2 Axes>"
      ]
     },
     "metadata": {
      "needs_background": "light"
     },
     "output_type": "display_data"
    }
   ],
   "source": [
    "# https://jakevdp.github.io/PythonDataScienceHandbook/04.05-histograms-and-binnings.html\n",
    "# box and distribution plot \n",
    "# Cut the window in 2 parts\n",
    "f, (ax_box, ax_hist) = plt.subplots(2, sharex=True, gridspec_kw={\"height_ratios\": (.15, .85)})\n",
    "\n",
    "# Add a graph in each part\n",
    "sns.boxplot(df_99.loc[df_99.Dar_100MT>0, 'Dar_100MT'], ax=ax_box)\n",
    "sns.distplot(df_99.loc[df_99.Dar_100MT>0, 'Dar_100MT'], ax=ax_hist)\n",
    "\n",
    "# Remove x axis name for the boxplot\n",
    "ax_box.set(xlabel='')"
   ]
  },
  {
   "cell_type": "code",
   "execution_count": null,
   "metadata": {},
   "outputs": [],
   "source": []
  },
  {
   "cell_type": "code",
   "execution_count": 421,
   "metadata": {},
   "outputs": [],
   "source": [
    "count_, bins_ = np.histogram(df_99.Dar_100MT)"
   ]
  },
  {
   "cell_type": "code",
   "execution_count": 422,
   "metadata": {},
   "outputs": [
    {
     "data": {
      "text/plain": [
       "array([0.        , 0.09365704, 0.18731409, 0.28097113, 0.37462817,\n",
       "       0.46828521, 0.56194226, 0.6555993 , 0.74925634, 0.84291339,\n",
       "       0.93657043])"
      ]
     },
     "execution_count": 422,
     "metadata": {},
     "output_type": "execute_result"
    }
   ],
   "source": [
    "bins_"
   ]
  },
  {
   "cell_type": "code",
   "execution_count": 423,
   "metadata": {},
   "outputs": [
    {
     "data": {
      "text/plain": [
       "array([1641068,   50423,    1800,     497,     104,      38,       2,\n",
       "             2,       0,       1], dtype=int64)"
      ]
     },
     "execution_count": 423,
     "metadata": {},
     "output_type": "execute_result"
    }
   ],
   "source": [
    "count_"
   ]
  },
  {
   "cell_type": "code",
   "execution_count": 3,
   "metadata": {},
   "outputs": [
    {
     "name": "stdout",
     "output_type": "stream",
     "text": [
      "IFrame\t Image\t \n"
     ]
    }
   ],
   "source": [
    "%who"
   ]
  },
  {
   "cell_type": "code",
   "execution_count": null,
   "metadata": {},
   "outputs": [],
   "source": []
  }
 ],
 "metadata": {
  "kernelspec": {
   "display_name": "Python 3",
   "language": "python",
   "name": "python3"
  },
  "language_info": {
   "codemirror_mode": {
    "name": "ipython",
    "version": 3
   },
   "file_extension": ".py",
   "mimetype": "text/x-python",
   "name": "python",
   "nbconvert_exporter": "python",
   "pygments_lexer": "ipython3",
   "version": "3.8.5"
  }
 },
 "nbformat": 4,
 "nbformat_minor": 4
}
